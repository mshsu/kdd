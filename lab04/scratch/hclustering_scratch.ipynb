{
 "cells": [
  {
   "cell_type": "code",
   "execution_count": 56,
   "metadata": {
    "collapsed": true,
    "ExecuteTime": {
     "end_time": "2023-11-04T07:52:18.724380100Z",
     "start_time": "2023-11-04T07:52:18.717526600Z"
    }
   },
   "outputs": [],
   "source": [
    "import pandas as pd\n",
    "import numpy as np\n",
    "import json"
   ]
  },
  {
   "cell_type": "code",
   "execution_count": 186,
   "outputs": [
    {
     "data": {
      "text/plain": "     0   1\n0   41  45\n1   39  44\n2   42  43\n3   44  43\n4   10  42\n5   38  42\n6    8  41\n7   41  41\n8   13  40\n9   45  40\n10   7  39\n11  38  39\n12  42  39\n13   9  38\n14  12  38\n15  19  38\n16  25  38\n17   6  37\n18  13  35\n19   9  34\n20  12  34\n21  32  27\n22  26  25\n23  39  24\n24  34  23\n25  37  23\n26  22  22\n27  38  21\n28  35  20\n29  31  18\n30  26  16\n31  31  13\n32  26  16\n33  38  13\n34  29  11\n35  34  11\n36  37  10\n37  40   9\n38  42   9",
      "text/html": "<div>\n<style scoped>\n    .dataframe tbody tr th:only-of-type {\n        vertical-align: middle;\n    }\n\n    .dataframe tbody tr th {\n        vertical-align: top;\n    }\n\n    .dataframe thead th {\n        text-align: right;\n    }\n</style>\n<table border=\"1\" class=\"dataframe\">\n  <thead>\n    <tr style=\"text-align: right;\">\n      <th></th>\n      <th>0</th>\n      <th>1</th>\n    </tr>\n  </thead>\n  <tbody>\n    <tr>\n      <th>0</th>\n      <td>41</td>\n      <td>45</td>\n    </tr>\n    <tr>\n      <th>1</th>\n      <td>39</td>\n      <td>44</td>\n    </tr>\n    <tr>\n      <th>2</th>\n      <td>42</td>\n      <td>43</td>\n    </tr>\n    <tr>\n      <th>3</th>\n      <td>44</td>\n      <td>43</td>\n    </tr>\n    <tr>\n      <th>4</th>\n      <td>10</td>\n      <td>42</td>\n    </tr>\n    <tr>\n      <th>5</th>\n      <td>38</td>\n      <td>42</td>\n    </tr>\n    <tr>\n      <th>6</th>\n      <td>8</td>\n      <td>41</td>\n    </tr>\n    <tr>\n      <th>7</th>\n      <td>41</td>\n      <td>41</td>\n    </tr>\n    <tr>\n      <th>8</th>\n      <td>13</td>\n      <td>40</td>\n    </tr>\n    <tr>\n      <th>9</th>\n      <td>45</td>\n      <td>40</td>\n    </tr>\n    <tr>\n      <th>10</th>\n      <td>7</td>\n      <td>39</td>\n    </tr>\n    <tr>\n      <th>11</th>\n      <td>38</td>\n      <td>39</td>\n    </tr>\n    <tr>\n      <th>12</th>\n      <td>42</td>\n      <td>39</td>\n    </tr>\n    <tr>\n      <th>13</th>\n      <td>9</td>\n      <td>38</td>\n    </tr>\n    <tr>\n      <th>14</th>\n      <td>12</td>\n      <td>38</td>\n    </tr>\n    <tr>\n      <th>15</th>\n      <td>19</td>\n      <td>38</td>\n    </tr>\n    <tr>\n      <th>16</th>\n      <td>25</td>\n      <td>38</td>\n    </tr>\n    <tr>\n      <th>17</th>\n      <td>6</td>\n      <td>37</td>\n    </tr>\n    <tr>\n      <th>18</th>\n      <td>13</td>\n      <td>35</td>\n    </tr>\n    <tr>\n      <th>19</th>\n      <td>9</td>\n      <td>34</td>\n    </tr>\n    <tr>\n      <th>20</th>\n      <td>12</td>\n      <td>34</td>\n    </tr>\n    <tr>\n      <th>21</th>\n      <td>32</td>\n      <td>27</td>\n    </tr>\n    <tr>\n      <th>22</th>\n      <td>26</td>\n      <td>25</td>\n    </tr>\n    <tr>\n      <th>23</th>\n      <td>39</td>\n      <td>24</td>\n    </tr>\n    <tr>\n      <th>24</th>\n      <td>34</td>\n      <td>23</td>\n    </tr>\n    <tr>\n      <th>25</th>\n      <td>37</td>\n      <td>23</td>\n    </tr>\n    <tr>\n      <th>26</th>\n      <td>22</td>\n      <td>22</td>\n    </tr>\n    <tr>\n      <th>27</th>\n      <td>38</td>\n      <td>21</td>\n    </tr>\n    <tr>\n      <th>28</th>\n      <td>35</td>\n      <td>20</td>\n    </tr>\n    <tr>\n      <th>29</th>\n      <td>31</td>\n      <td>18</td>\n    </tr>\n    <tr>\n      <th>30</th>\n      <td>26</td>\n      <td>16</td>\n    </tr>\n    <tr>\n      <th>31</th>\n      <td>31</td>\n      <td>13</td>\n    </tr>\n    <tr>\n      <th>32</th>\n      <td>26</td>\n      <td>16</td>\n    </tr>\n    <tr>\n      <th>33</th>\n      <td>38</td>\n      <td>13</td>\n    </tr>\n    <tr>\n      <th>34</th>\n      <td>29</td>\n      <td>11</td>\n    </tr>\n    <tr>\n      <th>35</th>\n      <td>34</td>\n      <td>11</td>\n    </tr>\n    <tr>\n      <th>36</th>\n      <td>37</td>\n      <td>10</td>\n    </tr>\n    <tr>\n      <th>37</th>\n      <td>40</td>\n      <td>9</td>\n    </tr>\n    <tr>\n      <th>38</th>\n      <td>42</td>\n      <td>9</td>\n    </tr>\n  </tbody>\n</table>\n</div>"
     },
     "execution_count": 186,
     "metadata": {},
     "output_type": "execute_result"
    }
   ],
   "source": [
    "D = pd.read_csv('data/4clusters.csv', header=None, skiprows=1)\n",
    "D"
   ],
   "metadata": {
    "collapsed": false,
    "ExecuteTime": {
     "end_time": "2023-11-04T20:26:08.942004600Z",
     "start_time": "2023-11-04T20:26:08.913081600Z"
    }
   }
  },
  {
   "cell_type": "code",
   "execution_count": 19,
   "outputs": [
    {
     "data": {
      "text/plain": "(17, 0)"
     },
     "execution_count": 19,
     "metadata": {},
     "output_type": "execute_result"
    }
   ],
   "source": [
    "D.stack().idxmin()"
   ],
   "metadata": {
    "collapsed": false,
    "ExecuteTime": {
     "end_time": "2023-11-03T21:43:40.064624800Z",
     "start_time": "2023-11-03T21:43:40.018188900Z"
    }
   }
  },
  {
   "cell_type": "code",
   "execution_count": 226,
   "outputs": [],
   "source": [
    "def link_dist(C_ij, C_ik, link = \"average\") -> float:\n",
    "    dists = []\n",
    "    D_ij = pd.concat([pd.Series(leaf[\"data\"].split(',')).astype(float) for leaf in flatten(C_ij)], axis=1).T\n",
    "    D_ik = pd.concat([pd.Series(leaf[\"data\"].split(',')).astype(float) for leaf in flatten(C_ik)], axis=1).T\n",
    "    for j in D_ij.index:\n",
    "        for k in D_ik.index:\n",
    "            dists.append(np.sqrt(((D_ij.loc[j] - D_ik.loc[k])**2).sum()))\n",
    "    dists = pd.Series(dists)\n",
    "    if link == \"average\":\n",
    "        return dists.mean()\n",
    "    elif link == \"single\":\n",
    "        return dists.min()\n",
    "    elif link == \"complete\":\n",
    "        return dists.max()\n",
    "    elif link == \"centroid\":\n",
    "        return np.sqrt(((D_ij.mean() - D_ik.mean())**2).sum())"
   ],
   "metadata": {
    "collapsed": false,
    "ExecuteTime": {
     "end_time": "2023-11-04T20:56:15.024177Z",
     "start_time": "2023-11-04T20:56:15.007166800Z"
    }
   }
  },
  {
   "cell_type": "code",
   "execution_count": 105,
   "outputs": [],
   "source": [
    "def flatten(node):\n",
    "    flat = []\n",
    "    if node[\"type\"] == \"leaf\":\n",
    "        flat.append(node)\n",
    "    elif node[\"type\"] in (\"node\", \"root\"):\n",
    "        subnodes = node[\"nodes\"]\n",
    "        for n in subnodes:\n",
    "            flat.extend(flatten(n))\n",
    "    return flat"
   ],
   "metadata": {
    "collapsed": false,
    "ExecuteTime": {
     "end_time": "2023-11-04T18:56:04.994124800Z",
     "start_time": "2023-11-04T18:56:04.982809500Z"
    }
   }
  },
  {
   "cell_type": "code",
   "execution_count": 139,
   "outputs": [],
   "source": [
    "def get_heights(node):\n",
    "    heights = []\n",
    "    if node[\"type\"] == \"leaf\":\n",
    "        return heights\n",
    "    elif node[\"type\"] in (\"node\", \"root\"):\n",
    "        heights.append(node[\"height\"])\n",
    "        subnodes = node[\"nodes\"]\n",
    "        for n in subnodes:\n",
    "            heights.extend(get_heights(n))\n",
    "        heights.sort()\n",
    "        heights.reverse()\n",
    "        return heights"
   ],
   "metadata": {
    "collapsed": false,
    "ExecuteTime": {
     "end_time": "2023-11-04T19:21:50.136850600Z",
     "start_time": "2023-11-04T19:21:50.116807800Z"
    }
   }
  },
  {
   "cell_type": "code",
   "execution_count": 140,
   "outputs": [
    {
     "data": {
      "text/plain": "[30.084978393339334,\n 26.530576664143805,\n 13.331252931982712,\n 12.433279908584838,\n 11.72626389846176,\n 10.395753610573419,\n 6.9184175556797625,\n 6.153440464842388,\n 6.0,\n 5.933986244776953,\n 5.493508991637533,\n 5.385164807134504,\n 5.105625978844702,\n 5.052916037910906,\n 5.0,\n 4.57101383701828,\n 4.165973108952852,\n 4.106558690472924,\n 3.81720680758398,\n 3.64269164289302,\n 3.5615528128088303,\n 3.525729106681236,\n 3.1622776601683795,\n 3.1622776601683795,\n 3.0,\n 2.8284271247461903,\n 2.699172818834085,\n 2.699172818834085,\n 2.23606797749979,\n 2.23606797749979,\n 2.23606797749979,\n 2.23606797749979,\n 2.23606797749979,\n 2.23606797749979,\n 2.0,\n 2.0,\n 1.4142135623730951,\n 0.0]"
     },
     "execution_count": 140,
     "metadata": {},
     "output_type": "execute_result"
    }
   ],
   "source": [
    "get_heights(tree)"
   ],
   "metadata": {
    "collapsed": false,
    "ExecuteTime": {
     "end_time": "2023-11-04T19:21:52.915637900Z",
     "start_time": "2023-11-04T19:21:52.893456Z"
    }
   }
  },
  {
   "cell_type": "code",
   "execution_count": 228,
   "outputs": [],
   "source": [
    "def make_tree(D):\n",
    "    C = {}\n",
    "\n",
    "    i = 1\n",
    "    C[i] = [{\"type\": \"leaf\", \"height\": 0, \"data\": \",\".join(D.loc[c].astype(str))} for c in list(D.index)]\n",
    "    while len(C[i]) > 1:\n",
    "        n_range = range(len(C[i]))\n",
    "        d = pd.DataFrame(index=n_range, columns=n_range).astype(float)\n",
    "        for j in n_range:\n",
    "            for k in range(j+1, len(C[i])):\n",
    "                d.iloc[j, k] = link_dist(C[i][j], C[i][k])\n",
    "        d_stack = d.stack()\n",
    "        s, r = d_stack.idxmin()\n",
    "        height = d_stack.min()\n",
    "\n",
    "        C[i+1] = []\n",
    "        for j in n_range:\n",
    "            if j != r and j != s:\n",
    "                C[i+1].append(C[i][j])\n",
    "            elif j == r:\n",
    "                C[i+1].append({\"type\": \"node\", \"height\": height, \"nodes\": [C[i][r], C[i][s]]})\n",
    "        i += 1\n",
    "\n",
    "    tree = C[i][0]\n",
    "    tree[\"type\"] = \"root\"\n",
    "    return tree"
   ],
   "metadata": {
    "collapsed": false,
    "ExecuteTime": {
     "end_time": "2023-11-04T20:56:23.203158700Z",
     "start_time": "2023-11-04T20:56:23.189655500Z"
    }
   }
  },
  {
   "cell_type": "code",
   "execution_count": 227,
   "outputs": [
    {
     "ename": "KeyboardInterrupt",
     "evalue": "",
     "output_type": "error",
     "traceback": [
      "\u001B[1;31m---------------------------------------------------------------------------\u001B[0m",
      "\u001B[1;31mKeyboardInterrupt\u001B[0m                         Traceback (most recent call last)",
      "Cell \u001B[1;32mIn[227], line 11\u001B[0m\n\u001B[0;32m      9\u001B[0m \u001B[38;5;28;01mfor\u001B[39;00m j \u001B[38;5;129;01min\u001B[39;00m n_range:\n\u001B[0;32m     10\u001B[0m     \u001B[38;5;28;01mfor\u001B[39;00m k \u001B[38;5;129;01min\u001B[39;00m \u001B[38;5;28mrange\u001B[39m(j\u001B[38;5;241m+\u001B[39m\u001B[38;5;241m1\u001B[39m, \u001B[38;5;28mlen\u001B[39m(C[i])):\n\u001B[1;32m---> 11\u001B[0m         d\u001B[38;5;241m.\u001B[39miloc[j, k] \u001B[38;5;241m=\u001B[39m \u001B[43mlink_dist\u001B[49m\u001B[43m(\u001B[49m\u001B[43mC\u001B[49m\u001B[43m[\u001B[49m\u001B[43mi\u001B[49m\u001B[43m]\u001B[49m\u001B[43m[\u001B[49m\u001B[43mj\u001B[49m\u001B[43m]\u001B[49m\u001B[43m,\u001B[49m\u001B[43m \u001B[49m\u001B[43mC\u001B[49m\u001B[43m[\u001B[49m\u001B[43mi\u001B[49m\u001B[43m]\u001B[49m\u001B[43m[\u001B[49m\u001B[43mk\u001B[49m\u001B[43m]\u001B[49m\u001B[43m)\u001B[49m\n\u001B[0;32m     12\u001B[0m d_stack \u001B[38;5;241m=\u001B[39m d\u001B[38;5;241m.\u001B[39mstack()\n\u001B[0;32m     13\u001B[0m s, r \u001B[38;5;241m=\u001B[39m d_stack\u001B[38;5;241m.\u001B[39midxmin()\n",
      "Cell \u001B[1;32mIn[226], line 3\u001B[0m, in \u001B[0;36mlink_dist\u001B[1;34m(C_ij, C_ik, link)\u001B[0m\n\u001B[0;32m      1\u001B[0m \u001B[38;5;28;01mdef\u001B[39;00m \u001B[38;5;21mlink_dist\u001B[39m(C_ij, C_ik, link \u001B[38;5;241m=\u001B[39m \u001B[38;5;124m\"\u001B[39m\u001B[38;5;124maverage\u001B[39m\u001B[38;5;124m\"\u001B[39m) \u001B[38;5;241m-\u001B[39m\u001B[38;5;241m>\u001B[39m \u001B[38;5;28mfloat\u001B[39m:\n\u001B[0;32m      2\u001B[0m     dists \u001B[38;5;241m=\u001B[39m []\n\u001B[1;32m----> 3\u001B[0m     D_ij \u001B[38;5;241m=\u001B[39m pd\u001B[38;5;241m.\u001B[39mconcat([pd\u001B[38;5;241m.\u001B[39mSeries(leaf[\u001B[38;5;124m\"\u001B[39m\u001B[38;5;124mdata\u001B[39m\u001B[38;5;124m\"\u001B[39m]\u001B[38;5;241m.\u001B[39msplit(\u001B[38;5;124m'\u001B[39m\u001B[38;5;124m,\u001B[39m\u001B[38;5;124m'\u001B[39m))\u001B[38;5;241m.\u001B[39mastype(\u001B[38;5;28mfloat\u001B[39m) \u001B[38;5;28;01mfor\u001B[39;00m leaf \u001B[38;5;129;01min\u001B[39;00m flatten(C_ij)], axis\u001B[38;5;241m=\u001B[39m\u001B[38;5;241m1\u001B[39m)\u001B[38;5;241m.\u001B[39mT\n\u001B[0;32m      4\u001B[0m     D_ik \u001B[38;5;241m=\u001B[39m pd\u001B[38;5;241m.\u001B[39mconcat([pd\u001B[38;5;241m.\u001B[39mSeries(leaf[\u001B[38;5;124m\"\u001B[39m\u001B[38;5;124mdata\u001B[39m\u001B[38;5;124m\"\u001B[39m]\u001B[38;5;241m.\u001B[39msplit(\u001B[38;5;124m'\u001B[39m\u001B[38;5;124m,\u001B[39m\u001B[38;5;124m'\u001B[39m))\u001B[38;5;241m.\u001B[39mastype(\u001B[38;5;28mfloat\u001B[39m) \u001B[38;5;28;01mfor\u001B[39;00m leaf \u001B[38;5;129;01min\u001B[39;00m flatten(C_ik)], axis\u001B[38;5;241m=\u001B[39m\u001B[38;5;241m1\u001B[39m)\u001B[38;5;241m.\u001B[39mT\n\u001B[0;32m      5\u001B[0m     \u001B[38;5;28;01mfor\u001B[39;00m j \u001B[38;5;129;01min\u001B[39;00m D_ij\u001B[38;5;241m.\u001B[39mindex:\n",
      "Cell \u001B[1;32mIn[226], line 3\u001B[0m, in \u001B[0;36m<listcomp>\u001B[1;34m(.0)\u001B[0m\n\u001B[0;32m      1\u001B[0m \u001B[38;5;28;01mdef\u001B[39;00m \u001B[38;5;21mlink_dist\u001B[39m(C_ij, C_ik, link \u001B[38;5;241m=\u001B[39m \u001B[38;5;124m\"\u001B[39m\u001B[38;5;124maverage\u001B[39m\u001B[38;5;124m\"\u001B[39m) \u001B[38;5;241m-\u001B[39m\u001B[38;5;241m>\u001B[39m \u001B[38;5;28mfloat\u001B[39m:\n\u001B[0;32m      2\u001B[0m     dists \u001B[38;5;241m=\u001B[39m []\n\u001B[1;32m----> 3\u001B[0m     D_ij \u001B[38;5;241m=\u001B[39m pd\u001B[38;5;241m.\u001B[39mconcat([\u001B[43mpd\u001B[49m\u001B[38;5;241;43m.\u001B[39;49m\u001B[43mSeries\u001B[49m\u001B[43m(\u001B[49m\u001B[43mleaf\u001B[49m\u001B[43m[\u001B[49m\u001B[38;5;124;43m\"\u001B[39;49m\u001B[38;5;124;43mdata\u001B[39;49m\u001B[38;5;124;43m\"\u001B[39;49m\u001B[43m]\u001B[49m\u001B[38;5;241;43m.\u001B[39;49m\u001B[43msplit\u001B[49m\u001B[43m(\u001B[49m\u001B[38;5;124;43m'\u001B[39;49m\u001B[38;5;124;43m,\u001B[39;49m\u001B[38;5;124;43m'\u001B[39;49m\u001B[43m)\u001B[49m\u001B[43m)\u001B[49m\u001B[38;5;241;43m.\u001B[39;49m\u001B[43mastype\u001B[49m\u001B[43m(\u001B[49m\u001B[38;5;28;43mfloat\u001B[39;49m\u001B[43m)\u001B[49m \u001B[38;5;28;01mfor\u001B[39;00m leaf \u001B[38;5;129;01min\u001B[39;00m flatten(C_ij)], axis\u001B[38;5;241m=\u001B[39m\u001B[38;5;241m1\u001B[39m)\u001B[38;5;241m.\u001B[39mT\n\u001B[0;32m      4\u001B[0m     D_ik \u001B[38;5;241m=\u001B[39m pd\u001B[38;5;241m.\u001B[39mconcat([pd\u001B[38;5;241m.\u001B[39mSeries(leaf[\u001B[38;5;124m\"\u001B[39m\u001B[38;5;124mdata\u001B[39m\u001B[38;5;124m\"\u001B[39m]\u001B[38;5;241m.\u001B[39msplit(\u001B[38;5;124m'\u001B[39m\u001B[38;5;124m,\u001B[39m\u001B[38;5;124m'\u001B[39m))\u001B[38;5;241m.\u001B[39mastype(\u001B[38;5;28mfloat\u001B[39m) \u001B[38;5;28;01mfor\u001B[39;00m leaf \u001B[38;5;129;01min\u001B[39;00m flatten(C_ik)], axis\u001B[38;5;241m=\u001B[39m\u001B[38;5;241m1\u001B[39m)\u001B[38;5;241m.\u001B[39mT\n\u001B[0;32m      5\u001B[0m     \u001B[38;5;28;01mfor\u001B[39;00m j \u001B[38;5;129;01min\u001B[39;00m D_ij\u001B[38;5;241m.\u001B[39mindex:\n",
      "File \u001B[1;32m~\\anaconda3\\envs\\csc466\\lib\\site-packages\\pandas\\core\\generic.py:6534\u001B[0m, in \u001B[0;36mNDFrame.astype\u001B[1;34m(self, dtype, copy, errors)\u001B[0m\n\u001B[0;32m   6530\u001B[0m     results \u001B[38;5;241m=\u001B[39m [ser\u001B[38;5;241m.\u001B[39mastype(dtype, copy\u001B[38;5;241m=\u001B[39mcopy) \u001B[38;5;28;01mfor\u001B[39;00m _, ser \u001B[38;5;129;01min\u001B[39;00m \u001B[38;5;28mself\u001B[39m\u001B[38;5;241m.\u001B[39mitems()]\n\u001B[0;32m   6532\u001B[0m \u001B[38;5;28;01melse\u001B[39;00m:\n\u001B[0;32m   6533\u001B[0m     \u001B[38;5;66;03m# else, only a single dtype is given\u001B[39;00m\n\u001B[1;32m-> 6534\u001B[0m     new_data \u001B[38;5;241m=\u001B[39m \u001B[38;5;28;43mself\u001B[39;49m\u001B[38;5;241;43m.\u001B[39;49m\u001B[43m_mgr\u001B[49m\u001B[38;5;241;43m.\u001B[39;49m\u001B[43mastype\u001B[49m\u001B[43m(\u001B[49m\u001B[43mdtype\u001B[49m\u001B[38;5;241;43m=\u001B[39;49m\u001B[43mdtype\u001B[49m\u001B[43m,\u001B[49m\u001B[43m \u001B[49m\u001B[43mcopy\u001B[49m\u001B[38;5;241;43m=\u001B[39;49m\u001B[43mcopy\u001B[49m\u001B[43m,\u001B[49m\u001B[43m \u001B[49m\u001B[43merrors\u001B[49m\u001B[38;5;241;43m=\u001B[39;49m\u001B[43merrors\u001B[49m\u001B[43m)\u001B[49m\n\u001B[0;32m   6535\u001B[0m     res \u001B[38;5;241m=\u001B[39m \u001B[38;5;28mself\u001B[39m\u001B[38;5;241m.\u001B[39m_constructor_from_mgr(new_data, axes\u001B[38;5;241m=\u001B[39mnew_data\u001B[38;5;241m.\u001B[39maxes)\n\u001B[0;32m   6536\u001B[0m     \u001B[38;5;28;01mreturn\u001B[39;00m res\u001B[38;5;241m.\u001B[39m__finalize__(\u001B[38;5;28mself\u001B[39m, method\u001B[38;5;241m=\u001B[39m\u001B[38;5;124m\"\u001B[39m\u001B[38;5;124mastype\u001B[39m\u001B[38;5;124m\"\u001B[39m)\n",
      "File \u001B[1;32m~\\anaconda3\\envs\\csc466\\lib\\site-packages\\pandas\\core\\internals\\managers.py:414\u001B[0m, in \u001B[0;36mBaseBlockManager.astype\u001B[1;34m(self, dtype, copy, errors)\u001B[0m\n\u001B[0;32m    411\u001B[0m \u001B[38;5;28;01melif\u001B[39;00m using_copy_on_write():\n\u001B[0;32m    412\u001B[0m     copy \u001B[38;5;241m=\u001B[39m \u001B[38;5;28;01mFalse\u001B[39;00m\n\u001B[1;32m--> 414\u001B[0m \u001B[38;5;28;01mreturn\u001B[39;00m \u001B[38;5;28;43mself\u001B[39;49m\u001B[38;5;241;43m.\u001B[39;49m\u001B[43mapply\u001B[49m\u001B[43m(\u001B[49m\n\u001B[0;32m    415\u001B[0m \u001B[43m    \u001B[49m\u001B[38;5;124;43m\"\u001B[39;49m\u001B[38;5;124;43mastype\u001B[39;49m\u001B[38;5;124;43m\"\u001B[39;49m\u001B[43m,\u001B[49m\n\u001B[0;32m    416\u001B[0m \u001B[43m    \u001B[49m\u001B[43mdtype\u001B[49m\u001B[38;5;241;43m=\u001B[39;49m\u001B[43mdtype\u001B[49m\u001B[43m,\u001B[49m\n\u001B[0;32m    417\u001B[0m \u001B[43m    \u001B[49m\u001B[43mcopy\u001B[49m\u001B[38;5;241;43m=\u001B[39;49m\u001B[43mcopy\u001B[49m\u001B[43m,\u001B[49m\n\u001B[0;32m    418\u001B[0m \u001B[43m    \u001B[49m\u001B[43merrors\u001B[49m\u001B[38;5;241;43m=\u001B[39;49m\u001B[43merrors\u001B[49m\u001B[43m,\u001B[49m\n\u001B[0;32m    419\u001B[0m \u001B[43m    \u001B[49m\u001B[43musing_cow\u001B[49m\u001B[38;5;241;43m=\u001B[39;49m\u001B[43musing_copy_on_write\u001B[49m\u001B[43m(\u001B[49m\u001B[43m)\u001B[49m\u001B[43m,\u001B[49m\n\u001B[0;32m    420\u001B[0m \u001B[43m\u001B[49m\u001B[43m)\u001B[49m\n",
      "File \u001B[1;32m~\\anaconda3\\envs\\csc466\\lib\\site-packages\\pandas\\core\\internals\\managers.py:354\u001B[0m, in \u001B[0;36mBaseBlockManager.apply\u001B[1;34m(self, f, align_keys, **kwargs)\u001B[0m\n\u001B[0;32m    352\u001B[0m         applied \u001B[38;5;241m=\u001B[39m b\u001B[38;5;241m.\u001B[39mapply(f, \u001B[38;5;241m*\u001B[39m\u001B[38;5;241m*\u001B[39mkwargs)\n\u001B[0;32m    353\u001B[0m     \u001B[38;5;28;01melse\u001B[39;00m:\n\u001B[1;32m--> 354\u001B[0m         applied \u001B[38;5;241m=\u001B[39m \u001B[38;5;28mgetattr\u001B[39m(b, f)(\u001B[38;5;241m*\u001B[39m\u001B[38;5;241m*\u001B[39mkwargs)\n\u001B[0;32m    355\u001B[0m     result_blocks \u001B[38;5;241m=\u001B[39m extend_blocks(applied, result_blocks)\n\u001B[0;32m    357\u001B[0m out \u001B[38;5;241m=\u001B[39m \u001B[38;5;28mtype\u001B[39m(\u001B[38;5;28mself\u001B[39m)\u001B[38;5;241m.\u001B[39mfrom_blocks(result_blocks, \u001B[38;5;28mself\u001B[39m\u001B[38;5;241m.\u001B[39maxes)\n",
      "File \u001B[1;32m~\\anaconda3\\envs\\csc466\\lib\\site-packages\\pandas\\core\\internals\\blocks.py:616\u001B[0m, in \u001B[0;36mBlock.astype\u001B[1;34m(self, dtype, copy, errors, using_cow)\u001B[0m\n\u001B[0;32m    596\u001B[0m \u001B[38;5;250m\u001B[39m\u001B[38;5;124;03m\"\"\"\u001B[39;00m\n\u001B[0;32m    597\u001B[0m \u001B[38;5;124;03mCoerce to the new dtype.\u001B[39;00m\n\u001B[0;32m    598\u001B[0m \n\u001B[1;32m   (...)\u001B[0m\n\u001B[0;32m    612\u001B[0m \u001B[38;5;124;03mBlock\u001B[39;00m\n\u001B[0;32m    613\u001B[0m \u001B[38;5;124;03m\"\"\"\u001B[39;00m\n\u001B[0;32m    614\u001B[0m values \u001B[38;5;241m=\u001B[39m \u001B[38;5;28mself\u001B[39m\u001B[38;5;241m.\u001B[39mvalues\n\u001B[1;32m--> 616\u001B[0m new_values \u001B[38;5;241m=\u001B[39m \u001B[43mastype_array_safe\u001B[49m\u001B[43m(\u001B[49m\u001B[43mvalues\u001B[49m\u001B[43m,\u001B[49m\u001B[43m \u001B[49m\u001B[43mdtype\u001B[49m\u001B[43m,\u001B[49m\u001B[43m \u001B[49m\u001B[43mcopy\u001B[49m\u001B[38;5;241;43m=\u001B[39;49m\u001B[43mcopy\u001B[49m\u001B[43m,\u001B[49m\u001B[43m \u001B[49m\u001B[43merrors\u001B[49m\u001B[38;5;241;43m=\u001B[39;49m\u001B[43merrors\u001B[49m\u001B[43m)\u001B[49m\n\u001B[0;32m    618\u001B[0m new_values \u001B[38;5;241m=\u001B[39m maybe_coerce_values(new_values)\n\u001B[0;32m    620\u001B[0m refs \u001B[38;5;241m=\u001B[39m \u001B[38;5;28;01mNone\u001B[39;00m\n",
      "File \u001B[1;32m~\\anaconda3\\envs\\csc466\\lib\\site-packages\\pandas\\core\\dtypes\\astype.py:238\u001B[0m, in \u001B[0;36mastype_array_safe\u001B[1;34m(values, dtype, copy, errors)\u001B[0m\n\u001B[0;32m    235\u001B[0m     dtype \u001B[38;5;241m=\u001B[39m dtype\u001B[38;5;241m.\u001B[39mnumpy_dtype\n\u001B[0;32m    237\u001B[0m \u001B[38;5;28;01mtry\u001B[39;00m:\n\u001B[1;32m--> 238\u001B[0m     new_values \u001B[38;5;241m=\u001B[39m \u001B[43mastype_array\u001B[49m\u001B[43m(\u001B[49m\u001B[43mvalues\u001B[49m\u001B[43m,\u001B[49m\u001B[43m \u001B[49m\u001B[43mdtype\u001B[49m\u001B[43m,\u001B[49m\u001B[43m \u001B[49m\u001B[43mcopy\u001B[49m\u001B[38;5;241;43m=\u001B[39;49m\u001B[43mcopy\u001B[49m\u001B[43m)\u001B[49m\n\u001B[0;32m    239\u001B[0m \u001B[38;5;28;01mexcept\u001B[39;00m (\u001B[38;5;167;01mValueError\u001B[39;00m, \u001B[38;5;167;01mTypeError\u001B[39;00m):\n\u001B[0;32m    240\u001B[0m     \u001B[38;5;66;03m# e.g. _astype_nansafe can fail on object-dtype of strings\u001B[39;00m\n\u001B[0;32m    241\u001B[0m     \u001B[38;5;66;03m#  trying to convert to float\u001B[39;00m\n\u001B[0;32m    242\u001B[0m     \u001B[38;5;28;01mif\u001B[39;00m errors \u001B[38;5;241m==\u001B[39m \u001B[38;5;124m\"\u001B[39m\u001B[38;5;124mignore\u001B[39m\u001B[38;5;124m\"\u001B[39m:\n",
      "File \u001B[1;32m~\\anaconda3\\envs\\csc466\\lib\\site-packages\\pandas\\core\\dtypes\\astype.py:183\u001B[0m, in \u001B[0;36mastype_array\u001B[1;34m(values, dtype, copy)\u001B[0m\n\u001B[0;32m    180\u001B[0m     values \u001B[38;5;241m=\u001B[39m values\u001B[38;5;241m.\u001B[39mastype(dtype, copy\u001B[38;5;241m=\u001B[39mcopy)\n\u001B[0;32m    182\u001B[0m \u001B[38;5;28;01melse\u001B[39;00m:\n\u001B[1;32m--> 183\u001B[0m     values \u001B[38;5;241m=\u001B[39m \u001B[43m_astype_nansafe\u001B[49m\u001B[43m(\u001B[49m\u001B[43mvalues\u001B[49m\u001B[43m,\u001B[49m\u001B[43m \u001B[49m\u001B[43mdtype\u001B[49m\u001B[43m,\u001B[49m\u001B[43m \u001B[49m\u001B[43mcopy\u001B[49m\u001B[38;5;241;43m=\u001B[39;49m\u001B[43mcopy\u001B[49m\u001B[43m)\u001B[49m\n\u001B[0;32m    185\u001B[0m \u001B[38;5;66;03m# in pandas we don't store numpy str dtypes, so convert to object\u001B[39;00m\n\u001B[0;32m    186\u001B[0m \u001B[38;5;28;01mif\u001B[39;00m \u001B[38;5;28misinstance\u001B[39m(dtype, np\u001B[38;5;241m.\u001B[39mdtype) \u001B[38;5;129;01mand\u001B[39;00m \u001B[38;5;28missubclass\u001B[39m(values\u001B[38;5;241m.\u001B[39mdtype\u001B[38;5;241m.\u001B[39mtype, \u001B[38;5;28mstr\u001B[39m):\n",
      "File \u001B[1;32m~\\anaconda3\\envs\\csc466\\lib\\site-packages\\pandas\\core\\dtypes\\astype.py:107\u001B[0m, in \u001B[0;36m_astype_nansafe\u001B[1;34m(arr, dtype, copy, skipna)\u001B[0m\n\u001B[0;32m    101\u001B[0m     \u001B[38;5;28;01mreturn\u001B[39;00m _astype_float_to_int_nansafe(arr, dtype, copy)\n\u001B[0;32m    103\u001B[0m \u001B[38;5;28;01melif\u001B[39;00m arr\u001B[38;5;241m.\u001B[39mdtype \u001B[38;5;241m==\u001B[39m \u001B[38;5;28mobject\u001B[39m:\n\u001B[0;32m    104\u001B[0m     \u001B[38;5;66;03m# if we have a datetime/timedelta array of objects\u001B[39;00m\n\u001B[0;32m    105\u001B[0m     \u001B[38;5;66;03m# then coerce to datetime64[ns] and use DatetimeArray.astype\u001B[39;00m\n\u001B[1;32m--> 107\u001B[0m     \u001B[38;5;28;01mif\u001B[39;00m lib\u001B[38;5;241m.\u001B[39mis_np_dtype(dtype, \u001B[38;5;124m\"\u001B[39m\u001B[38;5;124mM\u001B[39m\u001B[38;5;124m\"\u001B[39m):\n\u001B[0;32m    108\u001B[0m         \u001B[38;5;28;01mfrom\u001B[39;00m \u001B[38;5;21;01mpandas\u001B[39;00m \u001B[38;5;28;01mimport\u001B[39;00m to_datetime\n\u001B[0;32m    110\u001B[0m         dti \u001B[38;5;241m=\u001B[39m to_datetime(arr\u001B[38;5;241m.\u001B[39mravel())\n",
      "\u001B[1;31mKeyboardInterrupt\u001B[0m: "
     ]
    }
   ],
   "source": [
    "C = {}\n",
    "heights = []\n",
    "\n",
    "i = 1\n",
    "C[i] = [{\"type\": \"leaf\", \"height\": 0, \"data\": \",\".join(D.loc[c].astype(str))} for c in list(D.index)]\n",
    "while len(C[i]) > 1:\n",
    "    n_range = range(len(C[i]))\n",
    "    d = pd.DataFrame(index=n_range, columns=n_range).astype(float)\n",
    "    for j in n_range:\n",
    "        for k in range(j+1, len(C[i])):\n",
    "            d.iloc[j, k] = link_dist(C[i][j], C[i][k])\n",
    "    d_stack = d.stack()\n",
    "    s, r = d_stack.idxmin()\n",
    "    height = d_stack.min()\n",
    "\n",
    "    C[i+1] = []\n",
    "    for j in n_range:\n",
    "        if j != r and j != s:\n",
    "            C[i+1].append(C[i][j])\n",
    "        elif j == r:\n",
    "            C[i+1].append({\"type\": \"node\", \"height\": height, \"nodes\": [C[i][r], C[i][s]]})\n",
    "    i += 1"
   ],
   "metadata": {
    "collapsed": false,
    "ExecuteTime": {
     "end_time": "2023-11-04T20:56:21.432424100Z",
     "start_time": "2023-11-04T20:56:17.986103Z"
    }
   }
  },
  {
   "cell_type": "code",
   "execution_count": 99,
   "outputs": [
    {
     "data": {
      "text/plain": "{'type': 'root',\n 'height': 30.084978393339334,\n 'nodes': [{'type': 'node',\n   'height': 26.530576664143805,\n   'nodes': [{'type': 'node',\n     'height': 13.331252931982712,\n     'nodes': [{'type': 'node',\n       'height': 5.493508991637533,\n       'nodes': [{'type': 'node',\n         'height': 2.0,\n         'nodes': [{'type': 'leaf', 'height': 0, 'data': '42,9'},\n          {'type': 'leaf', 'height': 0, 'data': '40,9'}]},\n        {'type': 'node',\n         'height': 3.81720680758398,\n         'nodes': [{'type': 'node',\n           'height': 3.1622776601683795,\n           'nodes': [{'type': 'leaf', 'height': 0, 'data': '37,10'},\n            {'type': 'leaf', 'height': 0, 'data': '38,13'}]},\n          {'type': 'leaf', 'height': 0, 'data': '34,11'}]}]},\n      {'type': 'node',\n       'height': 11.72626389846176,\n       'nodes': [{'type': 'node',\n         'height': 10.395753610573419,\n         'nodes': [{'type': 'node',\n           'height': 5.933986244776953,\n           'nodes': [{'type': 'node',\n             'height': 2.8284271247461903,\n             'nodes': [{'type': 'leaf', 'height': 0, 'data': '29,11'},\n              {'type': 'leaf', 'height': 0, 'data': '31,13'}]},\n            {'type': 'node',\n             'height': 5.385164807134504,\n             'nodes': [{'type': 'node',\n               'height': 0.0,\n               'nodes': [{'type': 'leaf', 'height': 0, 'data': '26,16'},\n                {'type': 'leaf', 'height': 0, 'data': '26,16'}]},\n              {'type': 'leaf', 'height': 0, 'data': '31,18'}]}]},\n          {'type': 'node',\n           'height': 5.0,\n           'nodes': [{'type': 'leaf', 'height': 0, 'data': '22,22'},\n            {'type': 'leaf', 'height': 0, 'data': '26,25'}]}]},\n        {'type': 'node',\n         'height': 6.9184175556797625,\n         'nodes': [{'type': 'node',\n           'height': 4.165973108952852,\n           'nodes': [{'type': 'node',\n             'height': 3.1622776601683795,\n             'nodes': [{'type': 'leaf', 'height': 0, 'data': '35,20'},\n              {'type': 'leaf', 'height': 0, 'data': '34,23'}]},\n            {'type': 'node',\n             'height': 2.699172818834085,\n             'nodes': [{'type': 'leaf', 'height': 0, 'data': '38,21'},\n              {'type': 'node',\n               'height': 2.23606797749979,\n               'nodes': [{'type': 'leaf', 'height': 0, 'data': '37,23'},\n                {'type': 'leaf', 'height': 0, 'data': '39,24'}]}]}]},\n          {'type': 'leaf', 'height': 0, 'data': '32,27'}]}]}]},\n    {'type': 'node',\n     'height': 5.105625978844702,\n     'nodes': [{'type': 'node',\n       'height': 4.57101383701828,\n       'nodes': [{'type': 'node',\n         'height': 3.64269164289302,\n         'nodes': [{'type': 'node',\n           'height': 2.23606797749979,\n           'nodes': [{'type': 'leaf', 'height': 0, 'data': '42,39'},\n            {'type': 'leaf', 'height': 0, 'data': '41,41'}]},\n          {'type': 'leaf', 'height': 0, 'data': '45,40'}]},\n        {'type': 'node',\n         'height': 3.525729106681236,\n         'nodes': [{'type': 'node',\n           'height': 2.0,\n           'nodes': [{'type': 'leaf', 'height': 0, 'data': '44,43'},\n            {'type': 'leaf', 'height': 0, 'data': '42,43'}]},\n          {'type': 'node',\n           'height': 2.23606797749979,\n           'nodes': [{'type': 'leaf', 'height': 0, 'data': '39,44'},\n            {'type': 'leaf', 'height': 0, 'data': '41,45'}]}]}]},\n      {'type': 'node',\n       'height': 3.0,\n       'nodes': [{'type': 'leaf', 'height': 0, 'data': '38,39'},\n        {'type': 'leaf', 'height': 0, 'data': '38,42'}]}]}]},\n  {'type': 'node',\n   'height': 12.433279908584838,\n   'nodes': [{'type': 'node',\n     'height': 6.153440464842388,\n     'nodes': [{'type': 'node',\n       'height': 3.5615528128088303,\n       'nodes': [{'type': 'node',\n         'height': 1.4142135623730951,\n         'nodes': [{'type': 'leaf', 'height': 0, 'data': '12,34'},\n          {'type': 'leaf', 'height': 0, 'data': '13,35'}]},\n        {'type': 'leaf', 'height': 0, 'data': '9,34'}]},\n      {'type': 'node',\n       'height': 5.052916037910906,\n       'nodes': [{'type': 'node',\n         'height': 4.106558690472924,\n         'nodes': [{'type': 'node',\n           'height': 2.699172818834085,\n           'nodes': [{'type': 'leaf', 'height': 0, 'data': '6,37'},\n            {'type': 'node',\n             'height': 2.23606797749979,\n             'nodes': [{'type': 'leaf', 'height': 0, 'data': '9,38'},\n              {'type': 'leaf', 'height': 0, 'data': '7,39'}]}]},\n          {'type': 'node',\n           'height': 2.23606797749979,\n           'nodes': [{'type': 'leaf', 'height': 0, 'data': '8,41'},\n            {'type': 'leaf', 'height': 0, 'data': '10,42'}]}]},\n        {'type': 'node',\n         'height': 2.23606797749979,\n         'nodes': [{'type': 'leaf', 'height': 0, 'data': '12,38'},\n          {'type': 'leaf', 'height': 0, 'data': '13,40'}]}]}]},\n    {'type': 'node',\n     'height': 6.0,\n     'nodes': [{'type': 'leaf', 'height': 0, 'data': '25,38'},\n      {'type': 'leaf', 'height': 0, 'data': '19,38'}]}]}]}"
     },
     "execution_count": 99,
     "metadata": {},
     "output_type": "execute_result"
    }
   ],
   "source": [
    "tree = C[i][0]\n",
    "tree[\"type\"] = \"root\"\n",
    "tree"
   ],
   "metadata": {
    "collapsed": false,
    "ExecuteTime": {
     "end_time": "2023-11-04T08:58:00.812077200Z",
     "start_time": "2023-11-04T08:58:00.776577100Z"
    }
   }
  },
  {
   "cell_type": "code",
   "execution_count": 103,
   "outputs": [
    {
     "data": {
      "text/plain": "[30.084978393339334,\n 26.530576664143805,\n 13.331252931982712,\n 12.433279908584838,\n 11.72626389846176,\n 10.395753610573419,\n 6.9184175556797625,\n 6.153440464842388,\n 6.0,\n 5.933986244776953,\n 5.493508991637533,\n 5.385164807134504,\n 5.105625978844702,\n 5.052916037910906,\n 5.0,\n 4.57101383701828,\n 4.165973108952852,\n 4.106558690472924,\n 3.81720680758398,\n 3.64269164289302,\n 3.5615528128088303,\n 3.525729106681236,\n 3.1622776601683795,\n 3.1622776601683795,\n 3.0,\n 2.8284271247461903,\n 2.699172818834085,\n 2.699172818834085,\n 2.23606797749979,\n 2.23606797749979,\n 2.23606797749979,\n 2.23606797749979,\n 2.23606797749979,\n 2.23606797749979,\n 2.0,\n 2.0,\n 1.4142135623730951,\n 0.0]"
     },
     "execution_count": 103,
     "metadata": {},
     "output_type": "execute_result"
    }
   ],
   "source": [
    "heights.reverse()\n",
    "heights"
   ],
   "metadata": {
    "collapsed": false,
    "ExecuteTime": {
     "end_time": "2023-11-04T08:59:11.738853100Z",
     "start_time": "2023-11-04T08:59:11.731319600Z"
    }
   }
  },
  {
   "cell_type": "code",
   "execution_count": 50,
   "outputs": [
    {
     "data": {
      "text/plain": "    0   1\n2  42  43",
      "text/html": "<div>\n<style scoped>\n    .dataframe tbody tr th:only-of-type {\n        vertical-align: middle;\n    }\n\n    .dataframe tbody tr th {\n        vertical-align: top;\n    }\n\n    .dataframe thead th {\n        text-align: right;\n    }\n</style>\n<table border=\"1\" class=\"dataframe\">\n  <thead>\n    <tr style=\"text-align: right;\">\n      <th></th>\n      <th>0</th>\n      <th>1</th>\n    </tr>\n  </thead>\n  <tbody>\n    <tr>\n      <th>2</th>\n      <td>42</td>\n      <td>43</td>\n    </tr>\n  </tbody>\n</table>\n</div>"
     },
     "execution_count": 50,
     "metadata": {},
     "output_type": "execute_result"
    }
   ],
   "source": [
    "D.loc[[2]]"
   ],
   "metadata": {
    "collapsed": false,
    "ExecuteTime": {
     "end_time": "2023-11-04T07:45:37.900539Z",
     "start_time": "2023-11-04T07:45:37.892814400Z"
    }
   }
  },
  {
   "cell_type": "code",
   "execution_count": 104,
   "outputs": [
    {
     "data": {
      "text/plain": "[1, [2, 3], [4, [5, 6]], [7, 8], 9]"
     },
     "execution_count": 104,
     "metadata": {},
     "output_type": "execute_result"
    }
   ],
   "source": [
    "[1, [2, 3], [4, [5, 6]], [7, 8], 9]"
   ],
   "metadata": {
    "collapsed": false,
    "ExecuteTime": {
     "end_time": "2023-11-04T18:47:33.984289900Z",
     "start_time": "2023-11-04T18:47:33.965759600Z"
    }
   }
  },
  {
   "cell_type": "code",
   "execution_count": 146,
   "outputs": [],
   "source": [
    "def cut_tree(tree, threshold, by = \"height\"):\n",
    "    queue = [tree]\n",
    "\n",
    "    condition = 'False'\n",
    "    if by == \"height\":\n",
    "        condition = 'queue[0][\"height\"] > threshold'\n",
    "    elif by == \"nclust\":\n",
    "        condition = 'len(queue) < threshold'\n",
    "\n",
    "    while eval(condition):\n",
    "        poptree = queue.pop(0)\n",
    "        queue.extend(poptree[\"nodes\"])\n",
    "        queue = sorted(queue, key=lambda n: -n[\"height\"])\n",
    "    return queue"
   ],
   "metadata": {
    "collapsed": false,
    "ExecuteTime": {
     "end_time": "2023-11-04T19:27:26.738516600Z",
     "start_time": "2023-11-04T19:27:26.726158800Z"
    }
   }
  },
  {
   "cell_type": "code",
   "execution_count": 220,
   "outputs": [],
   "source": [
    "def dist(x, y):\n",
    "    return np.sqrt(((x - y)**2).sum())"
   ],
   "metadata": {
    "collapsed": false,
    "ExecuteTime": {
     "end_time": "2023-11-04T20:53:56.805419Z",
     "start_time": "2023-11-04T20:53:56.804099200Z"
    }
   }
  },
  {
   "cell_type": "code",
   "execution_count": 246,
   "outputs": [],
   "source": [
    "def hclust(D, threshold, by = \"height\", std = True, restrict = None, row_id = None):\n",
    "    D_orig = D.copy()\n",
    "    cols = list(D_orig.columns)\n",
    "    if restrict is not None:\n",
    "        cols_orig = D_orig.columns\n",
    "        cols = [cols_orig[i] for i in range(len(cols_orig)) if restrict[i] == 1]\n",
    "        D = D.loc[:, cols]\n",
    "    D_mean, D_std = 0, 1\n",
    "    if std:\n",
    "        D_mean, D_std = D.mean(), D.std()\n",
    "        D = (D - D_mean) / D_std\n",
    "    D = D.sort_values(cols)\n",
    "    D_orig = D_orig.reindex(list(D.index))\n",
    "\n",
    "    tree = make_tree(D)\n",
    "    cut = cut_tree(tree, threshold, by=by)\n",
    "\n",
    "    clusts = {i: [leaf[\"data\"].split(\",\") for leaf in flatten(cut[i])] for i in range(len(cut))}\n",
    "    clusts = {i: pd.DataFrame(clusts[i]).map(pd.to_numeric) for i in clusts.keys()}\n",
    "    for i in clusts.keys():\n",
    "        clusts[i]['cluster'] = i\n",
    "    D = pd.concat(clusts.values()).sort_values(cols)\n",
    "    D.index = D_orig.index\n",
    "    D.columns = cols + ['cluster']\n",
    "\n",
    "    D_clust = D_orig.copy()\n",
    "    D_clust['cluster'] = D['cluster']\n",
    "    if row_id is not None:\n",
    "        D_clust = D_clust.set_index(row_id)\n",
    "        D_clust.index.name = None\n",
    "\n",
    "    centroids = D.groupby('cluster').mean()\n",
    "    centroids_unstd = centroids * D_std + D_mean\n",
    "\n",
    "    err = D.apply(lambda x: dist(x.drop('cluster'), centroids.loc[x.loc['cluster']]), axis=1)\n",
    "    err = pd.DataFrame({'err': err, 'cluster': D['cluster']})\n",
    "    err['err_sq'] = err['err']**2\n",
    "    err = err.groupby('cluster')\n",
    "    err_stats = pd.DataFrame({'min': err['err'].min(),\n",
    "                              'max': err['err'].max(),\n",
    "                              'avg': err['err'].mean(),\n",
    "                              'sse': err['err_sq'].sum()})\n",
    "\n",
    "    interclust = pd.DataFrame(index=list(centroids.index), columns=list(centroids.index))\n",
    "    for i in interclust.index:\n",
    "        for j in interclust.columns:\n",
    "            interclust.loc[i, j] = dist(centroids.loc[i], centroids.loc[j])\n",
    "\n",
    "    return {'clustered original data': D_clust.sort_index(),\n",
    "            'clustered processed data': D.sort_index(),\n",
    "            'tree': tree,\n",
    "            'threshold': threshold,\n",
    "            'cut type': by,\n",
    "            'standardized': std,\n",
    "            'centroids': centroids,\n",
    "            'unstandardized centroids': centroids_unstd,\n",
    "            'distance summary': err_stats,\n",
    "            'intercluster distances': interclust}\n"
   ],
   "metadata": {
    "collapsed": false,
    "ExecuteTime": {
     "end_time": "2023-11-04T21:33:21.230178Z",
     "start_time": "2023-11-04T21:33:21.223175500Z"
    }
   }
  },
  {
   "cell_type": "code",
   "execution_count": 247,
   "outputs": [
    {
     "data": {
      "text/plain": "{'clustered original data':      0   1  cluster\n 0   41  45        4\n 1   39  44        4\n 2   42  43        4\n 3   44  43        4\n 4   10  42        1\n 5   38  42        4\n 6    8  41        1\n 7   41  41        4\n 8   13  40        1\n 9   45  40        4\n 10   7  39        1\n 11  38  39        4\n 12  42  39        4\n 13   9  38        1\n 14  12  38        1\n 15  19  38        2\n 16  25  38        2\n 17   6  37        1\n 18  13  35        1\n 19   9  34        1\n 20  12  34        1\n 21  32  27        0\n 22  26  25        0\n 23  39  24        0\n 24  34  23        0\n 25  37  23        0\n 26  22  22        0\n 27  38  21        0\n 28  35  20        0\n 29  31  18        0\n 30  26  16        0\n 31  31  13        0\n 32  26  16        0\n 33  38  13        3\n 34  29  11        0\n 35  34  11        3\n 36  37  10        3\n 37  40   9        3\n 38  42   9        3,\n 'clustered processed data':            0         1  cluster\n 0   0.994719  1.296488        4\n 1   0.836052  1.214137        4\n 2   1.074053  1.131787        4\n 3   1.232720  1.131787        4\n 4  -1.464617  1.049437        1\n 5   0.756719  1.049437        4\n 6  -1.623284  0.967087        1\n 7   0.994719  0.967087        4\n 8  -1.226617  0.884737        1\n 9   1.312053  0.884737        4\n 10 -1.702618  0.802386        1\n 11  0.756719  0.802386        4\n 12  1.074053  0.802386        4\n 13 -1.543951  0.720036        1\n 14 -1.305951  0.720036        1\n 15 -0.750616  0.720036        2\n 16 -0.274616  0.720036        2\n 17 -1.781951  0.637686        1\n 18 -1.226617  0.472986        1\n 19 -1.543951  0.390636        1\n 20 -1.305951  0.390636        1\n 21  0.280718 -0.185816        0\n 22 -0.195282 -0.350516        0\n 23  0.836052 -0.432866        0\n 24  0.439385 -0.515217        0\n 25  0.677386 -0.515217        0\n 26 -0.512616 -0.597567        0\n 27  0.756719 -0.679917        0\n 28  0.518719 -0.762267        0\n 29  0.201385 -0.926967        0\n 30 -0.195282 -1.091668        0\n 31  0.201385 -1.338718        0\n 32 -0.195282 -1.091668        0\n 33  0.756719 -1.338718        3\n 34  0.042718 -1.503419        0\n 35  0.439385 -1.503419        3\n 36  0.677386 -1.585769        3\n 37  0.915386 -1.668119        3\n 38  1.074053 -1.668119        3,\n 'tree': {'type': 'root',\n  'height': 2.417266633072624,\n  'nodes': [{'type': 'node',\n    'height': 2.1737909114674503,\n    'nodes': [{'type': 'node',\n      'height': 0.41015731359858687,\n      'nodes': [{'type': 'node',\n        'height': 0.37229364340069043,\n        'nodes': [{'type': 'node',\n          'height': 0.28984476022632727,\n          'nodes': [{'type': 'leaf',\n            'height': 0,\n            'data': '1.3120531176284527,0.8847366337998216'},\n           {'type': 'node',\n            'height': 0.18281140324905124,\n            'nodes': [{'type': 'leaf',\n              'height': 0,\n              'data': '1.0740527846632917,0.8023864459282392'},\n             {'type': 'leaf',\n              'height': 0,\n              'data': '0.9947193403415712,0.967086821671404'}]}]},\n         {'type': 'node',\n          'height': 0.28230308828371287,\n          'nodes': [{'type': 'node',\n            'height': 0.15866688864344058,\n            'nodes': [{'type': 'leaf',\n              'height': 0,\n              'data': '1.2327196733067323,1.1317871974145688'},\n             {'type': 'leaf',\n              'height': 0,\n              'data': '1.0740527846632917,1.1317871974145688'}]},\n           {'type': 'node',\n            'height': 0.1787644679299412,\n            'nodes': [{'type': 'leaf',\n              'height': 0,\n              'data': '0.9947193403415712,1.2964875731577337'},\n             {'type': 'leaf',\n              'height': 0,\n              'data': '0.8360524516981304,1.2141373852861512'}]}]}]},\n       {'type': 'node',\n        'height': 0.2470505636147472,\n        'nodes': [{'type': 'leaf',\n          'height': 0,\n          'data': '0.75671900737641,1.0494370095429864'},\n         {'type': 'leaf',\n          'height': 0,\n          'data': '0.75671900737641,0.8023864459282392'}]}]},\n     {'type': 'node',\n      'height': 1.0813443608965363,\n      'nodes': [{'type': 'node',\n        'height': 0.43989360754486667,\n        'nodes': [{'type': 'node',\n          'height': 0.15866688864344092,\n          'nodes': [{'type': 'leaf',\n            'height': 0,\n            'data': '1.0740527846632917,-1.6681191902192338'},\n           {'type': 'leaf',\n            'height': 0,\n            'data': '0.9153858960198508,-1.6681191902192338'}]},\n         {'type': 'node',\n          'height': 0.30850245038911905,\n          'nodes': [{'type': 'leaf',\n            'height': 0,\n            'data': '0.75671900737641,-1.338718438732904'},\n           {'type': 'node',\n            'height': 0.25184461863222835,\n            'nodes': [{'type': 'leaf',\n              'height': 0,\n              'data': '0.6773855630546897,-1.5857690023476514'},\n             {'type': 'leaf',\n              'height': 0,\n              'data': '0.43938523008952846,-1.503418814476069'}]}]}]},\n       {'type': 'node',\n        'height': 0.9445233950049082,\n        'nodes': [{'type': 'node',\n          'height': 0.5597544412761006,\n          'nodes': [{'type': 'node',\n            'height': 0.333917172541976,\n            'nodes': [{'type': 'node',\n              'height': 0.22114368408370344,\n              'nodes': [{'type': 'node',\n                'height': 0.17876446792994105,\n                'nodes': [{'type': 'leaf',\n                  'height': 0,\n                  'data': '0.8360524516981304,-0.43286637214549734'},\n                 {'type': 'leaf',\n                  'height': 0,\n                  'data': '0.6773855630546897,-0.5152165600170797'}]},\n               {'type': 'leaf',\n                'height': 0,\n                'data': '0.75671900737641,-0.6799169357602446'}]},\n             {'type': 'node',\n              'height': 0.2594759649183558,\n              'nodes': [{'type': 'leaf',\n                'height': 0,\n                'data': '0.5187186744112489,-0.762267123631827'},\n               {'type': 'leaf',\n                'height': 0,\n                'data': '0.43938523008952846,-0.5152165600170797'}]}]},\n           {'type': 'leaf',\n            'height': 0,\n            'data': '0.28071834144608765,-0.18581580853075003'}]},\n         {'type': 'node',\n          'height': 0.8476533625512467,\n          'nodes': [{'type': 'node',\n            'height': 0.48257241122177225,\n            'nodes': [{'type': 'node',\n              'height': 0.4295009877388263,\n              'nodes': [{'type': 'leaf',\n                'height': 0,\n                'data': '0.20138489712436727,-0.9269674993749919'},\n               {'type': 'node',\n                'height': 0.0,\n                'nodes': [{'type': 'leaf',\n                  'height': 0,\n                  'data': '-0.1952823244842347,-1.0916678751181568'},\n                 {'type': 'leaf',\n                  'height': 0,\n                  'data': '-0.1952823244842347,-1.0916678751181568'}]}]},\n             {'type': 'node',\n              'height': 0.22869498315820075,\n              'nodes': [{'type': 'leaf',\n                'height': 0,\n                'data': '0.20138489712436727,-1.338718438732904'},\n               {'type': 'leaf',\n                'height': 0,\n                'data': '0.042718008480926495,-1.503418814476069'}]}]},\n           {'type': 'node',\n            'height': 0.40216253827218224,\n            'nodes': [{'type': 'leaf',\n              'height': 0,\n              'data': '-0.1952823244842347,-0.3505161842739149'},\n             {'type': 'leaf',\n              'height': 0,\n              'data': '-0.5126161017711163,-0.5975667478886622'}]}]}]}]}]},\n   {'type': 'node',\n    'height': 0.988349898747836,\n    'nodes': [{'type': 'node',\n      'height': 0.4760006659303223,\n      'nodes': [{'type': 'leaf',\n        'height': 0,\n        'data': '-0.27461576880595506,0.7200362580566567'},\n       {'type': 'leaf',\n        'height': 0,\n        'data': '-0.7506164347362774,0.7200362580566567'}]},\n     {'type': 'node',\n      'height': 0.5010212919400496,\n      'nodes': [{'type': 'node',\n        'height': 0.40369468906010314,\n        'nodes': [{'type': 'node',\n          'height': 0.18281140324905118,\n          'nodes': [{'type': 'leaf',\n            'height': 0,\n            'data': '-1.2266171006665998,0.8847366337998216'},\n           {'type': 'leaf',\n            'height': 0,\n            'data': '-1.3059505449883202,0.7200362580566567'}]},\n         {'type': 'node',\n          'height': 0.33493630914517203,\n          'nodes': [{'type': 'node',\n            'height': 0.17876446792994113,\n            'nodes': [{'type': 'leaf',\n              'height': 0,\n              'data': '-1.464617433631761,1.0494370095429864'},\n             {'type': 'leaf',\n              'height': 0,\n              'data': '-1.6232843222752018,0.967086821671404'}]},\n           {'type': 'node',\n            'height': 0.2173280109406396,\n            'nodes': [{'type': 'node',\n              'height': 0.1787644679299412,\n              'nodes': [{'type': 'leaf',\n                'height': 0,\n                'data': '-1.5439508779534814,0.7200362580566567'},\n               {'type': 'leaf',\n                'height': 0,\n                'data': '-1.7026177665969222,0.8023864459282392'}]},\n             {'type': 'leaf',\n              'height': 0,\n              'data': '-1.7819512109186424,0.6376860701850743'}]}]}]},\n       {'type': 'node',\n        'height': 0.2829226173927939,\n        'nodes': [{'type': 'node',\n          'height': 0.11434749157910039,\n          'nodes': [{'type': 'leaf',\n            'height': 0,\n            'data': '-1.2266171006665998,0.4729856944419094'},\n           {'type': 'leaf',\n            'height': 0,\n            'data': '-1.3059505449883202,0.390635506570327'}]},\n         {'type': 'leaf',\n          'height': 0,\n          'data': '-1.5439508779534814,0.390635506570327'}]}]}]}]},\n 'threshold': 5,\n 'cut type': 'nclust',\n 'standardized': True,\n 'centroids':                 0         1\n cluster                    \n 0        0.219693 -0.768602\n 1       -1.472551  0.703566\n 2       -0.512616  0.720036\n 3        0.772586 -1.552829\n 4        1.003534  1.031137,\n 'unstandardized centroids':                  0          1\n cluster                      \n 0        31.230769  19.923077\n 1         9.900000  37.800000\n 2        22.000000  38.000000\n 3        38.200000  10.400000\n 4        41.111111  41.777778,\n 'distance summary':               min       max       avg       sse\n cluster                                        \n 0        0.159420  0.755828  0.528331  3.995596\n 1        0.073275  0.354516  0.277503  0.843676\n 2        0.238000  0.238000  0.238000  0.113288\n 3        0.100738  0.336844  0.231714  0.307565\n 4        0.064654  0.341492  0.235145  0.562382,\n 'intercluster distances':           0         1         2         3         4\n 0       0.0  2.242982  1.659012  0.959533  1.963025\n 1  2.242982       0.0  0.960076  3.183073  2.497659\n 2  1.659012  0.960076       0.0  2.611065  1.547739\n 3  0.959533  3.183073  2.611065       0.0  2.594266\n 4  1.963025  2.497659  1.547739  2.594266       0.0}"
     },
     "execution_count": 247,
     "metadata": {},
     "output_type": "execute_result"
    }
   ],
   "source": [
    "hclust(D, 5, by=\"nclust\")"
   ],
   "metadata": {
    "collapsed": false,
    "ExecuteTime": {
     "end_time": "2023-11-04T21:33:37.973756Z",
     "start_time": "2023-11-04T21:33:22.544578100Z"
    }
   }
  },
  {
   "cell_type": "code",
   "execution_count": 183,
   "outputs": [
    {
     "data": {
      "text/plain": "           0         1  cluster         0         1         0         1\n17 -1.781951  0.637686        1 -1.781951  0.637686 -1.781951  0.637686\n10 -1.702618  0.802386        1 -1.702618  0.802386 -1.702618  0.802386\n6  -1.623284  0.967087        1 -1.623284  0.967087 -1.623284  0.967087\n19 -1.543951  0.390636        1 -1.543951  0.390636 -1.543951  0.390636\n13 -1.543951  0.720036        1 -1.543951  0.720036 -1.543951  0.720036\n4  -1.464617  1.049437        1 -1.464617  1.049437 -1.464617  1.049437\n20 -1.305951  0.390636        1 -1.305951  0.390636 -1.305951  0.390636\n14 -1.305951  0.720036        1 -1.305951  0.720036 -1.305951  0.720036\n18 -1.226617  0.472986        1 -1.226617  0.472986 -1.226617  0.472986\n8  -1.226617  0.884737        1 -1.226617  0.884737 -1.226617  0.884737\n15 -0.750616  0.720036        2 -0.750616  0.720036 -0.750616  0.720036\n26 -0.512616 -0.597567        0 -0.512616 -0.597567 -0.512616 -0.597567\n16 -0.274616  0.720036        2 -0.274616  0.720036 -0.274616  0.720036\n30 -0.195282 -1.091668        0 -0.195282 -1.091668 -0.195282 -1.091668\n32 -0.195282 -1.091668        0 -0.195282 -1.091668 -0.195282 -1.091668\n22 -0.195282 -0.350516        0 -0.195282 -0.350516 -0.195282 -0.350516\n34  0.042718 -1.503419        0  0.042718 -1.503419  0.042718 -1.503419\n31  0.201385 -1.338718        0  0.201385 -1.338718  0.201385 -1.338718\n29  0.201385 -0.926967        0  0.201385 -0.926967  0.201385 -0.926967\n21  0.280718 -0.185816        0  0.280718 -0.185816  0.280718 -0.185816\n35  0.439385 -1.503419        3  0.439385 -1.503419  0.439385 -1.503419\n24  0.439385 -0.515217        0  0.439385 -0.515217  0.439385 -0.515217\n28  0.518719 -0.762267        0  0.518719 -0.762267  0.518719 -0.762267\n36  0.677386 -1.585769        3  0.677386 -1.585769  0.677386 -1.585769\n25  0.677386 -0.515217        0  0.677386 -0.515217  0.677386 -0.515217\n33  0.756719 -1.338718        3  0.756719 -1.338718  0.756719 -1.338718\n27  0.756719 -0.679917        0  0.756719 -0.679917  0.756719 -0.679917\n11  0.756719  0.802386        4  0.756719  0.802386  0.756719  0.802386\n5   0.756719  1.049437        4  0.756719  1.049437  0.756719  1.049437\n23  0.836052 -0.432866        0  0.836052 -0.432866  0.836052 -0.432866\n1   0.836052  1.214137        4  0.836052  1.214137  0.836052  1.214137\n37  0.915386 -1.668119        3  0.915386 -1.668119  0.915386 -1.668119\n7   0.994719  0.967087        4  0.994719  0.967087  0.994719  0.967087\n0   0.994719  1.296488        4  0.994719  1.296488  0.994719  1.296488\n38  1.074053 -1.668119        3  1.074053 -1.668119  1.074053 -1.668119\n12  1.074053  0.802386        4  1.074053  0.802386  1.074053  0.802386\n2   1.074053  1.131787        4  1.074053  1.131787  1.074053  1.131787\n3   1.232720  1.131787        4  1.232720  1.131787  1.232720  1.131787\n9   1.312053  0.884737        4  1.312053  0.884737  1.312053  0.884737",
      "text/html": "<div>\n<style scoped>\n    .dataframe tbody tr th:only-of-type {\n        vertical-align: middle;\n    }\n\n    .dataframe tbody tr th {\n        vertical-align: top;\n    }\n\n    .dataframe thead th {\n        text-align: right;\n    }\n</style>\n<table border=\"1\" class=\"dataframe\">\n  <thead>\n    <tr style=\"text-align: right;\">\n      <th></th>\n      <th>0</th>\n      <th>1</th>\n      <th>cluster</th>\n      <th>0</th>\n      <th>1</th>\n      <th>0</th>\n      <th>1</th>\n    </tr>\n  </thead>\n  <tbody>\n    <tr>\n      <th>17</th>\n      <td>-1.781951</td>\n      <td>0.637686</td>\n      <td>1</td>\n      <td>-1.781951</td>\n      <td>0.637686</td>\n      <td>-1.781951</td>\n      <td>0.637686</td>\n    </tr>\n    <tr>\n      <th>10</th>\n      <td>-1.702618</td>\n      <td>0.802386</td>\n      <td>1</td>\n      <td>-1.702618</td>\n      <td>0.802386</td>\n      <td>-1.702618</td>\n      <td>0.802386</td>\n    </tr>\n    <tr>\n      <th>6</th>\n      <td>-1.623284</td>\n      <td>0.967087</td>\n      <td>1</td>\n      <td>-1.623284</td>\n      <td>0.967087</td>\n      <td>-1.623284</td>\n      <td>0.967087</td>\n    </tr>\n    <tr>\n      <th>19</th>\n      <td>-1.543951</td>\n      <td>0.390636</td>\n      <td>1</td>\n      <td>-1.543951</td>\n      <td>0.390636</td>\n      <td>-1.543951</td>\n      <td>0.390636</td>\n    </tr>\n    <tr>\n      <th>13</th>\n      <td>-1.543951</td>\n      <td>0.720036</td>\n      <td>1</td>\n      <td>-1.543951</td>\n      <td>0.720036</td>\n      <td>-1.543951</td>\n      <td>0.720036</td>\n    </tr>\n    <tr>\n      <th>4</th>\n      <td>-1.464617</td>\n      <td>1.049437</td>\n      <td>1</td>\n      <td>-1.464617</td>\n      <td>1.049437</td>\n      <td>-1.464617</td>\n      <td>1.049437</td>\n    </tr>\n    <tr>\n      <th>20</th>\n      <td>-1.305951</td>\n      <td>0.390636</td>\n      <td>1</td>\n      <td>-1.305951</td>\n      <td>0.390636</td>\n      <td>-1.305951</td>\n      <td>0.390636</td>\n    </tr>\n    <tr>\n      <th>14</th>\n      <td>-1.305951</td>\n      <td>0.720036</td>\n      <td>1</td>\n      <td>-1.305951</td>\n      <td>0.720036</td>\n      <td>-1.305951</td>\n      <td>0.720036</td>\n    </tr>\n    <tr>\n      <th>18</th>\n      <td>-1.226617</td>\n      <td>0.472986</td>\n      <td>1</td>\n      <td>-1.226617</td>\n      <td>0.472986</td>\n      <td>-1.226617</td>\n      <td>0.472986</td>\n    </tr>\n    <tr>\n      <th>8</th>\n      <td>-1.226617</td>\n      <td>0.884737</td>\n      <td>1</td>\n      <td>-1.226617</td>\n      <td>0.884737</td>\n      <td>-1.226617</td>\n      <td>0.884737</td>\n    </tr>\n    <tr>\n      <th>15</th>\n      <td>-0.750616</td>\n      <td>0.720036</td>\n      <td>2</td>\n      <td>-0.750616</td>\n      <td>0.720036</td>\n      <td>-0.750616</td>\n      <td>0.720036</td>\n    </tr>\n    <tr>\n      <th>26</th>\n      <td>-0.512616</td>\n      <td>-0.597567</td>\n      <td>0</td>\n      <td>-0.512616</td>\n      <td>-0.597567</td>\n      <td>-0.512616</td>\n      <td>-0.597567</td>\n    </tr>\n    <tr>\n      <th>16</th>\n      <td>-0.274616</td>\n      <td>0.720036</td>\n      <td>2</td>\n      <td>-0.274616</td>\n      <td>0.720036</td>\n      <td>-0.274616</td>\n      <td>0.720036</td>\n    </tr>\n    <tr>\n      <th>30</th>\n      <td>-0.195282</td>\n      <td>-1.091668</td>\n      <td>0</td>\n      <td>-0.195282</td>\n      <td>-1.091668</td>\n      <td>-0.195282</td>\n      <td>-1.091668</td>\n    </tr>\n    <tr>\n      <th>32</th>\n      <td>-0.195282</td>\n      <td>-1.091668</td>\n      <td>0</td>\n      <td>-0.195282</td>\n      <td>-1.091668</td>\n      <td>-0.195282</td>\n      <td>-1.091668</td>\n    </tr>\n    <tr>\n      <th>22</th>\n      <td>-0.195282</td>\n      <td>-0.350516</td>\n      <td>0</td>\n      <td>-0.195282</td>\n      <td>-0.350516</td>\n      <td>-0.195282</td>\n      <td>-0.350516</td>\n    </tr>\n    <tr>\n      <th>34</th>\n      <td>0.042718</td>\n      <td>-1.503419</td>\n      <td>0</td>\n      <td>0.042718</td>\n      <td>-1.503419</td>\n      <td>0.042718</td>\n      <td>-1.503419</td>\n    </tr>\n    <tr>\n      <th>31</th>\n      <td>0.201385</td>\n      <td>-1.338718</td>\n      <td>0</td>\n      <td>0.201385</td>\n      <td>-1.338718</td>\n      <td>0.201385</td>\n      <td>-1.338718</td>\n    </tr>\n    <tr>\n      <th>29</th>\n      <td>0.201385</td>\n      <td>-0.926967</td>\n      <td>0</td>\n      <td>0.201385</td>\n      <td>-0.926967</td>\n      <td>0.201385</td>\n      <td>-0.926967</td>\n    </tr>\n    <tr>\n      <th>21</th>\n      <td>0.280718</td>\n      <td>-0.185816</td>\n      <td>0</td>\n      <td>0.280718</td>\n      <td>-0.185816</td>\n      <td>0.280718</td>\n      <td>-0.185816</td>\n    </tr>\n    <tr>\n      <th>35</th>\n      <td>0.439385</td>\n      <td>-1.503419</td>\n      <td>3</td>\n      <td>0.439385</td>\n      <td>-1.503419</td>\n      <td>0.439385</td>\n      <td>-1.503419</td>\n    </tr>\n    <tr>\n      <th>24</th>\n      <td>0.439385</td>\n      <td>-0.515217</td>\n      <td>0</td>\n      <td>0.439385</td>\n      <td>-0.515217</td>\n      <td>0.439385</td>\n      <td>-0.515217</td>\n    </tr>\n    <tr>\n      <th>28</th>\n      <td>0.518719</td>\n      <td>-0.762267</td>\n      <td>0</td>\n      <td>0.518719</td>\n      <td>-0.762267</td>\n      <td>0.518719</td>\n      <td>-0.762267</td>\n    </tr>\n    <tr>\n      <th>36</th>\n      <td>0.677386</td>\n      <td>-1.585769</td>\n      <td>3</td>\n      <td>0.677386</td>\n      <td>-1.585769</td>\n      <td>0.677386</td>\n      <td>-1.585769</td>\n    </tr>\n    <tr>\n      <th>25</th>\n      <td>0.677386</td>\n      <td>-0.515217</td>\n      <td>0</td>\n      <td>0.677386</td>\n      <td>-0.515217</td>\n      <td>0.677386</td>\n      <td>-0.515217</td>\n    </tr>\n    <tr>\n      <th>33</th>\n      <td>0.756719</td>\n      <td>-1.338718</td>\n      <td>3</td>\n      <td>0.756719</td>\n      <td>-1.338718</td>\n      <td>0.756719</td>\n      <td>-1.338718</td>\n    </tr>\n    <tr>\n      <th>27</th>\n      <td>0.756719</td>\n      <td>-0.679917</td>\n      <td>0</td>\n      <td>0.756719</td>\n      <td>-0.679917</td>\n      <td>0.756719</td>\n      <td>-0.679917</td>\n    </tr>\n    <tr>\n      <th>11</th>\n      <td>0.756719</td>\n      <td>0.802386</td>\n      <td>4</td>\n      <td>0.756719</td>\n      <td>0.802386</td>\n      <td>0.756719</td>\n      <td>0.802386</td>\n    </tr>\n    <tr>\n      <th>5</th>\n      <td>0.756719</td>\n      <td>1.049437</td>\n      <td>4</td>\n      <td>0.756719</td>\n      <td>1.049437</td>\n      <td>0.756719</td>\n      <td>1.049437</td>\n    </tr>\n    <tr>\n      <th>23</th>\n      <td>0.836052</td>\n      <td>-0.432866</td>\n      <td>0</td>\n      <td>0.836052</td>\n      <td>-0.432866</td>\n      <td>0.836052</td>\n      <td>-0.432866</td>\n    </tr>\n    <tr>\n      <th>1</th>\n      <td>0.836052</td>\n      <td>1.214137</td>\n      <td>4</td>\n      <td>0.836052</td>\n      <td>1.214137</td>\n      <td>0.836052</td>\n      <td>1.214137</td>\n    </tr>\n    <tr>\n      <th>37</th>\n      <td>0.915386</td>\n      <td>-1.668119</td>\n      <td>3</td>\n      <td>0.915386</td>\n      <td>-1.668119</td>\n      <td>0.915386</td>\n      <td>-1.668119</td>\n    </tr>\n    <tr>\n      <th>7</th>\n      <td>0.994719</td>\n      <td>0.967087</td>\n      <td>4</td>\n      <td>0.994719</td>\n      <td>0.967087</td>\n      <td>0.994719</td>\n      <td>0.967087</td>\n    </tr>\n    <tr>\n      <th>0</th>\n      <td>0.994719</td>\n      <td>1.296488</td>\n      <td>4</td>\n      <td>0.994719</td>\n      <td>1.296488</td>\n      <td>0.994719</td>\n      <td>1.296488</td>\n    </tr>\n    <tr>\n      <th>38</th>\n      <td>1.074053</td>\n      <td>-1.668119</td>\n      <td>3</td>\n      <td>1.074053</td>\n      <td>-1.668119</td>\n      <td>1.074053</td>\n      <td>-1.668119</td>\n    </tr>\n    <tr>\n      <th>12</th>\n      <td>1.074053</td>\n      <td>0.802386</td>\n      <td>4</td>\n      <td>1.074053</td>\n      <td>0.802386</td>\n      <td>1.074053</td>\n      <td>0.802386</td>\n    </tr>\n    <tr>\n      <th>2</th>\n      <td>1.074053</td>\n      <td>1.131787</td>\n      <td>4</td>\n      <td>1.074053</td>\n      <td>1.131787</td>\n      <td>1.074053</td>\n      <td>1.131787</td>\n    </tr>\n    <tr>\n      <th>3</th>\n      <td>1.232720</td>\n      <td>1.131787</td>\n      <td>4</td>\n      <td>1.232720</td>\n      <td>1.131787</td>\n      <td>1.232720</td>\n      <td>1.131787</td>\n    </tr>\n    <tr>\n      <th>9</th>\n      <td>1.312053</td>\n      <td>0.884737</td>\n      <td>4</td>\n      <td>1.312053</td>\n      <td>0.884737</td>\n      <td>1.312053</td>\n      <td>0.884737</td>\n    </tr>\n  </tbody>\n</table>\n</div>"
     },
     "execution_count": 183,
     "metadata": {},
     "output_type": "execute_result"
    }
   ],
   "source": [
    "hclust(D, 5, by=\"nclust\")"
   ],
   "metadata": {
    "collapsed": false,
    "ExecuteTime": {
     "end_time": "2023-11-04T20:13:36.677772500Z",
     "start_time": "2023-11-04T20:13:22.073091900Z"
    }
   }
  },
  {
   "cell_type": "code",
   "execution_count": 152,
   "outputs": [
    {
     "name": "stderr",
     "output_type": "stream",
     "text": [
      "<>:1: SyntaxWarning: list indices must be integers or slices, not list; perhaps you missed a comma?\n",
      "<>:1: SyntaxWarning: list indices must be integers or slices, not list; perhaps you missed a comma?\n",
      "C:\\Users\\hsu_m\\AppData\\Local\\Temp\\ipykernel_14448\\165435532.py:1: SyntaxWarning: list indices must be integers or slices, not list; perhaps you missed a comma?\n",
      "  [1, 2, 3, 4][[1, 2]]\n",
      "C:\\Users\\hsu_m\\AppData\\Local\\Temp\\ipykernel_14448\\165435532.py:1: SyntaxWarning: list indices must be integers or slices, not list; perhaps you missed a comma?\n",
      "  [1, 2, 3, 4][[1, 2]]\n",
      "C:\\Users\\hsu_m\\AppData\\Local\\Temp\\ipykernel_14448\\165435532.py:1: SyntaxWarning: list indices must be integers or slices, not list; perhaps you missed a comma?\n",
      "  [1, 2, 3, 4][[1, 2]]\n"
     ]
    },
    {
     "ename": "TypeError",
     "evalue": "list indices must be integers or slices, not list",
     "output_type": "error",
     "traceback": [
      "\u001B[1;31m---------------------------------------------------------------------------\u001B[0m",
      "\u001B[1;31mTypeError\u001B[0m                                 Traceback (most recent call last)",
      "Cell \u001B[1;32mIn[152], line 1\u001B[0m\n\u001B[1;32m----> 1\u001B[0m \u001B[43m[\u001B[49m\u001B[38;5;241;43m1\u001B[39;49m\u001B[43m,\u001B[49m\u001B[43m \u001B[49m\u001B[38;5;241;43m2\u001B[39;49m\u001B[43m,\u001B[49m\u001B[43m \u001B[49m\u001B[38;5;241;43m3\u001B[39;49m\u001B[43m,\u001B[49m\u001B[43m \u001B[49m\u001B[38;5;241;43m4\u001B[39;49m\u001B[43m]\u001B[49m\u001B[43m[\u001B[49m\u001B[43m[\u001B[49m\u001B[38;5;241;43m1\u001B[39;49m\u001B[43m,\u001B[49m\u001B[43m \u001B[49m\u001B[38;5;241;43m2\u001B[39;49m\u001B[43m]\u001B[49m\u001B[43m]\u001B[49m\n",
      "\u001B[1;31mTypeError\u001B[0m: list indices must be integers or slices, not list"
     ]
    }
   ],
   "source": [
    "[1, 2, 3, 4][1, 2]"
   ],
   "metadata": {
    "collapsed": false,
    "ExecuteTime": {
     "end_time": "2023-11-04T19:47:05.842628900Z",
     "start_time": "2023-11-04T19:47:05.811031300Z"
    }
   }
  }
 ],
 "metadata": {
  "kernelspec": {
   "display_name": "Python 3",
   "language": "python",
   "name": "python3"
  },
  "language_info": {
   "codemirror_mode": {
    "name": "ipython",
    "version": 2
   },
   "file_extension": ".py",
   "mimetype": "text/x-python",
   "name": "python",
   "nbconvert_exporter": "python",
   "pygments_lexer": "ipython2",
   "version": "2.7.6"
  }
 },
 "nbformat": 4,
 "nbformat_minor": 0
}

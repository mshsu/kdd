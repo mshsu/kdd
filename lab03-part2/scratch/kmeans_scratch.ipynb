{
 "cells": [
  {
   "cell_type": "code",
   "execution_count": 67,
   "metadata": {
    "collapsed": true,
    "ExecuteTime": {
     "end_time": "2023-10-25T01:57:05.807083700Z",
     "start_time": "2023-10-25T01:57:05.776946200Z"
    }
   },
   "outputs": [],
   "source": [
    "import pandas as pd\n",
    "import numpy as np\n",
    "\n",
    "from typing import Tuple, List, Dict, Any, Optional"
   ]
  },
  {
   "cell_type": "code",
   "execution_count": 182,
   "outputs": [
    {
     "data": {
      "text/plain": "          parents   has_nurs      form children     housing     finance  \\\n0           usual     proper  complete        1  convenient  convenient   \n1           usual     proper  complete        1  convenient  convenient   \n2           usual     proper  complete        1  convenient  convenient   \n3           usual     proper  complete        1  convenient  convenient   \n4           usual     proper  complete        1  convenient  convenient   \n...           ...        ...       ...      ...         ...         ...   \n12955  great_pret  very_crit    foster     more    critical      inconv   \n12956  great_pret  very_crit    foster     more    critical      inconv   \n12957  great_pret  very_crit    foster     more    critical      inconv   \n12958  great_pret  very_crit    foster     more    critical      inconv   \n12959  great_pret  very_crit    foster     more    critical      inconv   \n\n              social       health       class  \n0            nonprob  recommended   recommend  \n1            nonprob     priority    priority  \n2            nonprob    not_recom   not_recom  \n3      slightly_prob  recommended   recommend  \n4      slightly_prob     priority    priority  \n...              ...          ...         ...  \n12955  slightly_prob     priority  spec_prior  \n12956  slightly_prob    not_recom   not_recom  \n12957    problematic  recommended  spec_prior  \n12958    problematic     priority  spec_prior  \n12959    problematic    not_recom   not_recom  \n\n[12960 rows x 9 columns]",
      "text/html": "<div>\n<style scoped>\n    .dataframe tbody tr th:only-of-type {\n        vertical-align: middle;\n    }\n\n    .dataframe tbody tr th {\n        vertical-align: top;\n    }\n\n    .dataframe thead th {\n        text-align: right;\n    }\n</style>\n<table border=\"1\" class=\"dataframe\">\n  <thead>\n    <tr style=\"text-align: right;\">\n      <th></th>\n      <th>parents</th>\n      <th>has_nurs</th>\n      <th>form</th>\n      <th>children</th>\n      <th>housing</th>\n      <th>finance</th>\n      <th>social</th>\n      <th>health</th>\n      <th>class</th>\n    </tr>\n  </thead>\n  <tbody>\n    <tr>\n      <th>0</th>\n      <td>usual</td>\n      <td>proper</td>\n      <td>complete</td>\n      <td>1</td>\n      <td>convenient</td>\n      <td>convenient</td>\n      <td>nonprob</td>\n      <td>recommended</td>\n      <td>recommend</td>\n    </tr>\n    <tr>\n      <th>1</th>\n      <td>usual</td>\n      <td>proper</td>\n      <td>complete</td>\n      <td>1</td>\n      <td>convenient</td>\n      <td>convenient</td>\n      <td>nonprob</td>\n      <td>priority</td>\n      <td>priority</td>\n    </tr>\n    <tr>\n      <th>2</th>\n      <td>usual</td>\n      <td>proper</td>\n      <td>complete</td>\n      <td>1</td>\n      <td>convenient</td>\n      <td>convenient</td>\n      <td>nonprob</td>\n      <td>not_recom</td>\n      <td>not_recom</td>\n    </tr>\n    <tr>\n      <th>3</th>\n      <td>usual</td>\n      <td>proper</td>\n      <td>complete</td>\n      <td>1</td>\n      <td>convenient</td>\n      <td>convenient</td>\n      <td>slightly_prob</td>\n      <td>recommended</td>\n      <td>recommend</td>\n    </tr>\n    <tr>\n      <th>4</th>\n      <td>usual</td>\n      <td>proper</td>\n      <td>complete</td>\n      <td>1</td>\n      <td>convenient</td>\n      <td>convenient</td>\n      <td>slightly_prob</td>\n      <td>priority</td>\n      <td>priority</td>\n    </tr>\n    <tr>\n      <th>...</th>\n      <td>...</td>\n      <td>...</td>\n      <td>...</td>\n      <td>...</td>\n      <td>...</td>\n      <td>...</td>\n      <td>...</td>\n      <td>...</td>\n      <td>...</td>\n    </tr>\n    <tr>\n      <th>12955</th>\n      <td>great_pret</td>\n      <td>very_crit</td>\n      <td>foster</td>\n      <td>more</td>\n      <td>critical</td>\n      <td>inconv</td>\n      <td>slightly_prob</td>\n      <td>priority</td>\n      <td>spec_prior</td>\n    </tr>\n    <tr>\n      <th>12956</th>\n      <td>great_pret</td>\n      <td>very_crit</td>\n      <td>foster</td>\n      <td>more</td>\n      <td>critical</td>\n      <td>inconv</td>\n      <td>slightly_prob</td>\n      <td>not_recom</td>\n      <td>not_recom</td>\n    </tr>\n    <tr>\n      <th>12957</th>\n      <td>great_pret</td>\n      <td>very_crit</td>\n      <td>foster</td>\n      <td>more</td>\n      <td>critical</td>\n      <td>inconv</td>\n      <td>problematic</td>\n      <td>recommended</td>\n      <td>spec_prior</td>\n    </tr>\n    <tr>\n      <th>12958</th>\n      <td>great_pret</td>\n      <td>very_crit</td>\n      <td>foster</td>\n      <td>more</td>\n      <td>critical</td>\n      <td>inconv</td>\n      <td>problematic</td>\n      <td>priority</td>\n      <td>spec_prior</td>\n    </tr>\n    <tr>\n      <th>12959</th>\n      <td>great_pret</td>\n      <td>very_crit</td>\n      <td>foster</td>\n      <td>more</td>\n      <td>critical</td>\n      <td>inconv</td>\n      <td>problematic</td>\n      <td>not_recom</td>\n      <td>not_recom</td>\n    </tr>\n  </tbody>\n</table>\n<p>12960 rows × 9 columns</p>\n</div>"
     },
     "execution_count": 182,
     "metadata": {},
     "output_type": "execute_result"
    }
   ],
   "source": [
    "data = pd.read_csv('data/nursery.csv', skiprows=[1, 2], header=0)\n",
    "data"
   ],
   "metadata": {
    "collapsed": false,
    "ExecuteTime": {
     "end_time": "2023-10-25T07:51:08.332901800Z",
     "start_time": "2023-10-25T07:51:08.278834700Z"
    }
   }
  },
  {
   "cell_type": "code",
   "execution_count": 183,
   "outputs": [
    {
     "data": {
      "text/plain": "class\nnot_recom     4320\npriority      4266\nspec_prior    4044\nvery_recom     328\nrecommend        2\nName: count, dtype: int64"
     },
     "execution_count": 183,
     "metadata": {},
     "output_type": "execute_result"
    }
   ],
   "source": [
    "data['class'].value_counts()"
   ],
   "metadata": {
    "collapsed": false,
    "ExecuteTime": {
     "end_time": "2023-10-25T07:51:44.363227600Z",
     "start_time": "2023-10-25T07:51:44.351233Z"
    }
   }
  },
  {
   "cell_type": "code",
   "execution_count": 115,
   "outputs": [],
   "source": [
    "def select_initial_centroids(D: pd.DataFrame, k: int, random: bool = False):\n",
    "    if random:\n",
    "        centroid_list = D.sample(n=k, replace=False).values.tolist()\n",
    "        return {i: centroid_list[i] for i in range(k)}\n",
    "\n",
    "    else:\n",
    "        centroid_list = {0: D.mean().tolist()}\n",
    "        for i in range(k):\n",
    "            c = D.apply(lambda x: dist(x, centroid_list).sum(), axis=1).idxmax()\n",
    "            centroid_list[i] = D.iloc[c].tolist()\n",
    "            D = D.drop(c, axis=0)\n",
    "\n",
    "        return centroid_list"
   ],
   "metadata": {
    "collapsed": false,
    "ExecuteTime": {
     "end_time": "2023-10-25T06:16:22.736097100Z",
     "start_time": "2023-10-25T06:16:22.711599Z"
    }
   }
  },
  {
   "cell_type": "code",
   "execution_count": 116,
   "outputs": [
    {
     "name": "stdout",
     "output_type": "stream",
     "text": [
      "{0: [54.0, 130.0, 603.0, 1.0, 125.0, 1.0, 1.0, 0.0, 1.0, 0.0, 0.0, 0.0, 1.0, 0.0, 1.0, 0.0, 0.0, 1.0, 0.0, 1.0, 0.0], 1: [52.0, 122.0, 0.0, 0.0, 110.0, 2.0, 1.0, 0.0, 1.0, 1.0, 0.0, 0.0, 0.0, 0.0, 1.0, 0.0, 0.0, 1.0, 1.0, 0.0, 0.0], 2: [50.0, 160.0, 0.0, 1.0, 110.0, 0.0, 1.0, 1.0, 0.0, 0.0, 0.0, 0.0, 1.0, 0.0, 1.0, 0.0, 1.0, 0.0, 0.0, 1.0, 0.0], 3: [74.0, 120.0, 269.0, 0.0, 121.0, 0.2, 0.0, 1.0, 0.0, 0.0, 0.0, 1.0, 0.0, 1.0, 0.0, 0.0, 0.0, 1.0, 0.0, 0.0, 1.0], 4: [32.0, 118.0, 529.0, 0.0, 130.0, 0.0, 1.0, 0.0, 1.0, 0.0, 0.0, 0.0, 1.0, 0.0, 1.0, 0.0, 1.0, 0.0, 0.0, 1.0, 0.0], 5: [60.0, 125.0, 0.0, 1.0, 110.0, 0.1, 1.0, 0.0, 1.0, 0.0, 0.0, 0.0, 1.0, 0.0, 1.0, 0.0, 1.0, 0.0, 0.0, 0.0, 1.0], 6: [53.0, 145.0, 518.0, 0.0, 130.0, 0.0, 1.0, 0.0, 1.0, 1.0, 0.0, 0.0, 0.0, 0.0, 1.0, 0.0, 1.0, 0.0, 0.0, 1.0, 0.0], 7: [72.0, 160.0, 0.0, 0.0, 114.0, 1.6, 0.0, 0.0, 1.0, 1.0, 0.0, 0.0, 0.0, 1.0, 0.0, 0.0, 1.0, 0.0, 0.0, 1.0, 0.0], 8: [62.0, 140.0, 271.0, 0.0, 152.0, 1.0, 0.0, 0.0, 1.0, 0.0, 0.0, 1.0, 0.0, 0.0, 1.0, 0.0, 1.0, 0.0, 0.0, 0.0, 1.0], 9: [62.0, 158.0, 210.0, 1.0, 112.0, 3.0, 1.0, 0.0, 1.0, 0.0, 0.0, 0.0, 1.0, 0.0, 1.0, 0.0, 0.0, 1.0, 1.0, 0.0, 0.0]}\n"
     ]
    }
   ],
   "source": [
    "print(select_initial_centroids(dummify(data), 10))"
   ],
   "metadata": {
    "collapsed": false,
    "ExecuteTime": {
     "end_time": "2023-10-25T06:16:36.032346300Z",
     "start_time": "2023-10-25T06:16:24.620101900Z"
    }
   }
  },
  {
   "cell_type": "code",
   "execution_count": 113,
   "outputs": [],
   "source": [
    "def dist(x: pd.Series, m: Dict[int, List[Any]]) -> pd.Series:\n",
    "    x_cat = [cat for cat in x if not np.isreal(cat)]\n",
    "    x_num = [float(num) for num in x if np.isreal(num)]\n",
    "\n",
    "    n_cat, prop_cat = len(x_cat), len(x_cat) / len(x)\n",
    "    prop_num = len(x_num) / len(x)\n",
    "\n",
    "    #m_cat = {i: [cat for cat in m[i] if not np.isreal(cat)] for i in m.keys()}\n",
    "    m_num = {i: [num for num in m[i] if np.isreal(num)] for i in m.keys()}\n",
    "\n",
    "    #dists_cat = {i: (pd.Series(x_cat) == pd.Series(m_cat[i])).sum() / n_cat for i in m_cat.keys()}\n",
    "    dists_num = {i: np.sqrt(((pd.Series(x_num) - pd.Series(m_num[i]))**2).sum()) for i in m_num.keys()}\n",
    "\n",
    "    #dists = prop_cat * pd.Series(dists_cat) + prop_num * pd.Series(dists_num)\n",
    "\n",
    "    #return dists\n",
    "    return pd.Series(dists_num)"
   ],
   "metadata": {
    "collapsed": false,
    "ExecuteTime": {
     "end_time": "2023-10-25T06:14:15.632858200Z",
     "start_time": "2023-10-25T06:14:15.621769100Z"
    }
   }
  },
  {
   "cell_type": "code",
   "execution_count": 114,
   "outputs": [],
   "source": [
    "def dist(x: pd.Series, m: Dict[int, List[Any]]) -> pd.Series:\n",
    "    x_num = x.tolist()\n",
    "    dists = {i: np.sqrt(((pd.Series(x_num) - pd.Series(m[i]))**2).sum()) for i in m.keys()}\n",
    "    return pd.Series(dists)"
   ],
   "metadata": {
    "collapsed": false,
    "ExecuteTime": {
     "end_time": "2023-10-25T06:16:19.339045100Z",
     "start_time": "2023-10-25T06:16:19.328997100Z"
    }
   }
  },
  {
   "cell_type": "code",
   "execution_count": 72,
   "outputs": [
    {
     "data": {
      "text/plain": "0     18.890213\n1    116.684357\n2     67.914379\ndtype: float64"
     },
     "execution_count": 72,
     "metadata": {},
     "output_type": "execute_result"
    }
   ],
   "source": [
    "dist(data.iloc[1], select_initial_centroids(data, 3))"
   ],
   "metadata": {
    "collapsed": false,
    "ExecuteTime": {
     "end_time": "2023-10-25T01:59:27.772988300Z",
     "start_time": "2023-10-25T01:59:27.757789800Z"
    }
   }
  },
  {
   "cell_type": "code",
   "execution_count": 21,
   "outputs": [
    {
     "data": {
      "text/plain": "False"
     },
     "execution_count": 21,
     "metadata": {},
     "output_type": "execute_result"
    }
   ],
   "source": [
    "np.isreal(pd.DataFrame({1: ['1', '2', '3', '4']}).iloc[0, 0])"
   ],
   "metadata": {
    "collapsed": false,
    "ExecuteTime": {
     "end_time": "2023-10-25T01:41:46.624281600Z",
     "start_time": "2023-10-25T01:41:46.613113700Z"
    }
   }
  },
  {
   "cell_type": "code",
   "execution_count": 74,
   "outputs": [],
   "source": [
    "def dummify(df):\n",
    "    df_dummy = df.copy()\n",
    "    cat_cols = [col for col in df.columns if pd.api.types.is_object_dtype(df[col])]\n",
    "\n",
    "    for col in cat_cols:\n",
    "        cats = set(df[col])\n",
    "        for cat in cats:\n",
    "            df_dummy[col + '_' + str(cat)] = (df[col] == cat) * 1\n",
    "        df_dummy.drop(col, axis=1, inplace=True)\n",
    "\n",
    "    return df_dummy"
   ],
   "metadata": {
    "collapsed": false,
    "ExecuteTime": {
     "end_time": "2023-10-25T05:43:59.836341200Z",
     "start_time": "2023-10-25T05:43:59.814988600Z"
    }
   }
  },
  {
   "cell_type": "code",
   "execution_count": 117,
   "outputs": [],
   "source": [
    "def standardize(df):\n",
    "    df_std = df.copy()\n",
    "    num_cols = [col for col in df.columns if pd.api.types.is_numeric_dtype(df[col])]\n",
    "\n",
    "    for col in num_cols:\n",
    "        df_std[col] = (df_std[col] - df_std[col].mean()) / df_std[col].std()\n",
    "\n",
    "    return df_std"
   ],
   "metadata": {
    "collapsed": false,
    "ExecuteTime": {
     "end_time": "2023-10-25T06:17:23.338509600Z",
     "start_time": "2023-10-25T06:17:23.330716300Z"
    }
   }
  },
  {
   "cell_type": "code",
   "execution_count": 135,
   "outputs": [
    {
     "data": {
      "text/plain": "     Age  RestingBP  Cholesterol  FastingBS  MaxHR  Oldpeak  HeartDisease  \\\n0     40        140          289          0    172      0.0             0   \n1     49        160          180          0    156      1.0             1   \n2     37        130          283          0     98      0.0             0   \n3     48        138          214          0    108      1.5             1   \n4     54        150          195          0    122      0.0             0   \n..   ...        ...          ...        ...    ...      ...           ...   \n913   45        110          264          0    132      1.2             1   \n914   68        144          193          1    141      3.4             1   \n915   57        130          131          0    115      1.2             1   \n916   57        130          236          0    174      0.0             1   \n917   38        138          175          0    173      0.0             0   \n\n     Sex_F  Sex_M  ChestPainType_NAP  ...  ChestPainType_ATA  \\\n0        0      1                  0  ...                  1   \n1        1      0                  1  ...                  0   \n2        0      1                  0  ...                  1   \n3        1      0                  0  ...                  0   \n4        0      1                  1  ...                  0   \n..     ...    ...                ...  ...                ...   \n913      0      1                  0  ...                  0   \n914      0      1                  0  ...                  0   \n915      0      1                  0  ...                  0   \n916      1      0                  0  ...                  1   \n917      0      1                  1  ...                  0   \n\n     ChestPainType_ASY  RestingECG_LVH  RestingECG_Normal  RestingECG_ST  \\\n0                    0               0                  1              0   \n1                    0               0                  1              0   \n2                    0               0                  0              1   \n3                    1               0                  1              0   \n4                    0               0                  1              0   \n..                 ...             ...                ...            ...   \n913                  0               0                  1              0   \n914                  1               0                  1              0   \n915                  1               0                  1              0   \n916                  0               1                  0              0   \n917                  0               0                  1              0   \n\n     ExerciseAngina_N  ExerciseAngina_Y  ST_Slope_Down  ST_Slope_Flat  \\\n0                   1                 0              0              0   \n1                   1                 0              0              1   \n2                   1                 0              0              0   \n3                   0                 1              0              1   \n4                   1                 0              0              0   \n..                ...               ...            ...            ...   \n913                 1                 0              0              1   \n914                 1                 0              0              1   \n915                 0                 1              0              1   \n916                 1                 0              0              1   \n917                 1                 0              0              0   \n\n     ST_Slope_Up  \n0              1  \n1              0  \n2              1  \n3              0  \n4              1  \n..           ...  \n913            0  \n914            0  \n915            0  \n916            0  \n917            1  \n\n[918 rows x 21 columns]",
      "text/html": "<div>\n<style scoped>\n    .dataframe tbody tr th:only-of-type {\n        vertical-align: middle;\n    }\n\n    .dataframe tbody tr th {\n        vertical-align: top;\n    }\n\n    .dataframe thead th {\n        text-align: right;\n    }\n</style>\n<table border=\"1\" class=\"dataframe\">\n  <thead>\n    <tr style=\"text-align: right;\">\n      <th></th>\n      <th>Age</th>\n      <th>RestingBP</th>\n      <th>Cholesterol</th>\n      <th>FastingBS</th>\n      <th>MaxHR</th>\n      <th>Oldpeak</th>\n      <th>HeartDisease</th>\n      <th>Sex_F</th>\n      <th>Sex_M</th>\n      <th>ChestPainType_NAP</th>\n      <th>...</th>\n      <th>ChestPainType_ATA</th>\n      <th>ChestPainType_ASY</th>\n      <th>RestingECG_LVH</th>\n      <th>RestingECG_Normal</th>\n      <th>RestingECG_ST</th>\n      <th>ExerciseAngina_N</th>\n      <th>ExerciseAngina_Y</th>\n      <th>ST_Slope_Down</th>\n      <th>ST_Slope_Flat</th>\n      <th>ST_Slope_Up</th>\n    </tr>\n  </thead>\n  <tbody>\n    <tr>\n      <th>0</th>\n      <td>40</td>\n      <td>140</td>\n      <td>289</td>\n      <td>0</td>\n      <td>172</td>\n      <td>0.0</td>\n      <td>0</td>\n      <td>0</td>\n      <td>1</td>\n      <td>0</td>\n      <td>...</td>\n      <td>1</td>\n      <td>0</td>\n      <td>0</td>\n      <td>1</td>\n      <td>0</td>\n      <td>1</td>\n      <td>0</td>\n      <td>0</td>\n      <td>0</td>\n      <td>1</td>\n    </tr>\n    <tr>\n      <th>1</th>\n      <td>49</td>\n      <td>160</td>\n      <td>180</td>\n      <td>0</td>\n      <td>156</td>\n      <td>1.0</td>\n      <td>1</td>\n      <td>1</td>\n      <td>0</td>\n      <td>1</td>\n      <td>...</td>\n      <td>0</td>\n      <td>0</td>\n      <td>0</td>\n      <td>1</td>\n      <td>0</td>\n      <td>1</td>\n      <td>0</td>\n      <td>0</td>\n      <td>1</td>\n      <td>0</td>\n    </tr>\n    <tr>\n      <th>2</th>\n      <td>37</td>\n      <td>130</td>\n      <td>283</td>\n      <td>0</td>\n      <td>98</td>\n      <td>0.0</td>\n      <td>0</td>\n      <td>0</td>\n      <td>1</td>\n      <td>0</td>\n      <td>...</td>\n      <td>1</td>\n      <td>0</td>\n      <td>0</td>\n      <td>0</td>\n      <td>1</td>\n      <td>1</td>\n      <td>0</td>\n      <td>0</td>\n      <td>0</td>\n      <td>1</td>\n    </tr>\n    <tr>\n      <th>3</th>\n      <td>48</td>\n      <td>138</td>\n      <td>214</td>\n      <td>0</td>\n      <td>108</td>\n      <td>1.5</td>\n      <td>1</td>\n      <td>1</td>\n      <td>0</td>\n      <td>0</td>\n      <td>...</td>\n      <td>0</td>\n      <td>1</td>\n      <td>0</td>\n      <td>1</td>\n      <td>0</td>\n      <td>0</td>\n      <td>1</td>\n      <td>0</td>\n      <td>1</td>\n      <td>0</td>\n    </tr>\n    <tr>\n      <th>4</th>\n      <td>54</td>\n      <td>150</td>\n      <td>195</td>\n      <td>0</td>\n      <td>122</td>\n      <td>0.0</td>\n      <td>0</td>\n      <td>0</td>\n      <td>1</td>\n      <td>1</td>\n      <td>...</td>\n      <td>0</td>\n      <td>0</td>\n      <td>0</td>\n      <td>1</td>\n      <td>0</td>\n      <td>1</td>\n      <td>0</td>\n      <td>0</td>\n      <td>0</td>\n      <td>1</td>\n    </tr>\n    <tr>\n      <th>...</th>\n      <td>...</td>\n      <td>...</td>\n      <td>...</td>\n      <td>...</td>\n      <td>...</td>\n      <td>...</td>\n      <td>...</td>\n      <td>...</td>\n      <td>...</td>\n      <td>...</td>\n      <td>...</td>\n      <td>...</td>\n      <td>...</td>\n      <td>...</td>\n      <td>...</td>\n      <td>...</td>\n      <td>...</td>\n      <td>...</td>\n      <td>...</td>\n      <td>...</td>\n      <td>...</td>\n    </tr>\n    <tr>\n      <th>913</th>\n      <td>45</td>\n      <td>110</td>\n      <td>264</td>\n      <td>0</td>\n      <td>132</td>\n      <td>1.2</td>\n      <td>1</td>\n      <td>0</td>\n      <td>1</td>\n      <td>0</td>\n      <td>...</td>\n      <td>0</td>\n      <td>0</td>\n      <td>0</td>\n      <td>1</td>\n      <td>0</td>\n      <td>1</td>\n      <td>0</td>\n      <td>0</td>\n      <td>1</td>\n      <td>0</td>\n    </tr>\n    <tr>\n      <th>914</th>\n      <td>68</td>\n      <td>144</td>\n      <td>193</td>\n      <td>1</td>\n      <td>141</td>\n      <td>3.4</td>\n      <td>1</td>\n      <td>0</td>\n      <td>1</td>\n      <td>0</td>\n      <td>...</td>\n      <td>0</td>\n      <td>1</td>\n      <td>0</td>\n      <td>1</td>\n      <td>0</td>\n      <td>1</td>\n      <td>0</td>\n      <td>0</td>\n      <td>1</td>\n      <td>0</td>\n    </tr>\n    <tr>\n      <th>915</th>\n      <td>57</td>\n      <td>130</td>\n      <td>131</td>\n      <td>0</td>\n      <td>115</td>\n      <td>1.2</td>\n      <td>1</td>\n      <td>0</td>\n      <td>1</td>\n      <td>0</td>\n      <td>...</td>\n      <td>0</td>\n      <td>1</td>\n      <td>0</td>\n      <td>1</td>\n      <td>0</td>\n      <td>0</td>\n      <td>1</td>\n      <td>0</td>\n      <td>1</td>\n      <td>0</td>\n    </tr>\n    <tr>\n      <th>916</th>\n      <td>57</td>\n      <td>130</td>\n      <td>236</td>\n      <td>0</td>\n      <td>174</td>\n      <td>0.0</td>\n      <td>1</td>\n      <td>1</td>\n      <td>0</td>\n      <td>0</td>\n      <td>...</td>\n      <td>1</td>\n      <td>0</td>\n      <td>1</td>\n      <td>0</td>\n      <td>0</td>\n      <td>1</td>\n      <td>0</td>\n      <td>0</td>\n      <td>1</td>\n      <td>0</td>\n    </tr>\n    <tr>\n      <th>917</th>\n      <td>38</td>\n      <td>138</td>\n      <td>175</td>\n      <td>0</td>\n      <td>173</td>\n      <td>0.0</td>\n      <td>0</td>\n      <td>0</td>\n      <td>1</td>\n      <td>1</td>\n      <td>...</td>\n      <td>0</td>\n      <td>0</td>\n      <td>0</td>\n      <td>1</td>\n      <td>0</td>\n      <td>1</td>\n      <td>0</td>\n      <td>0</td>\n      <td>0</td>\n      <td>1</td>\n    </tr>\n  </tbody>\n</table>\n<p>918 rows × 21 columns</p>\n</div>"
     },
     "execution_count": 135,
     "metadata": {},
     "output_type": "execute_result"
    }
   ],
   "source": [
    "dummify(data)"
   ],
   "metadata": {
    "collapsed": false,
    "ExecuteTime": {
     "end_time": "2023-10-25T06:29:36.887447900Z",
     "start_time": "2023-10-25T06:29:36.824755300Z"
    }
   }
  },
  {
   "cell_type": "code",
   "execution_count": 155,
   "outputs": [],
   "source": [
    "def is_stopping_condition(m, m_new, cl, cl_new) -> bool:\n",
    "    if cl is None:\n",
    "        return False\n",
    "\n",
    "    stop1 = all([set(cl[key]) == set(cl_new[key]) for key in cl.keys()])\n",
    "    stop2 = all([np.allclose(m[key], m_new[key]) for key in m.keys()])\n",
    "\n",
    "    return stop1 or stop2"
   ],
   "metadata": {
    "collapsed": false,
    "ExecuteTime": {
     "end_time": "2023-10-25T06:39:31.169784600Z",
     "start_time": "2023-10-25T06:39:31.162693800Z"
    }
   }
  },
  {
   "cell_type": "code",
   "execution_count": 176,
   "outputs": [],
   "source": [
    "def knn(D: pd.DataFrame, k: int, std: bool = False, classvar: Optional[str] = None):\n",
    "    D_orig = D.iloc[:,:]\n",
    "    if classvar is not None:\n",
    "        D = D.drop(classvar, axis=1)\n",
    "    if std:\n",
    "        D = standardize(D)\n",
    "    D = dummify(D)\n",
    "    m = select_initial_centroids(D, k)\n",
    "    s, num, cl = {}, {}, None\n",
    "    cl_new, m_new = {}, {}\n",
    "\n",
    "    stop = False\n",
    "    while not stop:\n",
    "        for j in range(k):\n",
    "            s[j] = pd.Series([0] * len(D.columns))\n",
    "            s[j].index = D.columns\n",
    "            num[j] = 0\n",
    "            cl_new[j] = []\n",
    "        for i in range(len(D.index)):\n",
    "            x = D.iloc[i]\n",
    "            cluster = dist(x, m).idxmin()\n",
    "            cl_new[cluster].append(i)\n",
    "            #TODO: Ask how the fuck this is supposed to work with categorical (below)\n",
    "            s[cluster] = s[cluster] + x\n",
    "            num[cluster] += 1\n",
    "        for j in range(k):\n",
    "            m_new[j] = (s[j] / num[j]).tolist()\n",
    "        stop = is_stopping_condition(m, m_new, cl, cl_new)\n",
    "        cl, m = cl_new.copy(), m_new.copy()\n",
    "    final_cl = []\n",
    "    for key in cl.keys():\n",
    "        cl_i = pd.Series([key]*len(cl[key]))\n",
    "        cl_i.index = cl[key]\n",
    "        final_cl.append(cl_i)\n",
    "    final_cl = pd.concat(final_cl).sort_index()\n",
    "    D_orig['cluster'] = final_cl\n",
    "    return D_orig"
   ],
   "metadata": {
    "collapsed": false,
    "ExecuteTime": {
     "end_time": "2023-10-25T07:05:26.708325900Z",
     "start_time": "2023-10-25T07:05:26.698971Z"
    }
   }
  },
  {
   "cell_type": "code",
   "execution_count": 184,
   "outputs": [
    {
     "data": {
      "text/plain": "          parents   has_nurs      form children     housing     finance  \\\n0           usual     proper  complete        1  convenient  convenient   \n1           usual     proper  complete        1  convenient  convenient   \n2           usual     proper  complete        1  convenient  convenient   \n3           usual     proper  complete        1  convenient  convenient   \n4           usual     proper  complete        1  convenient  convenient   \n...           ...        ...       ...      ...         ...         ...   \n12955  great_pret  very_crit    foster     more    critical      inconv   \n12956  great_pret  very_crit    foster     more    critical      inconv   \n12957  great_pret  very_crit    foster     more    critical      inconv   \n12958  great_pret  very_crit    foster     more    critical      inconv   \n12959  great_pret  very_crit    foster     more    critical      inconv   \n\n              social       health       class  cluster  \n0            nonprob  recommended   recommend        0  \n1            nonprob     priority    priority        0  \n2            nonprob    not_recom   not_recom        0  \n3      slightly_prob  recommended   recommend        0  \n4      slightly_prob     priority    priority        0  \n...              ...          ...         ...      ...  \n12955  slightly_prob     priority  spec_prior        2  \n12956  slightly_prob    not_recom   not_recom        2  \n12957    problematic  recommended  spec_prior        2  \n12958    problematic     priority  spec_prior        2  \n12959    problematic    not_recom   not_recom        2  \n\n[12960 rows x 10 columns]",
      "text/html": "<div>\n<style scoped>\n    .dataframe tbody tr th:only-of-type {\n        vertical-align: middle;\n    }\n\n    .dataframe tbody tr th {\n        vertical-align: top;\n    }\n\n    .dataframe thead th {\n        text-align: right;\n    }\n</style>\n<table border=\"1\" class=\"dataframe\">\n  <thead>\n    <tr style=\"text-align: right;\">\n      <th></th>\n      <th>parents</th>\n      <th>has_nurs</th>\n      <th>form</th>\n      <th>children</th>\n      <th>housing</th>\n      <th>finance</th>\n      <th>social</th>\n      <th>health</th>\n      <th>class</th>\n      <th>cluster</th>\n    </tr>\n  </thead>\n  <tbody>\n    <tr>\n      <th>0</th>\n      <td>usual</td>\n      <td>proper</td>\n      <td>complete</td>\n      <td>1</td>\n      <td>convenient</td>\n      <td>convenient</td>\n      <td>nonprob</td>\n      <td>recommended</td>\n      <td>recommend</td>\n      <td>0</td>\n    </tr>\n    <tr>\n      <th>1</th>\n      <td>usual</td>\n      <td>proper</td>\n      <td>complete</td>\n      <td>1</td>\n      <td>convenient</td>\n      <td>convenient</td>\n      <td>nonprob</td>\n      <td>priority</td>\n      <td>priority</td>\n      <td>0</td>\n    </tr>\n    <tr>\n      <th>2</th>\n      <td>usual</td>\n      <td>proper</td>\n      <td>complete</td>\n      <td>1</td>\n      <td>convenient</td>\n      <td>convenient</td>\n      <td>nonprob</td>\n      <td>not_recom</td>\n      <td>not_recom</td>\n      <td>0</td>\n    </tr>\n    <tr>\n      <th>3</th>\n      <td>usual</td>\n      <td>proper</td>\n      <td>complete</td>\n      <td>1</td>\n      <td>convenient</td>\n      <td>convenient</td>\n      <td>slightly_prob</td>\n      <td>recommended</td>\n      <td>recommend</td>\n      <td>0</td>\n    </tr>\n    <tr>\n      <th>4</th>\n      <td>usual</td>\n      <td>proper</td>\n      <td>complete</td>\n      <td>1</td>\n      <td>convenient</td>\n      <td>convenient</td>\n      <td>slightly_prob</td>\n      <td>priority</td>\n      <td>priority</td>\n      <td>0</td>\n    </tr>\n    <tr>\n      <th>...</th>\n      <td>...</td>\n      <td>...</td>\n      <td>...</td>\n      <td>...</td>\n      <td>...</td>\n      <td>...</td>\n      <td>...</td>\n      <td>...</td>\n      <td>...</td>\n      <td>...</td>\n    </tr>\n    <tr>\n      <th>12955</th>\n      <td>great_pret</td>\n      <td>very_crit</td>\n      <td>foster</td>\n      <td>more</td>\n      <td>critical</td>\n      <td>inconv</td>\n      <td>slightly_prob</td>\n      <td>priority</td>\n      <td>spec_prior</td>\n      <td>2</td>\n    </tr>\n    <tr>\n      <th>12956</th>\n      <td>great_pret</td>\n      <td>very_crit</td>\n      <td>foster</td>\n      <td>more</td>\n      <td>critical</td>\n      <td>inconv</td>\n      <td>slightly_prob</td>\n      <td>not_recom</td>\n      <td>not_recom</td>\n      <td>2</td>\n    </tr>\n    <tr>\n      <th>12957</th>\n      <td>great_pret</td>\n      <td>very_crit</td>\n      <td>foster</td>\n      <td>more</td>\n      <td>critical</td>\n      <td>inconv</td>\n      <td>problematic</td>\n      <td>recommended</td>\n      <td>spec_prior</td>\n      <td>2</td>\n    </tr>\n    <tr>\n      <th>12958</th>\n      <td>great_pret</td>\n      <td>very_crit</td>\n      <td>foster</td>\n      <td>more</td>\n      <td>critical</td>\n      <td>inconv</td>\n      <td>problematic</td>\n      <td>priority</td>\n      <td>spec_prior</td>\n      <td>2</td>\n    </tr>\n    <tr>\n      <th>12959</th>\n      <td>great_pret</td>\n      <td>very_crit</td>\n      <td>foster</td>\n      <td>more</td>\n      <td>critical</td>\n      <td>inconv</td>\n      <td>problematic</td>\n      <td>not_recom</td>\n      <td>not_recom</td>\n      <td>2</td>\n    </tr>\n  </tbody>\n</table>\n<p>12960 rows × 10 columns</p>\n</div>"
     },
     "execution_count": 184,
     "metadata": {},
     "output_type": "execute_result"
    }
   ],
   "source": [
    "results = knn(data, 5, std=True, classvar='class')\n",
    "results"
   ],
   "metadata": {
    "collapsed": false,
    "ExecuteTime": {
     "end_time": "2023-10-25T07:57:23.123799900Z",
     "start_time": "2023-10-25T07:52:07.468361100Z"
    }
   }
  },
  {
   "cell_type": "code",
   "execution_count": 181,
   "outputs": [
    {
     "data": {
      "text/plain": "cluster         0    1\nHeartDisease          \n0             338   72\n1             100  408",
      "text/html": "<div>\n<style scoped>\n    .dataframe tbody tr th:only-of-type {\n        vertical-align: middle;\n    }\n\n    .dataframe tbody tr th {\n        vertical-align: top;\n    }\n\n    .dataframe thead th {\n        text-align: right;\n    }\n</style>\n<table border=\"1\" class=\"dataframe\">\n  <thead>\n    <tr style=\"text-align: right;\">\n      <th>cluster</th>\n      <th>0</th>\n      <th>1</th>\n    </tr>\n    <tr>\n      <th>HeartDisease</th>\n      <th></th>\n      <th></th>\n    </tr>\n  </thead>\n  <tbody>\n    <tr>\n      <th>0</th>\n      <td>338</td>\n      <td>72</td>\n    </tr>\n    <tr>\n      <th>1</th>\n      <td>100</td>\n      <td>408</td>\n    </tr>\n  </tbody>\n</table>\n</div>"
     },
     "execution_count": 181,
     "metadata": {},
     "output_type": "execute_result"
    }
   ],
   "source": [
    "pd.crosstab(results['HeartDisease'], results['cluster'])"
   ],
   "metadata": {
    "collapsed": false,
    "ExecuteTime": {
     "end_time": "2023-10-25T07:07:35.219211300Z",
     "start_time": "2023-10-25T07:07:35.143203500Z"
    }
   }
  }
 ],
 "metadata": {
  "kernelspec": {
   "display_name": "Python 3",
   "language": "python",
   "name": "python3"
  },
  "language_info": {
   "codemirror_mode": {
    "name": "ipython",
    "version": 2
   },
   "file_extension": ".py",
   "mimetype": "text/x-python",
   "name": "python",
   "nbconvert_exporter": "python",
   "pygments_lexer": "ipython2",
   "version": "2.7.6"
  }
 },
 "nbformat": 4,
 "nbformat_minor": 0
}

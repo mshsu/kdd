{
 "cells": [
  {
   "cell_type": "code",
   "execution_count": 1,
   "metadata": {
    "collapsed": true,
    "ExecuteTime": {
     "end_time": "2023-11-24T22:14:38.848013200Z",
     "start_time": "2023-11-24T22:14:38.012696300Z"
    }
   },
   "outputs": [],
   "source": [
    "import pandas as pd\n",
    "import numpy as np\n"
   ]
  },
  {
   "cell_type": "code",
   "execution_count": 2,
   "outputs": [
    {
     "data": {
      "text/plain": "        0      1      2      3     4      5     6     7      8      9   ...  \\\n0    -7.82   8.79  -9.66  -8.16 -7.52  -8.50 -9.85  4.17  -8.98  -4.76  ...   \n1     4.08  -0.29   6.36   4.37 -2.38  -9.66 -0.73 -5.34   8.88   9.22  ...   \n2    99.00  99.00  99.00  99.00  9.03   9.27  9.03  9.27  99.00  99.00  ...   \n3    99.00   8.35  99.00  99.00  1.80   8.16 -2.82  6.21  99.00   1.84  ...   \n4     8.50   4.61  -4.17  -5.39  1.36   1.60  7.04  4.61  -0.44   5.73  ...   \n..     ...    ...    ...    ...   ...    ...   ...   ...    ...    ...  ...   \n195   5.73   0.00  -0.58   1.75  2.86   7.23  2.04 -4.27   3.11   7.14  ...   \n196   1.80   5.39   8.06  -0.10  4.81   4.66 -7.09 -7.72   3.69   4.47  ...   \n197   2.62  -3.79  -1.17  -0.44 -1.02   5.05 -3.69  2.18   3.30  -0.73  ...   \n198  99.00  99.00  99.00  99.00  7.91  99.00  3.64 -1.89  99.00  99.00  ...   \n199   5.58  -7.28  -4.56   2.67  7.38   2.18  2.14  2.23   5.58  -4.51  ...   \n\n        90     91     92     93     94     95     96     97     98     99  \n0     2.82  99.00  99.00  99.00  99.00  99.00  -5.63  99.00  99.00  99.00  \n1     2.82  -4.95  -0.29   7.86  -0.19  -2.14   3.06   0.34  -4.32   1.07  \n2    99.00  99.00  99.00   9.08  99.00  99.00  99.00  99.00  99.00  99.00  \n3    99.00  99.00  99.00   0.53  99.00  99.00  99.00  99.00  99.00  99.00  \n4     5.19   5.58   4.27   5.19   5.73   1.55   3.11   6.55   1.80   1.60  \n..     ...    ...    ...    ...    ...    ...    ...    ...    ...    ...  \n195   1.70   4.66   1.65   5.58   5.73   3.50   0.00  -2.04   2.91   1.84  \n196  99.00  99.00  99.00  99.00  99.00  99.00  99.00  99.00  99.00  99.00  \n197   1.41  -2.52  -0.53  -1.89   1.17  -2.04  -1.17  -0.73   0.73   0.44  \n198   2.96  99.00  99.00  99.00  99.00  99.00  99.00  99.00  99.00  99.00  \n199  99.00  99.00  99.00  99.00  99.00  99.00  99.00  99.00  99.00  99.00  \n\n[200 rows x 100 columns]",
      "text/html": "<div>\n<style scoped>\n    .dataframe tbody tr th:only-of-type {\n        vertical-align: middle;\n    }\n\n    .dataframe tbody tr th {\n        vertical-align: top;\n    }\n\n    .dataframe thead th {\n        text-align: right;\n    }\n</style>\n<table border=\"1\" class=\"dataframe\">\n  <thead>\n    <tr style=\"text-align: right;\">\n      <th></th>\n      <th>0</th>\n      <th>1</th>\n      <th>2</th>\n      <th>3</th>\n      <th>4</th>\n      <th>5</th>\n      <th>6</th>\n      <th>7</th>\n      <th>8</th>\n      <th>9</th>\n      <th>...</th>\n      <th>90</th>\n      <th>91</th>\n      <th>92</th>\n      <th>93</th>\n      <th>94</th>\n      <th>95</th>\n      <th>96</th>\n      <th>97</th>\n      <th>98</th>\n      <th>99</th>\n    </tr>\n  </thead>\n  <tbody>\n    <tr>\n      <th>0</th>\n      <td>-7.82</td>\n      <td>8.79</td>\n      <td>-9.66</td>\n      <td>-8.16</td>\n      <td>-7.52</td>\n      <td>-8.50</td>\n      <td>-9.85</td>\n      <td>4.17</td>\n      <td>-8.98</td>\n      <td>-4.76</td>\n      <td>...</td>\n      <td>2.82</td>\n      <td>99.00</td>\n      <td>99.00</td>\n      <td>99.00</td>\n      <td>99.00</td>\n      <td>99.00</td>\n      <td>-5.63</td>\n      <td>99.00</td>\n      <td>99.00</td>\n      <td>99.00</td>\n    </tr>\n    <tr>\n      <th>1</th>\n      <td>4.08</td>\n      <td>-0.29</td>\n      <td>6.36</td>\n      <td>4.37</td>\n      <td>-2.38</td>\n      <td>-9.66</td>\n      <td>-0.73</td>\n      <td>-5.34</td>\n      <td>8.88</td>\n      <td>9.22</td>\n      <td>...</td>\n      <td>2.82</td>\n      <td>-4.95</td>\n      <td>-0.29</td>\n      <td>7.86</td>\n      <td>-0.19</td>\n      <td>-2.14</td>\n      <td>3.06</td>\n      <td>0.34</td>\n      <td>-4.32</td>\n      <td>1.07</td>\n    </tr>\n    <tr>\n      <th>2</th>\n      <td>99.00</td>\n      <td>99.00</td>\n      <td>99.00</td>\n      <td>99.00</td>\n      <td>9.03</td>\n      <td>9.27</td>\n      <td>9.03</td>\n      <td>9.27</td>\n      <td>99.00</td>\n      <td>99.00</td>\n      <td>...</td>\n      <td>99.00</td>\n      <td>99.00</td>\n      <td>99.00</td>\n      <td>9.08</td>\n      <td>99.00</td>\n      <td>99.00</td>\n      <td>99.00</td>\n      <td>99.00</td>\n      <td>99.00</td>\n      <td>99.00</td>\n    </tr>\n    <tr>\n      <th>3</th>\n      <td>99.00</td>\n      <td>8.35</td>\n      <td>99.00</td>\n      <td>99.00</td>\n      <td>1.80</td>\n      <td>8.16</td>\n      <td>-2.82</td>\n      <td>6.21</td>\n      <td>99.00</td>\n      <td>1.84</td>\n      <td>...</td>\n      <td>99.00</td>\n      <td>99.00</td>\n      <td>99.00</td>\n      <td>0.53</td>\n      <td>99.00</td>\n      <td>99.00</td>\n      <td>99.00</td>\n      <td>99.00</td>\n      <td>99.00</td>\n      <td>99.00</td>\n    </tr>\n    <tr>\n      <th>4</th>\n      <td>8.50</td>\n      <td>4.61</td>\n      <td>-4.17</td>\n      <td>-5.39</td>\n      <td>1.36</td>\n      <td>1.60</td>\n      <td>7.04</td>\n      <td>4.61</td>\n      <td>-0.44</td>\n      <td>5.73</td>\n      <td>...</td>\n      <td>5.19</td>\n      <td>5.58</td>\n      <td>4.27</td>\n      <td>5.19</td>\n      <td>5.73</td>\n      <td>1.55</td>\n      <td>3.11</td>\n      <td>6.55</td>\n      <td>1.80</td>\n      <td>1.60</td>\n    </tr>\n    <tr>\n      <th>...</th>\n      <td>...</td>\n      <td>...</td>\n      <td>...</td>\n      <td>...</td>\n      <td>...</td>\n      <td>...</td>\n      <td>...</td>\n      <td>...</td>\n      <td>...</td>\n      <td>...</td>\n      <td>...</td>\n      <td>...</td>\n      <td>...</td>\n      <td>...</td>\n      <td>...</td>\n      <td>...</td>\n      <td>...</td>\n      <td>...</td>\n      <td>...</td>\n      <td>...</td>\n      <td>...</td>\n    </tr>\n    <tr>\n      <th>195</th>\n      <td>5.73</td>\n      <td>0.00</td>\n      <td>-0.58</td>\n      <td>1.75</td>\n      <td>2.86</td>\n      <td>7.23</td>\n      <td>2.04</td>\n      <td>-4.27</td>\n      <td>3.11</td>\n      <td>7.14</td>\n      <td>...</td>\n      <td>1.70</td>\n      <td>4.66</td>\n      <td>1.65</td>\n      <td>5.58</td>\n      <td>5.73</td>\n      <td>3.50</td>\n      <td>0.00</td>\n      <td>-2.04</td>\n      <td>2.91</td>\n      <td>1.84</td>\n    </tr>\n    <tr>\n      <th>196</th>\n      <td>1.80</td>\n      <td>5.39</td>\n      <td>8.06</td>\n      <td>-0.10</td>\n      <td>4.81</td>\n      <td>4.66</td>\n      <td>-7.09</td>\n      <td>-7.72</td>\n      <td>3.69</td>\n      <td>4.47</td>\n      <td>...</td>\n      <td>99.00</td>\n      <td>99.00</td>\n      <td>99.00</td>\n      <td>99.00</td>\n      <td>99.00</td>\n      <td>99.00</td>\n      <td>99.00</td>\n      <td>99.00</td>\n      <td>99.00</td>\n      <td>99.00</td>\n    </tr>\n    <tr>\n      <th>197</th>\n      <td>2.62</td>\n      <td>-3.79</td>\n      <td>-1.17</td>\n      <td>-0.44</td>\n      <td>-1.02</td>\n      <td>5.05</td>\n      <td>-3.69</td>\n      <td>2.18</td>\n      <td>3.30</td>\n      <td>-0.73</td>\n      <td>...</td>\n      <td>1.41</td>\n      <td>-2.52</td>\n      <td>-0.53</td>\n      <td>-1.89</td>\n      <td>1.17</td>\n      <td>-2.04</td>\n      <td>-1.17</td>\n      <td>-0.73</td>\n      <td>0.73</td>\n      <td>0.44</td>\n    </tr>\n    <tr>\n      <th>198</th>\n      <td>99.00</td>\n      <td>99.00</td>\n      <td>99.00</td>\n      <td>99.00</td>\n      <td>7.91</td>\n      <td>99.00</td>\n      <td>3.64</td>\n      <td>-1.89</td>\n      <td>99.00</td>\n      <td>99.00</td>\n      <td>...</td>\n      <td>2.96</td>\n      <td>99.00</td>\n      <td>99.00</td>\n      <td>99.00</td>\n      <td>99.00</td>\n      <td>99.00</td>\n      <td>99.00</td>\n      <td>99.00</td>\n      <td>99.00</td>\n      <td>99.00</td>\n    </tr>\n    <tr>\n      <th>199</th>\n      <td>5.58</td>\n      <td>-7.28</td>\n      <td>-4.56</td>\n      <td>2.67</td>\n      <td>7.38</td>\n      <td>2.18</td>\n      <td>2.14</td>\n      <td>2.23</td>\n      <td>5.58</td>\n      <td>-4.51</td>\n      <td>...</td>\n      <td>99.00</td>\n      <td>99.00</td>\n      <td>99.00</td>\n      <td>99.00</td>\n      <td>99.00</td>\n      <td>99.00</td>\n      <td>99.00</td>\n      <td>99.00</td>\n      <td>99.00</td>\n      <td>99.00</td>\n    </tr>\n  </tbody>\n</table>\n<p>200 rows × 100 columns</p>\n</div>"
     },
     "execution_count": 2,
     "metadata": {},
     "output_type": "execute_result"
    }
   ],
   "source": [
    "jester = pd.read_csv(\"data/jester-data-1.csv\", header=None).drop(0, axis=1).T.reset_index(drop=True).T\n",
    "jester = jester.loc[range(200)]\n",
    "jester"
   ],
   "metadata": {
    "collapsed": false,
    "ExecuteTime": {
     "end_time": "2023-11-24T22:14:40.238551300Z",
     "start_time": "2023-11-24T22:14:39.944325Z"
    }
   }
  },
  {
   "cell_type": "code",
   "execution_count": 42,
   "outputs": [],
   "source": [
    "def pearson_corr(x1, x2):\n",
    "    x1_cent = x1 - x1.mean()\n",
    "    x2_cent = x2 - x2.mean()\n",
    "\n",
    "    num = (x1_cent * x2_cent).sum()\n",
    "    denom = np.sqrt((x1_cent**2).sum()) * np.sqrt((x2_cent**2).sum())\n",
    "\n",
    "    return num / denom"
   ],
   "metadata": {
    "collapsed": false,
    "ExecuteTime": {
     "end_time": "2023-11-24T22:40:35.950846400Z",
     "start_time": "2023-11-24T22:40:35.931095800Z"
    }
   }
  },
  {
   "cell_type": "code",
   "execution_count": 41,
   "outputs": [],
   "source": [
    "def similarity_matrix(data, method = \"user\"):\n",
    "    sim = pd.DataFrame()\n",
    "    if method == \"user\":\n",
    "        users = list(data.index)\n",
    "        sim = pd.DataFrame(index=data.index, columns=data.index)\n",
    "        for i in users:\n",
    "            for j in users:\n",
    "                if i == j:\n",
    "                    sim.loc[i, j] = np.nan\n",
    "                else:\n",
    "                    sim.loc[i, j] = pearson_corr(data.loc[i, :], data.loc[j, :])\n",
    "    elif method == \"item\":\n",
    "        items = list(data.columns)\n",
    "        sim = pd.DataFrame(index=data.columns, columns=data.columns)\n",
    "        for i in items:\n",
    "            for j in items:\n",
    "                if i == j:\n",
    "                    sim.loc[i, j] = np.nan\n",
    "                else:\n",
    "                    sim.loc[i, j] = pearson_corr(data.loc[:, i], data.loc[:, j])\n",
    "\n",
    "    return sim"
   ],
   "metadata": {
    "collapsed": false,
    "ExecuteTime": {
     "end_time": "2023-11-24T22:39:33.458700400Z",
     "start_time": "2023-11-24T22:39:33.440833200Z"
    }
   }
  },
  {
   "cell_type": "code",
   "execution_count": 94,
   "outputs": [],
   "source": [
    "def mean_utility(orig, sim, user, item, method, n = None):\n",
    "    if method == \"user\":\n",
    "        users_of_item = orig.loc[:, item].copy()\n",
    "        users_of_item.loc[user] = np.nan\n",
    "        if n is not None:\n",
    "            users_sim = sim.loc[user][~users_of_item.isna()].copy()\n",
    "            neighbors = pd.Series(users_sim.index)[np.argpartition(-users_sim, n)[:n]]\n",
    "            users_of_item = users_of_item.loc[neighbors]\n",
    "        return max(min(users_of_item.mean(), 10), -10)\n",
    "    elif method == \"item\":\n",
    "        items_of_user = orig.loc[user, :].copy()\n",
    "        items_of_user.loc[item] = np.nan\n",
    "        if n is not None:\n",
    "            items_sim = sim.loc[item][~items_of_user.isna()].copy()\n",
    "            neighbors = pd.Series(items_sim.index)[np.argpartition(-items_sim, n)[:n]]\n",
    "            items_of_user = items_of_user.loc[neighbors]\n",
    "        return max(min(items_of_user.mean(), 10), -10)\n",
    "    return np.nan"
   ],
   "metadata": {
    "collapsed": false,
    "ExecuteTime": {
     "end_time": "2023-11-25T00:55:05.544041800Z",
     "start_time": "2023-11-25T00:55:05.531913400Z"
    }
   }
  },
  {
   "cell_type": "code",
   "execution_count": 100,
   "outputs": [],
   "source": [
    "def wtd_sum(orig, sim, user, item, method, n = None):\n",
    "    if method == \"user\":\n",
    "        users_of_item = orig.loc[:, item].copy()\n",
    "        users_of_item.loc[user] = np.nan\n",
    "        users_sim = sim.loc[user].copy()\n",
    "        if n is not None:\n",
    "            users_sim = users_sim[~users_of_item.isna()].copy()\n",
    "            neighbors = pd.Series(users_sim.index)[np.argpartition(-users_sim, n)[:n]]\n",
    "            users_of_item = users_of_item.loc[neighbors]\n",
    "        return max(min((users_of_item * users_sim).sum() / users_sim.sum(), 10), -10)\n",
    "    elif method == \"item\":\n",
    "        items_of_user = orig.loc[user, :].copy()\n",
    "        items_of_user.loc[item] = np.nan\n",
    "        items_sim = sim.loc[item].copy()\n",
    "        if n is not None:\n",
    "            items_sim = items_sim[~items_of_user.isna()].copy()\n",
    "            neighbors = pd.Series(items_sim.index)[np.argpartition(-items_sim, n)[:n]]\n",
    "            items_of_user = items_of_user.loc[neighbors]\n",
    "        return max(min((items_of_user * items_sim).sum() / items_sim.sum(), 10), -10)\n",
    "    return np.nan"
   ],
   "metadata": {
    "collapsed": false,
    "ExecuteTime": {
     "end_time": "2023-11-25T01:03:39.477790600Z",
     "start_time": "2023-11-25T01:03:39.467629900Z"
    }
   }
  },
  {
   "cell_type": "code",
   "execution_count": null,
   "outputs": [],
   "source": [
    "def adj_wtd_sum(orig, sim, user, item, method, n = None):\n",
    "    if method == \"user\":\n",
    "        users_of_item = orig.loc[:, item].copy()\n",
    "        users_of_item.loc[user] = np.nan\n",
    "        user_means = orig.mean(axis=1)\n",
    "        user_mean = user_means.loc[user]\n",
    "        users_sim = sim.loc[user].copy()\n",
    "        if n is not None:\n",
    "            users_sim = users_sim[~users_of_item.isna()].copy()\n",
    "            neighbors = pd.Series(users_sim.index)[np.argpartition(-users_sim, n)[:n]]\n",
    "            users_of_item = users_of_item.loc[neighbors]\n",
    "        return max(min(user_mean + (((users_of_item - user_means) * users_sim).sum() / users_sim.sum()), 10), -10)\n",
    "    elif method == \"item\":\n",
    "        items_of_user = orig.loc[user, :].copy()\n",
    "        items_of_user.loc[item] = np.nan\n",
    "        item_means = orig.mean(axis=0)\n",
    "        item_mean = item_means.loc[item]\n",
    "        items_sim = sim.loc[user].copy()\n",
    "        if n is not None:\n",
    "            items_sim = items_sim[~items_of_user.isna()].copy()\n",
    "            neighbors = pd.Series(items_sim.index)[np.argpartition(-items_sim, n)[:n]]\n",
    "            items_of_user = items_of_user.loc[neighbors]\n",
    "        return max(min(item_mean + (((items_of_user - item_means) * items_sim).sum() / items_sim.sum()), 10), -10)"
   ],
   "metadata": {
    "collapsed": false
   }
  },
  {
   "cell_type": "code",
   "execution_count": 101,
   "outputs": [],
   "source": [
    "def recommend_all(data, method = \"user\", func = mean_utility, n = None):\n",
    "    results = pd.DataFrame(index=data.index, columns=data.columns)\n",
    "    orig = data.replace(99, np.nan)\n",
    "\n",
    "    sim = similarity_matrix(data, method=method)\n",
    "    for user in orig.index:\n",
    "        for item in orig.columns:\n",
    "            results.loc[user, item] = func(orig, sim, user, item, method, n=n)\n",
    "\n",
    "    return results"
   ],
   "metadata": {
    "collapsed": false,
    "ExecuteTime": {
     "end_time": "2023-11-25T01:03:41.170135300Z",
     "start_time": "2023-11-25T01:03:41.157048100Z"
    }
   }
  },
  {
   "cell_type": "code",
   "execution_count": 102,
   "outputs": [
    {
     "data": {
      "text/plain": "           0         1         2         3         4         5         6   \\\n0   -0.006678 -0.010389 -0.093944  0.243209  0.016613  0.161922  0.000098   \n1    0.190694  0.249508  0.061972  1.024439  0.416513  0.939637 -0.014153   \n2    0.406368  0.401169  0.240275  0.542398  0.281827  0.625486  0.102593   \n3     0.08031  0.051279  0.259759  0.762673  0.084124  0.817751  0.220433   \n4    -0.20893 -0.037285   0.09287 -0.294286  0.414427 -0.080591 -0.000101   \n..        ...       ...       ...       ...       ...       ...       ...   \n195  -0.46795 -0.134398  0.969486 -5.827978 -0.034197 -0.092837 -0.052519   \n196    0.1278  0.069889  0.084256  0.202552  0.025968  0.255473 -0.062702   \n197 -0.529302   0.37536 -0.144308  1.090704 -0.122935 -0.036538 -0.107195   \n198 -0.622836 -0.063277   0.21476  0.769048  0.224044  0.641824  0.073138   \n199 -0.080934  0.288662 -0.028952  0.028791 -0.038175  0.089967 -0.259416   \n\n           7         8         9   ...        90        91        92  \\\n0   -0.013714  0.056361 -0.236284  ...  0.161936  0.409236  0.830469   \n1    0.042232  0.136766 -0.366439  ... -2.545018        10        10   \n2    0.284987 -0.184311  0.322004  ... -9.611916 -5.905053  6.448051   \n3    0.076243 -0.100329  0.336877  ...  -6.60532 -1.156017  5.203639   \n4    0.077193  0.041789  0.119064  ...   0.78061  0.078597 -0.281222   \n..        ...       ...       ...  ...       ...       ...       ...   \n195  0.356763  2.192665  0.241163  ... -0.181517 -0.428889  1.271524   \n196  0.006001  0.388227 -0.060941  ...  0.342412  0.431968  0.872705   \n197  0.028809 -0.426459 -0.256251  ...   1.02466 -0.226577  1.429112   \n198 -0.079202 -0.185802  0.391793  ...       -10 -0.942199  4.794136   \n199 -0.052803  0.132751  0.197024  ...  0.526014  0.483517  0.950352   \n\n           93        94        95        96        97        98        99  \n0     1.24435  1.864275  1.056014  1.415845 -0.047943 -0.335703  1.628602  \n1         -10  -4.42067   1.30274  4.906394 -2.224764  1.003864 -1.745774  \n2    0.007991        10  5.697162  1.819278  1.893814  0.200144 -8.031775  \n3    1.823647        10  6.411932  2.068917  1.428585  2.709418 -7.084662  \n4   -0.919627 -0.641723 -0.478006 -0.174652 -0.269116 -0.847251   0.90709  \n..        ...       ...       ...       ...       ...       ...       ...  \n195  0.969633  0.048128 -0.245643  0.715363  0.206414 -0.020721  0.185708  \n196  1.274153  1.709735  1.097136  1.366896 -0.066075 -0.755345  1.719906  \n197  0.388685  0.795558  0.838549 -0.951778  -0.24233 -1.599678  0.970323  \n198  1.488775  9.524631  4.231917  1.716032  2.720303  0.589141 -9.466833  \n199  1.399806  1.993811  1.251195  0.713246  0.453565  -0.82791  2.003152  \n\n[200 rows x 100 columns]",
      "text/html": "<div>\n<style scoped>\n    .dataframe tbody tr th:only-of-type {\n        vertical-align: middle;\n    }\n\n    .dataframe tbody tr th {\n        vertical-align: top;\n    }\n\n    .dataframe thead th {\n        text-align: right;\n    }\n</style>\n<table border=\"1\" class=\"dataframe\">\n  <thead>\n    <tr style=\"text-align: right;\">\n      <th></th>\n      <th>0</th>\n      <th>1</th>\n      <th>2</th>\n      <th>3</th>\n      <th>4</th>\n      <th>5</th>\n      <th>6</th>\n      <th>7</th>\n      <th>8</th>\n      <th>9</th>\n      <th>...</th>\n      <th>90</th>\n      <th>91</th>\n      <th>92</th>\n      <th>93</th>\n      <th>94</th>\n      <th>95</th>\n      <th>96</th>\n      <th>97</th>\n      <th>98</th>\n      <th>99</th>\n    </tr>\n  </thead>\n  <tbody>\n    <tr>\n      <th>0</th>\n      <td>-0.006678</td>\n      <td>-0.010389</td>\n      <td>-0.093944</td>\n      <td>0.243209</td>\n      <td>0.016613</td>\n      <td>0.161922</td>\n      <td>0.000098</td>\n      <td>-0.013714</td>\n      <td>0.056361</td>\n      <td>-0.236284</td>\n      <td>...</td>\n      <td>0.161936</td>\n      <td>0.409236</td>\n      <td>0.830469</td>\n      <td>1.24435</td>\n      <td>1.864275</td>\n      <td>1.056014</td>\n      <td>1.415845</td>\n      <td>-0.047943</td>\n      <td>-0.335703</td>\n      <td>1.628602</td>\n    </tr>\n    <tr>\n      <th>1</th>\n      <td>0.190694</td>\n      <td>0.249508</td>\n      <td>0.061972</td>\n      <td>1.024439</td>\n      <td>0.416513</td>\n      <td>0.939637</td>\n      <td>-0.014153</td>\n      <td>0.042232</td>\n      <td>0.136766</td>\n      <td>-0.366439</td>\n      <td>...</td>\n      <td>-2.545018</td>\n      <td>10</td>\n      <td>10</td>\n      <td>-10</td>\n      <td>-4.42067</td>\n      <td>1.30274</td>\n      <td>4.906394</td>\n      <td>-2.224764</td>\n      <td>1.003864</td>\n      <td>-1.745774</td>\n    </tr>\n    <tr>\n      <th>2</th>\n      <td>0.406368</td>\n      <td>0.401169</td>\n      <td>0.240275</td>\n      <td>0.542398</td>\n      <td>0.281827</td>\n      <td>0.625486</td>\n      <td>0.102593</td>\n      <td>0.284987</td>\n      <td>-0.184311</td>\n      <td>0.322004</td>\n      <td>...</td>\n      <td>-9.611916</td>\n      <td>-5.905053</td>\n      <td>6.448051</td>\n      <td>0.007991</td>\n      <td>10</td>\n      <td>5.697162</td>\n      <td>1.819278</td>\n      <td>1.893814</td>\n      <td>0.200144</td>\n      <td>-8.031775</td>\n    </tr>\n    <tr>\n      <th>3</th>\n      <td>0.08031</td>\n      <td>0.051279</td>\n      <td>0.259759</td>\n      <td>0.762673</td>\n      <td>0.084124</td>\n      <td>0.817751</td>\n      <td>0.220433</td>\n      <td>0.076243</td>\n      <td>-0.100329</td>\n      <td>0.336877</td>\n      <td>...</td>\n      <td>-6.60532</td>\n      <td>-1.156017</td>\n      <td>5.203639</td>\n      <td>1.823647</td>\n      <td>10</td>\n      <td>6.411932</td>\n      <td>2.068917</td>\n      <td>1.428585</td>\n      <td>2.709418</td>\n      <td>-7.084662</td>\n    </tr>\n    <tr>\n      <th>4</th>\n      <td>-0.20893</td>\n      <td>-0.037285</td>\n      <td>0.09287</td>\n      <td>-0.294286</td>\n      <td>0.414427</td>\n      <td>-0.080591</td>\n      <td>-0.000101</td>\n      <td>0.077193</td>\n      <td>0.041789</td>\n      <td>0.119064</td>\n      <td>...</td>\n      <td>0.78061</td>\n      <td>0.078597</td>\n      <td>-0.281222</td>\n      <td>-0.919627</td>\n      <td>-0.641723</td>\n      <td>-0.478006</td>\n      <td>-0.174652</td>\n      <td>-0.269116</td>\n      <td>-0.847251</td>\n      <td>0.90709</td>\n    </tr>\n    <tr>\n      <th>...</th>\n      <td>...</td>\n      <td>...</td>\n      <td>...</td>\n      <td>...</td>\n      <td>...</td>\n      <td>...</td>\n      <td>...</td>\n      <td>...</td>\n      <td>...</td>\n      <td>...</td>\n      <td>...</td>\n      <td>...</td>\n      <td>...</td>\n      <td>...</td>\n      <td>...</td>\n      <td>...</td>\n      <td>...</td>\n      <td>...</td>\n      <td>...</td>\n      <td>...</td>\n      <td>...</td>\n    </tr>\n    <tr>\n      <th>195</th>\n      <td>-0.46795</td>\n      <td>-0.134398</td>\n      <td>0.969486</td>\n      <td>-5.827978</td>\n      <td>-0.034197</td>\n      <td>-0.092837</td>\n      <td>-0.052519</td>\n      <td>0.356763</td>\n      <td>2.192665</td>\n      <td>0.241163</td>\n      <td>...</td>\n      <td>-0.181517</td>\n      <td>-0.428889</td>\n      <td>1.271524</td>\n      <td>0.969633</td>\n      <td>0.048128</td>\n      <td>-0.245643</td>\n      <td>0.715363</td>\n      <td>0.206414</td>\n      <td>-0.020721</td>\n      <td>0.185708</td>\n    </tr>\n    <tr>\n      <th>196</th>\n      <td>0.1278</td>\n      <td>0.069889</td>\n      <td>0.084256</td>\n      <td>0.202552</td>\n      <td>0.025968</td>\n      <td>0.255473</td>\n      <td>-0.062702</td>\n      <td>0.006001</td>\n      <td>0.388227</td>\n      <td>-0.060941</td>\n      <td>...</td>\n      <td>0.342412</td>\n      <td>0.431968</td>\n      <td>0.872705</td>\n      <td>1.274153</td>\n      <td>1.709735</td>\n      <td>1.097136</td>\n      <td>1.366896</td>\n      <td>-0.066075</td>\n      <td>-0.755345</td>\n      <td>1.719906</td>\n    </tr>\n    <tr>\n      <th>197</th>\n      <td>-0.529302</td>\n      <td>0.37536</td>\n      <td>-0.144308</td>\n      <td>1.090704</td>\n      <td>-0.122935</td>\n      <td>-0.036538</td>\n      <td>-0.107195</td>\n      <td>0.028809</td>\n      <td>-0.426459</td>\n      <td>-0.256251</td>\n      <td>...</td>\n      <td>1.02466</td>\n      <td>-0.226577</td>\n      <td>1.429112</td>\n      <td>0.388685</td>\n      <td>0.795558</td>\n      <td>0.838549</td>\n      <td>-0.951778</td>\n      <td>-0.24233</td>\n      <td>-1.599678</td>\n      <td>0.970323</td>\n    </tr>\n    <tr>\n      <th>198</th>\n      <td>-0.622836</td>\n      <td>-0.063277</td>\n      <td>0.21476</td>\n      <td>0.769048</td>\n      <td>0.224044</td>\n      <td>0.641824</td>\n      <td>0.073138</td>\n      <td>-0.079202</td>\n      <td>-0.185802</td>\n      <td>0.391793</td>\n      <td>...</td>\n      <td>-10</td>\n      <td>-0.942199</td>\n      <td>4.794136</td>\n      <td>1.488775</td>\n      <td>9.524631</td>\n      <td>4.231917</td>\n      <td>1.716032</td>\n      <td>2.720303</td>\n      <td>0.589141</td>\n      <td>-9.466833</td>\n    </tr>\n    <tr>\n      <th>199</th>\n      <td>-0.080934</td>\n      <td>0.288662</td>\n      <td>-0.028952</td>\n      <td>0.028791</td>\n      <td>-0.038175</td>\n      <td>0.089967</td>\n      <td>-0.259416</td>\n      <td>-0.052803</td>\n      <td>0.132751</td>\n      <td>0.197024</td>\n      <td>...</td>\n      <td>0.526014</td>\n      <td>0.483517</td>\n      <td>0.950352</td>\n      <td>1.399806</td>\n      <td>1.993811</td>\n      <td>1.251195</td>\n      <td>0.713246</td>\n      <td>0.453565</td>\n      <td>-0.82791</td>\n      <td>2.003152</td>\n    </tr>\n  </tbody>\n</table>\n<p>200 rows × 100 columns</p>\n</div>"
     },
     "execution_count": 102,
     "metadata": {},
     "output_type": "execute_result"
    }
   ],
   "source": [
    "recommend_all(jester, func=wtd_sum, n=5)"
   ],
   "metadata": {
    "collapsed": false,
    "ExecuteTime": {
     "end_time": "2023-11-25T01:05:31.894355600Z",
     "start_time": "2023-11-25T01:04:39.104143500Z"
    }
   }
  },
  {
   "cell_type": "code",
   "execution_count": 104,
   "outputs": [
    {
     "data": {
      "text/plain": "       level_0  level_1      0\n0            0        0  -7.82\n1            0        1   8.79\n2            0        2  -9.66\n3            0        3  -8.16\n4            0        4  -7.52\n...        ...      ...    ...\n19995      199       95  99.00\n19996      199       96  99.00\n19997      199       97  99.00\n19998      199       98  99.00\n19999      199       99  99.00\n\n[20000 rows x 3 columns]",
      "text/html": "<div>\n<style scoped>\n    .dataframe tbody tr th:only-of-type {\n        vertical-align: middle;\n    }\n\n    .dataframe tbody tr th {\n        vertical-align: top;\n    }\n\n    .dataframe thead th {\n        text-align: right;\n    }\n</style>\n<table border=\"1\" class=\"dataframe\">\n  <thead>\n    <tr style=\"text-align: right;\">\n      <th></th>\n      <th>level_0</th>\n      <th>level_1</th>\n      <th>0</th>\n    </tr>\n  </thead>\n  <tbody>\n    <tr>\n      <th>0</th>\n      <td>0</td>\n      <td>0</td>\n      <td>-7.82</td>\n    </tr>\n    <tr>\n      <th>1</th>\n      <td>0</td>\n      <td>1</td>\n      <td>8.79</td>\n    </tr>\n    <tr>\n      <th>2</th>\n      <td>0</td>\n      <td>2</td>\n      <td>-9.66</td>\n    </tr>\n    <tr>\n      <th>3</th>\n      <td>0</td>\n      <td>3</td>\n      <td>-8.16</td>\n    </tr>\n    <tr>\n      <th>4</th>\n      <td>0</td>\n      <td>4</td>\n      <td>-7.52</td>\n    </tr>\n    <tr>\n      <th>...</th>\n      <td>...</td>\n      <td>...</td>\n      <td>...</td>\n    </tr>\n    <tr>\n      <th>19995</th>\n      <td>199</td>\n      <td>95</td>\n      <td>99.00</td>\n    </tr>\n    <tr>\n      <th>19996</th>\n      <td>199</td>\n      <td>96</td>\n      <td>99.00</td>\n    </tr>\n    <tr>\n      <th>19997</th>\n      <td>199</td>\n      <td>97</td>\n      <td>99.00</td>\n    </tr>\n    <tr>\n      <th>19998</th>\n      <td>199</td>\n      <td>98</td>\n      <td>99.00</td>\n    </tr>\n    <tr>\n      <th>19999</th>\n      <td>199</td>\n      <td>99</td>\n      <td>99.00</td>\n    </tr>\n  </tbody>\n</table>\n<p>20000 rows × 3 columns</p>\n</div>"
     },
     "execution_count": 104,
     "metadata": {},
     "output_type": "execute_result"
    }
   ],
   "source": [
    "jester_stack = jester.stack().reset_index()"
   ],
   "metadata": {
    "collapsed": false,
    "ExecuteTime": {
     "end_time": "2023-11-25T01:22:59.093970800Z",
     "start_time": "2023-11-25T01:22:59.041369Z"
    }
   }
  }
 ],
 "metadata": {
  "kernelspec": {
   "display_name": "Python 3",
   "language": "python",
   "name": "python3"
  },
  "language_info": {
   "codemirror_mode": {
    "name": "ipython",
    "version": 2
   },
   "file_extension": ".py",
   "mimetype": "text/x-python",
   "name": "python",
   "nbconvert_exporter": "python",
   "pygments_lexer": "ipython2",
   "version": "2.7.6"
  }
 },
 "nbformat": 4,
 "nbformat_minor": 0
}

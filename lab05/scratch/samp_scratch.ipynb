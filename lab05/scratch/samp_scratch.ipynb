{
 "cells": [
  {
   "cell_type": "code",
   "execution_count": 1,
   "metadata": {
    "collapsed": true,
    "ExecuteTime": {
     "end_time": "2023-11-25T03:04:05.448102300Z",
     "start_time": "2023-11-25T03:04:04.952294600Z"
    }
   },
   "outputs": [],
   "source": [
    "import pandas as pd\n",
    "import numpy as np\n",
    "from recommend import *"
   ]
  },
  {
   "cell_type": "code",
   "execution_count": 30,
   "outputs": [
    {
     "data": {
      "text/plain": "      user  item   obs\n0     7035    46  5.53\n1    19495    41  3.01\n2    22388    68  8.16\n3    12906    30  8.54\n4    17074    49  6.89\n..     ...   ...   ...\n195  15961    39 -3.98\n196   9666    66 -7.33\n197  23718    73  3.01\n198  22955    35  0.49\n199   4919    33  5.34\n\n[200 rows x 3 columns]",
      "text/html": "<div>\n<style scoped>\n    .dataframe tbody tr th:only-of-type {\n        vertical-align: middle;\n    }\n\n    .dataframe tbody tr th {\n        vertical-align: top;\n    }\n\n    .dataframe thead th {\n        text-align: right;\n    }\n</style>\n<table border=\"1\" class=\"dataframe\">\n  <thead>\n    <tr style=\"text-align: right;\">\n      <th></th>\n      <th>user</th>\n      <th>item</th>\n      <th>obs</th>\n    </tr>\n  </thead>\n  <tbody>\n    <tr>\n      <th>0</th>\n      <td>7035</td>\n      <td>46</td>\n      <td>5.53</td>\n    </tr>\n    <tr>\n      <th>1</th>\n      <td>19495</td>\n      <td>41</td>\n      <td>3.01</td>\n    </tr>\n    <tr>\n      <th>2</th>\n      <td>22388</td>\n      <td>68</td>\n      <td>8.16</td>\n    </tr>\n    <tr>\n      <th>3</th>\n      <td>12906</td>\n      <td>30</td>\n      <td>8.54</td>\n    </tr>\n    <tr>\n      <th>4</th>\n      <td>17074</td>\n      <td>49</td>\n      <td>6.89</td>\n    </tr>\n    <tr>\n      <th>...</th>\n      <td>...</td>\n      <td>...</td>\n      <td>...</td>\n    </tr>\n    <tr>\n      <th>195</th>\n      <td>15961</td>\n      <td>39</td>\n      <td>-3.98</td>\n    </tr>\n    <tr>\n      <th>196</th>\n      <td>9666</td>\n      <td>66</td>\n      <td>-7.33</td>\n    </tr>\n    <tr>\n      <th>197</th>\n      <td>23718</td>\n      <td>73</td>\n      <td>3.01</td>\n    </tr>\n    <tr>\n      <th>198</th>\n      <td>22955</td>\n      <td>35</td>\n      <td>0.49</td>\n    </tr>\n    <tr>\n      <th>199</th>\n      <td>4919</td>\n      <td>33</td>\n      <td>5.34</td>\n    </tr>\n  </tbody>\n</table>\n<p>200 rows × 3 columns</p>\n</div>"
     },
     "execution_count": 30,
     "metadata": {},
     "output_type": "execute_result"
    }
   ],
   "source": [
    "jester = pd.read_csv(\"data/jester-data-1.csv\", header=None).drop(0, axis=1).T.reset_index(drop=True).T\n",
    "jester_stacked = jester.stack().replace(99, np.nan).dropna().sample(200).reset_index().rename(columns={\"level_0\": \"user\", \"level_1\": \"item\", 0: \"obs\"})\n",
    "jester_stacked"
   ],
   "metadata": {
    "collapsed": false,
    "ExecuteTime": {
     "end_time": "2023-11-25T03:08:33.708022800Z",
     "start_time": "2023-11-25T03:08:33.208996800Z"
    }
   }
  },
  {
   "cell_type": "code",
   "execution_count": 29,
   "outputs": [
    {
     "ename": "NameError",
     "evalue": "name 'jester_sample' is not defined",
     "output_type": "error",
     "traceback": [
      "\u001B[1;31m---------------------------------------------------------------------------\u001B[0m",
      "\u001B[1;31mNameError\u001B[0m                                 Traceback (most recent call last)",
      "Cell \u001B[1;32mIn[29], line 1\u001B[0m\n\u001B[1;32m----> 1\u001B[0m sim \u001B[38;5;241m=\u001B[39m similarity_matrix(\u001B[43mjester_sample\u001B[49m)\n",
      "\u001B[1;31mNameError\u001B[0m: name 'jester_sample' is not defined"
     ]
    }
   ],
   "source": [
    "sim = similarity_matrix(jester_sample)"
   ],
   "metadata": {
    "collapsed": false,
    "ExecuteTime": {
     "end_time": "2023-11-25T03:08:29.904238100Z",
     "start_time": "2023-11-25T03:08:29.900237Z"
    }
   }
  },
  {
   "cell_type": "code",
   "execution_count": 2,
   "outputs": [],
   "source": [
    "def decision(rating):\n",
    "    if rating >= 5:\n",
    "        return True\n",
    "    else:\n",
    "        return False"
   ],
   "metadata": {
    "collapsed": false,
    "ExecuteTime": {
     "end_time": "2023-11-25T03:04:06.589104900Z",
     "start_time": "2023-11-25T03:04:06.574182200Z"
    }
   }
  },
  {
   "cell_type": "code",
   "execution_count": 4,
   "outputs": [],
   "source": [
    "def eval_random(data, size = 200, func = mean_utility, n = None):\n",
    "    stacked = data.stack().replace(99, np.nan).dropna().sample(size).reset_index().rename(columns={\"level_0\": \"user\", \"level_1\": \"item\", 0: \"obs_rating\"})\n",
    "    sample = data.loc[stacked[\"user\"].unique(), stacked[\"item\"].unique()].sort_index().T.sort_index().T.replace(99, np.nan)\n",
    "\n",
    "    sim = similarity_matrix(sample)\n",
    "\n",
    "    results = stacked.copy()\n",
    "    results['pred_rating'] = pd.Series(stacked.index).apply(lambda i: func(sample, sim, stacked.loc[i, \"user\"], stacked.loc[i, \"item\"],\n",
    "                                                                    method=\"user\", n=n))\n",
    "\n",
    "    results['delta_rating'] = np.abs(results['obs_rating'] - results['pred_rating'])\n",
    "    results['obs_rec'] = results['obs_rating'].apply(decision)\n",
    "    results['pred_rec'] = results['pred_rating'].apply(decision)\n",
    "\n",
    "    return results"
   ],
   "metadata": {
    "collapsed": false,
    "ExecuteTime": {
     "end_time": "2023-11-25T03:04:10.784595300Z",
     "start_time": "2023-11-25T03:04:10.779566900Z"
    }
   }
  },
  {
   "cell_type": "code",
   "execution_count": 76,
   "outputs": [],
   "source": [
    "def eval_list(data, samp_list, func = mean_utility, n = None):\n",
    "    stacked = samp_list.copy()\n",
    "    stacked['obs_rating'] = pd.Series(stacked.index).apply(lambda i: data.loc[stacked.loc[i, 'user'], stacked.loc[i, 'item']]).replace(99, np.nan)\n",
    "    stacked = stacked.dropna().reset_index(drop=True)\n",
    "    sample = data.loc[stacked[\"user\"].unique(), stacked[\"item\"].unique()].sort_index().T.sort_index().T.replace(99, np.nan)\n",
    "\n",
    "    sim = similarity_matrix(sample)\n",
    "\n",
    "    results = stacked.copy()\n",
    "    results['pred_rating'] = pd.Series(stacked.index).apply(lambda i: func(sample, sim, stacked.loc[i, \"user\"], stacked.loc[i, \"item\"],\n",
    "                                                                    method=\"user\", n=n))\n",
    "\n",
    "    results['delta_rating'] = np.abs(results['obs_rating'] - results['pred_rating'])\n",
    "    results['obs_rec'] = results['obs_rating'].apply(decision)\n",
    "    results['pred_rec'] = results['pred_rating'].apply(decision)\n",
    "\n",
    "    return results"
   ],
   "metadata": {
    "collapsed": false,
    "ExecuteTime": {
     "end_time": "2023-11-25T05:33:03.791945300Z",
     "start_time": "2023-11-25T05:33:03.781940500Z"
    }
   }
  },
  {
   "cell_type": "code",
   "execution_count": 70,
   "outputs": [],
   "source": [
    "samp_list = pd.DataFrame()\n",
    "samp_list['user'] = pd.Series(list(jester.index)).sample(200, replace=True).reset_index(drop=True)\n",
    "samp_list['item'] = pd.Series(list(jester.columns)).sample(200, replace=True).reset_index(drop=True)\n",
    "samp_list.to_csv(\"samp_list.csv\", index=False, header=False)"
   ],
   "metadata": {
    "collapsed": false,
    "ExecuteTime": {
     "end_time": "2023-11-25T05:05:42.869331400Z",
     "start_time": "2023-11-25T05:05:42.827058300Z"
    }
   }
  },
  {
   "cell_type": "code",
   "execution_count": 77,
   "outputs": [
    {
     "data": {
      "text/plain": "      user  item  obs_rating  pred_rating  delta_rating  obs_rec  pred_rec\n0    20987    36       -9.37     0.524486      9.894486    False     False\n1     3907     2        8.64     6.395765      2.244235     True      True\n2    20785    64        7.09    -1.191069      8.281069     True     False\n3    17223    46       -9.71    -1.492426      8.217574    False     False\n4    11021     4        3.35     2.785828      0.564172    False     False\n..     ...   ...         ...          ...           ...      ...       ...\n141  12618    82        7.23     4.546899      2.683101     True     False\n142  17221     4        7.77    -1.693260      9.463260     True     False\n143   1509    80        3.35     1.525548      1.824452    False     False\n144  11808    24       -7.48    -3.716825      3.763175    False     False\n145  21020    25        6.65     1.680193      4.969807     True     False\n\n[146 rows x 7 columns]",
      "text/html": "<div>\n<style scoped>\n    .dataframe tbody tr th:only-of-type {\n        vertical-align: middle;\n    }\n\n    .dataframe tbody tr th {\n        vertical-align: top;\n    }\n\n    .dataframe thead th {\n        text-align: right;\n    }\n</style>\n<table border=\"1\" class=\"dataframe\">\n  <thead>\n    <tr style=\"text-align: right;\">\n      <th></th>\n      <th>user</th>\n      <th>item</th>\n      <th>obs_rating</th>\n      <th>pred_rating</th>\n      <th>delta_rating</th>\n      <th>obs_rec</th>\n      <th>pred_rec</th>\n    </tr>\n  </thead>\n  <tbody>\n    <tr>\n      <th>0</th>\n      <td>20987</td>\n      <td>36</td>\n      <td>-9.37</td>\n      <td>0.524486</td>\n      <td>9.894486</td>\n      <td>False</td>\n      <td>False</td>\n    </tr>\n    <tr>\n      <th>1</th>\n      <td>3907</td>\n      <td>2</td>\n      <td>8.64</td>\n      <td>6.395765</td>\n      <td>2.244235</td>\n      <td>True</td>\n      <td>True</td>\n    </tr>\n    <tr>\n      <th>2</th>\n      <td>20785</td>\n      <td>64</td>\n      <td>7.09</td>\n      <td>-1.191069</td>\n      <td>8.281069</td>\n      <td>True</td>\n      <td>False</td>\n    </tr>\n    <tr>\n      <th>3</th>\n      <td>17223</td>\n      <td>46</td>\n      <td>-9.71</td>\n      <td>-1.492426</td>\n      <td>8.217574</td>\n      <td>False</td>\n      <td>False</td>\n    </tr>\n    <tr>\n      <th>4</th>\n      <td>11021</td>\n      <td>4</td>\n      <td>3.35</td>\n      <td>2.785828</td>\n      <td>0.564172</td>\n      <td>False</td>\n      <td>False</td>\n    </tr>\n    <tr>\n      <th>...</th>\n      <td>...</td>\n      <td>...</td>\n      <td>...</td>\n      <td>...</td>\n      <td>...</td>\n      <td>...</td>\n      <td>...</td>\n    </tr>\n    <tr>\n      <th>141</th>\n      <td>12618</td>\n      <td>82</td>\n      <td>7.23</td>\n      <td>4.546899</td>\n      <td>2.683101</td>\n      <td>True</td>\n      <td>False</td>\n    </tr>\n    <tr>\n      <th>142</th>\n      <td>17221</td>\n      <td>4</td>\n      <td>7.77</td>\n      <td>-1.693260</td>\n      <td>9.463260</td>\n      <td>True</td>\n      <td>False</td>\n    </tr>\n    <tr>\n      <th>143</th>\n      <td>1509</td>\n      <td>80</td>\n      <td>3.35</td>\n      <td>1.525548</td>\n      <td>1.824452</td>\n      <td>False</td>\n      <td>False</td>\n    </tr>\n    <tr>\n      <th>144</th>\n      <td>11808</td>\n      <td>24</td>\n      <td>-7.48</td>\n      <td>-3.716825</td>\n      <td>3.763175</td>\n      <td>False</td>\n      <td>False</td>\n    </tr>\n    <tr>\n      <th>145</th>\n      <td>21020</td>\n      <td>25</td>\n      <td>6.65</td>\n      <td>1.680193</td>\n      <td>4.969807</td>\n      <td>True</td>\n      <td>False</td>\n    </tr>\n  </tbody>\n</table>\n<p>146 rows × 7 columns</p>\n</div>"
     },
     "execution_count": 77,
     "metadata": {},
     "output_type": "execute_result"
    }
   ],
   "source": [
    "results = eval_list(jester, samp_list, func=adj_wtd_sum, n=5)\n",
    "results"
   ],
   "metadata": {
    "collapsed": false,
    "ExecuteTime": {
     "end_time": "2023-11-25T05:33:20.300795100Z",
     "start_time": "2023-11-25T05:33:08.501859900Z"
    }
   }
  },
  {
   "cell_type": "code",
   "execution_count": 66,
   "outputs": [
    {
     "data": {
      "text/plain": "obs    False  True \npred               \nFalse    110     27\nTrue       5      7",
      "text/html": "<div>\n<style scoped>\n    .dataframe tbody tr th:only-of-type {\n        vertical-align: middle;\n    }\n\n    .dataframe tbody tr th {\n        vertical-align: top;\n    }\n\n    .dataframe thead th {\n        text-align: right;\n    }\n</style>\n<table border=\"1\" class=\"dataframe\">\n  <thead>\n    <tr style=\"text-align: right;\">\n      <th>obs</th>\n      <th>False</th>\n      <th>True</th>\n    </tr>\n    <tr>\n      <th>pred</th>\n      <th></th>\n      <th></th>\n    </tr>\n  </thead>\n  <tbody>\n    <tr>\n      <th>False</th>\n      <td>110</td>\n      <td>27</td>\n    </tr>\n    <tr>\n      <th>True</th>\n      <td>5</td>\n      <td>7</td>\n    </tr>\n  </tbody>\n</table>\n</div>"
     },
     "execution_count": 66,
     "metadata": {},
     "output_type": "execute_result"
    }
   ],
   "source": [
    "conf_matrix = pd.crosstab(results['pred_rec'], results['obs_rec'])\n",
    "conf_matrix = conf_matrix.reindex(index=conf_matrix.columns, columns=conf_matrix.columns,\n",
    "                                  fill_value=0).rename_axis(\"obs\", axis=1).rename_axis(\"pred\", axis=0)\n",
    "conf_matrix"
   ],
   "metadata": {
    "collapsed": false,
    "ExecuteTime": {
     "end_time": "2023-11-25T03:54:13.069777400Z",
     "start_time": "2023-11-25T03:54:13.052167Z"
    }
   }
  },
  {
   "cell_type": "code",
   "execution_count": 55,
   "outputs": [
    {
     "data": {
      "text/plain": "          0      1      2      3     4      5     6     7      8      9   ...  \\\n0      -7.82   8.79  -9.66  -8.16 -7.52  -8.50 -9.85  4.17  -8.98  -4.76  ...   \n1       4.08  -0.29   6.36   4.37 -2.38  -9.66 -0.73 -5.34   8.88   9.22  ...   \n2      99.00  99.00  99.00  99.00  9.03   9.27  9.03  9.27  99.00  99.00  ...   \n3      99.00   8.35  99.00  99.00  1.80   8.16 -2.82  6.21  99.00   1.84  ...   \n4       8.50   4.61  -4.17  -5.39  1.36   1.60  7.04  4.61  -0.44   5.73  ...   \n...      ...    ...    ...    ...   ...    ...   ...   ...    ...    ...  ...   \n24978   0.44   7.43   9.08   2.33  3.20   6.75 -8.79 -0.53  -8.74   7.23  ...   \n24979   9.13  -8.16   8.59   9.08  0.87  -8.93 -3.50  5.78  -8.11   4.90  ...   \n24980  99.00  99.00  99.00  99.00 -7.77  99.00  6.70 -6.75  99.00  99.00  ...   \n24981  99.00  99.00  99.00  99.00 -9.71  99.00  4.56 -8.30  99.00  99.00  ...   \n24982   2.43   2.67  -3.98   4.27 -2.28   7.33  2.33  4.56   6.75   4.61  ...   \n\n          90     91     92     93     94     95     96     97     98     99  \n0       2.82  99.00  99.00  99.00  99.00  99.00  -5.63  99.00  99.00  99.00  \n1       2.82  -4.95  -0.29   7.86  -0.19  -2.14   3.06   0.34  -4.32   1.07  \n2      99.00  99.00  99.00   9.08  99.00  99.00  99.00  99.00  99.00  99.00  \n3      99.00  99.00  99.00   0.53  99.00  99.00  99.00  99.00  99.00  99.00  \n4       5.19   5.58   4.27   5.19   5.73   1.55   3.11   6.55   1.80   1.60  \n...      ...    ...    ...    ...    ...    ...    ...    ...    ...    ...  \n24978   8.83  -1.21   9.22  -6.70   8.45   9.03   6.55   8.69   8.79   7.43  \n24979  -1.17  -5.73  -1.46   0.24   9.22  -8.20  -7.23  -8.59   9.13   8.45  \n24980  99.00  99.00  99.00  99.00  99.00  99.00  99.00  99.00  99.00  99.00  \n24981  99.00  99.00  99.00  99.00  99.00  99.00  99.00  99.00  99.00  99.00  \n24982  99.00  99.00  99.00  99.00  99.00  99.00  99.00  99.00  99.00  99.00  \n\n[24983 rows x 100 columns]",
      "text/html": "<div>\n<style scoped>\n    .dataframe tbody tr th:only-of-type {\n        vertical-align: middle;\n    }\n\n    .dataframe tbody tr th {\n        vertical-align: top;\n    }\n\n    .dataframe thead th {\n        text-align: right;\n    }\n</style>\n<table border=\"1\" class=\"dataframe\">\n  <thead>\n    <tr style=\"text-align: right;\">\n      <th></th>\n      <th>0</th>\n      <th>1</th>\n      <th>2</th>\n      <th>3</th>\n      <th>4</th>\n      <th>5</th>\n      <th>6</th>\n      <th>7</th>\n      <th>8</th>\n      <th>9</th>\n      <th>...</th>\n      <th>90</th>\n      <th>91</th>\n      <th>92</th>\n      <th>93</th>\n      <th>94</th>\n      <th>95</th>\n      <th>96</th>\n      <th>97</th>\n      <th>98</th>\n      <th>99</th>\n    </tr>\n  </thead>\n  <tbody>\n    <tr>\n      <th>0</th>\n      <td>-7.82</td>\n      <td>8.79</td>\n      <td>-9.66</td>\n      <td>-8.16</td>\n      <td>-7.52</td>\n      <td>-8.50</td>\n      <td>-9.85</td>\n      <td>4.17</td>\n      <td>-8.98</td>\n      <td>-4.76</td>\n      <td>...</td>\n      <td>2.82</td>\n      <td>99.00</td>\n      <td>99.00</td>\n      <td>99.00</td>\n      <td>99.00</td>\n      <td>99.00</td>\n      <td>-5.63</td>\n      <td>99.00</td>\n      <td>99.00</td>\n      <td>99.00</td>\n    </tr>\n    <tr>\n      <th>1</th>\n      <td>4.08</td>\n      <td>-0.29</td>\n      <td>6.36</td>\n      <td>4.37</td>\n      <td>-2.38</td>\n      <td>-9.66</td>\n      <td>-0.73</td>\n      <td>-5.34</td>\n      <td>8.88</td>\n      <td>9.22</td>\n      <td>...</td>\n      <td>2.82</td>\n      <td>-4.95</td>\n      <td>-0.29</td>\n      <td>7.86</td>\n      <td>-0.19</td>\n      <td>-2.14</td>\n      <td>3.06</td>\n      <td>0.34</td>\n      <td>-4.32</td>\n      <td>1.07</td>\n    </tr>\n    <tr>\n      <th>2</th>\n      <td>99.00</td>\n      <td>99.00</td>\n      <td>99.00</td>\n      <td>99.00</td>\n      <td>9.03</td>\n      <td>9.27</td>\n      <td>9.03</td>\n      <td>9.27</td>\n      <td>99.00</td>\n      <td>99.00</td>\n      <td>...</td>\n      <td>99.00</td>\n      <td>99.00</td>\n      <td>99.00</td>\n      <td>9.08</td>\n      <td>99.00</td>\n      <td>99.00</td>\n      <td>99.00</td>\n      <td>99.00</td>\n      <td>99.00</td>\n      <td>99.00</td>\n    </tr>\n    <tr>\n      <th>3</th>\n      <td>99.00</td>\n      <td>8.35</td>\n      <td>99.00</td>\n      <td>99.00</td>\n      <td>1.80</td>\n      <td>8.16</td>\n      <td>-2.82</td>\n      <td>6.21</td>\n      <td>99.00</td>\n      <td>1.84</td>\n      <td>...</td>\n      <td>99.00</td>\n      <td>99.00</td>\n      <td>99.00</td>\n      <td>0.53</td>\n      <td>99.00</td>\n      <td>99.00</td>\n      <td>99.00</td>\n      <td>99.00</td>\n      <td>99.00</td>\n      <td>99.00</td>\n    </tr>\n    <tr>\n      <th>4</th>\n      <td>8.50</td>\n      <td>4.61</td>\n      <td>-4.17</td>\n      <td>-5.39</td>\n      <td>1.36</td>\n      <td>1.60</td>\n      <td>7.04</td>\n      <td>4.61</td>\n      <td>-0.44</td>\n      <td>5.73</td>\n      <td>...</td>\n      <td>5.19</td>\n      <td>5.58</td>\n      <td>4.27</td>\n      <td>5.19</td>\n      <td>5.73</td>\n      <td>1.55</td>\n      <td>3.11</td>\n      <td>6.55</td>\n      <td>1.80</td>\n      <td>1.60</td>\n    </tr>\n    <tr>\n      <th>...</th>\n      <td>...</td>\n      <td>...</td>\n      <td>...</td>\n      <td>...</td>\n      <td>...</td>\n      <td>...</td>\n      <td>...</td>\n      <td>...</td>\n      <td>...</td>\n      <td>...</td>\n      <td>...</td>\n      <td>...</td>\n      <td>...</td>\n      <td>...</td>\n      <td>...</td>\n      <td>...</td>\n      <td>...</td>\n      <td>...</td>\n      <td>...</td>\n      <td>...</td>\n      <td>...</td>\n    </tr>\n    <tr>\n      <th>24978</th>\n      <td>0.44</td>\n      <td>7.43</td>\n      <td>9.08</td>\n      <td>2.33</td>\n      <td>3.20</td>\n      <td>6.75</td>\n      <td>-8.79</td>\n      <td>-0.53</td>\n      <td>-8.74</td>\n      <td>7.23</td>\n      <td>...</td>\n      <td>8.83</td>\n      <td>-1.21</td>\n      <td>9.22</td>\n      <td>-6.70</td>\n      <td>8.45</td>\n      <td>9.03</td>\n      <td>6.55</td>\n      <td>8.69</td>\n      <td>8.79</td>\n      <td>7.43</td>\n    </tr>\n    <tr>\n      <th>24979</th>\n      <td>9.13</td>\n      <td>-8.16</td>\n      <td>8.59</td>\n      <td>9.08</td>\n      <td>0.87</td>\n      <td>-8.93</td>\n      <td>-3.50</td>\n      <td>5.78</td>\n      <td>-8.11</td>\n      <td>4.90</td>\n      <td>...</td>\n      <td>-1.17</td>\n      <td>-5.73</td>\n      <td>-1.46</td>\n      <td>0.24</td>\n      <td>9.22</td>\n      <td>-8.20</td>\n      <td>-7.23</td>\n      <td>-8.59</td>\n      <td>9.13</td>\n      <td>8.45</td>\n    </tr>\n    <tr>\n      <th>24980</th>\n      <td>99.00</td>\n      <td>99.00</td>\n      <td>99.00</td>\n      <td>99.00</td>\n      <td>-7.77</td>\n      <td>99.00</td>\n      <td>6.70</td>\n      <td>-6.75</td>\n      <td>99.00</td>\n      <td>99.00</td>\n      <td>...</td>\n      <td>99.00</td>\n      <td>99.00</td>\n      <td>99.00</td>\n      <td>99.00</td>\n      <td>99.00</td>\n      <td>99.00</td>\n      <td>99.00</td>\n      <td>99.00</td>\n      <td>99.00</td>\n      <td>99.00</td>\n    </tr>\n    <tr>\n      <th>24981</th>\n      <td>99.00</td>\n      <td>99.00</td>\n      <td>99.00</td>\n      <td>99.00</td>\n      <td>-9.71</td>\n      <td>99.00</td>\n      <td>4.56</td>\n      <td>-8.30</td>\n      <td>99.00</td>\n      <td>99.00</td>\n      <td>...</td>\n      <td>99.00</td>\n      <td>99.00</td>\n      <td>99.00</td>\n      <td>99.00</td>\n      <td>99.00</td>\n      <td>99.00</td>\n      <td>99.00</td>\n      <td>99.00</td>\n      <td>99.00</td>\n      <td>99.00</td>\n    </tr>\n    <tr>\n      <th>24982</th>\n      <td>2.43</td>\n      <td>2.67</td>\n      <td>-3.98</td>\n      <td>4.27</td>\n      <td>-2.28</td>\n      <td>7.33</td>\n      <td>2.33</td>\n      <td>4.56</td>\n      <td>6.75</td>\n      <td>4.61</td>\n      <td>...</td>\n      <td>99.00</td>\n      <td>99.00</td>\n      <td>99.00</td>\n      <td>99.00</td>\n      <td>99.00</td>\n      <td>99.00</td>\n      <td>99.00</td>\n      <td>99.00</td>\n      <td>99.00</td>\n      <td>99.00</td>\n    </tr>\n  </tbody>\n</table>\n<p>24983 rows × 100 columns</p>\n</div>"
     },
     "execution_count": 55,
     "metadata": {},
     "output_type": "execute_result"
    }
   ],
   "source": [
    "jester"
   ],
   "metadata": {
    "collapsed": false,
    "ExecuteTime": {
     "end_time": "2023-11-25T02:59:43.622193100Z",
     "start_time": "2023-11-25T02:59:43.572348500Z"
    }
   }
  },
  {
   "cell_type": "code",
   "execution_count": 49,
   "outputs": [
    {
     "data": {
      "text/plain": "      user  item  obs_rating  pred_rating  delta_rating  obs_rec  pred_rec\n0     1223    14        3.50     3.719545      0.219545    False     False\n1    18254    40       -6.80     1.993253      8.793253    False     False\n2    13747    54       -1.60     1.164319      2.764319    False     False\n3     2728    78        8.98     5.526254      3.453746     True      True\n4     4299    88        9.22     2.273586      6.946414     True     False\n..     ...   ...         ...          ...           ...      ...       ...\n195   1100     7       -8.50     1.021315      9.521315    False     False\n196  14043    67        1.50     0.125856      1.374144    False     False\n197  14267    94        8.30     1.286119      7.013881     True     False\n198  14780     4        3.83     0.980313      2.849687    False     False\n199   5577     6       -2.04     1.098367      3.138367    False     False\n\n[200 rows x 7 columns]",
      "text/html": "<div>\n<style scoped>\n    .dataframe tbody tr th:only-of-type {\n        vertical-align: middle;\n    }\n\n    .dataframe tbody tr th {\n        vertical-align: top;\n    }\n\n    .dataframe thead th {\n        text-align: right;\n    }\n</style>\n<table border=\"1\" class=\"dataframe\">\n  <thead>\n    <tr style=\"text-align: right;\">\n      <th></th>\n      <th>user</th>\n      <th>item</th>\n      <th>obs_rating</th>\n      <th>pred_rating</th>\n      <th>delta_rating</th>\n      <th>obs_rec</th>\n      <th>pred_rec</th>\n    </tr>\n  </thead>\n  <tbody>\n    <tr>\n      <th>0</th>\n      <td>1223</td>\n      <td>14</td>\n      <td>3.50</td>\n      <td>3.719545</td>\n      <td>0.219545</td>\n      <td>False</td>\n      <td>False</td>\n    </tr>\n    <tr>\n      <th>1</th>\n      <td>18254</td>\n      <td>40</td>\n      <td>-6.80</td>\n      <td>1.993253</td>\n      <td>8.793253</td>\n      <td>False</td>\n      <td>False</td>\n    </tr>\n    <tr>\n      <th>2</th>\n      <td>13747</td>\n      <td>54</td>\n      <td>-1.60</td>\n      <td>1.164319</td>\n      <td>2.764319</td>\n      <td>False</td>\n      <td>False</td>\n    </tr>\n    <tr>\n      <th>3</th>\n      <td>2728</td>\n      <td>78</td>\n      <td>8.98</td>\n      <td>5.526254</td>\n      <td>3.453746</td>\n      <td>True</td>\n      <td>True</td>\n    </tr>\n    <tr>\n      <th>4</th>\n      <td>4299</td>\n      <td>88</td>\n      <td>9.22</td>\n      <td>2.273586</td>\n      <td>6.946414</td>\n      <td>True</td>\n      <td>False</td>\n    </tr>\n    <tr>\n      <th>...</th>\n      <td>...</td>\n      <td>...</td>\n      <td>...</td>\n      <td>...</td>\n      <td>...</td>\n      <td>...</td>\n      <td>...</td>\n    </tr>\n    <tr>\n      <th>195</th>\n      <td>1100</td>\n      <td>7</td>\n      <td>-8.50</td>\n      <td>1.021315</td>\n      <td>9.521315</td>\n      <td>False</td>\n      <td>False</td>\n    </tr>\n    <tr>\n      <th>196</th>\n      <td>14043</td>\n      <td>67</td>\n      <td>1.50</td>\n      <td>0.125856</td>\n      <td>1.374144</td>\n      <td>False</td>\n      <td>False</td>\n    </tr>\n    <tr>\n      <th>197</th>\n      <td>14267</td>\n      <td>94</td>\n      <td>8.30</td>\n      <td>1.286119</td>\n      <td>7.013881</td>\n      <td>True</td>\n      <td>False</td>\n    </tr>\n    <tr>\n      <th>198</th>\n      <td>14780</td>\n      <td>4</td>\n      <td>3.83</td>\n      <td>0.980313</td>\n      <td>2.849687</td>\n      <td>False</td>\n      <td>False</td>\n    </tr>\n    <tr>\n      <th>199</th>\n      <td>5577</td>\n      <td>6</td>\n      <td>-2.04</td>\n      <td>1.098367</td>\n      <td>3.138367</td>\n      <td>False</td>\n      <td>False</td>\n    </tr>\n  </tbody>\n</table>\n<p>200 rows × 7 columns</p>\n</div>"
     },
     "execution_count": 49,
     "metadata": {},
     "output_type": "execute_result"
    }
   ],
   "source": [
    "results = eval_random(jester, func=adj_wtd_sum, n=5)\n",
    "results"
   ],
   "metadata": {
    "collapsed": false,
    "ExecuteTime": {
     "end_time": "2023-11-25T02:50:44.686787Z",
     "start_time": "2023-11-25T02:50:22.081630800Z"
    }
   }
  },
  {
   "cell_type": "code",
   "execution_count": 38,
   "outputs": [
    {
     "data": {
      "text/plain": "pred_rec  False\nobs_rec        \nFalse        90\nTrue         50",
      "text/html": "<div>\n<style scoped>\n    .dataframe tbody tr th:only-of-type {\n        vertical-align: middle;\n    }\n\n    .dataframe tbody tr th {\n        vertical-align: top;\n    }\n\n    .dataframe thead th {\n        text-align: right;\n    }\n</style>\n<table border=\"1\" class=\"dataframe\">\n  <thead>\n    <tr style=\"text-align: right;\">\n      <th>pred_rec</th>\n      <th>False</th>\n    </tr>\n    <tr>\n      <th>obs_rec</th>\n      <th></th>\n    </tr>\n  </thead>\n  <tbody>\n    <tr>\n      <th>False</th>\n      <td>90</td>\n    </tr>\n    <tr>\n      <th>True</th>\n      <td>50</td>\n    </tr>\n  </tbody>\n</table>\n</div>"
     },
     "execution_count": 38,
     "metadata": {},
     "output_type": "execute_result"
    }
   ],
   "source": [
    "pd.crosstab(results['obs_rec'], results['pred_rec'])"
   ],
   "metadata": {
    "collapsed": false,
    "ExecuteTime": {
     "end_time": "2023-11-25T03:12:14.601282900Z",
     "start_time": "2023-11-25T03:12:14.580262400Z"
    }
   }
  },
  {
   "cell_type": "code",
   "execution_count": 39,
   "outputs": [
    {
     "data": {
      "text/plain": "4.420880872530111"
     },
     "execution_count": 39,
     "metadata": {},
     "output_type": "execute_result"
    }
   ],
   "source": [
    "results['delta_rating'].mean()"
   ],
   "metadata": {
    "collapsed": false,
    "ExecuteTime": {
     "end_time": "2023-11-25T03:12:16.890697200Z",
     "start_time": "2023-11-25T03:12:16.879222300Z"
    }
   }
  },
  {
   "cell_type": "code",
   "execution_count": 24,
   "outputs": [
    {
     "data": {
      "text/plain": "         0     1     2     3     4     5     6     7     8     9   ...    89  \\\n94     8.16  2.28  4.37  7.91  1.12  9.03  2.23  5.24  7.28  9.13  ...  3.06   \n164     NaN  6.36  9.27  7.04  4.85  9.27  5.24 -9.51 -1.70 -2.52  ...   NaN   \n194   -9.71 -8.25 -8.30 -2.62 -8.93 -0.05  2.18  4.47  1.21  2.38  ...  0.29   \n253    9.03  2.43  3.98 -5.05 -3.40  1.12  2.52 -5.73 -3.35  0.00  ...   NaN   \n290   -0.24  0.78 -7.14 -0.24 -0.58 -0.97 -7.04 -8.40 -7.04 -7.18  ...  4.27   \n...     ...   ...   ...   ...   ...   ...   ...   ...   ...   ...  ...   ...   \n24147 -1.89 -1.41  0.05 -7.57 -4.32  3.11  3.59  3.59  2.91  3.93  ...  4.08   \n24217  7.23 -0.53 -7.86 -7.67  0.92 -8.11  5.83 -8.20 -8.98  1.17  ...   NaN   \n24298  8.11 -0.24 -8.88 -9.32  9.27 -8.45 -7.04  5.68  2.18  1.65  ...  9.32   \n24442  5.05 -0.49 -4.71 -0.44  2.96 -3.93  5.63  0.87  3.98  1.36  ...  2.86   \n24682   NaN   NaN   NaN   NaN  1.60   NaN -4.22 -5.63   NaN -5.44  ...   NaN   \n\n         91    92    93    94    95    96    97    98    99  \n94     8.93  8.88  3.40  9.13  7.77  3.69 -2.62  1.75  1.80  \n164     NaN   NaN   NaN   NaN   NaN   NaN   NaN   NaN   NaN  \n194   -9.22 -6.50  3.25  2.62  1.99  8.74 -6.55 -0.53 -8.59  \n253     NaN   NaN   NaN   NaN   NaN   NaN  5.29   NaN  0.63  \n290    5.92  2.52  4.22  5.10  5.29  4.47  1.55  2.72 -7.33  \n...     ...   ...   ...   ...   ...   ...   ...   ...   ...  \n24147 -0.97  3.59  3.74  2.67  3.35  3.74 -0.15  3.40  2.14  \n24217   NaN   NaN   NaN   NaN   NaN   NaN   NaN   NaN   NaN  \n24298 -7.14  1.46 -6.41  0.15  1.26 -0.10 -0.24 -4.76 -4.76  \n24442  0.53  0.49 -6.80  4.90  4.81  2.14 -8.30  2.48  6.17  \n24682   NaN   NaN   NaN   NaN   NaN   NaN   NaN   NaN   NaN  \n\n[200 rows x 87 columns]",
      "text/html": "<div>\n<style scoped>\n    .dataframe tbody tr th:only-of-type {\n        vertical-align: middle;\n    }\n\n    .dataframe tbody tr th {\n        vertical-align: top;\n    }\n\n    .dataframe thead th {\n        text-align: right;\n    }\n</style>\n<table border=\"1\" class=\"dataframe\">\n  <thead>\n    <tr style=\"text-align: right;\">\n      <th></th>\n      <th>0</th>\n      <th>1</th>\n      <th>2</th>\n      <th>3</th>\n      <th>4</th>\n      <th>5</th>\n      <th>6</th>\n      <th>7</th>\n      <th>8</th>\n      <th>9</th>\n      <th>...</th>\n      <th>89</th>\n      <th>91</th>\n      <th>92</th>\n      <th>93</th>\n      <th>94</th>\n      <th>95</th>\n      <th>96</th>\n      <th>97</th>\n      <th>98</th>\n      <th>99</th>\n    </tr>\n  </thead>\n  <tbody>\n    <tr>\n      <th>94</th>\n      <td>8.16</td>\n      <td>2.28</td>\n      <td>4.37</td>\n      <td>7.91</td>\n      <td>1.12</td>\n      <td>9.03</td>\n      <td>2.23</td>\n      <td>5.24</td>\n      <td>7.28</td>\n      <td>9.13</td>\n      <td>...</td>\n      <td>3.06</td>\n      <td>8.93</td>\n      <td>8.88</td>\n      <td>3.40</td>\n      <td>9.13</td>\n      <td>7.77</td>\n      <td>3.69</td>\n      <td>-2.62</td>\n      <td>1.75</td>\n      <td>1.80</td>\n    </tr>\n    <tr>\n      <th>164</th>\n      <td>NaN</td>\n      <td>6.36</td>\n      <td>9.27</td>\n      <td>7.04</td>\n      <td>4.85</td>\n      <td>9.27</td>\n      <td>5.24</td>\n      <td>-9.51</td>\n      <td>-1.70</td>\n      <td>-2.52</td>\n      <td>...</td>\n      <td>NaN</td>\n      <td>NaN</td>\n      <td>NaN</td>\n      <td>NaN</td>\n      <td>NaN</td>\n      <td>NaN</td>\n      <td>NaN</td>\n      <td>NaN</td>\n      <td>NaN</td>\n      <td>NaN</td>\n    </tr>\n    <tr>\n      <th>194</th>\n      <td>-9.71</td>\n      <td>-8.25</td>\n      <td>-8.30</td>\n      <td>-2.62</td>\n      <td>-8.93</td>\n      <td>-0.05</td>\n      <td>2.18</td>\n      <td>4.47</td>\n      <td>1.21</td>\n      <td>2.38</td>\n      <td>...</td>\n      <td>0.29</td>\n      <td>-9.22</td>\n      <td>-6.50</td>\n      <td>3.25</td>\n      <td>2.62</td>\n      <td>1.99</td>\n      <td>8.74</td>\n      <td>-6.55</td>\n      <td>-0.53</td>\n      <td>-8.59</td>\n    </tr>\n    <tr>\n      <th>253</th>\n      <td>9.03</td>\n      <td>2.43</td>\n      <td>3.98</td>\n      <td>-5.05</td>\n      <td>-3.40</td>\n      <td>1.12</td>\n      <td>2.52</td>\n      <td>-5.73</td>\n      <td>-3.35</td>\n      <td>0.00</td>\n      <td>...</td>\n      <td>NaN</td>\n      <td>NaN</td>\n      <td>NaN</td>\n      <td>NaN</td>\n      <td>NaN</td>\n      <td>NaN</td>\n      <td>NaN</td>\n      <td>5.29</td>\n      <td>NaN</td>\n      <td>0.63</td>\n    </tr>\n    <tr>\n      <th>290</th>\n      <td>-0.24</td>\n      <td>0.78</td>\n      <td>-7.14</td>\n      <td>-0.24</td>\n      <td>-0.58</td>\n      <td>-0.97</td>\n      <td>-7.04</td>\n      <td>-8.40</td>\n      <td>-7.04</td>\n      <td>-7.18</td>\n      <td>...</td>\n      <td>4.27</td>\n      <td>5.92</td>\n      <td>2.52</td>\n      <td>4.22</td>\n      <td>5.10</td>\n      <td>5.29</td>\n      <td>4.47</td>\n      <td>1.55</td>\n      <td>2.72</td>\n      <td>-7.33</td>\n    </tr>\n    <tr>\n      <th>...</th>\n      <td>...</td>\n      <td>...</td>\n      <td>...</td>\n      <td>...</td>\n      <td>...</td>\n      <td>...</td>\n      <td>...</td>\n      <td>...</td>\n      <td>...</td>\n      <td>...</td>\n      <td>...</td>\n      <td>...</td>\n      <td>...</td>\n      <td>...</td>\n      <td>...</td>\n      <td>...</td>\n      <td>...</td>\n      <td>...</td>\n      <td>...</td>\n      <td>...</td>\n      <td>...</td>\n    </tr>\n    <tr>\n      <th>24147</th>\n      <td>-1.89</td>\n      <td>-1.41</td>\n      <td>0.05</td>\n      <td>-7.57</td>\n      <td>-4.32</td>\n      <td>3.11</td>\n      <td>3.59</td>\n      <td>3.59</td>\n      <td>2.91</td>\n      <td>3.93</td>\n      <td>...</td>\n      <td>4.08</td>\n      <td>-0.97</td>\n      <td>3.59</td>\n      <td>3.74</td>\n      <td>2.67</td>\n      <td>3.35</td>\n      <td>3.74</td>\n      <td>-0.15</td>\n      <td>3.40</td>\n      <td>2.14</td>\n    </tr>\n    <tr>\n      <th>24217</th>\n      <td>7.23</td>\n      <td>-0.53</td>\n      <td>-7.86</td>\n      <td>-7.67</td>\n      <td>0.92</td>\n      <td>-8.11</td>\n      <td>5.83</td>\n      <td>-8.20</td>\n      <td>-8.98</td>\n      <td>1.17</td>\n      <td>...</td>\n      <td>NaN</td>\n      <td>NaN</td>\n      <td>NaN</td>\n      <td>NaN</td>\n      <td>NaN</td>\n      <td>NaN</td>\n      <td>NaN</td>\n      <td>NaN</td>\n      <td>NaN</td>\n      <td>NaN</td>\n    </tr>\n    <tr>\n      <th>24298</th>\n      <td>8.11</td>\n      <td>-0.24</td>\n      <td>-8.88</td>\n      <td>-9.32</td>\n      <td>9.27</td>\n      <td>-8.45</td>\n      <td>-7.04</td>\n      <td>5.68</td>\n      <td>2.18</td>\n      <td>1.65</td>\n      <td>...</td>\n      <td>9.32</td>\n      <td>-7.14</td>\n      <td>1.46</td>\n      <td>-6.41</td>\n      <td>0.15</td>\n      <td>1.26</td>\n      <td>-0.10</td>\n      <td>-0.24</td>\n      <td>-4.76</td>\n      <td>-4.76</td>\n    </tr>\n    <tr>\n      <th>24442</th>\n      <td>5.05</td>\n      <td>-0.49</td>\n      <td>-4.71</td>\n      <td>-0.44</td>\n      <td>2.96</td>\n      <td>-3.93</td>\n      <td>5.63</td>\n      <td>0.87</td>\n      <td>3.98</td>\n      <td>1.36</td>\n      <td>...</td>\n      <td>2.86</td>\n      <td>0.53</td>\n      <td>0.49</td>\n      <td>-6.80</td>\n      <td>4.90</td>\n      <td>4.81</td>\n      <td>2.14</td>\n      <td>-8.30</td>\n      <td>2.48</td>\n      <td>6.17</td>\n    </tr>\n    <tr>\n      <th>24682</th>\n      <td>NaN</td>\n      <td>NaN</td>\n      <td>NaN</td>\n      <td>NaN</td>\n      <td>1.60</td>\n      <td>NaN</td>\n      <td>-4.22</td>\n      <td>-5.63</td>\n      <td>NaN</td>\n      <td>-5.44</td>\n      <td>...</td>\n      <td>NaN</td>\n      <td>NaN</td>\n      <td>NaN</td>\n      <td>NaN</td>\n      <td>NaN</td>\n      <td>NaN</td>\n      <td>NaN</td>\n      <td>NaN</td>\n      <td>NaN</td>\n      <td>NaN</td>\n    </tr>\n  </tbody>\n</table>\n<p>200 rows × 87 columns</p>\n</div>"
     },
     "execution_count": 24,
     "metadata": {},
     "output_type": "execute_result"
    }
   ],
   "source": [
    "jester_sample = jester.loc[jester_stacked[\"user\"].unique(), jester_stacked[\"item\"].unique()].sort_index().T.sort_index().T.replace(99, np.nan)\n",
    "jester_sample"
   ],
   "metadata": {
    "collapsed": false,
    "ExecuteTime": {
     "end_time": "2023-11-25T02:24:39.258457300Z",
     "start_time": "2023-11-25T02:24:39.218750Z"
    }
   }
  },
  {
   "cell_type": "code",
   "execution_count": 25,
   "outputs": [
    {
     "data": {
      "text/plain": "      user  item   obs      pred\n0    24217    11 -8.35 -3.344119\n1     6997    42 -6.31 -2.831599\n2     7294    72  3.25  1.561554\n3    24147    71  0.00  2.326186\n4     4233    39 -8.88  1.057527\n..     ...   ...   ...       ...\n195   8345    29  4.22  0.904519\n196  14773    14 -0.19  0.241655\n197  10545    61  6.02  0.472953\n198   8054    85  0.73  5.991950\n199  23930    54 -1.55  2.278973\n\n[200 rows x 4 columns]",
      "text/html": "<div>\n<style scoped>\n    .dataframe tbody tr th:only-of-type {\n        vertical-align: middle;\n    }\n\n    .dataframe tbody tr th {\n        vertical-align: top;\n    }\n\n    .dataframe thead th {\n        text-align: right;\n    }\n</style>\n<table border=\"1\" class=\"dataframe\">\n  <thead>\n    <tr style=\"text-align: right;\">\n      <th></th>\n      <th>user</th>\n      <th>item</th>\n      <th>obs</th>\n      <th>pred</th>\n    </tr>\n  </thead>\n  <tbody>\n    <tr>\n      <th>0</th>\n      <td>24217</td>\n      <td>11</td>\n      <td>-8.35</td>\n      <td>-3.344119</td>\n    </tr>\n    <tr>\n      <th>1</th>\n      <td>6997</td>\n      <td>42</td>\n      <td>-6.31</td>\n      <td>-2.831599</td>\n    </tr>\n    <tr>\n      <th>2</th>\n      <td>7294</td>\n      <td>72</td>\n      <td>3.25</td>\n      <td>1.561554</td>\n    </tr>\n    <tr>\n      <th>3</th>\n      <td>24147</td>\n      <td>71</td>\n      <td>0.00</td>\n      <td>2.326186</td>\n    </tr>\n    <tr>\n      <th>4</th>\n      <td>4233</td>\n      <td>39</td>\n      <td>-8.88</td>\n      <td>1.057527</td>\n    </tr>\n    <tr>\n      <th>...</th>\n      <td>...</td>\n      <td>...</td>\n      <td>...</td>\n      <td>...</td>\n    </tr>\n    <tr>\n      <th>195</th>\n      <td>8345</td>\n      <td>29</td>\n      <td>4.22</td>\n      <td>0.904519</td>\n    </tr>\n    <tr>\n      <th>196</th>\n      <td>14773</td>\n      <td>14</td>\n      <td>-0.19</td>\n      <td>0.241655</td>\n    </tr>\n    <tr>\n      <th>197</th>\n      <td>10545</td>\n      <td>61</td>\n      <td>6.02</td>\n      <td>0.472953</td>\n    </tr>\n    <tr>\n      <th>198</th>\n      <td>8054</td>\n      <td>85</td>\n      <td>0.73</td>\n      <td>5.991950</td>\n    </tr>\n    <tr>\n      <th>199</th>\n      <td>23930</td>\n      <td>54</td>\n      <td>-1.55</td>\n      <td>2.278973</td>\n    </tr>\n  </tbody>\n</table>\n<p>200 rows × 4 columns</p>\n</div>"
     },
     "execution_count": 25,
     "metadata": {},
     "output_type": "execute_result"
    }
   ],
   "source": [
    "sim = similarity_matrix(jester_sample)\n",
    "jester_stacked['pred'] = pd.Series(jester_stacked.index).apply(lambda i: adj_wtd_sum(jester_sample, sim,\n",
    "                                                                                     jester_stacked.loc[i, \"user\"],\n",
    "                                                                                     jester_stacked.loc[i, \"item\"],\n",
    "                                                                                     method=\"user\", n=5))\n",
    "jester_stacked"
   ],
   "metadata": {
    "collapsed": false,
    "ExecuteTime": {
     "end_time": "2023-11-25T02:25:04.998136500Z",
     "start_time": "2023-11-25T02:24:43.558809100Z"
    }
   }
  }
 ],
 "metadata": {
  "kernelspec": {
   "display_name": "Python 3",
   "language": "python",
   "name": "python3"
  },
  "language_info": {
   "codemirror_mode": {
    "name": "ipython",
    "version": 2
   },
   "file_extension": ".py",
   "mimetype": "text/x-python",
   "name": "python",
   "nbconvert_exporter": "python",
   "pygments_lexer": "ipython2",
   "version": "2.7.6"
  }
 },
 "nbformat": 4,
 "nbformat_minor": 0
}

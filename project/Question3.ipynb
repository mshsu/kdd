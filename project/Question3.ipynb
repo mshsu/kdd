{
 "cells": [
  {
   "cell_type": "markdown",
   "source": [
    "# CSC 466 Project Codebook: Question 3 Classification\n",
    "\n",
    "Brendan Callender, Andrew Kerr, Martin Hsu, Sophia Chung"
   ],
   "metadata": {
    "collapsed": false
   }
  },
  {
   "cell_type": "code",
   "execution_count": 87,
   "metadata": {
    "collapsed": true,
    "ExecuteTime": {
     "end_time": "2023-12-14T18:54:26.750276900Z",
     "start_time": "2023-12-14T18:54:26.694322800Z"
    }
   },
   "outputs": [],
   "source": [
    "import pandas as pd\n",
    "import numpy as np\n",
    "import os\n",
    "import wget\n",
    "import zipfile\n",
    "\n",
    "from induceC45 import *\n",
    "from classify import *\n",
    "from validation import *\n",
    "from knn import *\n",
    "from randomforest import *"
   ]
  },
  {
   "cell_type": "markdown",
   "source": [
    "## Data Load"
   ],
   "metadata": {
    "collapsed": false
   }
  },
  {
   "cell_type": "code",
   "execution_count": 88,
   "outputs": [],
   "source": [
    "if not os.path.exists(\"data/beneficiary/DE1_0_2008_Beneficiary_Summary_File_Sample_1.csv\"):\n",
    "    wget.download(\"https://www.cms.gov/research-statistics-data-and-systems/downloadable-public-use-files/synpufs/downloads/de1_0_2008_beneficiary_summary_file_sample_1.zip\", \"de1_0_2008_beneficiary_summary_file_sample_1.zip\")\n",
    "    with zipfile.ZipFile(\"de1_0_2008_beneficiary_summary_file_sample_1.zip\", 'r') as zip_ref:\n",
    "        zip_ref.extractall(\"data/beneficiary\")\n",
    "    os.remove(\"de1_0_2008_beneficiary_summary_file_sample_1.zip\")\n",
    "if not os.path.exists(\"data/beneficiary/DE1_0_2009_Beneficiary_Summary_File_Sample_1.csv\"):\n",
    "    wget.download(\"https://www.cms.gov/research-statistics-data-and-systems/downloadable-public-use-files/synpufs/downloads/de1_0_2009_beneficiary_summary_file_sample_1.zip\", \"de1_0_2009_beneficiary_summary_file_sample_1.zip\")\n",
    "    with zipfile.ZipFile(\"de1_0_2009_beneficiary_summary_file_sample_1.zip\", 'r') as zip_ref:\n",
    "        zip_ref.extractall(\"data/beneficiary\")\n",
    "    os.remove(\"de1_0_2009_beneficiary_summary_file_sample_1.zip\")\n",
    "if not os.path.exists(\"data/beneficiary/DE1_0_2010_Beneficiary_Summary_File_Sample_1.csv\"):\n",
    "    wget.download(\"https://www.cms.gov/research-statistics-data-and-systems/statistics-trends-and-reports/synpufs/downloads/de1_0_2010_beneficiary_summary_file_sample_20.zip\", \"de1_0_2010_beneficiary_summary_file_sample_1.zip\")\n",
    "    with zipfile.ZipFile(\"de1_0_2010_beneficiary_summary_file_sample_1.zip\", 'r') as zip_ref:\n",
    "        zip_ref.extractall(\"data/beneficiary\")\n",
    "    os.remove(\"de1_0_2010_beneficiary_summary_file_sample_1.zip\")"
   ],
   "metadata": {
    "collapsed": false,
    "ExecuteTime": {
     "end_time": "2023-12-14T18:54:58.817593200Z",
     "start_time": "2023-12-14T18:54:58.805666900Z"
    }
   }
  },
  {
   "cell_type": "code",
   "execution_count": 89,
   "outputs": [],
   "source": [
    "if not os.path.exists(\"data/inpatient/DE1_0_2008_to_2010_Inpatient_Claims_Sample_1.csv\"):\n",
    "    wget.download(\"https://www.cms.gov/research-statistics-data-and-systems/downloadable-public-use-files/synpufs/downloads/de1_0_2008_to_2010_inpatient_claims_sample_1.zip\", \"de1_0_2008_to_2010_inpatient_claims_sample_1.zip\")\n",
    "    with zipfile.ZipFile(\"de1_0_2008_to_2010_inpatient_claims_sample_1.zip\", 'r') as zip_ref:\n",
    "        zip_ref.extractall(\"data/inpatient\")\n",
    "    os.remove(\"de1_0_2008_to_2010_inpatient_claims_sample_1.zip\")"
   ],
   "metadata": {
    "collapsed": false,
    "ExecuteTime": {
     "end_time": "2023-12-14T18:55:00.470362900Z",
     "start_time": "2023-12-14T18:55:00.442137100Z"
    }
   }
  },
  {
   "cell_type": "markdown",
   "source": [
    "## Data Wrangling"
   ],
   "metadata": {
    "collapsed": false
   }
  },
  {
   "cell_type": "code",
   "execution_count": 2,
   "outputs": [
    {
     "data": {
      "text/plain": "                 BENE_BIRTH_DT  BENE_DEATH_DT  BENE_SEX_IDENT_CD  \\\nDESYNPUF_ID                                                        \n00013D2EFD8E45D1    1923-05-01            NaN                  1   \n00016F745862898F    1943-01-01            NaN                  1   \n0001FDD721E223DC    1936-09-01            NaN                  2   \n00021CA6FF03E670    1941-06-01            NaN                  1   \n00024B3D2352D2D0    1936-08-01            NaN                  1   \n...                        ...            ...                ...   \nFFFD7C464C94D136    1943-07-01            NaN                  2   \nFFFE3ED9582AD46E    1916-06-01            NaN                  2   \nFFFE7AB5D7F1725D    1939-04-01            NaN                  2   \nFFFF29A2E1362059    1911-07-01            NaN                  1   \nFFFF7C107A4E385A    1952-04-01            NaN                  2   \n\n                  BENE_RACE_CD BENE_ESRD_IND  SP_STATE_CODE  BENE_COUNTY_CD  \\\nDESYNPUF_ID                                                                   \n00013D2EFD8E45D1             1             0             26             950   \n00016F745862898F             1             0             39             230   \n0001FDD721E223DC             1             0             39             280   \n00021CA6FF03E670             5             0              6             290   \n00024B3D2352D2D0             1             0             52             590   \n...                        ...           ...            ...             ...   \nFFFD7C464C94D136             1             0             54               0   \nFFFE3ED9582AD46E             1             0              6             150   \nFFFE7AB5D7F1725D             1             0             23             490   \nFFFF29A2E1362059             1             0             29              20   \nFFFF7C107A4E385A             1             0             21              20   \n\n                  BENE_HI_CVRAGE_TOT_MONS  BENE_SMI_CVRAGE_TOT_MONS  \\\nDESYNPUF_ID                                                           \n00013D2EFD8E45D1                       12                        12   \n00016F745862898F                       12                        12   \n0001FDD721E223DC                       12                        12   \n00021CA6FF03E670                        0                         0   \n00024B3D2352D2D0                       12                        12   \n...                                   ...                       ...   \nFFFD7C464C94D136                       12                        12   \nFFFE3ED9582AD46E                       12                        12   \nFFFE7AB5D7F1725D                       12                        12   \nFFFF29A2E1362059                        0                        12   \nFFFF7C107A4E385A                       12                        12   \n\n                  BENE_HMO_CVRAGE_TOT_MONS  ...  MEDREIMB_IP  BENRES_IP  \\\nDESYNPUF_ID                                 ...                           \n00013D2EFD8E45D1                        12  ...          0.0        0.0   \n00016F745862898F                         0  ...          0.0        0.0   \n0001FDD721E223DC                         0  ...          0.0        0.0   \n00021CA6FF03E670                         0  ...          0.0        0.0   \n00024B3D2352D2D0                         0  ...          0.0        0.0   \n...                                    ...  ...          ...        ...   \nFFFD7C464C94D136                         0  ...          0.0        0.0   \nFFFE3ED9582AD46E                         0  ...          0.0        0.0   \nFFFE7AB5D7F1725D                         0  ...          0.0        0.0   \nFFFF29A2E1362059                         0  ...          0.0        0.0   \nFFFF7C107A4E385A                         0  ...          0.0        0.0   \n\n                  PPPYMT_IP  MEDREIMB_OP  BENRES_OP  PPPYMT_OP  MEDREIMB_CAR  \\\nDESYNPUF_ID                                                                    \n00013D2EFD8E45D1        0.0         50.0       10.0        0.0           0.0   \n00016F745862898F        0.0          0.0        0.0        0.0         700.0   \n0001FDD721E223DC        0.0          0.0        0.0        0.0           0.0   \n00021CA6FF03E670        0.0          0.0        0.0        0.0           0.0   \n00024B3D2352D2D0        0.0         30.0       40.0        0.0         220.0   \n...                     ...          ...        ...        ...           ...   \nFFFD7C464C94D136        0.0          0.0        0.0        0.0           0.0   \nFFFE3ED9582AD46E        0.0       1570.0      780.0        0.0        1370.0   \nFFFE7AB5D7F1725D        0.0          0.0        0.0        0.0           0.0   \nFFFF29A2E1362059        0.0          0.0        0.0        0.0           0.0   \nFFFF7C107A4E385A        0.0       2870.0     1260.0        0.0        3280.0   \n\n                  BENRES_CAR  PPPYMT_CAR       Year  \nDESYNPUF_ID                                          \n00013D2EFD8E45D1         0.0         0.0 2008-12-31  \n00016F745862898F       240.0         0.0 2008-12-31  \n0001FDD721E223DC         0.0         0.0 2008-12-31  \n00021CA6FF03E670         0.0         0.0 2008-12-31  \n00024B3D2352D2D0        80.0         0.0 2008-12-31  \n...                      ...         ...        ...  \nFFFD7C464C94D136         0.0         0.0 2008-12-31  \nFFFE3ED9582AD46E       350.0         0.0 2008-12-31  \nFFFE7AB5D7F1725D         0.0         0.0 2008-12-31  \nFFFF29A2E1362059         0.0         0.0 2008-12-31  \nFFFF7C107A4E385A       910.0         0.0 2008-12-31  \n\n[116352 rows x 32 columns]",
      "text/html": "<div>\n<style scoped>\n    .dataframe tbody tr th:only-of-type {\n        vertical-align: middle;\n    }\n\n    .dataframe tbody tr th {\n        vertical-align: top;\n    }\n\n    .dataframe thead th {\n        text-align: right;\n    }\n</style>\n<table border=\"1\" class=\"dataframe\">\n  <thead>\n    <tr style=\"text-align: right;\">\n      <th></th>\n      <th>BENE_BIRTH_DT</th>\n      <th>BENE_DEATH_DT</th>\n      <th>BENE_SEX_IDENT_CD</th>\n      <th>BENE_RACE_CD</th>\n      <th>BENE_ESRD_IND</th>\n      <th>SP_STATE_CODE</th>\n      <th>BENE_COUNTY_CD</th>\n      <th>BENE_HI_CVRAGE_TOT_MONS</th>\n      <th>BENE_SMI_CVRAGE_TOT_MONS</th>\n      <th>BENE_HMO_CVRAGE_TOT_MONS</th>\n      <th>...</th>\n      <th>MEDREIMB_IP</th>\n      <th>BENRES_IP</th>\n      <th>PPPYMT_IP</th>\n      <th>MEDREIMB_OP</th>\n      <th>BENRES_OP</th>\n      <th>PPPYMT_OP</th>\n      <th>MEDREIMB_CAR</th>\n      <th>BENRES_CAR</th>\n      <th>PPPYMT_CAR</th>\n      <th>Year</th>\n    </tr>\n    <tr>\n      <th>DESYNPUF_ID</th>\n      <th></th>\n      <th></th>\n      <th></th>\n      <th></th>\n      <th></th>\n      <th></th>\n      <th></th>\n      <th></th>\n      <th></th>\n      <th></th>\n      <th></th>\n      <th></th>\n      <th></th>\n      <th></th>\n      <th></th>\n      <th></th>\n      <th></th>\n      <th></th>\n      <th></th>\n      <th></th>\n      <th></th>\n    </tr>\n  </thead>\n  <tbody>\n    <tr>\n      <th>00013D2EFD8E45D1</th>\n      <td>1923-05-01</td>\n      <td>NaN</td>\n      <td>1</td>\n      <td>1</td>\n      <td>0</td>\n      <td>26</td>\n      <td>950</td>\n      <td>12</td>\n      <td>12</td>\n      <td>12</td>\n      <td>...</td>\n      <td>0.0</td>\n      <td>0.0</td>\n      <td>0.0</td>\n      <td>50.0</td>\n      <td>10.0</td>\n      <td>0.0</td>\n      <td>0.0</td>\n      <td>0.0</td>\n      <td>0.0</td>\n      <td>2008-12-31</td>\n    </tr>\n    <tr>\n      <th>00016F745862898F</th>\n      <td>1943-01-01</td>\n      <td>NaN</td>\n      <td>1</td>\n      <td>1</td>\n      <td>0</td>\n      <td>39</td>\n      <td>230</td>\n      <td>12</td>\n      <td>12</td>\n      <td>0</td>\n      <td>...</td>\n      <td>0.0</td>\n      <td>0.0</td>\n      <td>0.0</td>\n      <td>0.0</td>\n      <td>0.0</td>\n      <td>0.0</td>\n      <td>700.0</td>\n      <td>240.0</td>\n      <td>0.0</td>\n      <td>2008-12-31</td>\n    </tr>\n    <tr>\n      <th>0001FDD721E223DC</th>\n      <td>1936-09-01</td>\n      <td>NaN</td>\n      <td>2</td>\n      <td>1</td>\n      <td>0</td>\n      <td>39</td>\n      <td>280</td>\n      <td>12</td>\n      <td>12</td>\n      <td>0</td>\n      <td>...</td>\n      <td>0.0</td>\n      <td>0.0</td>\n      <td>0.0</td>\n      <td>0.0</td>\n      <td>0.0</td>\n      <td>0.0</td>\n      <td>0.0</td>\n      <td>0.0</td>\n      <td>0.0</td>\n      <td>2008-12-31</td>\n    </tr>\n    <tr>\n      <th>00021CA6FF03E670</th>\n      <td>1941-06-01</td>\n      <td>NaN</td>\n      <td>1</td>\n      <td>5</td>\n      <td>0</td>\n      <td>6</td>\n      <td>290</td>\n      <td>0</td>\n      <td>0</td>\n      <td>0</td>\n      <td>...</td>\n      <td>0.0</td>\n      <td>0.0</td>\n      <td>0.0</td>\n      <td>0.0</td>\n      <td>0.0</td>\n      <td>0.0</td>\n      <td>0.0</td>\n      <td>0.0</td>\n      <td>0.0</td>\n      <td>2008-12-31</td>\n    </tr>\n    <tr>\n      <th>00024B3D2352D2D0</th>\n      <td>1936-08-01</td>\n      <td>NaN</td>\n      <td>1</td>\n      <td>1</td>\n      <td>0</td>\n      <td>52</td>\n      <td>590</td>\n      <td>12</td>\n      <td>12</td>\n      <td>0</td>\n      <td>...</td>\n      <td>0.0</td>\n      <td>0.0</td>\n      <td>0.0</td>\n      <td>30.0</td>\n      <td>40.0</td>\n      <td>0.0</td>\n      <td>220.0</td>\n      <td>80.0</td>\n      <td>0.0</td>\n      <td>2008-12-31</td>\n    </tr>\n    <tr>\n      <th>...</th>\n      <td>...</td>\n      <td>...</td>\n      <td>...</td>\n      <td>...</td>\n      <td>...</td>\n      <td>...</td>\n      <td>...</td>\n      <td>...</td>\n      <td>...</td>\n      <td>...</td>\n      <td>...</td>\n      <td>...</td>\n      <td>...</td>\n      <td>...</td>\n      <td>...</td>\n      <td>...</td>\n      <td>...</td>\n      <td>...</td>\n      <td>...</td>\n      <td>...</td>\n      <td>...</td>\n    </tr>\n    <tr>\n      <th>FFFD7C464C94D136</th>\n      <td>1943-07-01</td>\n      <td>NaN</td>\n      <td>2</td>\n      <td>1</td>\n      <td>0</td>\n      <td>54</td>\n      <td>0</td>\n      <td>12</td>\n      <td>12</td>\n      <td>0</td>\n      <td>...</td>\n      <td>0.0</td>\n      <td>0.0</td>\n      <td>0.0</td>\n      <td>0.0</td>\n      <td>0.0</td>\n      <td>0.0</td>\n      <td>0.0</td>\n      <td>0.0</td>\n      <td>0.0</td>\n      <td>2008-12-31</td>\n    </tr>\n    <tr>\n      <th>FFFE3ED9582AD46E</th>\n      <td>1916-06-01</td>\n      <td>NaN</td>\n      <td>2</td>\n      <td>1</td>\n      <td>0</td>\n      <td>6</td>\n      <td>150</td>\n      <td>12</td>\n      <td>12</td>\n      <td>0</td>\n      <td>...</td>\n      <td>0.0</td>\n      <td>0.0</td>\n      <td>0.0</td>\n      <td>1570.0</td>\n      <td>780.0</td>\n      <td>0.0</td>\n      <td>1370.0</td>\n      <td>350.0</td>\n      <td>0.0</td>\n      <td>2008-12-31</td>\n    </tr>\n    <tr>\n      <th>FFFE7AB5D7F1725D</th>\n      <td>1939-04-01</td>\n      <td>NaN</td>\n      <td>2</td>\n      <td>1</td>\n      <td>0</td>\n      <td>23</td>\n      <td>490</td>\n      <td>12</td>\n      <td>12</td>\n      <td>0</td>\n      <td>...</td>\n      <td>0.0</td>\n      <td>0.0</td>\n      <td>0.0</td>\n      <td>0.0</td>\n      <td>0.0</td>\n      <td>0.0</td>\n      <td>0.0</td>\n      <td>0.0</td>\n      <td>0.0</td>\n      <td>2008-12-31</td>\n    </tr>\n    <tr>\n      <th>FFFF29A2E1362059</th>\n      <td>1911-07-01</td>\n      <td>NaN</td>\n      <td>1</td>\n      <td>1</td>\n      <td>0</td>\n      <td>29</td>\n      <td>20</td>\n      <td>0</td>\n      <td>12</td>\n      <td>0</td>\n      <td>...</td>\n      <td>0.0</td>\n      <td>0.0</td>\n      <td>0.0</td>\n      <td>0.0</td>\n      <td>0.0</td>\n      <td>0.0</td>\n      <td>0.0</td>\n      <td>0.0</td>\n      <td>0.0</td>\n      <td>2008-12-31</td>\n    </tr>\n    <tr>\n      <th>FFFF7C107A4E385A</th>\n      <td>1952-04-01</td>\n      <td>NaN</td>\n      <td>2</td>\n      <td>1</td>\n      <td>0</td>\n      <td>21</td>\n      <td>20</td>\n      <td>12</td>\n      <td>12</td>\n      <td>0</td>\n      <td>...</td>\n      <td>0.0</td>\n      <td>0.0</td>\n      <td>0.0</td>\n      <td>2870.0</td>\n      <td>1260.0</td>\n      <td>0.0</td>\n      <td>3280.0</td>\n      <td>910.0</td>\n      <td>0.0</td>\n      <td>2008-12-31</td>\n    </tr>\n  </tbody>\n</table>\n<p>116352 rows × 32 columns</p>\n</div>"
     },
     "execution_count": 2,
     "metadata": {},
     "output_type": "execute_result"
    }
   ],
   "source": [
    "bene_2008 = pd.read_csv(\"data/beneficiary/DE1_0_2008_Beneficiary_Summary_File_Sample_1.csv\")\n",
    "bene_2008[\"Year\"] = pd.to_datetime(\"12-31-2008\")\n",
    "bene_2008[\"BENE_BIRTH_DT\"] = pd.to_datetime(bene_2008[\"BENE_BIRTH_DT\"].astype(str))\n",
    "bene_2008 = bene_2008.set_index(\"DESYNPUF_ID\")\n",
    "bene_2008"
   ],
   "metadata": {
    "collapsed": false,
    "ExecuteTime": {
     "end_time": "2023-12-12T21:26:48.746570500Z",
     "start_time": "2023-12-12T21:26:47.956533Z"
    }
   }
  },
  {
   "cell_type": "code",
   "execution_count": 3,
   "outputs": [
    {
     "data": {
      "text/plain": "                 BENE_BIRTH_DT  BENE_DEATH_DT  BENE_SEX_IDENT_CD  \\\nDESYNPUF_ID                                                        \n00013D2EFD8E45D1    1923-05-01            NaN                  1   \n00016F745862898F    1943-01-01            NaN                  1   \n0001FDD721E223DC    1936-09-01            NaN                  2   \n00021CA6FF03E670    1941-06-01            NaN                  1   \n00024B3D2352D2D0    1936-08-01            NaN                  1   \n...                        ...            ...                ...   \nFFFD7C464C94D136    1943-07-01            NaN                  2   \nFFFE3ED9582AD46E    1916-06-01            NaN                  2   \nFFFE7AB5D7F1725D    1939-04-01            NaN                  2   \nFFFF29A2E1362059    1911-07-01            NaN                  1   \nFFFF7C107A4E385A    1952-04-01            NaN                  2   \n\n                  BENE_RACE_CD BENE_ESRD_IND  SP_STATE_CODE  BENE_COUNTY_CD  \\\nDESYNPUF_ID                                                                   \n00013D2EFD8E45D1             1             0             26             950   \n00016F745862898F             1             0             39             230   \n0001FDD721E223DC             1             0             39             280   \n00021CA6FF03E670             5             0              6             290   \n00024B3D2352D2D0             1             0             52             590   \n...                        ...           ...            ...             ...   \nFFFD7C464C94D136             1             0             54               0   \nFFFE3ED9582AD46E             1             0              6             150   \nFFFE7AB5D7F1725D             1             0             23             490   \nFFFF29A2E1362059             1             0             29              20   \nFFFF7C107A4E385A             1             0             21              20   \n\n                  BENE_HI_CVRAGE_TOT_MONS  BENE_SMI_CVRAGE_TOT_MONS  \\\nDESYNPUF_ID                                                           \n00013D2EFD8E45D1                       12                        12   \n00016F745862898F                       12                        12   \n0001FDD721E223DC                       12                        12   \n00021CA6FF03E670                       12                        12   \n00024B3D2352D2D0                       12                        12   \n...                                   ...                       ...   \nFFFD7C464C94D136                       12                        12   \nFFFE3ED9582AD46E                       12                        12   \nFFFE7AB5D7F1725D                       12                        12   \nFFFF29A2E1362059                        6                         0   \nFFFF7C107A4E385A                       12                        12   \n\n                  BENE_HMO_CVRAGE_TOT_MONS  ...  MEDREIMB_IP  BENRES_IP  \\\nDESYNPUF_ID                                 ...                           \n00013D2EFD8E45D1                        12  ...          0.0        0.0   \n00016F745862898F                         0  ...      36000.0     3204.0   \n0001FDD721E223DC                         0  ...          0.0        0.0   \n00021CA6FF03E670                         0  ...          0.0        0.0   \n00024B3D2352D2D0                         2  ...          0.0        0.0   \n...                                    ...  ...          ...        ...   \nFFFD7C464C94D136                         0  ...          0.0        0.0   \nFFFE3ED9582AD46E                         0  ...       2000.0     1068.0   \nFFFE7AB5D7F1725D                        11  ...          0.0        0.0   \nFFFF29A2E1362059                         0  ...          0.0        0.0   \nFFFF7C107A4E385A                         0  ...          0.0        0.0   \n\n                  PPPYMT_IP  MEDREIMB_OP  BENRES_OP  PPPYMT_OP  MEDREIMB_CAR  \\\nDESYNPUF_ID                                                                    \n00013D2EFD8E45D1        0.0          0.0        0.0        0.0         100.0   \n00016F745862898F        0.0         60.0       70.0        0.0        1350.0   \n0001FDD721E223DC        0.0         30.0       50.0        0.0          20.0   \n00021CA6FF03E670        0.0          0.0        0.0        0.0          90.0   \n00024B3D2352D2D0        0.0         90.0       40.0        0.0         410.0   \n...                     ...          ...        ...        ...           ...   \nFFFD7C464C94D136        0.0          0.0        0.0        0.0         200.0   \nFFFE3ED9582AD46E        0.0       3240.0     1390.0        0.0        2510.0   \nFFFE7AB5D7F1725D        0.0          0.0        0.0        0.0           0.0   \nFFFF29A2E1362059        0.0          0.0        0.0        0.0           0.0   \nFFFF7C107A4E385A        0.0       5470.0     1870.0        0.0        2920.0   \n\n                  BENRES_CAR  PPPYMT_CAR       Year  \nDESYNPUF_ID                                          \n00013D2EFD8E45D1        20.0         0.0 2009-12-31  \n00016F745862898F       530.0       100.0 2009-12-31  \n0001FDD721E223DC         0.0         0.0 2009-12-31  \n00021CA6FF03E670        10.0         0.0 2009-12-31  \n00024B3D2352D2D0       140.0         0.0 2009-12-31  \n...                      ...         ...        ...  \nFFFD7C464C94D136        40.0         0.0 2009-12-31  \nFFFE3ED9582AD46E       620.0         0.0 2009-12-31  \nFFFE7AB5D7F1725D         0.0         0.0 2009-12-31  \nFFFF29A2E1362059         0.0         0.0 2009-12-31  \nFFFF7C107A4E385A       990.0         0.0 2009-12-31  \n\n[114538 rows x 32 columns]",
      "text/html": "<div>\n<style scoped>\n    .dataframe tbody tr th:only-of-type {\n        vertical-align: middle;\n    }\n\n    .dataframe tbody tr th {\n        vertical-align: top;\n    }\n\n    .dataframe thead th {\n        text-align: right;\n    }\n</style>\n<table border=\"1\" class=\"dataframe\">\n  <thead>\n    <tr style=\"text-align: right;\">\n      <th></th>\n      <th>BENE_BIRTH_DT</th>\n      <th>BENE_DEATH_DT</th>\n      <th>BENE_SEX_IDENT_CD</th>\n      <th>BENE_RACE_CD</th>\n      <th>BENE_ESRD_IND</th>\n      <th>SP_STATE_CODE</th>\n      <th>BENE_COUNTY_CD</th>\n      <th>BENE_HI_CVRAGE_TOT_MONS</th>\n      <th>BENE_SMI_CVRAGE_TOT_MONS</th>\n      <th>BENE_HMO_CVRAGE_TOT_MONS</th>\n      <th>...</th>\n      <th>MEDREIMB_IP</th>\n      <th>BENRES_IP</th>\n      <th>PPPYMT_IP</th>\n      <th>MEDREIMB_OP</th>\n      <th>BENRES_OP</th>\n      <th>PPPYMT_OP</th>\n      <th>MEDREIMB_CAR</th>\n      <th>BENRES_CAR</th>\n      <th>PPPYMT_CAR</th>\n      <th>Year</th>\n    </tr>\n    <tr>\n      <th>DESYNPUF_ID</th>\n      <th></th>\n      <th></th>\n      <th></th>\n      <th></th>\n      <th></th>\n      <th></th>\n      <th></th>\n      <th></th>\n      <th></th>\n      <th></th>\n      <th></th>\n      <th></th>\n      <th></th>\n      <th></th>\n      <th></th>\n      <th></th>\n      <th></th>\n      <th></th>\n      <th></th>\n      <th></th>\n      <th></th>\n    </tr>\n  </thead>\n  <tbody>\n    <tr>\n      <th>00013D2EFD8E45D1</th>\n      <td>1923-05-01</td>\n      <td>NaN</td>\n      <td>1</td>\n      <td>1</td>\n      <td>0</td>\n      <td>26</td>\n      <td>950</td>\n      <td>12</td>\n      <td>12</td>\n      <td>12</td>\n      <td>...</td>\n      <td>0.0</td>\n      <td>0.0</td>\n      <td>0.0</td>\n      <td>0.0</td>\n      <td>0.0</td>\n      <td>0.0</td>\n      <td>100.0</td>\n      <td>20.0</td>\n      <td>0.0</td>\n      <td>2009-12-31</td>\n    </tr>\n    <tr>\n      <th>00016F745862898F</th>\n      <td>1943-01-01</td>\n      <td>NaN</td>\n      <td>1</td>\n      <td>1</td>\n      <td>0</td>\n      <td>39</td>\n      <td>230</td>\n      <td>12</td>\n      <td>12</td>\n      <td>0</td>\n      <td>...</td>\n      <td>36000.0</td>\n      <td>3204.0</td>\n      <td>0.0</td>\n      <td>60.0</td>\n      <td>70.0</td>\n      <td>0.0</td>\n      <td>1350.0</td>\n      <td>530.0</td>\n      <td>100.0</td>\n      <td>2009-12-31</td>\n    </tr>\n    <tr>\n      <th>0001FDD721E223DC</th>\n      <td>1936-09-01</td>\n      <td>NaN</td>\n      <td>2</td>\n      <td>1</td>\n      <td>0</td>\n      <td>39</td>\n      <td>280</td>\n      <td>12</td>\n      <td>12</td>\n      <td>0</td>\n      <td>...</td>\n      <td>0.0</td>\n      <td>0.0</td>\n      <td>0.0</td>\n      <td>30.0</td>\n      <td>50.0</td>\n      <td>0.0</td>\n      <td>20.0</td>\n      <td>0.0</td>\n      <td>0.0</td>\n      <td>2009-12-31</td>\n    </tr>\n    <tr>\n      <th>00021CA6FF03E670</th>\n      <td>1941-06-01</td>\n      <td>NaN</td>\n      <td>1</td>\n      <td>5</td>\n      <td>0</td>\n      <td>6</td>\n      <td>290</td>\n      <td>12</td>\n      <td>12</td>\n      <td>0</td>\n      <td>...</td>\n      <td>0.0</td>\n      <td>0.0</td>\n      <td>0.0</td>\n      <td>0.0</td>\n      <td>0.0</td>\n      <td>0.0</td>\n      <td>90.0</td>\n      <td>10.0</td>\n      <td>0.0</td>\n      <td>2009-12-31</td>\n    </tr>\n    <tr>\n      <th>00024B3D2352D2D0</th>\n      <td>1936-08-01</td>\n      <td>NaN</td>\n      <td>1</td>\n      <td>1</td>\n      <td>0</td>\n      <td>52</td>\n      <td>590</td>\n      <td>12</td>\n      <td>12</td>\n      <td>2</td>\n      <td>...</td>\n      <td>0.0</td>\n      <td>0.0</td>\n      <td>0.0</td>\n      <td>90.0</td>\n      <td>40.0</td>\n      <td>0.0</td>\n      <td>410.0</td>\n      <td>140.0</td>\n      <td>0.0</td>\n      <td>2009-12-31</td>\n    </tr>\n    <tr>\n      <th>...</th>\n      <td>...</td>\n      <td>...</td>\n      <td>...</td>\n      <td>...</td>\n      <td>...</td>\n      <td>...</td>\n      <td>...</td>\n      <td>...</td>\n      <td>...</td>\n      <td>...</td>\n      <td>...</td>\n      <td>...</td>\n      <td>...</td>\n      <td>...</td>\n      <td>...</td>\n      <td>...</td>\n      <td>...</td>\n      <td>...</td>\n      <td>...</td>\n      <td>...</td>\n      <td>...</td>\n    </tr>\n    <tr>\n      <th>FFFD7C464C94D136</th>\n      <td>1943-07-01</td>\n      <td>NaN</td>\n      <td>2</td>\n      <td>1</td>\n      <td>0</td>\n      <td>54</td>\n      <td>0</td>\n      <td>12</td>\n      <td>12</td>\n      <td>0</td>\n      <td>...</td>\n      <td>0.0</td>\n      <td>0.0</td>\n      <td>0.0</td>\n      <td>0.0</td>\n      <td>0.0</td>\n      <td>0.0</td>\n      <td>200.0</td>\n      <td>40.0</td>\n      <td>0.0</td>\n      <td>2009-12-31</td>\n    </tr>\n    <tr>\n      <th>FFFE3ED9582AD46E</th>\n      <td>1916-06-01</td>\n      <td>NaN</td>\n      <td>2</td>\n      <td>1</td>\n      <td>0</td>\n      <td>6</td>\n      <td>150</td>\n      <td>12</td>\n      <td>12</td>\n      <td>0</td>\n      <td>...</td>\n      <td>2000.0</td>\n      <td>1068.0</td>\n      <td>0.0</td>\n      <td>3240.0</td>\n      <td>1390.0</td>\n      <td>0.0</td>\n      <td>2510.0</td>\n      <td>620.0</td>\n      <td>0.0</td>\n      <td>2009-12-31</td>\n    </tr>\n    <tr>\n      <th>FFFE7AB5D7F1725D</th>\n      <td>1939-04-01</td>\n      <td>NaN</td>\n      <td>2</td>\n      <td>1</td>\n      <td>0</td>\n      <td>23</td>\n      <td>490</td>\n      <td>12</td>\n      <td>12</td>\n      <td>11</td>\n      <td>...</td>\n      <td>0.0</td>\n      <td>0.0</td>\n      <td>0.0</td>\n      <td>0.0</td>\n      <td>0.0</td>\n      <td>0.0</td>\n      <td>0.0</td>\n      <td>0.0</td>\n      <td>0.0</td>\n      <td>2009-12-31</td>\n    </tr>\n    <tr>\n      <th>FFFF29A2E1362059</th>\n      <td>1911-07-01</td>\n      <td>NaN</td>\n      <td>1</td>\n      <td>1</td>\n      <td>0</td>\n      <td>29</td>\n      <td>20</td>\n      <td>6</td>\n      <td>0</td>\n      <td>0</td>\n      <td>...</td>\n      <td>0.0</td>\n      <td>0.0</td>\n      <td>0.0</td>\n      <td>0.0</td>\n      <td>0.0</td>\n      <td>0.0</td>\n      <td>0.0</td>\n      <td>0.0</td>\n      <td>0.0</td>\n      <td>2009-12-31</td>\n    </tr>\n    <tr>\n      <th>FFFF7C107A4E385A</th>\n      <td>1952-04-01</td>\n      <td>NaN</td>\n      <td>2</td>\n      <td>1</td>\n      <td>0</td>\n      <td>21</td>\n      <td>20</td>\n      <td>12</td>\n      <td>12</td>\n      <td>0</td>\n      <td>...</td>\n      <td>0.0</td>\n      <td>0.0</td>\n      <td>0.0</td>\n      <td>5470.0</td>\n      <td>1870.0</td>\n      <td>0.0</td>\n      <td>2920.0</td>\n      <td>990.0</td>\n      <td>0.0</td>\n      <td>2009-12-31</td>\n    </tr>\n  </tbody>\n</table>\n<p>114538 rows × 32 columns</p>\n</div>"
     },
     "execution_count": 3,
     "metadata": {},
     "output_type": "execute_result"
    }
   ],
   "source": [
    "bene_2009 = pd.read_csv(\"data/beneficiary/DE1_0_2009_Beneficiary_Summary_File_Sample_1.csv\")\n",
    "bene_2009[\"Year\"] = pd.to_datetime(\"12-31-2009\")\n",
    "bene_2009[\"BENE_BIRTH_DT\"] = pd.to_datetime(bene_2009[\"BENE_BIRTH_DT\"].astype(str))\n",
    "bene_2009 = bene_2009.set_index(\"DESYNPUF_ID\")\n",
    "bene_2009"
   ],
   "metadata": {
    "collapsed": false,
    "ExecuteTime": {
     "end_time": "2023-12-12T21:26:49.567921200Z",
     "start_time": "2023-12-12T21:26:48.743042400Z"
    }
   }
  },
  {
   "cell_type": "code",
   "execution_count": 4,
   "outputs": [
    {
     "data": {
      "text/plain": "                 BENE_BIRTH_DT  BENE_DEATH_DT  BENE_SEX_IDENT_CD  \\\nDESYNPUF_ID                                                        \n00013D2EFD8E45D1    1923-05-01            NaN                  1   \n00016F745862898F    1943-01-01            NaN                  1   \n0001FDD721E223DC    1936-09-01            NaN                  2   \n00021CA6FF03E670    1941-06-01            NaN                  1   \n00024B3D2352D2D0    1936-08-01            NaN                  1   \n...                        ...            ...                ...   \nFFFD7C464C94D136    1943-07-01            NaN                  2   \nFFFE3ED9582AD46E    1916-06-01     20101101.0                  2   \nFFFE7AB5D7F1725D    1939-04-01            NaN                  2   \nFFFF29A2E1362059    1911-07-01            NaN                  1   \nFFFF7C107A4E385A    1952-04-01            NaN                  2   \n\n                  BENE_RACE_CD BENE_ESRD_IND  SP_STATE_CODE  BENE_COUNTY_CD  \\\nDESYNPUF_ID                                                                   \n00013D2EFD8E45D1             1             0             26             950   \n00016F745862898F             1             Y             39             230   \n0001FDD721E223DC             1             0             39             280   \n00021CA6FF03E670             5             0              6             290   \n00024B3D2352D2D0             1             0             52             590   \n...                        ...           ...            ...             ...   \nFFFD7C464C94D136             1             0             54               0   \nFFFE3ED9582AD46E             1             0              6             150   \nFFFE7AB5D7F1725D             1             0             23             490   \nFFFF29A2E1362059             1             0             29              20   \nFFFF7C107A4E385A             1             0             21              20   \n\n                  BENE_HI_CVRAGE_TOT_MONS  BENE_SMI_CVRAGE_TOT_MONS  \\\nDESYNPUF_ID                                                           \n00013D2EFD8E45D1                       12                        12   \n00016F745862898F                       12                        12   \n0001FDD721E223DC                       12                        12   \n00021CA6FF03E670                       12                        12   \n00024B3D2352D2D0                        9                        12   \n...                                   ...                       ...   \nFFFD7C464C94D136                       12                        12   \nFFFE3ED9582AD46E                       12                        12   \nFFFE7AB5D7F1725D                       12                        12   \nFFFF29A2E1362059                        0                         0   \nFFFF7C107A4E385A                       12                        12   \n\n                  BENE_HMO_CVRAGE_TOT_MONS  ...  MEDREIMB_IP  BENRES_IP  \\\nDESYNPUF_ID                                 ...                           \n00013D2EFD8E45D1                        12  ...       4000.0     1100.0   \n00016F745862898F                         0  ...      16000.0     1100.0   \n0001FDD721E223DC                         0  ...          0.0        0.0   \n00021CA6FF03E670                         0  ...          0.0        0.0   \n00024B3D2352D2D0                        12  ...          0.0        0.0   \n...                                    ...  ...          ...        ...   \nFFFD7C464C94D136                         0  ...          0.0        0.0   \nFFFE3ED9582AD46E                         0  ...          0.0        0.0   \nFFFE7AB5D7F1725D                        12  ...          0.0        0.0   \nFFFF29A2E1362059                         0  ...          0.0        0.0   \nFFFF7C107A4E385A                         0  ...          0.0        0.0   \n\n                  PPPYMT_IP  MEDREIMB_OP  BENRES_OP  PPPYMT_OP  MEDREIMB_CAR  \\\nDESYNPUF_ID                                                                    \n00013D2EFD8E45D1        0.0          0.0        0.0        0.0          90.0   \n00016F745862898F        0.0          0.0        0.0        0.0         930.0   \n0001FDD721E223DC        0.0          0.0        0.0        0.0           0.0   \n00021CA6FF03E670        0.0          0.0        0.0        0.0           0.0   \n00024B3D2352D2D0        0.0         40.0        0.0        0.0         590.0   \n...                     ...          ...        ...        ...           ...   \nFFFD7C464C94D136        0.0          0.0        0.0        0.0          20.0   \nFFFE3ED9582AD46E        0.0        360.0      280.0        0.0        1040.0   \nFFFE7AB5D7F1725D        0.0          0.0        0.0        0.0           0.0   \nFFFF29A2E1362059        0.0          0.0        0.0        0.0           0.0   \nFFFF7C107A4E385A        0.0        520.0       20.0        0.0        1200.0   \n\n                  BENRES_CAR  PPPYMT_CAR       Year  \nDESYNPUF_ID                                          \n00013D2EFD8E45D1        30.0         0.0 2010-12-31  \n00016F745862898F       150.0         0.0 2010-12-31  \n0001FDD721E223DC         0.0         0.0 2010-12-31  \n00021CA6FF03E670         0.0         0.0 2010-12-31  \n00024B3D2352D2D0        60.0         0.0 2010-12-31  \n...                      ...         ...        ...  \nFFFD7C464C94D136        10.0         0.0 2010-12-31  \nFFFE3ED9582AD46E       330.0         0.0 2010-12-31  \nFFFE7AB5D7F1725D         0.0         0.0 2010-12-31  \nFFFF29A2E1362059         0.0         0.0 2010-12-31  \nFFFF7C107A4E385A       380.0         0.0 2010-12-31  \n\n[112754 rows x 32 columns]",
      "text/html": "<div>\n<style scoped>\n    .dataframe tbody tr th:only-of-type {\n        vertical-align: middle;\n    }\n\n    .dataframe tbody tr th {\n        vertical-align: top;\n    }\n\n    .dataframe thead th {\n        text-align: right;\n    }\n</style>\n<table border=\"1\" class=\"dataframe\">\n  <thead>\n    <tr style=\"text-align: right;\">\n      <th></th>\n      <th>BENE_BIRTH_DT</th>\n      <th>BENE_DEATH_DT</th>\n      <th>BENE_SEX_IDENT_CD</th>\n      <th>BENE_RACE_CD</th>\n      <th>BENE_ESRD_IND</th>\n      <th>SP_STATE_CODE</th>\n      <th>BENE_COUNTY_CD</th>\n      <th>BENE_HI_CVRAGE_TOT_MONS</th>\n      <th>BENE_SMI_CVRAGE_TOT_MONS</th>\n      <th>BENE_HMO_CVRAGE_TOT_MONS</th>\n      <th>...</th>\n      <th>MEDREIMB_IP</th>\n      <th>BENRES_IP</th>\n      <th>PPPYMT_IP</th>\n      <th>MEDREIMB_OP</th>\n      <th>BENRES_OP</th>\n      <th>PPPYMT_OP</th>\n      <th>MEDREIMB_CAR</th>\n      <th>BENRES_CAR</th>\n      <th>PPPYMT_CAR</th>\n      <th>Year</th>\n    </tr>\n    <tr>\n      <th>DESYNPUF_ID</th>\n      <th></th>\n      <th></th>\n      <th></th>\n      <th></th>\n      <th></th>\n      <th></th>\n      <th></th>\n      <th></th>\n      <th></th>\n      <th></th>\n      <th></th>\n      <th></th>\n      <th></th>\n      <th></th>\n      <th></th>\n      <th></th>\n      <th></th>\n      <th></th>\n      <th></th>\n      <th></th>\n      <th></th>\n    </tr>\n  </thead>\n  <tbody>\n    <tr>\n      <th>00013D2EFD8E45D1</th>\n      <td>1923-05-01</td>\n      <td>NaN</td>\n      <td>1</td>\n      <td>1</td>\n      <td>0</td>\n      <td>26</td>\n      <td>950</td>\n      <td>12</td>\n      <td>12</td>\n      <td>12</td>\n      <td>...</td>\n      <td>4000.0</td>\n      <td>1100.0</td>\n      <td>0.0</td>\n      <td>0.0</td>\n      <td>0.0</td>\n      <td>0.0</td>\n      <td>90.0</td>\n      <td>30.0</td>\n      <td>0.0</td>\n      <td>2010-12-31</td>\n    </tr>\n    <tr>\n      <th>00016F745862898F</th>\n      <td>1943-01-01</td>\n      <td>NaN</td>\n      <td>1</td>\n      <td>1</td>\n      <td>Y</td>\n      <td>39</td>\n      <td>230</td>\n      <td>12</td>\n      <td>12</td>\n      <td>0</td>\n      <td>...</td>\n      <td>16000.0</td>\n      <td>1100.0</td>\n      <td>0.0</td>\n      <td>0.0</td>\n      <td>0.0</td>\n      <td>0.0</td>\n      <td>930.0</td>\n      <td>150.0</td>\n      <td>0.0</td>\n      <td>2010-12-31</td>\n    </tr>\n    <tr>\n      <th>0001FDD721E223DC</th>\n      <td>1936-09-01</td>\n      <td>NaN</td>\n      <td>2</td>\n      <td>1</td>\n      <td>0</td>\n      <td>39</td>\n      <td>280</td>\n      <td>12</td>\n      <td>12</td>\n      <td>0</td>\n      <td>...</td>\n      <td>0.0</td>\n      <td>0.0</td>\n      <td>0.0</td>\n      <td>0.0</td>\n      <td>0.0</td>\n      <td>0.0</td>\n      <td>0.0</td>\n      <td>0.0</td>\n      <td>0.0</td>\n      <td>2010-12-31</td>\n    </tr>\n    <tr>\n      <th>00021CA6FF03E670</th>\n      <td>1941-06-01</td>\n      <td>NaN</td>\n      <td>1</td>\n      <td>5</td>\n      <td>0</td>\n      <td>6</td>\n      <td>290</td>\n      <td>12</td>\n      <td>12</td>\n      <td>0</td>\n      <td>...</td>\n      <td>0.0</td>\n      <td>0.0</td>\n      <td>0.0</td>\n      <td>0.0</td>\n      <td>0.0</td>\n      <td>0.0</td>\n      <td>0.0</td>\n      <td>0.0</td>\n      <td>0.0</td>\n      <td>2010-12-31</td>\n    </tr>\n    <tr>\n      <th>00024B3D2352D2D0</th>\n      <td>1936-08-01</td>\n      <td>NaN</td>\n      <td>1</td>\n      <td>1</td>\n      <td>0</td>\n      <td>52</td>\n      <td>590</td>\n      <td>9</td>\n      <td>12</td>\n      <td>12</td>\n      <td>...</td>\n      <td>0.0</td>\n      <td>0.0</td>\n      <td>0.0</td>\n      <td>40.0</td>\n      <td>0.0</td>\n      <td>0.0</td>\n      <td>590.0</td>\n      <td>60.0</td>\n      <td>0.0</td>\n      <td>2010-12-31</td>\n    </tr>\n    <tr>\n      <th>...</th>\n      <td>...</td>\n      <td>...</td>\n      <td>...</td>\n      <td>...</td>\n      <td>...</td>\n      <td>...</td>\n      <td>...</td>\n      <td>...</td>\n      <td>...</td>\n      <td>...</td>\n      <td>...</td>\n      <td>...</td>\n      <td>...</td>\n      <td>...</td>\n      <td>...</td>\n      <td>...</td>\n      <td>...</td>\n      <td>...</td>\n      <td>...</td>\n      <td>...</td>\n      <td>...</td>\n    </tr>\n    <tr>\n      <th>FFFD7C464C94D136</th>\n      <td>1943-07-01</td>\n      <td>NaN</td>\n      <td>2</td>\n      <td>1</td>\n      <td>0</td>\n      <td>54</td>\n      <td>0</td>\n      <td>12</td>\n      <td>12</td>\n      <td>0</td>\n      <td>...</td>\n      <td>0.0</td>\n      <td>0.0</td>\n      <td>0.0</td>\n      <td>0.0</td>\n      <td>0.0</td>\n      <td>0.0</td>\n      <td>20.0</td>\n      <td>10.0</td>\n      <td>0.0</td>\n      <td>2010-12-31</td>\n    </tr>\n    <tr>\n      <th>FFFE3ED9582AD46E</th>\n      <td>1916-06-01</td>\n      <td>20101101.0</td>\n      <td>2</td>\n      <td>1</td>\n      <td>0</td>\n      <td>6</td>\n      <td>150</td>\n      <td>12</td>\n      <td>12</td>\n      <td>0</td>\n      <td>...</td>\n      <td>0.0</td>\n      <td>0.0</td>\n      <td>0.0</td>\n      <td>360.0</td>\n      <td>280.0</td>\n      <td>0.0</td>\n      <td>1040.0</td>\n      <td>330.0</td>\n      <td>0.0</td>\n      <td>2010-12-31</td>\n    </tr>\n    <tr>\n      <th>FFFE7AB5D7F1725D</th>\n      <td>1939-04-01</td>\n      <td>NaN</td>\n      <td>2</td>\n      <td>1</td>\n      <td>0</td>\n      <td>23</td>\n      <td>490</td>\n      <td>12</td>\n      <td>12</td>\n      <td>12</td>\n      <td>...</td>\n      <td>0.0</td>\n      <td>0.0</td>\n      <td>0.0</td>\n      <td>0.0</td>\n      <td>0.0</td>\n      <td>0.0</td>\n      <td>0.0</td>\n      <td>0.0</td>\n      <td>0.0</td>\n      <td>2010-12-31</td>\n    </tr>\n    <tr>\n      <th>FFFF29A2E1362059</th>\n      <td>1911-07-01</td>\n      <td>NaN</td>\n      <td>1</td>\n      <td>1</td>\n      <td>0</td>\n      <td>29</td>\n      <td>20</td>\n      <td>0</td>\n      <td>0</td>\n      <td>0</td>\n      <td>...</td>\n      <td>0.0</td>\n      <td>0.0</td>\n      <td>0.0</td>\n      <td>0.0</td>\n      <td>0.0</td>\n      <td>0.0</td>\n      <td>0.0</td>\n      <td>0.0</td>\n      <td>0.0</td>\n      <td>2010-12-31</td>\n    </tr>\n    <tr>\n      <th>FFFF7C107A4E385A</th>\n      <td>1952-04-01</td>\n      <td>NaN</td>\n      <td>2</td>\n      <td>1</td>\n      <td>0</td>\n      <td>21</td>\n      <td>20</td>\n      <td>12</td>\n      <td>12</td>\n      <td>0</td>\n      <td>...</td>\n      <td>0.0</td>\n      <td>0.0</td>\n      <td>0.0</td>\n      <td>520.0</td>\n      <td>20.0</td>\n      <td>0.0</td>\n      <td>1200.0</td>\n      <td>380.0</td>\n      <td>0.0</td>\n      <td>2010-12-31</td>\n    </tr>\n  </tbody>\n</table>\n<p>112754 rows × 32 columns</p>\n</div>"
     },
     "execution_count": 4,
     "metadata": {},
     "output_type": "execute_result"
    }
   ],
   "source": [
    "bene_2010 = pd.read_csv(\"data/beneficiary/DE1_0_2010_Beneficiary_Summary_File_Sample_1.csv\")\n",
    "bene_2010[\"Year\"] = pd.to_datetime(\"12-31-2010\")\n",
    "bene_2010[\"BENE_BIRTH_DT\"] = pd.to_datetime(bene_2010[\"BENE_BIRTH_DT\"].astype(str))\n",
    "bene_2010 = bene_2010.set_index(\"DESYNPUF_ID\")\n",
    "bene_2010"
   ],
   "metadata": {
    "collapsed": false,
    "ExecuteTime": {
     "end_time": "2023-12-12T21:26:50.315433600Z",
     "start_time": "2023-12-12T21:26:49.549282600Z"
    }
   }
  },
  {
   "cell_type": "code",
   "execution_count": 5,
   "outputs": [
    {
     "data": {
      "text/plain": "                  Claim Count  CLM_PMT_AMT\nDESYNPUF_ID                               \n00013D2EFD8E45D1            1       4000.0\n00016F745862898F            4      52000.0\n00052705243EA128            1      14000.0\n0007F12A492FD25D            4      53000.0\n000B97BA2314E971            1       2000.0\n...                       ...          ...\nFFF5F9218AB04A41            2       9000.0\nFFF8B49458F9FFA7            2      13000.0\nFFFA950301FCA748            1       7000.0\nFFFC880E13CA6278            1      10000.0\nFFFE3ED9582AD46E            1       2000.0\n\n[37780 rows x 2 columns]",
      "text/html": "<div>\n<style scoped>\n    .dataframe tbody tr th:only-of-type {\n        vertical-align: middle;\n    }\n\n    .dataframe tbody tr th {\n        vertical-align: top;\n    }\n\n    .dataframe thead th {\n        text-align: right;\n    }\n</style>\n<table border=\"1\" class=\"dataframe\">\n  <thead>\n    <tr style=\"text-align: right;\">\n      <th></th>\n      <th>Claim Count</th>\n      <th>CLM_PMT_AMT</th>\n    </tr>\n    <tr>\n      <th>DESYNPUF_ID</th>\n      <th></th>\n      <th></th>\n    </tr>\n  </thead>\n  <tbody>\n    <tr>\n      <th>00013D2EFD8E45D1</th>\n      <td>1</td>\n      <td>4000.0</td>\n    </tr>\n    <tr>\n      <th>00016F745862898F</th>\n      <td>4</td>\n      <td>52000.0</td>\n    </tr>\n    <tr>\n      <th>00052705243EA128</th>\n      <td>1</td>\n      <td>14000.0</td>\n    </tr>\n    <tr>\n      <th>0007F12A492FD25D</th>\n      <td>4</td>\n      <td>53000.0</td>\n    </tr>\n    <tr>\n      <th>000B97BA2314E971</th>\n      <td>1</td>\n      <td>2000.0</td>\n    </tr>\n    <tr>\n      <th>...</th>\n      <td>...</td>\n      <td>...</td>\n    </tr>\n    <tr>\n      <th>FFF5F9218AB04A41</th>\n      <td>2</td>\n      <td>9000.0</td>\n    </tr>\n    <tr>\n      <th>FFF8B49458F9FFA7</th>\n      <td>2</td>\n      <td>13000.0</td>\n    </tr>\n    <tr>\n      <th>FFFA950301FCA748</th>\n      <td>1</td>\n      <td>7000.0</td>\n    </tr>\n    <tr>\n      <th>FFFC880E13CA6278</th>\n      <td>1</td>\n      <td>10000.0</td>\n    </tr>\n    <tr>\n      <th>FFFE3ED9582AD46E</th>\n      <td>1</td>\n      <td>2000.0</td>\n    </tr>\n  </tbody>\n</table>\n<p>37780 rows × 2 columns</p>\n</div>"
     },
     "execution_count": 5,
     "metadata": {},
     "output_type": "execute_result"
    }
   ],
   "source": [
    "ip_claims = pd.read_csv(\"data/inpatient/DE1_0_2008_to_2010_Inpatient_Claims_Sample_1.csv\")\n",
    "ip_claims[\"Claim Count\"] = 1\n",
    "ip_claims = ip_claims[[\"DESYNPUF_ID\", \"Claim Count\", \"CLM_PMT_AMT\"]].groupby(\"DESYNPUF_ID\").sum()\n",
    "ip_claims"
   ],
   "metadata": {
    "collapsed": false,
    "ExecuteTime": {
     "end_time": "2023-12-12T21:26:51.055091900Z",
     "start_time": "2023-12-12T21:26:50.283578800Z"
    }
   }
  },
  {
   "cell_type": "code",
   "execution_count": 6,
   "outputs": [
    {
     "data": {
      "text/plain": "                  Est Age in Days  CLM_PMT_AMT  Claim Count BENE_RACE_CD  \\\nDESYNPUF_ID                                                                \n00013D2EFD8E45D1            32021       4000.0            1            1   \n00016F745862898F            24836      52000.0            4            1   \n00052705243EA128            28003      14000.0            1            1   \n0007F12A492FD25D            33359      53000.0            4            2   \n000B97BA2314E971            26572       2000.0            1            1   \n...                           ...          ...          ...          ...   \nFFF5F9218AB04A41            20910       9000.0            2            1   \nFFF8B49458F9FFA7            33237      13000.0            2            1   \nFFFA950301FCA748            18811       7000.0            1            1   \nFFFC880E13CA6278            27058      10000.0            1            1   \nFFFE3ED9582AD46E            34546       2000.0            1            1   \n\n                 BENE_SEX_IDENT_CD  SP_ALZHDMTA  SP_CHF  SP_CHRNKIDN  SP_CNCR  \\\nDESYNPUF_ID                                                                     \n00013D2EFD8E45D1                 1            0       1            0        0   \n00016F745862898F                 1            1       1            1        0   \n00052705243EA128                 1            0       0            1        1   \n0007F12A492FD25D                 0            0       1            1        0   \n000B97BA2314E971                 1            0       0            0        0   \n...                            ...          ...     ...          ...      ...   \nFFF5F9218AB04A41                 0            0       0            0        0   \nFFF8B49458F9FFA7                 0            1       1            1        0   \nFFFA950301FCA748                 1            0       0            0        0   \nFFFC880E13CA6278                 0            0       0            0        0   \nFFFE3ED9582AD46E                 0            0       0            0        0   \n\n                  SP_COPD  SP_DEPRESSN  SP_DIABETES  SP_ISCHMCHT  SP_OSTEOPRS  \\\nDESYNPUF_ID                                                                     \n00013D2EFD8E45D1        0            0            0            0            1   \n00016F745862898F        0            0            1            0            0   \n00052705243EA128        0            0            1            1            0   \n0007F12A492FD25D        1            1            1            1            0   \n000B97BA2314E971        0            0            0            0            1   \n...                   ...          ...          ...          ...          ...   \nFFF5F9218AB04A41        0            0            0            0            0   \nFFF8B49458F9FFA7        0            0            0            1            0   \nFFFA950301FCA748        0            1            1            1            1   \nFFFC880E13CA6278        0            0            0            0            0   \nFFFE3ED9582AD46E        0            0            1            0            1   \n\n                  SP_RA_OA  SP_STRKETIA  \nDESYNPUF_ID                              \n00013D2EFD8E45D1         0            0  \n00016F745862898F         0            0  \n00052705243EA128         0            0  \n0007F12A492FD25D         0            0  \n000B97BA2314E971         0            0  \n...                    ...          ...  \nFFF5F9218AB04A41         0            0  \nFFF8B49458F9FFA7         0            0  \nFFFA950301FCA748         0            0  \nFFFC880E13CA6278         0            0  \nFFFE3ED9582AD46E         0            0  \n\n[37780 rows x 16 columns]",
      "text/html": "<div>\n<style scoped>\n    .dataframe tbody tr th:only-of-type {\n        vertical-align: middle;\n    }\n\n    .dataframe tbody tr th {\n        vertical-align: top;\n    }\n\n    .dataframe thead th {\n        text-align: right;\n    }\n</style>\n<table border=\"1\" class=\"dataframe\">\n  <thead>\n    <tr style=\"text-align: right;\">\n      <th></th>\n      <th>Est Age in Days</th>\n      <th>CLM_PMT_AMT</th>\n      <th>Claim Count</th>\n      <th>BENE_RACE_CD</th>\n      <th>BENE_SEX_IDENT_CD</th>\n      <th>SP_ALZHDMTA</th>\n      <th>SP_CHF</th>\n      <th>SP_CHRNKIDN</th>\n      <th>SP_CNCR</th>\n      <th>SP_COPD</th>\n      <th>SP_DEPRESSN</th>\n      <th>SP_DIABETES</th>\n      <th>SP_ISCHMCHT</th>\n      <th>SP_OSTEOPRS</th>\n      <th>SP_RA_OA</th>\n      <th>SP_STRKETIA</th>\n    </tr>\n    <tr>\n      <th>DESYNPUF_ID</th>\n      <th></th>\n      <th></th>\n      <th></th>\n      <th></th>\n      <th></th>\n      <th></th>\n      <th></th>\n      <th></th>\n      <th></th>\n      <th></th>\n      <th></th>\n      <th></th>\n      <th></th>\n      <th></th>\n      <th></th>\n      <th></th>\n    </tr>\n  </thead>\n  <tbody>\n    <tr>\n      <th>00013D2EFD8E45D1</th>\n      <td>32021</td>\n      <td>4000.0</td>\n      <td>1</td>\n      <td>1</td>\n      <td>1</td>\n      <td>0</td>\n      <td>1</td>\n      <td>0</td>\n      <td>0</td>\n      <td>0</td>\n      <td>0</td>\n      <td>0</td>\n      <td>0</td>\n      <td>1</td>\n      <td>0</td>\n      <td>0</td>\n    </tr>\n    <tr>\n      <th>00016F745862898F</th>\n      <td>24836</td>\n      <td>52000.0</td>\n      <td>4</td>\n      <td>1</td>\n      <td>1</td>\n      <td>1</td>\n      <td>1</td>\n      <td>1</td>\n      <td>0</td>\n      <td>0</td>\n      <td>0</td>\n      <td>1</td>\n      <td>0</td>\n      <td>0</td>\n      <td>0</td>\n      <td>0</td>\n    </tr>\n    <tr>\n      <th>00052705243EA128</th>\n      <td>28003</td>\n      <td>14000.0</td>\n      <td>1</td>\n      <td>1</td>\n      <td>1</td>\n      <td>0</td>\n      <td>0</td>\n      <td>1</td>\n      <td>1</td>\n      <td>0</td>\n      <td>0</td>\n      <td>1</td>\n      <td>1</td>\n      <td>0</td>\n      <td>0</td>\n      <td>0</td>\n    </tr>\n    <tr>\n      <th>0007F12A492FD25D</th>\n      <td>33359</td>\n      <td>53000.0</td>\n      <td>4</td>\n      <td>2</td>\n      <td>0</td>\n      <td>0</td>\n      <td>1</td>\n      <td>1</td>\n      <td>0</td>\n      <td>1</td>\n      <td>1</td>\n      <td>1</td>\n      <td>1</td>\n      <td>0</td>\n      <td>0</td>\n      <td>0</td>\n    </tr>\n    <tr>\n      <th>000B97BA2314E971</th>\n      <td>26572</td>\n      <td>2000.0</td>\n      <td>1</td>\n      <td>1</td>\n      <td>1</td>\n      <td>0</td>\n      <td>0</td>\n      <td>0</td>\n      <td>0</td>\n      <td>0</td>\n      <td>0</td>\n      <td>0</td>\n      <td>0</td>\n      <td>1</td>\n      <td>0</td>\n      <td>0</td>\n    </tr>\n    <tr>\n      <th>...</th>\n      <td>...</td>\n      <td>...</td>\n      <td>...</td>\n      <td>...</td>\n      <td>...</td>\n      <td>...</td>\n      <td>...</td>\n      <td>...</td>\n      <td>...</td>\n      <td>...</td>\n      <td>...</td>\n      <td>...</td>\n      <td>...</td>\n      <td>...</td>\n      <td>...</td>\n      <td>...</td>\n    </tr>\n    <tr>\n      <th>FFF5F9218AB04A41</th>\n      <td>20910</td>\n      <td>9000.0</td>\n      <td>2</td>\n      <td>1</td>\n      <td>0</td>\n      <td>0</td>\n      <td>0</td>\n      <td>0</td>\n      <td>0</td>\n      <td>0</td>\n      <td>0</td>\n      <td>0</td>\n      <td>0</td>\n      <td>0</td>\n      <td>0</td>\n      <td>0</td>\n    </tr>\n    <tr>\n      <th>FFF8B49458F9FFA7</th>\n      <td>33237</td>\n      <td>13000.0</td>\n      <td>2</td>\n      <td>1</td>\n      <td>0</td>\n      <td>1</td>\n      <td>1</td>\n      <td>1</td>\n      <td>0</td>\n      <td>0</td>\n      <td>0</td>\n      <td>0</td>\n      <td>1</td>\n      <td>0</td>\n      <td>0</td>\n      <td>0</td>\n    </tr>\n    <tr>\n      <th>FFFA950301FCA748</th>\n      <td>18811</td>\n      <td>7000.0</td>\n      <td>1</td>\n      <td>1</td>\n      <td>1</td>\n      <td>0</td>\n      <td>0</td>\n      <td>0</td>\n      <td>0</td>\n      <td>0</td>\n      <td>1</td>\n      <td>1</td>\n      <td>1</td>\n      <td>1</td>\n      <td>0</td>\n      <td>0</td>\n    </tr>\n    <tr>\n      <th>FFFC880E13CA6278</th>\n      <td>27058</td>\n      <td>10000.0</td>\n      <td>1</td>\n      <td>1</td>\n      <td>0</td>\n      <td>0</td>\n      <td>0</td>\n      <td>0</td>\n      <td>0</td>\n      <td>0</td>\n      <td>0</td>\n      <td>0</td>\n      <td>0</td>\n      <td>0</td>\n      <td>0</td>\n      <td>0</td>\n    </tr>\n    <tr>\n      <th>FFFE3ED9582AD46E</th>\n      <td>34546</td>\n      <td>2000.0</td>\n      <td>1</td>\n      <td>1</td>\n      <td>0</td>\n      <td>0</td>\n      <td>0</td>\n      <td>0</td>\n      <td>0</td>\n      <td>0</td>\n      <td>0</td>\n      <td>1</td>\n      <td>0</td>\n      <td>1</td>\n      <td>0</td>\n      <td>0</td>\n    </tr>\n  </tbody>\n</table>\n<p>37780 rows × 16 columns</p>\n</div>"
     },
     "execution_count": 6,
     "metadata": {},
     "output_type": "execute_result"
    }
   ],
   "source": [
    "benes = pd.concat([bene_2010, bene_2009, bene_2008])\n",
    "benes = benes[~benes.index.duplicated(keep='first')]\n",
    "benes = benes.merge(how = \"right\", right=ip_claims, left_index=True, right_index=True)\n",
    "benes[\"Est Age in Days\"] = (benes[\"Year\"] - benes[\"BENE_BIRTH_DT\"]).apply(lambda x: x.days)\n",
    "benes[\"BENE_RACE_CD\"] = benes[\"BENE_RACE_CD\"].astype(str)\n",
    "benes = benes[[\"Est Age in Days\", \"CLM_PMT_AMT\", \"Claim Count\", \"BENE_RACE_CD\", \"BENE_SEX_IDENT_CD\",\n",
    "               \"SP_ALZHDMTA\", \"SP_CHF\", \"SP_CHRNKIDN\",\n",
    "               \"SP_CNCR\", \"SP_COPD\", \"SP_DEPRESSN\",\n",
    "               \"SP_DIABETES\", \"SP_ISCHMCHT\", \"SP_OSTEOPRS\",\n",
    "               \"SP_RA_OA\", \"SP_STRKETIA\"]]\n",
    "benes.loc[:, [\"SP_ALZHDMTA\", \"SP_CHF\", \"SP_CHRNKIDN\", \"SP_CNCR\", \"SP_COPD\", \"SP_DEPRESSN\", \"SP_DIABETES\", \"SP_ISCHMCHT\", \"SP_OSTEOPRS\", \"SP_RA_OA\", \"SP_STRKETIA\"]] = benes.loc[:, [\"SP_ALZHDMTA\", \"SP_CHF\", \"SP_CHRNKIDN\", \"SP_CNCR\", \"SP_COPD\", \"SP_DEPRESSN\", \"SP_DIABETES\", \"SP_ISCHMCHT\", \"SP_OSTEOPRS\", \"SP_RA_OA\", \"SP_STRKETIA\"]].mod(2)\n",
    "benes[\"BENE_SEX_IDENT_CD\"] = benes[\"BENE_SEX_IDENT_CD\"].mod(2).astype(str)\n",
    "benes"
   ],
   "metadata": {
    "collapsed": false,
    "ExecuteTime": {
     "end_time": "2023-12-12T21:26:52.061908200Z",
     "start_time": "2023-12-12T21:26:51.468590Z"
    }
   }
  },
  {
   "cell_type": "code",
   "execution_count": 7,
   "outputs": [
    {
     "data": {
      "text/plain": "                  Est Age in Days  CLM_PMT_AMT  Claim Count BENE_RACE_CD  \\\nDESYNPUF_ID                                                                \n00013D2EFD8E45D1            32021       4000.0            1            1   \n00016F745862898F            24836      52000.0            4            1   \n00052705243EA128            28003      14000.0            1            1   \n0007F12A492FD25D            33359      53000.0            4            2   \n000B97BA2314E971            26572       2000.0            1            1   \n...                           ...          ...          ...          ...   \nFFF5F9218AB04A41            20910       9000.0            2            1   \nFFF8B49458F9FFA7            33237      13000.0            2            1   \nFFFA950301FCA748            18811       7000.0            1            1   \nFFFC880E13CA6278            27058      10000.0            1            1   \nFFFE3ED9582AD46E            34546       2000.0            1            1   \n\n                 BENE_SEX_IDENT_CD SP_ALZHDMTA SP_CHF SP_CHRNKIDN SP_CNCR  \\\nDESYNPUF_ID                                                                 \n00013D2EFD8E45D1                 1           0      1           0       0   \n00016F745862898F                 1           1      1           1       0   \n00052705243EA128                 1           0      0           1       1   \n0007F12A492FD25D                 0           0      1           1       0   \n000B97BA2314E971                 1           0      0           0       0   \n...                            ...         ...    ...         ...     ...   \nFFF5F9218AB04A41                 0           0      0           0       0   \nFFF8B49458F9FFA7                 0           1      1           1       0   \nFFFA950301FCA748                 1           0      0           0       0   \nFFFC880E13CA6278                 0           0      0           0       0   \nFFFE3ED9582AD46E                 0           0      0           0       0   \n\n                 SP_COPD SP_OSTEOPRS SP_RA_OA SP_STRKETIA CC Group  \nDESYNPUF_ID                                                         \n00013D2EFD8E45D1       0           1        0           0        0  \n00016F745862898F       0           0        0           0        2  \n00052705243EA128       0           0        0           0        4  \n0007F12A492FD25D       1           0        0           0        7  \n000B97BA2314E971       0           1        0           0        0  \n...                  ...         ...      ...         ...      ...  \nFFF5F9218AB04A41       0           0        0           0        0  \nFFF8B49458F9FFA7       0           0        0           0        3  \nFFFA950301FCA748       0           1        0           0        7  \nFFFC880E13CA6278       0           0        0           0        0  \nFFFE3ED9582AD46E       0           1        0           0        2  \n\n[37780 rows x 14 columns]",
      "text/html": "<div>\n<style scoped>\n    .dataframe tbody tr th:only-of-type {\n        vertical-align: middle;\n    }\n\n    .dataframe tbody tr th {\n        vertical-align: top;\n    }\n\n    .dataframe thead th {\n        text-align: right;\n    }\n</style>\n<table border=\"1\" class=\"dataframe\">\n  <thead>\n    <tr style=\"text-align: right;\">\n      <th></th>\n      <th>Est Age in Days</th>\n      <th>CLM_PMT_AMT</th>\n      <th>Claim Count</th>\n      <th>BENE_RACE_CD</th>\n      <th>BENE_SEX_IDENT_CD</th>\n      <th>SP_ALZHDMTA</th>\n      <th>SP_CHF</th>\n      <th>SP_CHRNKIDN</th>\n      <th>SP_CNCR</th>\n      <th>SP_COPD</th>\n      <th>SP_OSTEOPRS</th>\n      <th>SP_RA_OA</th>\n      <th>SP_STRKETIA</th>\n      <th>CC Group</th>\n    </tr>\n    <tr>\n      <th>DESYNPUF_ID</th>\n      <th></th>\n      <th></th>\n      <th></th>\n      <th></th>\n      <th></th>\n      <th></th>\n      <th></th>\n      <th></th>\n      <th></th>\n      <th></th>\n      <th></th>\n      <th></th>\n      <th></th>\n      <th></th>\n    </tr>\n  </thead>\n  <tbody>\n    <tr>\n      <th>00013D2EFD8E45D1</th>\n      <td>32021</td>\n      <td>4000.0</td>\n      <td>1</td>\n      <td>1</td>\n      <td>1</td>\n      <td>0</td>\n      <td>1</td>\n      <td>0</td>\n      <td>0</td>\n      <td>0</td>\n      <td>1</td>\n      <td>0</td>\n      <td>0</td>\n      <td>0</td>\n    </tr>\n    <tr>\n      <th>00016F745862898F</th>\n      <td>24836</td>\n      <td>52000.0</td>\n      <td>4</td>\n      <td>1</td>\n      <td>1</td>\n      <td>1</td>\n      <td>1</td>\n      <td>1</td>\n      <td>0</td>\n      <td>0</td>\n      <td>0</td>\n      <td>0</td>\n      <td>0</td>\n      <td>2</td>\n    </tr>\n    <tr>\n      <th>00052705243EA128</th>\n      <td>28003</td>\n      <td>14000.0</td>\n      <td>1</td>\n      <td>1</td>\n      <td>1</td>\n      <td>0</td>\n      <td>0</td>\n      <td>1</td>\n      <td>1</td>\n      <td>0</td>\n      <td>0</td>\n      <td>0</td>\n      <td>0</td>\n      <td>4</td>\n    </tr>\n    <tr>\n      <th>0007F12A492FD25D</th>\n      <td>33359</td>\n      <td>53000.0</td>\n      <td>4</td>\n      <td>2</td>\n      <td>0</td>\n      <td>0</td>\n      <td>1</td>\n      <td>1</td>\n      <td>0</td>\n      <td>1</td>\n      <td>0</td>\n      <td>0</td>\n      <td>0</td>\n      <td>7</td>\n    </tr>\n    <tr>\n      <th>000B97BA2314E971</th>\n      <td>26572</td>\n      <td>2000.0</td>\n      <td>1</td>\n      <td>1</td>\n      <td>1</td>\n      <td>0</td>\n      <td>0</td>\n      <td>0</td>\n      <td>0</td>\n      <td>0</td>\n      <td>1</td>\n      <td>0</td>\n      <td>0</td>\n      <td>0</td>\n    </tr>\n    <tr>\n      <th>...</th>\n      <td>...</td>\n      <td>...</td>\n      <td>...</td>\n      <td>...</td>\n      <td>...</td>\n      <td>...</td>\n      <td>...</td>\n      <td>...</td>\n      <td>...</td>\n      <td>...</td>\n      <td>...</td>\n      <td>...</td>\n      <td>...</td>\n      <td>...</td>\n    </tr>\n    <tr>\n      <th>FFF5F9218AB04A41</th>\n      <td>20910</td>\n      <td>9000.0</td>\n      <td>2</td>\n      <td>1</td>\n      <td>0</td>\n      <td>0</td>\n      <td>0</td>\n      <td>0</td>\n      <td>0</td>\n      <td>0</td>\n      <td>0</td>\n      <td>0</td>\n      <td>0</td>\n      <td>0</td>\n    </tr>\n    <tr>\n      <th>FFF8B49458F9FFA7</th>\n      <td>33237</td>\n      <td>13000.0</td>\n      <td>2</td>\n      <td>1</td>\n      <td>0</td>\n      <td>1</td>\n      <td>1</td>\n      <td>1</td>\n      <td>0</td>\n      <td>0</td>\n      <td>0</td>\n      <td>0</td>\n      <td>0</td>\n      <td>3</td>\n    </tr>\n    <tr>\n      <th>FFFA950301FCA748</th>\n      <td>18811</td>\n      <td>7000.0</td>\n      <td>1</td>\n      <td>1</td>\n      <td>1</td>\n      <td>0</td>\n      <td>0</td>\n      <td>0</td>\n      <td>0</td>\n      <td>0</td>\n      <td>1</td>\n      <td>0</td>\n      <td>0</td>\n      <td>7</td>\n    </tr>\n    <tr>\n      <th>FFFC880E13CA6278</th>\n      <td>27058</td>\n      <td>10000.0</td>\n      <td>1</td>\n      <td>1</td>\n      <td>0</td>\n      <td>0</td>\n      <td>0</td>\n      <td>0</td>\n      <td>0</td>\n      <td>0</td>\n      <td>0</td>\n      <td>0</td>\n      <td>0</td>\n      <td>0</td>\n    </tr>\n    <tr>\n      <th>FFFE3ED9582AD46E</th>\n      <td>34546</td>\n      <td>2000.0</td>\n      <td>1</td>\n      <td>1</td>\n      <td>0</td>\n      <td>0</td>\n      <td>0</td>\n      <td>0</td>\n      <td>0</td>\n      <td>0</td>\n      <td>1</td>\n      <td>0</td>\n      <td>0</td>\n      <td>2</td>\n    </tr>\n  </tbody>\n</table>\n<p>37780 rows × 14 columns</p>\n</div>"
     },
     "execution_count": 7,
     "metadata": {},
     "output_type": "execute_result"
    }
   ],
   "source": [
    "bene_cls = benes.copy()\n",
    "bene_cls['CC Group'] = (1 * ((benes['SP_DEPRESSN'] == 1) & (benes['SP_DIABETES'] == 0) & (benes['SP_ISCHMCHT'] == 0)) +\n",
    "                        2 * ((benes['SP_DEPRESSN'] == 0) & (benes['SP_DIABETES'] == 1) & (benes['SP_ISCHMCHT'] == 0)) +\n",
    "                        3 * ((benes['SP_DEPRESSN'] == 0) & (benes['SP_DIABETES'] == 0) & (benes['SP_ISCHMCHT'] == 1)) +\n",
    "                        4 * ((benes['SP_DEPRESSN'] == 0) & (benes['SP_DIABETES'] == 1) & (benes['SP_ISCHMCHT'] == 1)) +\n",
    "                        5 * ((benes['SP_DEPRESSN'] == 1) & (benes['SP_DIABETES'] == 0) & (benes['SP_ISCHMCHT'] == 1)) +\n",
    "                        6 * ((benes['SP_DEPRESSN'] == 1) & (benes['SP_DIABETES'] == 1) & (benes['SP_ISCHMCHT'] == 0)) +\n",
    "                        7 * ((benes['SP_DEPRESSN'] == 1) & (benes['SP_DIABETES'] == 1) & (benes['SP_ISCHMCHT'] == 1))).astype(str)\n",
    "bene_cls.loc[:, [\"SP_ALZHDMTA\", \"SP_CHF\", \"SP_CHRNKIDN\", \"SP_CNCR\", \"SP_COPD\", \"SP_DEPRESSN\", \"SP_DIABETES\", \"SP_ISCHMCHT\", \"SP_OSTEOPRS\", \"SP_RA_OA\", \"SP_STRKETIA\"]] = bene_cls.loc[:, [\"SP_ALZHDMTA\", \"SP_CHF\", \"SP_CHRNKIDN\", \"SP_CNCR\", \"SP_COPD\", \"SP_DEPRESSN\", \"SP_DIABETES\", \"SP_ISCHMCHT\", \"SP_OSTEOPRS\", \"SP_RA_OA\", \"SP_STRKETIA\"]].astype(str)\n",
    "bene_cls = bene_cls.drop(['SP_DEPRESSN', 'SP_DIABETES', 'SP_ISCHMCHT'], axis=1)\n",
    "bene_cls"
   ],
   "metadata": {
    "collapsed": false,
    "ExecuteTime": {
     "end_time": "2023-12-12T21:26:55.077440100Z",
     "start_time": "2023-12-12T21:26:54.306381900Z"
    }
   }
  },
  {
   "cell_type": "code",
   "execution_count": 55,
   "outputs": [],
   "source": [
    "bene_samp = bene_cls.sample(frac=0.1)"
   ],
   "metadata": {
    "collapsed": false,
    "ExecuteTime": {
     "end_time": "2023-12-12T22:23:50.074036600Z",
     "start_time": "2023-12-12T22:23:49.931776300Z"
    }
   }
  },
  {
   "cell_type": "markdown",
   "source": [
    "## K-Nearest Neighbors Classification"
   ],
   "metadata": {
    "collapsed": false
   }
  },
  {
   "cell_type": "code",
   "execution_count": 19,
   "outputs": [],
   "source": [
    "bene_knn = bene_cls.astype(int).reset_index(drop=True)\n",
    "bene_knn[\"CC Group\"] = bene_knn[\"CC Group\"].astype(str)"
   ],
   "metadata": {
    "collapsed": false,
    "ExecuteTime": {
     "end_time": "2023-12-12T21:28:33.087121400Z",
     "start_time": "2023-12-12T21:28:32.984815600Z"
    }
   }
  },
  {
   "cell_type": "code",
   "execution_count": 20,
   "outputs": [
    {
     "data": {
      "text/plain": "       Est Age in Days  CLM_PMT_AMT  Claim Count  BENE_RACE_CD  \\\n0                32021         4000            1             1   \n1                24836        52000            4             1   \n2                28003        14000            1             1   \n3                33359        53000            4             2   \n4                26572         2000            1             1   \n...                ...          ...          ...           ...   \n37775            20910         9000            2             1   \n37776            33237        13000            2             1   \n37777            18811         7000            1             1   \n37778            27058        10000            1             1   \n37779            34546         2000            1             1   \n\n       BENE_SEX_IDENT_CD  SP_ALZHDMTA  SP_CHF  SP_CHRNKIDN  SP_CNCR  SP_COPD  \\\n0                      1            0       1            0        0        0   \n1                      1            1       1            1        0        0   \n2                      1            0       0            1        1        0   \n3                      0            0       1            1        0        1   \n4                      1            0       0            0        0        0   \n...                  ...          ...     ...          ...      ...      ...   \n37775                  0            0       0            0        0        0   \n37776                  0            1       1            1        0        0   \n37777                  1            0       0            0        0        0   \n37778                  0            0       0            0        0        0   \n37779                  0            0       0            0        0        0   \n\n       SP_OSTEOPRS  SP_RA_OA  SP_STRKETIA CC Group  \n0                1         0            0        0  \n1                0         0            0        2  \n2                0         0            0        4  \n3                0         0            0        7  \n4                1         0            0        0  \n...            ...       ...          ...      ...  \n37775            0         0            0        0  \n37776            0         0            0        3  \n37777            1         0            0        7  \n37778            0         0            0        0  \n37779            1         0            0        2  \n\n[37780 rows x 14 columns]",
      "text/html": "<div>\n<style scoped>\n    .dataframe tbody tr th:only-of-type {\n        vertical-align: middle;\n    }\n\n    .dataframe tbody tr th {\n        vertical-align: top;\n    }\n\n    .dataframe thead th {\n        text-align: right;\n    }\n</style>\n<table border=\"1\" class=\"dataframe\">\n  <thead>\n    <tr style=\"text-align: right;\">\n      <th></th>\n      <th>Est Age in Days</th>\n      <th>CLM_PMT_AMT</th>\n      <th>Claim Count</th>\n      <th>BENE_RACE_CD</th>\n      <th>BENE_SEX_IDENT_CD</th>\n      <th>SP_ALZHDMTA</th>\n      <th>SP_CHF</th>\n      <th>SP_CHRNKIDN</th>\n      <th>SP_CNCR</th>\n      <th>SP_COPD</th>\n      <th>SP_OSTEOPRS</th>\n      <th>SP_RA_OA</th>\n      <th>SP_STRKETIA</th>\n      <th>CC Group</th>\n    </tr>\n  </thead>\n  <tbody>\n    <tr>\n      <th>0</th>\n      <td>32021</td>\n      <td>4000</td>\n      <td>1</td>\n      <td>1</td>\n      <td>1</td>\n      <td>0</td>\n      <td>1</td>\n      <td>0</td>\n      <td>0</td>\n      <td>0</td>\n      <td>1</td>\n      <td>0</td>\n      <td>0</td>\n      <td>0</td>\n    </tr>\n    <tr>\n      <th>1</th>\n      <td>24836</td>\n      <td>52000</td>\n      <td>4</td>\n      <td>1</td>\n      <td>1</td>\n      <td>1</td>\n      <td>1</td>\n      <td>1</td>\n      <td>0</td>\n      <td>0</td>\n      <td>0</td>\n      <td>0</td>\n      <td>0</td>\n      <td>2</td>\n    </tr>\n    <tr>\n      <th>2</th>\n      <td>28003</td>\n      <td>14000</td>\n      <td>1</td>\n      <td>1</td>\n      <td>1</td>\n      <td>0</td>\n      <td>0</td>\n      <td>1</td>\n      <td>1</td>\n      <td>0</td>\n      <td>0</td>\n      <td>0</td>\n      <td>0</td>\n      <td>4</td>\n    </tr>\n    <tr>\n      <th>3</th>\n      <td>33359</td>\n      <td>53000</td>\n      <td>4</td>\n      <td>2</td>\n      <td>0</td>\n      <td>0</td>\n      <td>1</td>\n      <td>1</td>\n      <td>0</td>\n      <td>1</td>\n      <td>0</td>\n      <td>0</td>\n      <td>0</td>\n      <td>7</td>\n    </tr>\n    <tr>\n      <th>4</th>\n      <td>26572</td>\n      <td>2000</td>\n      <td>1</td>\n      <td>1</td>\n      <td>1</td>\n      <td>0</td>\n      <td>0</td>\n      <td>0</td>\n      <td>0</td>\n      <td>0</td>\n      <td>1</td>\n      <td>0</td>\n      <td>0</td>\n      <td>0</td>\n    </tr>\n    <tr>\n      <th>...</th>\n      <td>...</td>\n      <td>...</td>\n      <td>...</td>\n      <td>...</td>\n      <td>...</td>\n      <td>...</td>\n      <td>...</td>\n      <td>...</td>\n      <td>...</td>\n      <td>...</td>\n      <td>...</td>\n      <td>...</td>\n      <td>...</td>\n      <td>...</td>\n    </tr>\n    <tr>\n      <th>37775</th>\n      <td>20910</td>\n      <td>9000</td>\n      <td>2</td>\n      <td>1</td>\n      <td>0</td>\n      <td>0</td>\n      <td>0</td>\n      <td>0</td>\n      <td>0</td>\n      <td>0</td>\n      <td>0</td>\n      <td>0</td>\n      <td>0</td>\n      <td>0</td>\n    </tr>\n    <tr>\n      <th>37776</th>\n      <td>33237</td>\n      <td>13000</td>\n      <td>2</td>\n      <td>1</td>\n      <td>0</td>\n      <td>1</td>\n      <td>1</td>\n      <td>1</td>\n      <td>0</td>\n      <td>0</td>\n      <td>0</td>\n      <td>0</td>\n      <td>0</td>\n      <td>3</td>\n    </tr>\n    <tr>\n      <th>37777</th>\n      <td>18811</td>\n      <td>7000</td>\n      <td>1</td>\n      <td>1</td>\n      <td>1</td>\n      <td>0</td>\n      <td>0</td>\n      <td>0</td>\n      <td>0</td>\n      <td>0</td>\n      <td>1</td>\n      <td>0</td>\n      <td>0</td>\n      <td>7</td>\n    </tr>\n    <tr>\n      <th>37778</th>\n      <td>27058</td>\n      <td>10000</td>\n      <td>1</td>\n      <td>1</td>\n      <td>0</td>\n      <td>0</td>\n      <td>0</td>\n      <td>0</td>\n      <td>0</td>\n      <td>0</td>\n      <td>0</td>\n      <td>0</td>\n      <td>0</td>\n      <td>0</td>\n    </tr>\n    <tr>\n      <th>37779</th>\n      <td>34546</td>\n      <td>2000</td>\n      <td>1</td>\n      <td>1</td>\n      <td>0</td>\n      <td>0</td>\n      <td>0</td>\n      <td>0</td>\n      <td>0</td>\n      <td>0</td>\n      <td>1</td>\n      <td>0</td>\n      <td>0</td>\n      <td>2</td>\n    </tr>\n  </tbody>\n</table>\n<p>37780 rows × 14 columns</p>\n</div>"
     },
     "execution_count": 20,
     "metadata": {},
     "output_type": "execute_result"
    }
   ],
   "source": [
    "bene_knn"
   ],
   "metadata": {
    "collapsed": false,
    "ExecuteTime": {
     "end_time": "2023-12-12T21:28:34.861562900Z",
     "start_time": "2023-12-12T21:28:34.771549900Z"
    }
   }
  },
  {
   "cell_type": "code",
   "execution_count": 21,
   "outputs": [],
   "source": [
    "pred = knn_predict(bene_knn, 10, classvar=\"CC Group\")"
   ],
   "metadata": {
    "collapsed": false,
    "ExecuteTime": {
     "end_time": "2023-12-12T21:55:44.181842Z",
     "start_time": "2023-12-12T21:28:40.613475800Z"
    }
   }
  },
  {
   "cell_type": "code",
   "execution_count": 22,
   "outputs": [
    {
     "data": {
      "text/plain": "       Est Age in Days  CLM_PMT_AMT  Claim Count  BENE_RACE_CD  \\\n0                32021         4000            1             1   \n1                24836        52000            4             1   \n2                28003        14000            1             1   \n3                33359        53000            4             2   \n4                26572         2000            1             1   \n...                ...          ...          ...           ...   \n37775            20910         9000            2             1   \n37776            33237        13000            2             1   \n37777            18811         7000            1             1   \n37778            27058        10000            1             1   \n37779            34546         2000            1             1   \n\n       BENE_SEX_IDENT_CD  SP_ALZHDMTA  SP_CHF  SP_CHRNKIDN  SP_CNCR  SP_COPD  \\\n0                      1            0       1            0        0        0   \n1                      1            1       1            1        0        0   \n2                      1            0       0            1        1        0   \n3                      0            0       1            1        0        1   \n4                      1            0       0            0        0        0   \n...                  ...          ...     ...          ...      ...      ...   \n37775                  0            0       0            0        0        0   \n37776                  0            1       1            1        0        0   \n37777                  1            0       0            0        0        0   \n37778                  0            0       0            0        0        0   \n37779                  0            0       0            0        0        0   \n\n       SP_OSTEOPRS  SP_RA_OA  SP_STRKETIA CC Group pred  \n0                1         0            0        0    3  \n1                0         0            0        2    4  \n2                0         0            0        4    4  \n3                0         0            0        7    4  \n4                1         0            0        0    4  \n...            ...       ...          ...      ...  ...  \n37775            0         0            0        0    0  \n37776            0         0            0        3    7  \n37777            1         0            0        7    1  \n37778            0         0            0        0    0  \n37779            1         0            0        2    0  \n\n[37780 rows x 15 columns]",
      "text/html": "<div>\n<style scoped>\n    .dataframe tbody tr th:only-of-type {\n        vertical-align: middle;\n    }\n\n    .dataframe tbody tr th {\n        vertical-align: top;\n    }\n\n    .dataframe thead th {\n        text-align: right;\n    }\n</style>\n<table border=\"1\" class=\"dataframe\">\n  <thead>\n    <tr style=\"text-align: right;\">\n      <th></th>\n      <th>Est Age in Days</th>\n      <th>CLM_PMT_AMT</th>\n      <th>Claim Count</th>\n      <th>BENE_RACE_CD</th>\n      <th>BENE_SEX_IDENT_CD</th>\n      <th>SP_ALZHDMTA</th>\n      <th>SP_CHF</th>\n      <th>SP_CHRNKIDN</th>\n      <th>SP_CNCR</th>\n      <th>SP_COPD</th>\n      <th>SP_OSTEOPRS</th>\n      <th>SP_RA_OA</th>\n      <th>SP_STRKETIA</th>\n      <th>CC Group</th>\n      <th>pred</th>\n    </tr>\n  </thead>\n  <tbody>\n    <tr>\n      <th>0</th>\n      <td>32021</td>\n      <td>4000</td>\n      <td>1</td>\n      <td>1</td>\n      <td>1</td>\n      <td>0</td>\n      <td>1</td>\n      <td>0</td>\n      <td>0</td>\n      <td>0</td>\n      <td>1</td>\n      <td>0</td>\n      <td>0</td>\n      <td>0</td>\n      <td>3</td>\n    </tr>\n    <tr>\n      <th>1</th>\n      <td>24836</td>\n      <td>52000</td>\n      <td>4</td>\n      <td>1</td>\n      <td>1</td>\n      <td>1</td>\n      <td>1</td>\n      <td>1</td>\n      <td>0</td>\n      <td>0</td>\n      <td>0</td>\n      <td>0</td>\n      <td>0</td>\n      <td>2</td>\n      <td>4</td>\n    </tr>\n    <tr>\n      <th>2</th>\n      <td>28003</td>\n      <td>14000</td>\n      <td>1</td>\n      <td>1</td>\n      <td>1</td>\n      <td>0</td>\n      <td>0</td>\n      <td>1</td>\n      <td>1</td>\n      <td>0</td>\n      <td>0</td>\n      <td>0</td>\n      <td>0</td>\n      <td>4</td>\n      <td>4</td>\n    </tr>\n    <tr>\n      <th>3</th>\n      <td>33359</td>\n      <td>53000</td>\n      <td>4</td>\n      <td>2</td>\n      <td>0</td>\n      <td>0</td>\n      <td>1</td>\n      <td>1</td>\n      <td>0</td>\n      <td>1</td>\n      <td>0</td>\n      <td>0</td>\n      <td>0</td>\n      <td>7</td>\n      <td>4</td>\n    </tr>\n    <tr>\n      <th>4</th>\n      <td>26572</td>\n      <td>2000</td>\n      <td>1</td>\n      <td>1</td>\n      <td>1</td>\n      <td>0</td>\n      <td>0</td>\n      <td>0</td>\n      <td>0</td>\n      <td>0</td>\n      <td>1</td>\n      <td>0</td>\n      <td>0</td>\n      <td>0</td>\n      <td>4</td>\n    </tr>\n    <tr>\n      <th>...</th>\n      <td>...</td>\n      <td>...</td>\n      <td>...</td>\n      <td>...</td>\n      <td>...</td>\n      <td>...</td>\n      <td>...</td>\n      <td>...</td>\n      <td>...</td>\n      <td>...</td>\n      <td>...</td>\n      <td>...</td>\n      <td>...</td>\n      <td>...</td>\n      <td>...</td>\n    </tr>\n    <tr>\n      <th>37775</th>\n      <td>20910</td>\n      <td>9000</td>\n      <td>2</td>\n      <td>1</td>\n      <td>0</td>\n      <td>0</td>\n      <td>0</td>\n      <td>0</td>\n      <td>0</td>\n      <td>0</td>\n      <td>0</td>\n      <td>0</td>\n      <td>0</td>\n      <td>0</td>\n      <td>0</td>\n    </tr>\n    <tr>\n      <th>37776</th>\n      <td>33237</td>\n      <td>13000</td>\n      <td>2</td>\n      <td>1</td>\n      <td>0</td>\n      <td>1</td>\n      <td>1</td>\n      <td>1</td>\n      <td>0</td>\n      <td>0</td>\n      <td>0</td>\n      <td>0</td>\n      <td>0</td>\n      <td>3</td>\n      <td>7</td>\n    </tr>\n    <tr>\n      <th>37777</th>\n      <td>18811</td>\n      <td>7000</td>\n      <td>1</td>\n      <td>1</td>\n      <td>1</td>\n      <td>0</td>\n      <td>0</td>\n      <td>0</td>\n      <td>0</td>\n      <td>0</td>\n      <td>1</td>\n      <td>0</td>\n      <td>0</td>\n      <td>7</td>\n      <td>1</td>\n    </tr>\n    <tr>\n      <th>37778</th>\n      <td>27058</td>\n      <td>10000</td>\n      <td>1</td>\n      <td>1</td>\n      <td>0</td>\n      <td>0</td>\n      <td>0</td>\n      <td>0</td>\n      <td>0</td>\n      <td>0</td>\n      <td>0</td>\n      <td>0</td>\n      <td>0</td>\n      <td>0</td>\n      <td>0</td>\n    </tr>\n    <tr>\n      <th>37779</th>\n      <td>34546</td>\n      <td>2000</td>\n      <td>1</td>\n      <td>1</td>\n      <td>0</td>\n      <td>0</td>\n      <td>0</td>\n      <td>0</td>\n      <td>0</td>\n      <td>0</td>\n      <td>1</td>\n      <td>0</td>\n      <td>0</td>\n      <td>2</td>\n      <td>0</td>\n    </tr>\n  </tbody>\n</table>\n<p>37780 rows × 15 columns</p>\n</div>"
     },
     "execution_count": 22,
     "metadata": {},
     "output_type": "execute_result"
    }
   ],
   "source": [
    "pred"
   ],
   "metadata": {
    "collapsed": false,
    "ExecuteTime": {
     "end_time": "2023-12-12T22:04:42.807099700Z",
     "start_time": "2023-12-12T22:04:42.790335100Z"
    }
   }
  },
  {
   "cell_type": "code",
   "execution_count": 43,
   "outputs": [],
   "source": [
    "results = report(pred, 'CC Group', 'pred')\n",
    "results_table = pd.DataFrame()\n",
    "results_table['Overall Precision:'] = results['precision']\n",
    "results_table['Overall Recall:'] = results['recall']\n",
    "results_table.index.name = None\n",
    "results_table = results_table.T\n",
    "\n",
    "report_text = (\"KNN Classifier, k=10:\"\n",
    "               f\"\\n\\nConfusion Matrix:\"\n",
    "               f\"\\n\" + results['conf_matrix'].to_string() +\n",
    "               f\"\\n\\nRecords Classified: {results['n']}\"\n",
    "               f\"\\nRecords Correctly Classified: \"\n",
    "               f\"{results['n_correct']}\"\n",
    "               f\"\\nRecords Incorrectly Classified: \"\n",
    "               f\"{results['n_incorrect']}\"\n",
    "               f\"\\nOverall Accuracy: {results['accuracy']:0.3f}\"\n",
    "               f\"\\nOverall Error Rate: \"\n",
    "               f\"{results['error_rate']:0.3f}\\n\"\n",
    "               + results_table.to_string())"
   ],
   "metadata": {
    "collapsed": false,
    "ExecuteTime": {
     "end_time": "2023-12-12T22:12:29.814087500Z",
     "start_time": "2023-12-12T22:12:29.743794600Z"
    }
   }
  },
  {
   "cell_type": "code",
   "execution_count": 44,
   "outputs": [
    {
     "name": "stdout",
     "output_type": "stream",
     "text": [
      "KNN Classifier, k=10:\n",
      "\n",
      "Confusion Matrix:\n",
      "obs      0    1     2     3     4    5    6     7\n",
      "pred                                             \n",
      "0     4441  712  1062  2204  1534  624  369   704\n",
      "1      107   21    37    88    64   29   12    39\n",
      "2      303   56   185   319   378  101   83   221\n",
      "3     1342  335   641  1217  1315  451  257   687\n",
      "4     1344  393  1080  1803  3291  823  547  2219\n",
      "5      137   31    78   160   174   68   37   129\n",
      "6       36   17    30    46    71   24   16    51\n",
      "7      389  175   392   673  1573  385  236  1414\n",
      "\n",
      "Records Classified: 37780\n",
      "Records Correctly Classified: 10653\n",
      "Records Incorrectly Classified: 27127\n",
      "Overall Accuracy: 0.282\n",
      "Overall Error Rate: 0.718\n",
      "                           0         1         2         3         4         5         6         7\n",
      "Overall Precision:  0.381202  0.052897  0.112394  0.194876  0.286174  0.083538  0.054983  0.270002\n",
      "Overall Recall:     0.548339  0.012069  0.052782  0.186943  0.391786  0.027146  0.010276  0.258785\n"
     ]
    }
   ],
   "source": [
    "print(report_text)"
   ],
   "metadata": {
    "collapsed": false,
    "ExecuteTime": {
     "end_time": "2023-12-12T22:12:31.954166Z",
     "start_time": "2023-12-12T22:12:31.926463500Z"
    }
   }
  },
  {
   "cell_type": "markdown",
   "source": [
    "## Random Forest Classification"
   ],
   "metadata": {
    "collapsed": false
   }
  },
  {
   "cell_type": "code",
   "execution_count": 80,
   "outputs": [],
   "source": [
    "D = bene_cls.drop(\"CC Group\", axis=1)\n",
    "C = bene_cls[\"CC Group\"]\n",
    "A = {a: list(D[a].unique()) for a in list(D.columns)}"
   ],
   "metadata": {
    "collapsed": false,
    "ExecuteTime": {
     "end_time": "2023-12-12T22:33:37.884689100Z",
     "start_time": "2023-12-12T22:33:37.814196Z"
    }
   }
  },
  {
   "cell_type": "code",
   "execution_count": 81,
   "outputs": [],
   "source": [
    "trees = random_forest(D, A, C, 5, 1000, 5, 0.02)"
   ],
   "metadata": {
    "collapsed": false,
    "ExecuteTime": {
     "end_time": "2023-12-12T22:35:21.547530400Z",
     "start_time": "2023-12-12T22:33:40.216308400Z"
    }
   }
  },
  {
   "cell_type": "code",
   "execution_count": 82,
   "outputs": [],
   "source": [
    "rf_pred = rf_predict(D, trees)\n",
    "rf_pred[\"CC Group\"] = C"
   ],
   "metadata": {
    "collapsed": false,
    "ExecuteTime": {
     "end_time": "2023-12-12T22:36:43.937930100Z",
     "start_time": "2023-12-12T22:36:06.106043200Z"
    }
   }
  },
  {
   "cell_type": "code",
   "execution_count": 83,
   "outputs": [
    {
     "data": {
      "text/plain": "                  Est Age in Days  CLM_PMT_AMT  Claim Count BENE_RACE_CD  \\\nDESYNPUF_ID                                                                \n00013D2EFD8E45D1            32021       4000.0            1            1   \n00016F745862898F            24836      52000.0            4            1   \n00052705243EA128            28003      14000.0            1            1   \n0007F12A492FD25D            33359      53000.0            4            2   \n000B97BA2314E971            26572       2000.0            1            1   \n...                           ...          ...          ...          ...   \nFFF5F9218AB04A41            20910       9000.0            2            1   \nFFF8B49458F9FFA7            33237      13000.0            2            1   \nFFFA950301FCA748            18811       7000.0            1            1   \nFFFC880E13CA6278            27058      10000.0            1            1   \nFFFE3ED9582AD46E            34546       2000.0            1            1   \n\n                 BENE_SEX_IDENT_CD SP_ALZHDMTA SP_CHF SP_CHRNKIDN SP_CNCR  \\\nDESYNPUF_ID                                                                 \n00013D2EFD8E45D1                 1           0      1           0       0   \n00016F745862898F                 1           1      1           1       0   \n00052705243EA128                 1           0      0           1       1   \n0007F12A492FD25D                 0           0      1           1       0   \n000B97BA2314E971                 1           0      0           0       0   \n...                            ...         ...    ...         ...     ...   \nFFF5F9218AB04A41                 0           0      0           0       0   \nFFF8B49458F9FFA7                 0           1      1           1       0   \nFFFA950301FCA748                 1           0      0           0       0   \nFFFC880E13CA6278                 0           0      0           0       0   \nFFFE3ED9582AD46E                 0           0      0           0       0   \n\n                 SP_COPD SP_OSTEOPRS SP_RA_OA SP_STRKETIA pred CC Group  \nDESYNPUF_ID                                                              \n00013D2EFD8E45D1       0           1        0           0    0        0  \n00016F745862898F       0           0        0           0    0        2  \n00052705243EA128       0           0        0           0    0        4  \n0007F12A492FD25D       1           0        0           0    4        7  \n000B97BA2314E971       0           1        0           0    0        0  \n...                  ...         ...      ...         ...  ...      ...  \nFFF5F9218AB04A41       0           0        0           0    0        0  \nFFF8B49458F9FFA7       0           0        0           0    0        3  \nFFFA950301FCA748       0           1        0           0    0        7  \nFFFC880E13CA6278       0           0        0           0    0        0  \nFFFE3ED9582AD46E       0           1        0           0    0        2  \n\n[37780 rows x 15 columns]",
      "text/html": "<div>\n<style scoped>\n    .dataframe tbody tr th:only-of-type {\n        vertical-align: middle;\n    }\n\n    .dataframe tbody tr th {\n        vertical-align: top;\n    }\n\n    .dataframe thead th {\n        text-align: right;\n    }\n</style>\n<table border=\"1\" class=\"dataframe\">\n  <thead>\n    <tr style=\"text-align: right;\">\n      <th></th>\n      <th>Est Age in Days</th>\n      <th>CLM_PMT_AMT</th>\n      <th>Claim Count</th>\n      <th>BENE_RACE_CD</th>\n      <th>BENE_SEX_IDENT_CD</th>\n      <th>SP_ALZHDMTA</th>\n      <th>SP_CHF</th>\n      <th>SP_CHRNKIDN</th>\n      <th>SP_CNCR</th>\n      <th>SP_COPD</th>\n      <th>SP_OSTEOPRS</th>\n      <th>SP_RA_OA</th>\n      <th>SP_STRKETIA</th>\n      <th>pred</th>\n      <th>CC Group</th>\n    </tr>\n    <tr>\n      <th>DESYNPUF_ID</th>\n      <th></th>\n      <th></th>\n      <th></th>\n      <th></th>\n      <th></th>\n      <th></th>\n      <th></th>\n      <th></th>\n      <th></th>\n      <th></th>\n      <th></th>\n      <th></th>\n      <th></th>\n      <th></th>\n      <th></th>\n    </tr>\n  </thead>\n  <tbody>\n    <tr>\n      <th>00013D2EFD8E45D1</th>\n      <td>32021</td>\n      <td>4000.0</td>\n      <td>1</td>\n      <td>1</td>\n      <td>1</td>\n      <td>0</td>\n      <td>1</td>\n      <td>0</td>\n      <td>0</td>\n      <td>0</td>\n      <td>1</td>\n      <td>0</td>\n      <td>0</td>\n      <td>0</td>\n      <td>0</td>\n    </tr>\n    <tr>\n      <th>00016F745862898F</th>\n      <td>24836</td>\n      <td>52000.0</td>\n      <td>4</td>\n      <td>1</td>\n      <td>1</td>\n      <td>1</td>\n      <td>1</td>\n      <td>1</td>\n      <td>0</td>\n      <td>0</td>\n      <td>0</td>\n      <td>0</td>\n      <td>0</td>\n      <td>0</td>\n      <td>2</td>\n    </tr>\n    <tr>\n      <th>00052705243EA128</th>\n      <td>28003</td>\n      <td>14000.0</td>\n      <td>1</td>\n      <td>1</td>\n      <td>1</td>\n      <td>0</td>\n      <td>0</td>\n      <td>1</td>\n      <td>1</td>\n      <td>0</td>\n      <td>0</td>\n      <td>0</td>\n      <td>0</td>\n      <td>0</td>\n      <td>4</td>\n    </tr>\n    <tr>\n      <th>0007F12A492FD25D</th>\n      <td>33359</td>\n      <td>53000.0</td>\n      <td>4</td>\n      <td>2</td>\n      <td>0</td>\n      <td>0</td>\n      <td>1</td>\n      <td>1</td>\n      <td>0</td>\n      <td>1</td>\n      <td>0</td>\n      <td>0</td>\n      <td>0</td>\n      <td>4</td>\n      <td>7</td>\n    </tr>\n    <tr>\n      <th>000B97BA2314E971</th>\n      <td>26572</td>\n      <td>2000.0</td>\n      <td>1</td>\n      <td>1</td>\n      <td>1</td>\n      <td>0</td>\n      <td>0</td>\n      <td>0</td>\n      <td>0</td>\n      <td>0</td>\n      <td>1</td>\n      <td>0</td>\n      <td>0</td>\n      <td>0</td>\n      <td>0</td>\n    </tr>\n    <tr>\n      <th>...</th>\n      <td>...</td>\n      <td>...</td>\n      <td>...</td>\n      <td>...</td>\n      <td>...</td>\n      <td>...</td>\n      <td>...</td>\n      <td>...</td>\n      <td>...</td>\n      <td>...</td>\n      <td>...</td>\n      <td>...</td>\n      <td>...</td>\n      <td>...</td>\n      <td>...</td>\n    </tr>\n    <tr>\n      <th>FFF5F9218AB04A41</th>\n      <td>20910</td>\n      <td>9000.0</td>\n      <td>2</td>\n      <td>1</td>\n      <td>0</td>\n      <td>0</td>\n      <td>0</td>\n      <td>0</td>\n      <td>0</td>\n      <td>0</td>\n      <td>0</td>\n      <td>0</td>\n      <td>0</td>\n      <td>0</td>\n      <td>0</td>\n    </tr>\n    <tr>\n      <th>FFF8B49458F9FFA7</th>\n      <td>33237</td>\n      <td>13000.0</td>\n      <td>2</td>\n      <td>1</td>\n      <td>0</td>\n      <td>1</td>\n      <td>1</td>\n      <td>1</td>\n      <td>0</td>\n      <td>0</td>\n      <td>0</td>\n      <td>0</td>\n      <td>0</td>\n      <td>0</td>\n      <td>3</td>\n    </tr>\n    <tr>\n      <th>FFFA950301FCA748</th>\n      <td>18811</td>\n      <td>7000.0</td>\n      <td>1</td>\n      <td>1</td>\n      <td>1</td>\n      <td>0</td>\n      <td>0</td>\n      <td>0</td>\n      <td>0</td>\n      <td>0</td>\n      <td>1</td>\n      <td>0</td>\n      <td>0</td>\n      <td>0</td>\n      <td>7</td>\n    </tr>\n    <tr>\n      <th>FFFC880E13CA6278</th>\n      <td>27058</td>\n      <td>10000.0</td>\n      <td>1</td>\n      <td>1</td>\n      <td>0</td>\n      <td>0</td>\n      <td>0</td>\n      <td>0</td>\n      <td>0</td>\n      <td>0</td>\n      <td>0</td>\n      <td>0</td>\n      <td>0</td>\n      <td>0</td>\n      <td>0</td>\n    </tr>\n    <tr>\n      <th>FFFE3ED9582AD46E</th>\n      <td>34546</td>\n      <td>2000.0</td>\n      <td>1</td>\n      <td>1</td>\n      <td>0</td>\n      <td>0</td>\n      <td>0</td>\n      <td>0</td>\n      <td>0</td>\n      <td>0</td>\n      <td>1</td>\n      <td>0</td>\n      <td>0</td>\n      <td>0</td>\n      <td>2</td>\n    </tr>\n  </tbody>\n</table>\n<p>37780 rows × 15 columns</p>\n</div>"
     },
     "execution_count": 83,
     "metadata": {},
     "output_type": "execute_result"
    }
   ],
   "source": [
    "rf_pred"
   ],
   "metadata": {
    "collapsed": false,
    "ExecuteTime": {
     "end_time": "2023-12-12T22:36:43.974669500Z",
     "start_time": "2023-12-12T22:36:43.957899500Z"
    }
   }
  },
  {
   "cell_type": "code",
   "execution_count": 84,
   "outputs": [],
   "source": [
    "results = report(rf_pred, 'CC Group', 'pred')\n",
    "results_table = pd.DataFrame()\n",
    "results_table['Overall Precision:'] = results['precision']\n",
    "results_table['Overall Recall:'] = results['recall']\n",
    "results_table.index.name = None\n",
    "results_table = results_table.T\n",
    "\n",
    "report_text = (\"Random Forest Classifier:\\n\"\n",
    "               \"5 features, 1000 sample size per tree\\n\"\n",
    "               \"5 trees, 0.02 threshold\"\n",
    "               f\"\\n\\nConfusion Matrix:\"\n",
    "               f\"\\n\" + results['conf_matrix'].to_string() +\n",
    "               f\"\\n\\nRecords Classified: {results['n']}\"\n",
    "               f\"\\nRecords Correctly Classified: \"\n",
    "               f\"{results['n_correct']}\"\n",
    "               f\"\\nRecords Incorrectly Classified: \"\n",
    "               f\"{results['n_incorrect']}\"\n",
    "               f\"\\nOverall Accuracy: {results['accuracy']:0.3f}\"\n",
    "               f\"\\nOverall Error Rate: \"\n",
    "               f\"{results['error_rate']:0.3f}\\n\"\n",
    "               + results_table.to_string())"
   ],
   "metadata": {
    "collapsed": false,
    "ExecuteTime": {
     "end_time": "2023-12-12T22:36:44.086996300Z",
     "start_time": "2023-12-12T22:36:43.975662100Z"
    }
   }
  },
  {
   "cell_type": "code",
   "execution_count": 85,
   "outputs": [
    {
     "name": "stdout",
     "output_type": "stream",
     "text": [
      "Random Forest Classifier:\n",
      "5 features, 1000 samples per tree\n",
      "5 trees, 0.02 threshold\n",
      "\n",
      "Confusion Matrix:\n",
      "obs      0     1     2     3     4     5     6     7\n",
      "pred                                                \n",
      "0     7456  1500  2749  5313  5555  1890  1147  3104\n",
      "1        2     5    10     9    25     3     5    19\n",
      "2       60    30    69    98   124    39    21    98\n",
      "3      142    44   126   249   412   111    56   267\n",
      "4      364   141   450   687  1879   372   258  1458\n",
      "5       21     4     9    27    46    18     4    44\n",
      "6        3     0     1     3     3     1     2    10\n",
      "7       51    16    91   124   356    71    64   464\n",
      "\n",
      "Records Classified: 37780\n",
      "Records Correctly Classified: 10142\n",
      "Records Incorrectly Classified: 27638\n",
      "Overall Accuracy: 0.268\n",
      "Overall Error Rate: 0.732\n",
      "                           0         1         2         3         4         5         6         7\n",
      "Overall Precision:  0.259664  0.064103  0.128015  0.176972  0.334997  0.104046  0.086957  0.375101\n",
      "Overall Recall:     0.920607  0.002874  0.019686  0.038249  0.223690  0.007186  0.001285  0.084919\n"
     ]
    }
   ],
   "source": [
    "print(report_text)"
   ],
   "metadata": {
    "collapsed": false,
    "ExecuteTime": {
     "end_time": "2023-12-12T22:36:44.086996300Z",
     "start_time": "2023-12-12T22:36:44.041398100Z"
    }
   }
  }
 ],
 "metadata": {
  "kernelspec": {
   "display_name": "Python 3",
   "language": "python",
   "name": "python3"
  },
  "language_info": {
   "codemirror_mode": {
    "name": "ipython",
    "version": 2
   },
   "file_extension": ".py",
   "mimetype": "text/x-python",
   "name": "python",
   "nbconvert_exporter": "python",
   "pygments_lexer": "ipython2",
   "version": "2.7.6"
  }
 },
 "nbformat": 4,
 "nbformat_minor": 0
}

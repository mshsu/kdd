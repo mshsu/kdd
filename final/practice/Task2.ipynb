{
 "cells": [
  {
   "cell_type": "markdown",
   "metadata": {},
   "source": [
    "**CSC 466: Knowledge Discovery in Data **\n",
    "\n",
    "** Individual Test**\n",
    "\n",
    "**Task 2 **"
   ]
  },
  {
   "cell_type": "markdown",
   "metadata": {},
   "source": [
    "**Your Name :**\n",
    "\n",
    "**Cal Poly Email:**\n"
   ]
  },
  {
   "cell_type": "markdown",
   "metadata": {},
   "source": [
    "**Your Assignment**:\n",
    "\n",
    "1. Run 10-fold cross-validation on top of the trainMagicClassifier() classification method\n",
    "2. For each fold, report prediction accuracy\n",
    "3. Report overall prediction accuracy\n",
    "4. Report the overall confusion matrix"
   ]
  },
  {
   "cell_type": "code",
   "execution_count": 1,
   "metadata": {
    "collapsed": true,
    "jupyter": {
     "outputs_hidden": true
    },
    "ExecuteTime": {
     "end_time": "2023-12-08T06:37:17.553403300Z",
     "start_time": "2023-12-08T06:37:17.520831Z"
    }
   },
   "outputs": [],
   "source": [
    "## Imports\n",
    "\n",
    "import numpy as np\n",
    "from matplotlib import pyplot as plt\n",
    "import seaborn\n",
    "%matplotlib inline"
   ]
  },
  {
   "cell_type": "markdown",
   "metadata": {},
   "source": [
    "**Classifier**\n",
    "\n",
    "trainMagicClassifier() is a simple implementation of Support Vector Machine, with some hardcoded parameters.\n",
    "It takes as input a dataset \"data\", the array of labels \"labels\" (data point data[i] has class label label[i]), and two hyperparameters: Rate (this parameter in the context of SVMs is called the learing rate) and the number of iterations to complete (SVMs are typically trained using an iterative approach until convergence, this classifier replaces convergence with simply a number of iterations).\n",
    "\n",
    "You do not need to understand the code in trainMagicClassifier(), nor do you need to make any changes in this part of the notebook.  The trained model is three coefficients  model[0], model[1], model[2], which combine to form an equation of a line in 2D that separates the two classes:\n",
    "\n",
    "$$model[0]\\cdot x + model[1]\\cdot y + model[2] = 0$$\n",
    "\n",
    "where $x$ and $y$ are the coordinates of the 2D data point.\n",
    "\n",
    "**Note:** like all SVM classifiers, ours works only on binary classes, with class labels  +1 and -1.\n",
    "\n"
   ]
  },
  {
   "cell_type": "code",
   "execution_count": 2,
   "metadata": {
    "collapsed": true,
    "jupyter": {
     "outputs_hidden": true
    },
    "ExecuteTime": {
     "end_time": "2023-12-08T06:37:17.585069600Z",
     "start_time": "2023-12-08T06:37:17.569936200Z"
    }
   },
   "outputs": [],
   "source": [
    "def trainMagicClassifier(data, labels, Rate, iterations):\n",
    "\n",
    "    C = 2 ## error significance\n",
    "    thetas = np.ones(len(data))*-1\n",
    "    w = np.array([-1,0,0])      # starting approximation  \n",
    "    \n",
    "    # svmData = np.array([data[0],data[1], thetas])\n",
    "    for j in range(iterations):\n",
    "        HingeLoss = np.array([0,0,0])\n",
    "        for i in range(len(data)):\n",
    "            datum = data[i]\n",
    "    \n",
    "    ## compute the hinge loss\n",
    "            y = labels[i]\n",
    "            uVector = np.array([datum[0], datum[1], thetas[i]])\n",
    "            if (w[0]*datum[0]+ w[1]*datum[1]+ w[2]*thetas[i])*y <= 1:\n",
    "                HingeLoss = HingeLoss  - y*uVector\n",
    "    \n",
    " \n",
    "        w = w - Rate *(w + C * HingeLoss)\n",
    "        ##print(\"W:\", w)\n",
    "        ## print(\"Loss:\", HingeLoss)\n",
    "        ## plotW(slo,paso,w)\n",
    "    return(w)\n",
    "       "
   ]
  },
  {
   "cell_type": "markdown",
   "metadata": {},
   "source": [
    "**Predictor**:\n",
    "\n",
    "Using the model trained in trainMagicClassifier(), the predictor computes on which side of the line separating the classes a data point is, and returns the side (above = +1, below = -1) as the class predictor.\n",
    "\n",
    "You do not need to modify this code."
   ]
  },
  {
   "cell_type": "code",
   "execution_count": 3,
   "metadata": {
    "collapsed": true,
    "jupyter": {
     "outputs_hidden": true
    },
    "ExecuteTime": {
     "end_time": "2023-12-08T06:37:17.601510400Z",
     "start_time": "2023-12-08T06:37:17.585069600Z"
    }
   },
   "outputs": [],
   "source": [
    "def predict(model, point):\n",
    "    value = np.sign(model[0]*point[0]+model[1]*point[1]+model[2])\n",
    "    ## print(value)\n",
    "    return value"
   ]
  },
  {
   "cell_type": "markdown",
   "metadata": {},
   "source": [
    "The generatePredictions(function) simply generates the list of predictions given a collection of the data points"
   ]
  },
  {
   "cell_type": "code",
   "execution_count": 4,
   "metadata": {
    "collapsed": true,
    "jupyter": {
     "outputs_hidden": true
    },
    "ExecuteTime": {
     "end_time": "2023-12-08T06:37:17.617326300Z",
     "start_time": "2023-12-08T06:37:17.601510400Z"
    }
   },
   "outputs": [],
   "source": [
    "def generatePredictions(model, data):\n",
    "    predictions = [predict(model, point) for point in data]\n",
    "    return predictions"
   ]
  },
  {
   "cell_type": "markdown",
   "metadata": {},
   "source": [
    "**Execution Starts Here**\n",
    "\n",
    "First, we read the data, and split the input into the data table, and the class labels table."
   ]
  },
  {
   "cell_type": "code",
   "execution_count": 5,
   "metadata": {
    "collapsed": false,
    "jupyter": {
     "outputs_hidden": false
    },
    "ExecuteTime": {
     "end_time": "2023-12-08T06:37:17.649305400Z",
     "start_time": "2023-12-08T06:37:17.617326300Z"
    }
   },
   "outputs": [],
   "source": [
    "filename=\"data5.csv\"\n",
    "\n",
    "rawData = np.loadtxt(filename, delimiter = \",\")\n",
    "\n",
    "## let's keep only the two columns with the data attributes\n",
    "\n",
    "data = rawData[:,0:2]\n",
    "labels = rawData[:,2]"
   ]
  },
  {
   "cell_type": "markdown",
   "metadata": {},
   "source": [
    "**Training the Classifier**\n",
    "\n",
    "We set the learning rate to 0.01 (established empirically, don't worry about it).\n",
    "Then we train the classifier on the entire data set."
   ]
  },
  {
   "cell_type": "code",
   "execution_count": 6,
   "metadata": {
    "collapsed": false,
    "jupyter": {
     "outputs_hidden": false
    },
    "ExecuteTime": {
     "end_time": "2023-12-08T06:37:17.696496400Z",
     "start_time": "2023-12-08T06:37:17.649305400Z"
    }
   },
   "outputs": [],
   "source": [
    "rate = 0.01\n",
    "model = trainMagicClassifier(data, labels, rate, 20)"
   ]
  },
  {
   "cell_type": "markdown",
   "metadata": {},
   "source": [
    "Below,we display the learned model parameters"
   ]
  },
  {
   "cell_type": "code",
   "execution_count": 7,
   "metadata": {
    "collapsed": false,
    "jupyter": {
     "outputs_hidden": false
    },
    "ExecuteTime": {
     "end_time": "2023-12-08T06:37:17.736319200Z",
     "start_time": "2023-12-08T06:37:17.669919600Z"
    }
   },
   "outputs": [
    {
     "data": {
      "text/plain": "array([-7.35152749,  5.94812682,  1.17282658])"
     },
     "execution_count": 7,
     "metadata": {},
     "output_type": "execute_result"
    }
   ],
   "source": [
    "model"
   ]
  },
  {
   "cell_type": "markdown",
   "metadata": {},
   "source": [
    "... and generate the predictions"
   ]
  },
  {
   "cell_type": "code",
   "execution_count": 8,
   "metadata": {
    "collapsed": false,
    "jupyter": {
     "outputs_hidden": false
    },
    "ExecuteTime": {
     "end_time": "2023-12-08T06:37:17.736319200Z",
     "start_time": "2023-12-08T06:37:17.696496400Z"
    }
   },
   "outputs": [],
   "source": [
    "predictions =generatePredictions(model,data)"
   ]
  },
  {
   "cell_type": "markdown",
   "metadata": {},
   "source": [
    "**Plotting**\n",
    "To illustrate the accuracy of the predictor we plot the model (blue line) against the scatter plot of the dataset colored according to the ground truth labels.\n",
    "\n",
    "As seen, our predictor does really well, misclassifying only two red points at the left edge of the scatter plot.\n",
    "\n",
    "**However**, we trained and tested on the same data."
   ]
  },
  {
   "cell_type": "code",
   "execution_count": 9,
   "metadata": {
    "collapsed": false,
    "jupyter": {
     "outputs_hidden": false
    },
    "ExecuteTime": {
     "end_time": "2023-12-08T06:37:18.054997600Z",
     "start_time": "2023-12-08T06:37:17.718953Z"
    }
   },
   "outputs": [
    {
     "data": {
      "text/plain": "[<matplotlib.lines.Line2D at 0x2245aad7370>]"
     },
     "execution_count": 9,
     "metadata": {},
     "output_type": "execute_result"
    },
    {
     "data": {
      "text/plain": "<Figure size 640x480 with 1 Axes>",
      "image/png": "[encoded data removed]"
     },
     "metadata": {},
     "output_type": "display_data"
    }
   ],
   "source": [
    "colors = ['red','red', 'green']\n",
    "prColors = [colors[int(i+1)] for i in labels ]\n",
    "\n",
    "plt.scatter(data[:,0], data[:,1], c=prColors)\n",
    "plt.plot(data[:,0], -(model[0]/model[1])*data[:,0] - model[2]/model[1])\n",
    "\n"
   ]
  },
  {
   "cell_type": "markdown",
   "metadata": {},
   "source": [
    "**Your Task**\n",
    "In the cells below build the functionality for conducting the 10-fold cross-validation of the trainMagicClassifier() classifier.\n",
    "\n",
    "Each fold shall contain 10% of randomly selected points from the input dataset.\n",
    "\n",
    "For each fold, train on all other folds, then test on it and compute the accuracy.\n",
    "\n",
    "Report the accuracy of each fold, overall accuracy, and print out the confusion matrix\n",
    "\n",
    "**Notes**: you may want to create a function that splits the dataset into folds. For this task, it is ok to create 10 copies of the data (our dataset is small enough), if this makes your life easier, but you can also construct each training and testing set separately.\n",
    "\n",
    "There is no need to visualize any steps using graphs, but you can use the plotting structure above to make things look better for\n"
   ]
  },
  {
   "cell_type": "code",
   "execution_count": 10,
   "metadata": {
    "collapsed": true,
    "jupyter": {
     "outputs_hidden": true
    },
    "ExecuteTime": {
     "end_time": "2023-12-08T06:37:18.112383900Z",
     "start_time": "2023-12-08T06:37:18.059575Z"
    }
   },
   "outputs": [],
   "source": [
    "import pandas as pd"
   ]
  },
  {
   "cell_type": "code",
   "execution_count": 15,
   "metadata": {
    "collapsed": true,
    "jupyter": {
     "outputs_hidden": true
    },
    "ExecuteTime": {
     "end_time": "2023-12-08T06:38:37.344256800Z",
     "start_time": "2023-12-08T06:38:37.328035Z"
    }
   },
   "outputs": [],
   "source": [
    "def split_folds(k):\n",
    "    return np.array_split(np.random.permutation(rawData.shape[0]), k)"
   ]
  },
  {
   "cell_type": "code",
   "execution_count": 43,
   "outputs": [],
   "source": [
    "def validate(k):\n",
    "    conf_matrix = None\n",
    "    accuracy = []\n",
    "    splits = split_folds(k)\n",
    "    for i, split in enumerate(splits):\n",
    "        test = data[split]\n",
    "        test_index = split\n",
    "        train_index = np.concatenate([splits[j] for j in range(len(splits)) if i != j])\n",
    "        train = data[train_index]\n",
    "        model = trainMagicClassifier(train, labels, rate, 20)\n",
    "        preds = pd.Series(generatePredictions(model,test), name=\"preds\")\n",
    "        obs = pd.Series(labels[test_index], name=\"obs\")\n",
    "        accuracy.append((preds == obs).sum() / len(obs))\n",
    "        if conf_matrix is None:\n",
    "            conf_matrix = pd.crosstab(preds, obs)\n",
    "        else:\n",
    "            conf_matrix = conf_matrix.add(pd.crosstab(preds, obs), fill_value=0)\n",
    "\n",
    "    accuracy = pd.Series(accuracy, name=\"accuracy\")\n",
    "    accuracy.index.name = \"fold\"\n",
    "    print(accuracy.to_frame().T)\n",
    "    print()\n",
    "\n",
    "    overall_acc = accuracy.sum() / len(accuracy.index)\n",
    "    print(f\"overall accuracy: {overall_acc:0.3f}\")\n",
    "    print()\n",
    "\n",
    "    print(conf_matrix.to_string())"
   ],
   "metadata": {
    "collapsed": false,
    "ExecuteTime": {
     "end_time": "2023-12-08T06:53:18.448511900Z",
     "start_time": "2023-12-08T06:53:18.432078Z"
    }
   }
  },
  {
   "cell_type": "code",
   "execution_count": 53,
   "outputs": [
    {
     "name": "stdout",
     "output_type": "stream",
     "text": [
      "fold        0    1    2    3    4    5    6    7    8    9\n",
      "accuracy  0.8  0.7  0.7  0.7  0.5  0.3  0.4  0.3  0.6  0.9\n",
      "\n",
      "overall accuracy: 0.590\n",
      "\n",
      "obs    -1.0   1.0\n",
      "preds            \n",
      "-1.0   38.0  27.0\n",
      " 1.0   14.0  21.0\n"
     ]
    }
   ],
   "source": [
    "validate(10)"
   ],
   "metadata": {
    "collapsed": false,
    "ExecuteTime": {
     "end_time": "2023-12-08T06:53:34.451720700Z",
     "start_time": "2023-12-08T06:53:34.326328800Z"
    }
   }
  },
  {
   "cell_type": "markdown",
   "metadata": {},
   "source": [
    "**Congratulations!** You are done.\n",
    "\n",
    "Download the notebook and submit it using the\n",
    "\n",
    "        handin dekhtyar 466-test <file> \n",
    "        \n",
    " command."
   ]
  },
  {
   "cell_type": "code",
   "execution_count": 13,
   "metadata": {
    "collapsed": true,
    "jupyter": {
     "outputs_hidden": true
    },
    "ExecuteTime": {
     "end_time": "2023-12-08T06:37:18.255488Z",
     "start_time": "2023-12-08T06:37:18.238909200Z"
    }
   },
   "outputs": [],
   "source": []
  }
 ],
 "metadata": {
  "kernelspec": {
   "display_name": "Python 3",
   "language": "python",
   "name": "python3"
  },
  "language_info": {
   "codemirror_mode": {
    "name": "ipython",
    "version": 3
   },
   "file_extension": ".py",
   "mimetype": "text/x-python",
   "name": "python",
   "nbconvert_exporter": "python",
   "pygments_lexer": "ipython3",
   "version": "3.8.8"
  }
 },
 "nbformat": 4,
 "nbformat_minor": 4
}

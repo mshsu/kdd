{
 "cells": [
  {
   "cell_type": "markdown",
   "metadata": {},
   "source": [
    "**CSC 466: Knowledge Discovery in Data **\n",
    "** Individual Test**\n",
    "\n",
    "**Task 1 **"
   ]
  },
  {
   "cell_type": "markdown",
   "metadata": {},
   "source": [
    "**Your Name **: \n",
    "\n",
    "**Cal Poly Email**"
   ]
  },
  {
   "cell_type": "markdown",
   "metadata": {},
   "source": [
    "The program below performs hierarchical clustering using Complete Link distance.\n",
    "\n",
    "**Your Task**: Perform the following:\n",
    "\n",
    "  1. Add to the notebook the computation of the Centroid Distance method for computing the distance between two data points.\n",
    "     The function getCentroid() is defined and stubbed below for your convenience\n",
    "  \n",
    "  2. Change the code of the hierarchical clustering function to use the Centroid distance.  \n",
    "  \n",
    "  3. Display the vector of cluster assignments constructed by function flatten()\n",
    "  \n",
    "  4. Plot the dataset colored by cluster (marking outliers with a separate color)\n",
    "  \n",
    "  5. Write a function computeClusterRadius(), which, given a cluster returns its radius.\n",
    "  \n",
    "  6. Report the radii for each cluster"
   ]
  },
  {
   "cell_type": "markdown",
   "metadata": {},
   "source": [
    "**Notes:**\n",
    "\n",
    "Please read carefully the comments to the existing code - they may explain things you need to know in order to complete some of the tasks.\n",
    "\n",
    "I have created placeholders for the main functions you need to create and Jupyter cells at the bottom of the notebook for you to produce the desired output.  You may need/want/find it convenient to define additional functions, or to change the parameters in the function definitions provided to you. Feel free to do both/either as you see fit."
   ]
  },
  {
   "cell_type": "code",
   "execution_count": 13,
   "metadata": {
    "collapsed": true,
    "ExecuteTime": {
     "end_time": "2023-12-08T06:32:31.097397900Z",
     "start_time": "2023-12-08T06:32:30.910470500Z"
    }
   },
   "outputs": [],
   "source": [
    "## Imports\n",
    "\n",
    "import numpy as np\n",
    "from matplotlib import pyplot as plt\n",
    "import seaborn\n",
    "%matplotlib inline"
   ]
  },
  {
   "cell_type": "markdown",
   "metadata": {},
   "source": [
    "**Distance Metrics**\n",
    "\n",
    "We use Eucledian distance between two points for this assignment. For simplicity, we declare our own function."
   ]
  },
  {
   "cell_type": "code",
   "execution_count": 14,
   "metadata": {
    "collapsed": true,
    "ExecuteTime": {
     "end_time": "2023-12-08T06:32:31.177923100Z",
     "start_time": "2023-12-08T06:32:30.929875Z"
    }
   },
   "outputs": [],
   "source": [
    "def eucledian(x,y):\n",
    "    return np.sqrt(np.sum((x - y)*(x-y)))"
   ]
  },
  {
   "cell_type": "markdown",
   "metadata": {},
   "source": [
    "** Complete Link Distance Computation **\n",
    "\n",
    "The code below is simply to make the original Hierarchical code run."
   ]
  },
  {
   "cell_type": "code",
   "execution_count": 15,
   "metadata": {
    "collapsed": true,
    "ExecuteTime": {
     "end_time": "2023-12-08T06:32:31.177923100Z",
     "start_time": "2023-12-08T06:32:30.966878100Z"
    }
   },
   "outputs": [],
   "source": [
    "## Parameters\n",
    "## m: matrix of cluster distances\n",
    "## i, j: clusters that are being merged (new cluster is {i,j})\n",
    "## k: cluster to which the new distance needs to be computed\n",
    "\n",
    "## complete link is the largest distance between two points belonging to two different clusters\n",
    "## if a cluster i = {x1,...,xn} and cluster j = {y1,...,ym} are merged, then \n",
    "## the complete link distance from the new cluster ij = {x1,..,xn,y1,..,ym} to a cluster \n",
    "## k = {z1,...,zp} is the larger of the complete link distances between clusters k and i and clusters k and j\n",
    "\n",
    "def completeLink(m, i,j,k):\n",
    "    # assume i<j\n",
    "    sim = min(m[i,k], m[j,k])\n",
    "    \n",
    "    return sim"
   ]
  },
  {
   "cell_type": "markdown",
   "metadata": {},
   "source": [
    "**Your Assignment**: develop the centroidDistance() function in the cell below."
   ]
  },
  {
   "cell_type": "code",
   "execution_count": 16,
   "metadata": {
    "collapsed": true,
    "ExecuteTime": {
     "end_time": "2023-12-08T06:32:31.177923100Z",
     "start_time": "2023-12-08T06:32:30.973307300Z"
    }
   },
   "outputs": [],
   "source": [
    "# This function recursively searches through a dendogram and finds \n",
    "# all the points within it, adding it to a list\n",
    "def go_deeper(some_list, points):\n",
    "    if type(some_list) == list:\n",
    "        if len(some_list) != 1:\n",
    "            for obj in some_list:\n",
    "                go_deeper(obj, points)\n",
    "        else:\n",
    "            points.append(some_list[0])\n",
    "\n",
    "# This function will create a centroid given a dendogram-like \n",
    "# cluster. \n",
    "def get_centroid(cluster, data):\n",
    "    centroid = np.zeros(len(data[1]))\n",
    "    points = []\n",
    "    go_deeper(cluster, points)\n",
    "    \n",
    "    for point in points:\n",
    "        centroid = centroid + data[point]\n",
    "    centroid = centroid / len(points)\n",
    "    return centroid\n",
    "\n",
    "## Parameters\n",
    "## data: the dataset (expect a numPy array or matrix)\n",
    "## cluster1, cluster2 - dendrograms representing the two clusters \n",
    "## \n",
    "## Output: Centroid distance between the two clusters represented by the dendrograms.\n",
    "## Note: leaf nodes in the dendrograms are indexes of points in the data array/matrix\n",
    "\n",
    "# this will return the eucledian distance between two clusters\n",
    "def centroidDistance(cluster1, cluster2, data):\n",
    "    cent1, cent2 = get_centroid(cluster1, data), get_centroid(cluster2, data)\n",
    "    return eucledian(cent1, cent2)"
   ]
  },
  {
   "cell_type": "markdown",
   "metadata": {},
   "source": [
    "** Compute Distance Matrix **\n",
    "\n",
    "The computeDistanceMatrix() function below simply computes the pairwise distances between all data points.\n",
    "To enable proper work of hierarchical, the distance between all pairs [i,i] is set to 'NaN'\n",
    "\n",
    "This function is parameterized by the distance computation method. We are using Eucledian distance."
   ]
  },
  {
   "cell_type": "code",
   "execution_count": 17,
   "metadata": {
    "collapsed": true,
    "ExecuteTime": {
     "end_time": "2023-12-08T06:32:31.177923100Z",
     "start_time": "2023-12-08T06:32:30.991834700Z"
    }
   },
   "outputs": [],
   "source": [
    "## Parameters\n",
    "## data: numPy array of data points\n",
    "## distanceMetric: name of the function for computing the distance between two data points\n",
    "\n",
    "def computeDistanceMatrix(data, distanceMetric):\n",
    "    ## size of distance matrix\n",
    "    n = data.shape[0]\n",
    "       \n",
    "    distances = np.matrix([distanceMetric(x,y) for x in data for y in data]).reshape((n,n))\n",
    "    \n",
    "    for i in range(n):\n",
    "        distances[i,i] = 'Nan'  # make sure that diagonal distances to not interfere with computation\n",
    "    \n",
    "    return distances"
   ]
  },
  {
   "cell_type": "markdown",
   "metadata": {},
   "source": [
    "**Hierarchical Clustering**"
   ]
  },
  {
   "cell_type": "markdown",
   "metadata": {},
   "source": [
    "The hierarchical clustering function hierarchical() below performs the hierarchical clustering using the hard-coded Complete Link distance between the clusters.\n",
    "\n",
    "It creates a dendrogram of the clusters by starting with a list [[1],[2],[3]....[n]], where each element of the list represents a singleton cluster, and then, on every step merging the two clusters deemed closest to each other and labeling the merged cluster with the intercluster distance. \n",
    "\n",
    "For example, if clusters [1] and [2] in the list above have a distence 0.2, and this is the shortest intercluster distance, on the next step the list of clusters will look as follows:\n",
    "\n",
    "        [[0.2, [1],[2]],[3],...,[n]]"
   ]
  },
  {
   "cell_type": "markdown",
   "metadata": {},
   "source": [
    "** Your task:**\n",
    "  Change the function hierarchical() to work with the centroid distance function you developed.A"
   ]
  },
  {
   "cell_type": "code",
   "execution_count": 18,
   "metadata": {
    "collapsed": false,
    "ExecuteTime": {
     "end_time": "2023-12-08T06:32:31.177923100Z",
     "start_time": "2023-12-08T06:32:31.018024500Z"
    }
   },
   "outputs": [],
   "source": [
    "## canonize() ensures that the values in the s= (i,j) pair satisfy i<j\n",
    "def canonize(s):\n",
    "    if s[0] < s[1]:\n",
    "        return s\n",
    "    else:\n",
    "        return (s[1],s[0])\n",
    "\n",
    "## Paremeters\n",
    "## distances: matrix of distances\n",
    "## data: the raw dataset. Passed in case needed for distance computations\n",
    "\n",
    "def hierarchical(data, distances):\n",
    "      \n",
    "    size = distances.shape[0]\n",
    "    m = np.matrix(np.copy(distances))  ## make a copy of the original distance matrix\n",
    "                                       ## some distance computations may require it\n",
    "\n",
    "    ## clusters is the data structure storing the dendrogram \n",
    "    clusters = [[i] for i in range(size)]    ## leaf level of the dendrogram\n",
    "    \n",
    "    for iteration in range(size-1):  ## we merge two clusters size-1 times\n",
    "        \n",
    "        s = np.unravel_index(np.nanargmin(m),m.shape)\n",
    "        s = canonize(s)\n",
    "        \n",
    "        height = m[s[0],s[1]]  ## smallest distance between two clusters.\n",
    "    \n",
    "        clusters[s[0]] = [height, clusters[s[0]],clusters[s[1]]]   ## create a merged node in the\n",
    "                                                                   ## dendrogram in-place \n",
    "    \n",
    "        for i in range(m.shape[0]):\n",
    "            if i != s[0] and i != s[1]:\n",
    "#                 newSim = completeLink(m, s[0],s[1], i)\n",
    "                \n",
    "                new_dist = centroidDistance(clusters[s[0]], clusters[i], data)\n",
    "\n",
    "                m[s[0], i] = new_dist\n",
    "                m[i, s[0]] = new_dist\n",
    "                \n",
    "  \n",
    "        ## modify data structures: delete row and column from the distance matrix\n",
    "        ##                         delete merged entry from the dendrogram\n",
    "        m= np.delete(m,s[1],0)\n",
    "        m= np.delete(m,s[1],1)\n",
    "        del clusters[s[1]]\n",
    "    return clusters"
   ]
  },
  {
   "cell_type": "markdown",
   "metadata": {},
   "source": [
    "** Cluster Output **\n",
    "\n",
    "The functions below are used to process the dendrogram created by hierarchical() and to retrieve from this dendrogram the assignment of points to clusters.\n",
    "\n",
    "getClusters() takes as input a dendrogram and a number of clusters, and produces as a result the list of dendrograms representing the requested number of clusters. \n",
    "\n",
    "**Note:** this method performs outlier removal - any singleton \"clusters\" detected during the process are removed\n",
    "\n",
    "split() is the helper function for getClusters(), it finds, in a forest of dendrograms, the dendrogram with the highest height, and splits that dendrogram into two parts, performing outlier removal as needed.\n",
    "\n",
    "flattenClusters() and its helper function flatten() work with the output produced by getClusters().  \n",
    "\n",
    "flattenClusters() returns an array of cluster assignments - the value in position j represents the cluster label for the jth point in the dataset. If this value is -1, the point is an outlier. Cluster labels for k clusters are 0,1,.., k-1."
   ]
  },
  {
   "cell_type": "code",
   "execution_count": 19,
   "metadata": {
    "collapsed": false,
    "ExecuteTime": {
     "end_time": "2023-12-08T06:32:31.177923100Z",
     "start_time": "2023-12-08T06:32:31.034557400Z"
    }
   },
   "outputs": [],
   "source": [
    "## Parameters\n",
    "## clusters: the dendrogram from Hierarchical clustering method\n",
    "## k: number of clusters to extract\n",
    "\n",
    "def split(clusters):\n",
    "    \n",
    "    size = len(clusters)\n",
    "    \n",
    "    maxHeight = clusters[0][0]\n",
    "    idx = 0\n",
    "    for i in range(size):\n",
    "        if clusters[i][0] > maxHeight:\n",
    "            maxHeight = clusters[i][0]\n",
    "            idx = i\n",
    "    s = clusters[idx]\n",
    "    left = s[1]\n",
    "    right = s[2]\n",
    "    l = []\n",
    "    if len(left)==3:     ## check if leaf\n",
    "        l.append(left)\n",
    "    if len(right)==3:\n",
    "        l.append(right)\n",
    "    del clusters[idx]\n",
    "    clusters.extend(l)\n",
    "    \n",
    "    return clusters\n",
    "                \n",
    "    \n",
    "def getClusters(clusters, k):\n",
    "\n",
    "    s = clusters\n",
    "    while len(clusters) < k:\n",
    "        s = split(s)\n",
    "       \n",
    "    return s\n",
    "    \n",
    "def flatten(cluster, assignment, label):\n",
    "    left = cluster[1]\n",
    "    right = cluster[2]\n",
    "    if len(left)== 3:\n",
    "        flatten(left, assignment,label)\n",
    "    else:\n",
    "        assignment[left[0]] = label\n",
    "    if len(right) == 3:\n",
    "        flatten(right,assignment, label)\n",
    "    else:\n",
    "        assignment[right[0]]= label\n",
    "    \n",
    "    return\n",
    "        \n",
    "    \n",
    "\n",
    "## takes the output of getClusters() function and assigns a cluster label to each data label\n",
    "## n: number of data points in the dataset\n",
    "def flattenClusters(clusters,n):   \n",
    "\n",
    "    k = len(clusters)  ## number of clusters.\n",
    "    \n",
    "    assignment = np.full((n), -1)\n",
    "    \n",
    "    for i in range(k):\n",
    "        flatten(clusters[i], assignment,i)\n",
    "    \n",
    "    return assignment\n",
    "    \n"
   ]
  },
  {
   "cell_type": "markdown",
   "metadata": {},
   "source": [
    "** Reading in the Dataset **\n"
   ]
  },
  {
   "cell_type": "code",
   "execution_count": 20,
   "metadata": {
    "collapsed": false,
    "ExecuteTime": {
     "end_time": "2023-12-08T06:32:31.177923100Z",
     "start_time": "2023-12-08T06:32:31.049646300Z"
    }
   },
   "outputs": [],
   "source": [
    "filename = \"data1.csv\"\n",
    "\n",
    "rawData = np.loadtxt(filename, delimiter = \",\")\n",
    "\n",
    "## let's keep only the two columns with the data attributes\n",
    "\n",
    "data = rawData[:,0:2]\n"
   ]
  },
  {
   "cell_type": "markdown",
   "metadata": {},
   "source": [
    "**Let's visualize the dataset**"
   ]
  },
  {
   "cell_type": "code",
   "execution_count": 21,
   "metadata": {
    "collapsed": false,
    "scrolled": true,
    "ExecuteTime": {
     "end_time": "2023-12-08T06:32:31.287548900Z",
     "start_time": "2023-12-08T06:32:31.082314400Z"
    }
   },
   "outputs": [
    {
     "data": {
      "text/plain": "<matplotlib.collections.PathCollection at 0x2206c14d4e0>"
     },
     "execution_count": 21,
     "metadata": {},
     "output_type": "execute_result"
    },
    {
     "data": {
      "text/plain": "<Figure size 640x480 with 1 Axes>",
      "image/png": "[encoded data removed]"
     },
     "metadata": {},
     "output_type": "display_data"
    }
   ],
   "source": [
    "plt.scatter(data[:,0],data[:,1])"
   ]
  },
  {
   "cell_type": "code",
   "execution_count": 22,
   "metadata": {
    "collapsed": false,
    "ExecuteTime": {
     "end_time": "2023-12-08T06:32:31.541119300Z",
     "start_time": "2023-12-08T06:32:31.303440900Z"
    }
   },
   "outputs": [],
   "source": [
    "## Perform Clustering\n",
    "\n",
    "distanceMatrix = computeDistanceMatrix(data, eucledian)\n",
    "clusters = hierarchical(data,distanceMatrix)\n",
    "\n",
    "# Get five clusters \n",
    "five = getClusters(clusters, 5)\n",
    "\n",
    "# Flatten those clusters into usable values\n",
    "flattened = flattenClusters(five, len(data))\n",
    "\n",
    "# Create a dictionary of all the individual clusters\n",
    "clusters = {}\n",
    "for i, point in enumerate(flattened):\n",
    "    if point not in clusters:\n",
    "        clusters[point] = [data[i]]\n",
    "    else:\n",
    "        clusters[point].append(data[i])\n",
    "\n",
    "# This is just some light data formatting\n",
    "for c in clusters:\n",
    "    clusters[c] = np.stack(clusters[c], axis=0)"
   ]
  },
  {
   "cell_type": "markdown",
   "metadata": {},
   "source": [
    "**Your Task**: output the cluster assignment. \n",
    "\n",
    "We are looking for **five (5)** clusters"
   ]
  },
  {
   "cell_type": "markdown",
   "metadata": {},
   "source": [
    "** Your Task**: visualize the scatterplot of your cluster assignments"
   ]
  },
  {
   "cell_type": "code",
   "execution_count": 23,
   "metadata": {
    "collapsed": false,
    "ExecuteTime": {
     "end_time": "2023-12-08T06:32:31.561284600Z",
     "start_time": "2023-12-08T06:32:31.541119300Z"
    }
   },
   "outputs": [
    {
     "name": "stdout",
     "output_type": "stream",
     "text": [
      "Cluster 1 with radius 1.5050503818586876: \n",
      "[[ 1.13914451  1.42127638]\n",
      " [ 2.05490501  0.94506381]\n",
      " [ 1.68718074  1.1498139 ]\n",
      " [ 1.84522469  1.83389662]\n",
      " [ 0.34916704  0.20757109]\n",
      " [ 0.71312273  2.29592454]\n",
      " [ 1.45120283  1.30024144]\n",
      " [ 1.34923173  1.50134826]\n",
      " [ 0.68673661  0.62518478]\n",
      " [ 1.00956961  0.73643864]\n",
      " [ 0.81778376  0.80011884]\n",
      " [ 0.59629252  1.25168355]\n",
      " [ 0.45972192  0.15943312]\n",
      " [ 0.70812176  0.12705347]\n",
      " [ 0.9877163   0.88087237]\n",
      " [ 2.13006473  0.58668393]\n",
      " [ 1.63906411  0.27282683]\n",
      " [-0.07439339  0.39514351]\n",
      " [ 0.53158587  0.30863246]\n",
      " [ 0.1284272   1.21343064]\n",
      " [-0.01671219  0.10049069]\n",
      " [ 1.44887643  2.36205833]]\n",
      "Cluster 4 with radius 1.0605860542418464: \n",
      "[[3.35485443 2.93165325]\n",
      " [4.14035686 3.33299415]\n",
      " [4.09297082 2.91941295]\n",
      " [4.0255524  2.0603712 ]\n",
      " [4.34792055 2.52103225]\n",
      " [3.97263885 3.35778194]\n",
      " [3.4400606  3.10399365]\n",
      " [4.39475248 1.84578503]\n",
      " [3.30182989 2.46335266]\n",
      " [3.24289466 3.4846477 ]\n",
      " [4.94876467 3.25362572]\n",
      " [4.28558271 2.65092888]\n",
      " [3.73850811 1.93814949]\n",
      " [3.96621709 2.54236809]\n",
      " [3.4944046  2.88808942]\n",
      " [3.65815333 3.01243996]\n",
      " [4.38450682 2.64807034]\n",
      " [4.16127113 3.18042862]\n",
      " [3.57659967 3.1872377 ]\n",
      " [4.42818966 1.85642644]\n",
      " [4.27975805 3.15859511]\n",
      " [4.72411876 3.31727824]\n",
      " [4.39687162 3.38838496]\n",
      " [3.32977397 2.65770565]]\n",
      "Cluster 5 with radius 1.5105212286442755: \n",
      "[[7.74178165 2.98820786]\n",
      " [7.23877304 3.11233171]\n",
      " [7.13997585 2.19156537]\n",
      " [7.0069634  3.02368756]\n",
      " [7.05139949 2.63671635]\n",
      " [7.41742855 2.61724531]\n",
      " [6.48432308 1.81779005]\n",
      " [6.86508344 1.6115423 ]\n",
      " [6.2032856  3.50225275]\n",
      " [6.94687453 2.76920293]\n",
      " [7.04917701 2.89365498]\n",
      " [6.02489295 4.07673433]\n",
      " [7.44888086 2.53461879]\n",
      " [5.65779909 2.69738454]\n",
      " [6.28670454 3.03973959]\n",
      " [6.33782706 3.11854403]\n",
      " [6.93046716 3.36804613]\n",
      " [6.53349031 2.91376934]\n",
      " [7.10903004 2.07571773]\n",
      " [6.33939021 2.74087906]\n",
      " [7.03391515 2.41297226]\n",
      " [7.36649548 3.31924822]\n",
      " [6.30653573 3.01781923]\n",
      " [7.719528   3.05130484]\n",
      " [6.76350196 3.36047975]\n",
      " [7.15592462 3.05347983]\n",
      " [6.66273713 2.84304108]\n",
      " [7.33364818 3.12884973]\n",
      " [6.21583128 2.96251341]\n",
      " [7.5728735  2.78429215]\n",
      " [5.99485326 3.69010212]\n",
      " [7.42802257 2.88418269]\n",
      " [7.13471635 3.84256047]\n",
      " [7.53605744 3.32103687]\n",
      " [7.1819572  2.95003399]\n",
      " [6.86121822 2.37042466]\n",
      " [7.63642691 3.10655575]\n",
      " [7.2747744  3.09505402]\n",
      " [7.02453215 2.60155743]\n",
      " [7.76509682 1.94725476]\n",
      " [7.74914167 3.17197454]]\n",
      "Cluster 2 with radius 1.430299037770285: \n",
      "[[2.45473115 4.30576896]\n",
      " [1.36845274 6.10263427]\n",
      " [2.35347325 5.44650425]\n",
      " [2.35967528 5.57684932]\n",
      " [2.4758371  5.52198907]\n",
      " [1.68981927 5.08565087]\n",
      " [2.51901262 5.3235015 ]\n",
      " [3.13287714 6.61450036]\n",
      " [2.75038807 6.46789207]\n",
      " [2.29412747 6.86917004]]\n",
      "Cluster 3 with radius 1.6847625897254654: \n",
      "[[8.54991328 6.58307743]\n",
      " [7.78045274 5.54953381]\n",
      " [8.52654346 6.05561829]\n",
      " [8.43657199 6.21754073]\n",
      " [7.52139659 7.30566686]\n",
      " [8.92301108 5.84377781]\n",
      " [8.60768773 5.2297361 ]\n",
      " [8.00818768 6.31721167]\n",
      " [8.57580943 6.21368595]\n",
      " [8.25585671 5.20895508]\n",
      " [8.02082345 5.95926999]\n",
      " [7.71764847 5.72116412]\n",
      " [8.05906408 5.97456223]\n",
      " [8.21513793 5.87175774]\n",
      " [7.76486087 7.01476363]\n",
      " [8.29286791 6.14634376]\n",
      " [8.59056135 4.89706758]\n",
      " [8.06248476 6.34177293]\n",
      " [6.84885249 7.05820496]\n",
      " [6.39545529 5.82832459]\n",
      " [8.19700245 5.666758  ]\n",
      " [8.05345784 6.58039393]\n",
      " [7.99653757 6.32082644]]\n"
     ]
    }
   ],
   "source": [
    "def computeClusterRadius(cluster):\n",
    "    centroid = sum(cluster) / len(cluster)\n",
    "    \n",
    "    radius = 0\n",
    "    for point in cluster:\n",
    "        dist = eucledian(centroid, point)\n",
    "        if dist > radius:\n",
    "            radius = dist\n",
    "    return radius\n",
    "\n",
    "# This outputs all the data points and which clusters they belong to\n",
    "for c in clusters:\n",
    "    if c == -1:\n",
    "        continue\n",
    "    else:\n",
    "        radius = computeClusterRadius(clusters[c])\n",
    "        print(\"Cluster {} with radius {}: \\n{}\".format(c+1, radius, clusters[c]))\n",
    "if -1 in clusters:\n",
    "    print(\"Outliers:\\n{}\".format(clusters[-1]))     "
   ]
  },
  {
   "cell_type": "code",
   "execution_count": 24,
   "metadata": {
    "collapsed": false,
    "ExecuteTime": {
     "end_time": "2023-12-08T06:32:31.831934500Z",
     "start_time": "2023-12-08T06:32:31.561284600Z"
    }
   },
   "outputs": [
    {
     "data": {
      "text/plain": "<Figure size 640x480 with 1 Axes>",
      "image/png": "[encoded data removed]"
     },
     "metadata": {},
     "output_type": "display_data"
    }
   ],
   "source": [
    "## Use the array of colors below.  Use black for outliers, other colors for the five clusters you constructed.\n",
    "\n",
    "colors=['black', 'blue', 'green', 'red', 'purple', 'brown']\n",
    "\n",
    "# Print out all the clusters, normal colors for good values,\n",
    "# black for outliers\n",
    "color_index = 1\n",
    "for c in clusters:\n",
    "    if c == -1:\n",
    "        plt.scatter(clusters[c][:, 0], clusters[c][:, 1], color='black')\n",
    "    else:\n",
    "        plt.scatter(clusters[c][:, 0], clusters[c][:, 1], color=colors[color_index])\n",
    "    color_index += 1"
   ]
  },
  {
   "cell_type": "markdown",
   "metadata": {},
   "source": [
    "\n",
    "**When you are done**: download the notebook, submit using the following command:\n",
    "\n",
    "        handin dekhtyar 466-test <notebook>"
   ]
  },
  {
   "cell_type": "code",
   "execution_count": 24,
   "metadata": {
    "collapsed": true,
    "ExecuteTime": {
     "end_time": "2023-12-08T06:32:31.911980100Z",
     "start_time": "2023-12-08T06:32:31.831934500Z"
    }
   },
   "outputs": [],
   "source": []
  }
 ],
 "metadata": {
  "kernelspec": {
   "display_name": "Python 3",
   "language": "python",
   "name": "python3"
  },
  "language_info": {
   "codemirror_mode": {
    "name": "ipython",
    "version": 3
   },
   "file_extension": ".py",
   "mimetype": "text/x-python",
   "name": "python",
   "nbconvert_exporter": "python",
   "pygments_lexer": "ipython3",
   "version": "3.6.5"
  }
 },
 "nbformat": 4,
 "nbformat_minor": 2
}

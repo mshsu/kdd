{
 "cells": [
  {
   "cell_type": "markdown",
   "metadata": {},
   "source": [
    "**CSC 466: Knowledge Discovery in Data **\n",
    "** Individual Test**\n",
    "\n",
    "**Task 1 **"
   ]
  },
  {
   "cell_type": "markdown",
   "metadata": {},
   "source": [
    "**Your Name **:\n",
    "\n",
    "**Cal Poly Email**:"
   ]
  },
  {
   "cell_type": "markdown",
   "metadata": {},
   "source": [
    "The program below performs hierarchical clustering using Complete Link distance.\n",
    "\n",
    "**Your Task**: Perform the following:\n",
    "\n",
    "  1. Add to the notebook the computation of the Centroid Distance method for computing the distance between two data points.\n",
    "     The function getCentroid() is defined and stubbed below for your convenience\n",
    "  \n",
    "  2. Change the code of the hierarchical clustering function to use the Centroid distance.  \n",
    "  \n",
    "  3. Display the vector of cluster assignments constructed by function flatten()\n",
    "  \n",
    "  4. Plot the dataset colored by cluster (marking outliers with a separate color)\n",
    "  \n",
    "  5. Write a function computeClusterRadius(), which, given a cluster returns its radius.\n",
    "  \n",
    "  6. Report the radii for each cluster"
   ]
  },
  {
   "cell_type": "markdown",
   "metadata": {},
   "source": [
    "**Notes:**\n",
    "\n",
    "Please read carefully the comments to the existing code - they may explain things you need to know in order to complete some of the tasks.\n",
    "\n",
    "I have created placeholders for the main functions you need to create and Jupyter cells at the bottom of the notebook for you to produce the desired output.  You may need/want/find it convenient to define additional functions, or to change the parameters in the function definitions provided to you. Feel free to do both/either as you see fit."
   ]
  },
  {
   "cell_type": "code",
   "execution_count": 43,
   "metadata": {
    "collapsed": true,
    "jupyter": {
     "outputs_hidden": true
    },
    "ExecuteTime": {
     "end_time": "2023-12-08T06:32:04.357940700Z",
     "start_time": "2023-12-08T06:32:04.159489400Z"
    }
   },
   "outputs": [],
   "source": [
    "## Imports\n",
    "\n",
    "import numpy as np\n",
    "from matplotlib import pyplot as plt\n",
    "import seaborn\n",
    "%matplotlib inline"
   ]
  },
  {
   "cell_type": "markdown",
   "metadata": {},
   "source": [
    "**Distance Metrics**\n",
    "\n",
    "We use Eucledian distance between two points for this assignment. For simplicity, we declare our own function."
   ]
  },
  {
   "cell_type": "code",
   "execution_count": 44,
   "metadata": {
    "collapsed": true,
    "jupyter": {
     "outputs_hidden": true
    },
    "ExecuteTime": {
     "end_time": "2023-12-08T06:32:04.499401100Z",
     "start_time": "2023-12-08T06:32:04.184583300Z"
    }
   },
   "outputs": [],
   "source": [
    "def eucledian(x,y):\n",
    "    return np.sqrt(np.sum((x - y)*(x-y)))"
   ]
  },
  {
   "cell_type": "markdown",
   "metadata": {},
   "source": [
    "** Complete Link Distance Computation **\n",
    "\n",
    "The code below is simply to make the original Hierarchical code run."
   ]
  },
  {
   "cell_type": "code",
   "execution_count": 45,
   "metadata": {
    "collapsed": true,
    "jupyter": {
     "outputs_hidden": true
    },
    "ExecuteTime": {
     "end_time": "2023-12-08T06:32:04.506347900Z",
     "start_time": "2023-12-08T06:32:04.205753400Z"
    }
   },
   "outputs": [],
   "source": [
    "## Parameters\n",
    "## m: matrix of cluster distances\n",
    "## i, j: clusters that are being merged (new cluster is {i,j})\n",
    "## k: cluster to which the new distance needs to be computed\n",
    "\n",
    "## complete link is the largest distance between two points belonging to two different clusters\n",
    "## if a cluster i = {x1,...,xn} and cluster j = {y1,...,ym} are merged, then \n",
    "## the complete link distance from the new cluster ij = {x1,..,xn,y1,..,ym} to a cluster \n",
    "## k = {z1,...,zp} is the larger of the complete link distances between clusters k and i and clusters k and j\n",
    "\n",
    "def completeLink(m, i,j,k):\n",
    "    # assume i<j\n",
    "    sim = min(m[i,k], m[j,k])\n",
    "    \n",
    "    return sim"
   ]
  },
  {
   "cell_type": "markdown",
   "metadata": {},
   "source": [
    "**Your Assignment**: develop the centroidDistance() function in the cell below."
   ]
  },
  {
   "cell_type": "code",
   "execution_count": 46,
   "metadata": {
    "collapsed": true,
    "jupyter": {
     "outputs_hidden": true
    },
    "ExecuteTime": {
     "end_time": "2023-12-08T06:32:04.506347900Z",
     "start_time": "2023-12-08T06:32:04.217143300Z"
    }
   },
   "outputs": [],
   "source": [
    "## Parameters\n",
    "## data: the dataset (expect a numPy array or matrix)\n",
    "## cluster1, cluster2 - dendrograms representing the two clusters \n",
    "## \n",
    "## Output: Centroid distance between the two clusters represented by the dendrograms.\n",
    "## Note: leaf nodes in the dendrograms are indexes of points in the data array/matrix\n",
    "\n",
    "def get_leaves(cluster):\n",
    "    if len(cluster) == 1 and isinstance(cluster[0], list):\n",
    "        return get_leaves(cluster[0])\n",
    "\n",
    "    leaves = []\n",
    "    for item in cluster[1:]:\n",
    "        if len(item) == 1:\n",
    "            leaves.extend(item)\n",
    "        else:\n",
    "            leaves.extend(get_leaves(item))\n",
    "\n",
    "    return leaves\n",
    "\n",
    "def centroidDistance(cluster1, cluster2, data):\n",
    "    cl1_leaves = get_leaves(cluster1)\n",
    "    cl2_leaves = get_leaves(cluster2)\n",
    "    cl1 = data[cl1_leaves, :]\n",
    "    cl2 = data[cl2_leaves, :]\n",
    "\n",
    "    return eucledian(np.mean(cl1, axis=0), np.mean(cl2, axis=0))"
   ]
  },
  {
   "cell_type": "markdown",
   "metadata": {},
   "source": [
    "** Compute Distance Matrix **\n",
    "\n",
    "The computeDistanceMatrix() function below simply computes the pairwise distances between all data points.\n",
    "To enable proper work of hierarchical, the distance between all pairs [i,i] is set to 'NaN'\n",
    "\n",
    "This function is parameterized by the distance computation method. We are using Eucledian distance."
   ]
  },
  {
   "cell_type": "code",
   "execution_count": 47,
   "metadata": {
    "collapsed": true,
    "jupyter": {
     "outputs_hidden": true
    },
    "ExecuteTime": {
     "end_time": "2023-12-08T06:32:04.506347900Z",
     "start_time": "2023-12-08T06:32:04.232147800Z"
    }
   },
   "outputs": [],
   "source": [
    "## Parameters\n",
    "## data: numPy array of data points\n",
    "## distanceMetric: name of the function for computing the distance between two data points\n",
    "\n",
    "def computeDistanceMatrix(data, distanceMetric):\n",
    "    ## size of distance matrix\n",
    "    n = data.shape[0]\n",
    "       \n",
    "    distances = np.matrix([distanceMetric(x,y) for x in data for y in data]).reshape((n,n))\n",
    "    \n",
    "    for i in range(n):\n",
    "        distances[i,i] = 'Nan'  # make sure that diagonal distances to not interfere with computation\n",
    "    \n",
    "    return distances"
   ]
  },
  {
   "cell_type": "markdown",
   "metadata": {},
   "source": [
    "**Hierarchical Clustering**"
   ]
  },
  {
   "cell_type": "markdown",
   "metadata": {},
   "source": [
    "The hierarchical clustering function hierarchical() below performs the hierarchical clustering using the hard-coded Complete Link distance between the clusters.\n",
    "\n",
    "It creates a dendrogram of the clusters by starting with a list [[1],[2],[3]....[n]], where each element of the list represents a singleton cluster, and then, on every step merging the two clusters deemed closest to each other and labeling the merged cluster with the intercluster distance. \n",
    "\n",
    "For example, if clusters [1] and [2] in the list above have a distence 0.2, and this is the shortest intercluster distance, on the next step the list of clusters will look as follows:\n",
    "\n",
    "        [[0.2, [1],[2]],[3],...,[n]]"
   ]
  },
  {
   "cell_type": "markdown",
   "metadata": {},
   "source": [
    "** Your task:**\n",
    "  Change the function hierarchical() to work with the centroid distance function you developed.A"
   ]
  },
  {
   "cell_type": "code",
   "execution_count": 48,
   "metadata": {
    "collapsed": false,
    "jupyter": {
     "outputs_hidden": false
    },
    "ExecuteTime": {
     "end_time": "2023-12-08T06:32:04.506347900Z",
     "start_time": "2023-12-08T06:32:04.276215900Z"
    }
   },
   "outputs": [],
   "source": [
    "## canonize() ensures that the values in the s= (i,j) pair satisfy i<j\n",
    "def canonize(s):\n",
    "    if s[0] < s[1]:\n",
    "        return s\n",
    "    else:\n",
    "        return (s[1],s[0])\n",
    "\n",
    "## Paremeters\n",
    "## distances: matrix of distances\n",
    "## data: the raw dataset. Passed in case needed for distance computations\n",
    "\n",
    "def hierarchical(data, distances):\n",
    "      \n",
    "    size = distances.shape[0]\n",
    "    m = np.matrix(np.copy(distances))  ## make a copy of the original distance matrix\n",
    "                                       ## some distance computations may require it\n",
    "\n",
    "    ## clusters is the data structure storing the dendrogram \n",
    "    clusters = [[i] for i in range(size)]    ## leaf level of the dendrogram\n",
    "    \n",
    "    for iteration in range(size-1):  ## we merge two clusters size-1 times\n",
    "        \n",
    "        s = np.unravel_index(np.nanargmin(m),m.shape)\n",
    "        s = canonize(s)\n",
    "    \n",
    "        height = m[s[0],s[1]]  ## smallest distance between two clusters.\n",
    "    \n",
    "        clusters[s[0]] = [height, clusters[s[0]],clusters[s[1]]]   ## create a merged node in the\n",
    "                                                                   ## dendrogram in-place \n",
    "    \n",
    "        for i in range(m.shape[0]):\n",
    "            if i != s[0] and i != s[1]:\n",
    "                # newSim = completeLink(m, s[0],s[1],i)\n",
    "                newSim = centroidDistance(clusters[s[0]], clusters[i], data)\n",
    "                m[s[0],i] = newSim\n",
    "                m[i,s[0]] = newSim\n",
    "  \n",
    "        ## modify data structures: delete row and column from the distance matrix\n",
    "        ##                         delete merged entry from the dendrogram\n",
    "        m= np.delete(m,s[1],0)\n",
    "        m= np.delete(m,s[1],1)\n",
    "        del clusters[s[1]]\n",
    "    return clusters"
   ]
  },
  {
   "cell_type": "markdown",
   "metadata": {},
   "source": [
    "** Cluster Output **\n",
    "\n",
    "The functions below are used to process the dendrogram created by hierarchical() and to retrieve from this dendrogram the assignment of points to clusters.\n",
    "\n",
    "getClusters() takes as input a dendrogram and a number of clusters, and produces as a result the list of dendrograms representing the requested number of clusters. \n",
    "\n",
    "**Note:** this method performs outlier removal - any singleton \"clusters\" detected during the process are removed\n",
    "\n",
    "split() is the helper function for getClusters(), it finds, in a forest of dendrograms, the dendrogram with the highest height, and splits that dendrogram into two parts, performing outlier removal as needed.\n",
    "\n",
    "flattenClusters() and its helper function flatten() work with the output produced by getClusters().  \n",
    "\n",
    "flattenClusters() returns an array of cluster assignments - the value in position j represents the cluster label for the jth point in the dataset. If this value is -1, the point is an outlier. Cluster labels for k clusters are 0,1,.., k-1."
   ]
  },
  {
   "cell_type": "code",
   "execution_count": 49,
   "metadata": {
    "collapsed": false,
    "jupyter": {
     "outputs_hidden": false
    },
    "ExecuteTime": {
     "end_time": "2023-12-08T06:32:04.515437400Z",
     "start_time": "2023-12-08T06:32:04.294952300Z"
    }
   },
   "outputs": [],
   "source": [
    "## Parameters\n",
    "## clusters: the dendrogram from Hierarchical clustering method\n",
    "## k: number of clusters to extract\n",
    "\n",
    "def split(clusters):\n",
    "    \n",
    "    size = len(clusters)\n",
    "    \n",
    "    maxHeight = clusters[0][0]\n",
    "    idx = 0\n",
    "    for i in range(size):\n",
    "        if clusters[i][0] > maxHeight:\n",
    "            maxHeight = clusters[i][0]\n",
    "            idx = i\n",
    "    s = clusters[idx]\n",
    "    left = s[1]\n",
    "    right = s[2]\n",
    "    l = []\n",
    "    if len(left)==3:     ## check if leaf\n",
    "        l.append(left)\n",
    "    if len(right)==3:\n",
    "        l.append(right)\n",
    "    del clusters[idx]\n",
    "    clusters.extend(l)\n",
    "    \n",
    "    return clusters\n",
    "                \n",
    "    \n",
    "def getClusters(clusters, k):\n",
    "\n",
    "    s = clusters\n",
    "    while len(clusters) < k:\n",
    "        s = split(s)\n",
    "       \n",
    "    return s\n",
    "    \n",
    "def flatten(cluster, assignment, label):\n",
    "    left = cluster[1]\n",
    "    right = cluster[2]\n",
    "    if len(left)== 3:\n",
    "        flatten(left, assignment,label)\n",
    "    else:\n",
    "        assignment[left[0]] = label\n",
    "    if len(right) == 3:\n",
    "        flatten(right,assignment, label)\n",
    "    else:\n",
    "        assignment[right[0]]= label\n",
    "    \n",
    "    return\n",
    "        \n",
    "    \n",
    "\n",
    "## takes the output of getClusters() function and assigns a cluster label to each data label\n",
    "## n: number of data points in the dataset\n",
    "def flattenClusters(clusters,n):   \n",
    "\n",
    "    k = len(clusters)  ## number of clusters.\n",
    "    \n",
    "    assignment = np.full((n), -1)\n",
    "    \n",
    "    for i in range(k):\n",
    "        flatten(clusters[i], assignment,i)\n",
    "    \n",
    "    return assignment\n",
    "    \n"
   ]
  },
  {
   "cell_type": "markdown",
   "metadata": {},
   "source": [
    "** Reading in the Dataset **\n"
   ]
  },
  {
   "cell_type": "code",
   "execution_count": 50,
   "metadata": {
    "collapsed": true,
    "jupyter": {
     "outputs_hidden": true
    },
    "ExecuteTime": {
     "end_time": "2023-12-08T06:32:04.515437400Z",
     "start_time": "2023-12-08T06:32:04.311059Z"
    }
   },
   "outputs": [],
   "source": [
    "filename = \"data1.csv\"\n",
    "\n",
    "rawData = np.loadtxt(filename, delimiter = \",\")\n",
    "\n",
    "## let's keep only the two columns with the data attributes\n",
    "\n",
    "data = rawData[:,0:2]\n"
   ]
  },
  {
   "cell_type": "markdown",
   "metadata": {},
   "source": [
    "**Let's visualize the dataset**"
   ]
  },
  {
   "cell_type": "code",
   "execution_count": 51,
   "metadata": {
    "collapsed": false,
    "jupyter": {
     "outputs_hidden": false
    },
    "ExecuteTime": {
     "end_time": "2023-12-08T06:32:04.641146700Z",
     "start_time": "2023-12-08T06:32:04.342316Z"
    }
   },
   "outputs": [
    {
     "data": {
      "text/plain": "<matplotlib.collections.PathCollection at 0x20bfe1da2c0>"
     },
     "execution_count": 51,
     "metadata": {},
     "output_type": "execute_result"
    },
    {
     "data": {
      "text/plain": "<Figure size 640x480 with 1 Axes>",
      "image/png": "[encoded data removed]"
     },
     "metadata": {},
     "output_type": "display_data"
    }
   ],
   "source": [
    "plt.scatter(data[:,0],data[:,1])"
   ]
  },
  {
   "cell_type": "code",
   "execution_count": 52,
   "metadata": {
    "collapsed": false,
    "jupyter": {
     "outputs_hidden": false
    },
    "ExecuteTime": {
     "end_time": "2023-12-08T06:32:04.986045400Z",
     "start_time": "2023-12-08T06:32:04.577948100Z"
    }
   },
   "outputs": [
    {
     "name": "stderr",
     "output_type": "stream",
     "text": [
      "C:\\Users\\hsu_m\\anaconda3\\envs\\csc466\\lib\\site-packages\\numpy\\core\\fromnumeric.py:3504: RuntimeWarning: Mean of empty slice.\n",
      "  return _methods._mean(a, axis=axis, dtype=dtype,\n",
      "C:\\Users\\hsu_m\\anaconda3\\envs\\csc466\\lib\\site-packages\\numpy\\core\\_methods.py:121: RuntimeWarning: invalid value encountered in divide\n",
      "  ret = um.true_divide(\n"
     ]
    }
   ],
   "source": [
    "## Perform Clustering\n",
    "\n",
    "distanceMatrix = computeDistanceMatrix(data, eucledian)\n",
    "clusters = hierarchical(data,distanceMatrix)"
   ]
  },
  {
   "cell_type": "markdown",
   "metadata": {},
   "source": [
    "**Your Task**: output the cluster assignment. \n",
    "\n",
    "We are looking for **five (5)** clusters"
   ]
  },
  {
   "cell_type": "markdown",
   "metadata": {},
   "source": [
    "** Your Task**: visualize the scatterplot of your cluster assignments"
   ]
  },
  {
   "cell_type": "code",
   "execution_count": 53,
   "outputs": [
    {
     "data": {
      "text/plain": "array([0, 0, 0, 0, 0, 0, 0, 0, 0, 0, 0, 0, 0, 0, 0, 0, 0, 0, 0, 0, 0, 0,\n       3, 3, 3, 3, 3, 3, 3, 3, 3, 3, 3, 3, 3, 3, 3, 3, 3, 3, 3, 3, 3, 3,\n       1, 3, 3, 3, 3, 3, 3, 3, 3, 3, 3, 3, 3, 3, 3, 3, 3, 3, 3, 3, 3, 3,\n       3, 3, 3, 3, 3, 3, 3, 3, 3, 3, 3, 3, 3, 3, 3, 3, 3, 3, 3, 4, 3, 3,\n       1, 1, 1, 1, 1, 1, 1, 1, 1, 2, 2, 2, 2, 2, 2, 2, 2, 2, 4, 2, 2, 2,\n       2, 2, 2, 2, 2, 2, 2, 2, 2, 2])"
     },
     "execution_count": 53,
     "metadata": {},
     "output_type": "execute_result"
    }
   ],
   "source": [
    "flattenClusters(getClusters(clusters, 5), data.shape[0])"
   ],
   "metadata": {
    "collapsed": false,
    "ExecuteTime": {
     "end_time": "2023-12-08T06:32:05.001648800Z",
     "start_time": "2023-12-08T06:32:04.986045400Z"
    }
   }
  },
  {
   "cell_type": "code",
   "execution_count": 54,
   "metadata": {
    "collapsed": false,
    "jupyter": {
     "outputs_hidden": false
    },
    "ExecuteTime": {
     "end_time": "2023-12-08T06:32:05.031540600Z",
     "start_time": "2023-12-08T06:32:05.007155200Z"
    }
   },
   "outputs": [],
   "source": [
    "## Use the array of colors below.  Use black for outliers, other colors for the five clusters you constructed.\n",
    "\n",
    "colors=['black', 'blue', 'green', 'red', 'purple', 'brown']\n"
   ]
  },
  {
   "cell_type": "code",
   "execution_count": 55,
   "outputs": [
    {
     "data": {
      "text/plain": "['blue',\n 'blue',\n 'blue',\n 'blue',\n 'blue',\n 'blue',\n 'blue',\n 'blue',\n 'blue',\n 'blue',\n 'blue',\n 'blue',\n 'blue',\n 'blue',\n 'blue',\n 'blue',\n 'blue',\n 'blue',\n 'blue',\n 'blue',\n 'blue',\n 'blue',\n 'purple',\n 'purple',\n 'purple',\n 'purple',\n 'purple',\n 'purple',\n 'purple',\n 'purple',\n 'purple',\n 'purple',\n 'purple',\n 'purple',\n 'purple',\n 'purple',\n 'purple',\n 'purple',\n 'purple',\n 'purple',\n 'purple',\n 'purple',\n 'purple',\n 'purple',\n 'green',\n 'purple',\n 'purple',\n 'purple',\n 'purple',\n 'purple',\n 'purple',\n 'purple',\n 'purple',\n 'purple',\n 'purple',\n 'purple',\n 'purple',\n 'purple',\n 'purple',\n 'purple',\n 'purple',\n 'purple',\n 'purple',\n 'purple',\n 'purple',\n 'purple',\n 'purple',\n 'purple',\n 'purple',\n 'purple',\n 'purple',\n 'purple',\n 'purple',\n 'purple',\n 'purple',\n 'purple',\n 'purple',\n 'purple',\n 'purple',\n 'purple',\n 'purple',\n 'purple',\n 'purple',\n 'purple',\n 'purple',\n 'brown',\n 'purple',\n 'purple',\n 'green',\n 'green',\n 'green',\n 'green',\n 'green',\n 'green',\n 'green',\n 'green',\n 'green',\n 'red',\n 'red',\n 'red',\n 'red',\n 'red',\n 'red',\n 'red',\n 'red',\n 'red',\n 'brown',\n 'red',\n 'red',\n 'red',\n 'red',\n 'red',\n 'red',\n 'red',\n 'red',\n 'red',\n 'red',\n 'red',\n 'red',\n 'red']"
     },
     "execution_count": 55,
     "metadata": {},
     "output_type": "execute_result"
    }
   ],
   "source": [
    "cmapping = [colors[i+1] for i in flattenClusters(getClusters(clusters, 5), data.shape[0])]\n",
    "cmapping"
   ],
   "metadata": {
    "collapsed": false,
    "ExecuteTime": {
     "end_time": "2023-12-08T06:32:05.031540600Z",
     "start_time": "2023-12-08T06:32:05.017571500Z"
    }
   }
  },
  {
   "cell_type": "code",
   "execution_count": 56,
   "outputs": [
    {
     "data": {
      "text/plain": "<matplotlib.collections.PathCollection at 0x20bfe1bff10>"
     },
     "execution_count": 56,
     "metadata": {},
     "output_type": "execute_result"
    },
    {
     "data": {
      "text/plain": "<Figure size 640x480 with 1 Axes>",
      "image/png": "[encoded data removed]"
     },
     "metadata": {},
     "output_type": "display_data"
    }
   ],
   "source": [
    "plt.scatter(data[:,0],data[:,1], c=cmapping)"
   ],
   "metadata": {
    "collapsed": false,
    "ExecuteTime": {
     "end_time": "2023-12-08T06:32:05.307944700Z",
     "start_time": "2023-12-08T06:32:05.047174700Z"
    }
   }
  },
  {
   "cell_type": "markdown",
   "metadata": {},
   "source": [
    "\n",
    "**When you are done**: download the notebook, submit using the following command:\n",
    "\n",
    "        handin dekhtyar 466-test <notebook>"
   ]
  },
  {
   "cell_type": "code",
   "execution_count": 56,
   "metadata": {
    "collapsed": true,
    "jupyter": {
     "outputs_hidden": true
    },
    "ExecuteTime": {
     "end_time": "2023-12-08T06:32:05.345878600Z",
     "start_time": "2023-12-08T06:32:05.298354200Z"
    }
   },
   "outputs": [],
   "source": []
  }
 ],
 "metadata": {
  "kernelspec": {
   "display_name": "Python 3",
   "language": "python",
   "name": "python3"
  },
  "language_info": {
   "codemirror_mode": {
    "name": "ipython",
    "version": 3
   },
   "file_extension": ".py",
   "mimetype": "text/x-python",
   "name": "python",
   "nbconvert_exporter": "python",
   "pygments_lexer": "ipython3",
   "version": "3.8.8"
  }
 },
 "nbformat": 4,
 "nbformat_minor": 4
}

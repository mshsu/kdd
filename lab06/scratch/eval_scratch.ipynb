{
 "cells": [
  {
   "cell_type": "code",
   "execution_count": 1,
   "metadata": {
    "collapsed": true,
    "ExecuteTime": {
     "end_time": "2023-12-02T19:11:16.921763400Z",
     "start_time": "2023-12-02T19:11:16.146966600Z"
    }
   },
   "outputs": [],
   "source": [
    "import pandas as pd\n",
    "import numpy as np"
   ]
  },
  {
   "cell_type": "code",
   "execution_count": 2,
   "outputs": [
    {
     "data": {
      "text/plain": "                   doc           obs            pred\n0     492830newsML.txt   BradDorfman     BradDorfman\n1     494048newsML.txt   BradDorfman     BradDorfman\n2     497821newsML.txt   BradDorfman  FumikoFujisaki\n3     498878newsML.txt   BradDorfman     BradDorfman\n4     499850newsML.txt   BradDorfman    MarkBendeich\n...                ...           ...             ...\n4711   28223newsML.txt  WilliamKazer    WilliamKazer\n4712  282935newsML.txt  WilliamKazer   JaneMacartney\n4713  287736newsML.txt  WilliamKazer   JaneMacartney\n4714  289747newsML.txt  WilliamKazer    WilliamKazer\n4715  304402newsML.txt  WilliamKazer   JaneMacartney\n\n[4716 rows x 3 columns]",
      "text/html": "<div>\n<style scoped>\n    .dataframe tbody tr th:only-of-type {\n        vertical-align: middle;\n    }\n\n    .dataframe tbody tr th {\n        vertical-align: top;\n    }\n\n    .dataframe thead th {\n        text-align: right;\n    }\n</style>\n<table border=\"1\" class=\"dataframe\">\n  <thead>\n    <tr style=\"text-align: right;\">\n      <th></th>\n      <th>doc</th>\n      <th>obs</th>\n      <th>pred</th>\n    </tr>\n  </thead>\n  <tbody>\n    <tr>\n      <th>0</th>\n      <td>492830newsML.txt</td>\n      <td>BradDorfman</td>\n      <td>BradDorfman</td>\n    </tr>\n    <tr>\n      <th>1</th>\n      <td>494048newsML.txt</td>\n      <td>BradDorfman</td>\n      <td>BradDorfman</td>\n    </tr>\n    <tr>\n      <th>2</th>\n      <td>497821newsML.txt</td>\n      <td>BradDorfman</td>\n      <td>FumikoFujisaki</td>\n    </tr>\n    <tr>\n      <th>3</th>\n      <td>498878newsML.txt</td>\n      <td>BradDorfman</td>\n      <td>BradDorfman</td>\n    </tr>\n    <tr>\n      <th>4</th>\n      <td>499850newsML.txt</td>\n      <td>BradDorfman</td>\n      <td>MarkBendeich</td>\n    </tr>\n    <tr>\n      <th>...</th>\n      <td>...</td>\n      <td>...</td>\n      <td>...</td>\n    </tr>\n    <tr>\n      <th>4711</th>\n      <td>28223newsML.txt</td>\n      <td>WilliamKazer</td>\n      <td>WilliamKazer</td>\n    </tr>\n    <tr>\n      <th>4712</th>\n      <td>282935newsML.txt</td>\n      <td>WilliamKazer</td>\n      <td>JaneMacartney</td>\n    </tr>\n    <tr>\n      <th>4713</th>\n      <td>287736newsML.txt</td>\n      <td>WilliamKazer</td>\n      <td>JaneMacartney</td>\n    </tr>\n    <tr>\n      <th>4714</th>\n      <td>289747newsML.txt</td>\n      <td>WilliamKazer</td>\n      <td>WilliamKazer</td>\n    </tr>\n    <tr>\n      <th>4715</th>\n      <td>304402newsML.txt</td>\n      <td>WilliamKazer</td>\n      <td>JaneMacartney</td>\n    </tr>\n  </tbody>\n</table>\n<p>4716 rows × 3 columns</p>\n</div>"
     },
     "execution_count": 2,
     "metadata": {},
     "output_type": "execute_result"
    }
   ],
   "source": [
    "results = pd.read_csv(\"old/knn_results_50.csv\")\n",
    "results"
   ],
   "metadata": {
    "collapsed": false,
    "ExecuteTime": {
     "end_time": "2023-12-02T19:11:38.523688Z",
     "start_time": "2023-12-02T19:11:38.490180800Z"
    }
   }
  },
  {
   "cell_type": "code",
   "execution_count": 8,
   "outputs": [
    {
     "data": {
      "text/plain": "                   doc           obs            pred  match  nomatch\n0     492830newsML.txt   BradDorfman     BradDorfman      1        0\n1     494048newsML.txt   BradDorfman     BradDorfman      1        0\n2     497821newsML.txt   BradDorfman  FumikoFujisaki      0        1\n3     498878newsML.txt   BradDorfman     BradDorfman      1        0\n4     499850newsML.txt   BradDorfman    MarkBendeich      0        1\n...                ...           ...             ...    ...      ...\n4711   28223newsML.txt  WilliamKazer    WilliamKazer      1        0\n4712  282935newsML.txt  WilliamKazer   JaneMacartney      0        1\n4713  287736newsML.txt  WilliamKazer   JaneMacartney      0        1\n4714  289747newsML.txt  WilliamKazer    WilliamKazer      1        0\n4715  304402newsML.txt  WilliamKazer   JaneMacartney      0        1\n\n[4716 rows x 5 columns]",
      "text/html": "<div>\n<style scoped>\n    .dataframe tbody tr th:only-of-type {\n        vertical-align: middle;\n    }\n\n    .dataframe tbody tr th {\n        vertical-align: top;\n    }\n\n    .dataframe thead th {\n        text-align: right;\n    }\n</style>\n<table border=\"1\" class=\"dataframe\">\n  <thead>\n    <tr style=\"text-align: right;\">\n      <th></th>\n      <th>doc</th>\n      <th>obs</th>\n      <th>pred</th>\n      <th>match</th>\n      <th>nomatch</th>\n    </tr>\n  </thead>\n  <tbody>\n    <tr>\n      <th>0</th>\n      <td>492830newsML.txt</td>\n      <td>BradDorfman</td>\n      <td>BradDorfman</td>\n      <td>1</td>\n      <td>0</td>\n    </tr>\n    <tr>\n      <th>1</th>\n      <td>494048newsML.txt</td>\n      <td>BradDorfman</td>\n      <td>BradDorfman</td>\n      <td>1</td>\n      <td>0</td>\n    </tr>\n    <tr>\n      <th>2</th>\n      <td>497821newsML.txt</td>\n      <td>BradDorfman</td>\n      <td>FumikoFujisaki</td>\n      <td>0</td>\n      <td>1</td>\n    </tr>\n    <tr>\n      <th>3</th>\n      <td>498878newsML.txt</td>\n      <td>BradDorfman</td>\n      <td>BradDorfman</td>\n      <td>1</td>\n      <td>0</td>\n    </tr>\n    <tr>\n      <th>4</th>\n      <td>499850newsML.txt</td>\n      <td>BradDorfman</td>\n      <td>MarkBendeich</td>\n      <td>0</td>\n      <td>1</td>\n    </tr>\n    <tr>\n      <th>...</th>\n      <td>...</td>\n      <td>...</td>\n      <td>...</td>\n      <td>...</td>\n      <td>...</td>\n    </tr>\n    <tr>\n      <th>4711</th>\n      <td>28223newsML.txt</td>\n      <td>WilliamKazer</td>\n      <td>WilliamKazer</td>\n      <td>1</td>\n      <td>0</td>\n    </tr>\n    <tr>\n      <th>4712</th>\n      <td>282935newsML.txt</td>\n      <td>WilliamKazer</td>\n      <td>JaneMacartney</td>\n      <td>0</td>\n      <td>1</td>\n    </tr>\n    <tr>\n      <th>4713</th>\n      <td>287736newsML.txt</td>\n      <td>WilliamKazer</td>\n      <td>JaneMacartney</td>\n      <td>0</td>\n      <td>1</td>\n    </tr>\n    <tr>\n      <th>4714</th>\n      <td>289747newsML.txt</td>\n      <td>WilliamKazer</td>\n      <td>WilliamKazer</td>\n      <td>1</td>\n      <td>0</td>\n    </tr>\n    <tr>\n      <th>4715</th>\n      <td>304402newsML.txt</td>\n      <td>WilliamKazer</td>\n      <td>JaneMacartney</td>\n      <td>0</td>\n      <td>1</td>\n    </tr>\n  </tbody>\n</table>\n<p>4716 rows × 5 columns</p>\n</div>"
     },
     "execution_count": 8,
     "metadata": {},
     "output_type": "execute_result"
    }
   ],
   "source": [
    "accuracy = results.copy()\n",
    "accuracy['match'] = (accuracy['obs'] == accuracy['pred']) * 1\n",
    "accuracy['nomatch'] = accuracy['match'] * -1 + 1\n",
    "accuracy"
   ],
   "metadata": {
    "collapsed": false,
    "ExecuteTime": {
     "end_time": "2023-12-02T19:13:46.715777Z",
     "start_time": "2023-12-02T19:13:46.691861700Z"
    }
   }
  },
  {
   "cell_type": "code",
   "execution_count": 12,
   "outputs": [
    {
     "data": {
      "text/plain": "obs\nLynnleyBrowning      100\nFumikoFujisaki       100\nJimGilchrist          98\nKarlPenhaul           94\nMatthewBunce          94\nPeterHumphrey         93\nGrahamEarnshaw        92\nLynneO'Donnell        88\nRogerFillion          87\nSimonCowell           86\nJoWinterbottom        86\nDavidLawder           80\nLydiaZajc             80\nTheresePoletti        79\nHeatherScoffield      76\nKouroshKarimkhany     74\nNickLouth             73\nMartinWolk            71\nKeithWeir             69\nDarrenSchuettler      68\nMarcelMichelson       67\nJonathanBirt          63\nTimFarrand            63\nKirstinRidley         62\nPierreTran            61\nMarkBendeich          59\nKevinMorrison         57\nPatriciaCommins       54\nMichaelConnor         54\nRobinSidel            54\nJohnMastrini          53\nSamuelPerry           50\nJanLopatka            50\nJaneMacartney         50\nJoeOrtiz              43\nSarahDavison          43\nMureDickie            36\nToddNissen            31\nKevinDrawbaugh        30\nScottHillis           20\nAaronPressman         20\nEdnaFernandes         18\nEricAuchard           17\nAlanCrosby            16\nBradDorfman           16\nWilliamKazer          16\nBenjaminKangLim       15\nTanEeLyn               5\nBernardHickey          2\nAlexanderSmith         1\nName: match, dtype: int32"
     },
     "execution_count": 12,
     "metadata": {},
     "output_type": "execute_result"
    }
   ],
   "source": [
    "hits = accuracy.groupby('obs')['match'].sum().sort_values(ascending=False)\n",
    "hits"
   ],
   "metadata": {
    "collapsed": false,
    "ExecuteTime": {
     "end_time": "2023-12-02T19:14:47.883670900Z",
     "start_time": "2023-12-02T19:14:47.863967200Z"
    }
   }
  },
  {
   "cell_type": "code",
   "execution_count": 22,
   "outputs": [
    {
     "data": {
      "text/plain": "obs\nTanEeLyn             95\nWilliamKazer         84\nEricAuchard          83\nEdnaFernandes        82\nScottHillis          80\nKevinDrawbaugh       70\nToddNissen           69\nMureDickie           64\nJoeOrtiz             57\nSarahDavison         57\nBradDorfman          50\nJanLopatka           50\nJaneMacartney        50\nSamuelPerry          50\nAlexanderSmith       49\nBernardHickey        48\nJohnMastrini         47\nRobinSidel           46\nMichaelConnor        46\nPatriciaCommins      46\nKevinMorrison        43\nMarkBendeich         41\nPierreTran           39\nKirstinRidley        38\nJonathanBirt         37\nTimFarrand           37\nBenjaminKangLim      35\nAlanCrosby           34\nMarcelMichelson      33\nDarrenSchuettler     32\nKeithWeir            31\nAaronPressman        30\nMartinWolk           29\nNickLouth            27\nKouroshKarimkhany    26\nHeatherScoffield     24\nTheresePoletti       21\nDavidLawder          20\nLydiaZajc            20\nSimonCowell          14\nJoWinterbottom       14\nRogerFillion         13\nLynneO'Donnell       12\nGrahamEarnshaw        8\nPeterHumphrey         7\nKarlPenhaul           6\nMatthewBunce          6\nJimGilchrist          2\nFumikoFujisaki        0\nLynnleyBrowning       0\nName: nomatch, dtype: int32"
     },
     "execution_count": 22,
     "metadata": {},
     "output_type": "execute_result"
    }
   ],
   "source": [
    "misses = accuracy.groupby('obs')['nomatch'].sum().sort_values(ascending=False)\n",
    "misses"
   ],
   "metadata": {
    "collapsed": false
   }
  },
  {
   "cell_type": "code",
   "execution_count": 23,
   "outputs": [
    {
     "data": {
      "text/plain": "pred\nPeterHumphrey        152\nKouroshKarimkhany     86\nSimonCowell           84\nJaneMacartney         84\nDavidLawder           78\nKirstinRidley         76\nGrahamEarnshaw        74\nMartinWolk            71\nJoWinterbottom        68\nTheresePoletti        67\nMureDickie            60\nPierreTran            56\nMarcelMichelson       50\nLynnleyBrowning       49\nJohnMastrini          48\nJanLopatka            42\nTimFarrand            41\nDarrenSchuettler      40\nFumikoFujisaki        39\nWilliamKazer          38\nNickLouth             35\nLynneO'Donnell        35\nRogerFillion          35\nJonathanBirt          33\nKeithWeir             32\nMarkBendeich          31\nBenjaminKangLim       31\nKevinMorrison         31\nMichaelConnor         30\nBradDorfman           29\nJimGilchrist          28\nToddNissen            26\nSarahDavison          25\nHeatherScoffield      23\nSamuelPerry           23\nLydiaZajc             22\nEricAuchard           21\nScottHillis           15\nRobinSidel            14\nJoeOrtiz              13\nKarlPenhaul           11\nMatthewBunce          10\nBernardHickey         10\nAlanCrosby             8\nKevinDrawbaugh         8\nAaronPressman          8\nPatriciaCommins        7\nTanEeLyn               3\nEdnaFernandes          2\nAlexanderSmith         0\nName: nomatch, dtype: int32"
     },
     "execution_count": 23,
     "metadata": {},
     "output_type": "execute_result"
    }
   ],
   "source": [
    "strikes = accuracy.groupby('pred')['nomatch'].sum().sort_values(ascending=False)\n",
    "strikes"
   ],
   "metadata": {
    "collapsed": false,
    "ExecuteTime": {
     "end_time": "2023-12-02T19:19:57.389768700Z",
     "start_time": "2023-12-02T19:19:57.366063700Z"
    }
   }
  },
  {
   "cell_type": "code",
   "execution_count": 32,
   "outputs": [
    {
     "data": {
      "text/plain": "               author  hits  strikes  misses  precision    recall        f1\n0     LynnleyBrowning   100       49       0   0.671141  1.000000  0.803213\n1      FumikoFujisaki   100       39       0   0.719424  1.000000  0.836820\n2        JimGilchrist    98       28       2   0.777778  0.980000  0.867257\n3         KarlPenhaul    94       11       6   0.895238  0.940000  0.917073\n4        MatthewBunce    94       10       6   0.903846  0.940000  0.921569\n5       PeterHumphrey    93      152       7   0.379592  0.930000  0.539130\n6      GrahamEarnshaw    92       74       8   0.554217  0.920000  0.691729\n7      LynneO'Donnell    88       35      12   0.715447  0.880000  0.789238\n8        RogerFillion    87       35      13   0.713115  0.870000  0.783784\n9         SimonCowell    86       84      14   0.505882  0.860000  0.637037\n10     JoWinterbottom    86       68      14   0.558442  0.860000  0.677165\n11        DavidLawder    80       78      20   0.506329  0.800000  0.620155\n12          LydiaZajc    80       22      20   0.784314  0.800000  0.792079\n13     TheresePoletti    79       67      21   0.541096  0.790000  0.642276\n14   HeatherScoffield    76       23      24   0.767677  0.760000  0.763819\n15  KouroshKarimkhany    74       86      26   0.462500  0.740000  0.569231\n16          NickLouth    73       35      27   0.675926  0.730000  0.701923\n17         MartinWolk    71       71      29   0.500000  0.710000  0.586777\n18          KeithWeir    69       32      31   0.683168  0.690000  0.686567\n19   DarrenSchuettler    68       40      32   0.629630  0.680000  0.653846\n20    MarcelMichelson    67       50      33   0.572650  0.670000  0.617512\n21       JonathanBirt    63       33      37   0.656250  0.630000  0.642857\n22         TimFarrand    63       41      37   0.605769  0.630000  0.617647\n23      KirstinRidley    62       76      38   0.449275  0.620000  0.521008\n24         PierreTran    61       56      39   0.521368  0.610000  0.562212\n25       MarkBendeich    59       31      41   0.655556  0.590000  0.621053\n26      KevinMorrison    57       31      43   0.647727  0.570000  0.606383\n27    PatriciaCommins    54        7      46   0.885246  0.540000  0.670807\n28      MichaelConnor    54       30      46   0.642857  0.540000  0.586957\n29         RobinSidel    54       14      46   0.794118  0.540000  0.642857\n30       JohnMastrini    53       48      47   0.524752  0.530000  0.527363\n31        SamuelPerry    50       23      50   0.684932  0.500000  0.578035\n32         JanLopatka    50       42      50   0.543478  0.500000  0.520833\n33      JaneMacartney    50       84      50   0.373134  0.500000  0.427350\n34           JoeOrtiz    43       13      57   0.767857  0.430000  0.551282\n35       SarahDavison    43       25      57   0.632353  0.430000  0.511905\n36         MureDickie    36       60      64   0.375000  0.360000  0.367347\n37         ToddNissen    31       26      69   0.543860  0.310000  0.394904\n38     KevinDrawbaugh    30        8      70   0.789474  0.300000  0.434783\n39        ScottHillis    20       15      80   0.571429  0.200000  0.296296\n40      AaronPressman    20        8      30   0.714286  0.400000  0.512821\n41      EdnaFernandes    18        2      82   0.900000  0.180000  0.300000\n42        EricAuchard    17       21      83   0.447368  0.170000  0.246377\n43         AlanCrosby    16        8      34   0.666667  0.320000  0.432432\n44        BradDorfman    16       29      50   0.355556  0.242424  0.288288\n45       WilliamKazer    16       38      84   0.296296  0.160000  0.207792\n46    BenjaminKangLim    15       31      35   0.326087  0.300000  0.312500\n47           TanEeLyn     5        3      95   0.625000  0.050000  0.092593\n48      BernardHickey     2       10      48   0.166667  0.040000  0.064516\n49     AlexanderSmith     1        0      49   1.000000  0.020000  0.039216",
      "text/html": "<div>\n<style scoped>\n    .dataframe tbody tr th:only-of-type {\n        vertical-align: middle;\n    }\n\n    .dataframe tbody tr th {\n        vertical-align: top;\n    }\n\n    .dataframe thead th {\n        text-align: right;\n    }\n</style>\n<table border=\"1\" class=\"dataframe\">\n  <thead>\n    <tr style=\"text-align: right;\">\n      <th></th>\n      <th>author</th>\n      <th>hits</th>\n      <th>strikes</th>\n      <th>misses</th>\n      <th>precision</th>\n      <th>recall</th>\n      <th>f1</th>\n    </tr>\n  </thead>\n  <tbody>\n    <tr>\n      <th>0</th>\n      <td>LynnleyBrowning</td>\n      <td>100</td>\n      <td>49</td>\n      <td>0</td>\n      <td>0.671141</td>\n      <td>1.000000</td>\n      <td>0.803213</td>\n    </tr>\n    <tr>\n      <th>1</th>\n      <td>FumikoFujisaki</td>\n      <td>100</td>\n      <td>39</td>\n      <td>0</td>\n      <td>0.719424</td>\n      <td>1.000000</td>\n      <td>0.836820</td>\n    </tr>\n    <tr>\n      <th>2</th>\n      <td>JimGilchrist</td>\n      <td>98</td>\n      <td>28</td>\n      <td>2</td>\n      <td>0.777778</td>\n      <td>0.980000</td>\n      <td>0.867257</td>\n    </tr>\n    <tr>\n      <th>3</th>\n      <td>KarlPenhaul</td>\n      <td>94</td>\n      <td>11</td>\n      <td>6</td>\n      <td>0.895238</td>\n      <td>0.940000</td>\n      <td>0.917073</td>\n    </tr>\n    <tr>\n      <th>4</th>\n      <td>MatthewBunce</td>\n      <td>94</td>\n      <td>10</td>\n      <td>6</td>\n      <td>0.903846</td>\n      <td>0.940000</td>\n      <td>0.921569</td>\n    </tr>\n    <tr>\n      <th>5</th>\n      <td>PeterHumphrey</td>\n      <td>93</td>\n      <td>152</td>\n      <td>7</td>\n      <td>0.379592</td>\n      <td>0.930000</td>\n      <td>0.539130</td>\n    </tr>\n    <tr>\n      <th>6</th>\n      <td>GrahamEarnshaw</td>\n      <td>92</td>\n      <td>74</td>\n      <td>8</td>\n      <td>0.554217</td>\n      <td>0.920000</td>\n      <td>0.691729</td>\n    </tr>\n    <tr>\n      <th>7</th>\n      <td>LynneO'Donnell</td>\n      <td>88</td>\n      <td>35</td>\n      <td>12</td>\n      <td>0.715447</td>\n      <td>0.880000</td>\n      <td>0.789238</td>\n    </tr>\n    <tr>\n      <th>8</th>\n      <td>RogerFillion</td>\n      <td>87</td>\n      <td>35</td>\n      <td>13</td>\n      <td>0.713115</td>\n      <td>0.870000</td>\n      <td>0.783784</td>\n    </tr>\n    <tr>\n      <th>9</th>\n      <td>SimonCowell</td>\n      <td>86</td>\n      <td>84</td>\n      <td>14</td>\n      <td>0.505882</td>\n      <td>0.860000</td>\n      <td>0.637037</td>\n    </tr>\n    <tr>\n      <th>10</th>\n      <td>JoWinterbottom</td>\n      <td>86</td>\n      <td>68</td>\n      <td>14</td>\n      <td>0.558442</td>\n      <td>0.860000</td>\n      <td>0.677165</td>\n    </tr>\n    <tr>\n      <th>11</th>\n      <td>DavidLawder</td>\n      <td>80</td>\n      <td>78</td>\n      <td>20</td>\n      <td>0.506329</td>\n      <td>0.800000</td>\n      <td>0.620155</td>\n    </tr>\n    <tr>\n      <th>12</th>\n      <td>LydiaZajc</td>\n      <td>80</td>\n      <td>22</td>\n      <td>20</td>\n      <td>0.784314</td>\n      <td>0.800000</td>\n      <td>0.792079</td>\n    </tr>\n    <tr>\n      <th>13</th>\n      <td>TheresePoletti</td>\n      <td>79</td>\n      <td>67</td>\n      <td>21</td>\n      <td>0.541096</td>\n      <td>0.790000</td>\n      <td>0.642276</td>\n    </tr>\n    <tr>\n      <th>14</th>\n      <td>HeatherScoffield</td>\n      <td>76</td>\n      <td>23</td>\n      <td>24</td>\n      <td>0.767677</td>\n      <td>0.760000</td>\n      <td>0.763819</td>\n    </tr>\n    <tr>\n      <th>15</th>\n      <td>KouroshKarimkhany</td>\n      <td>74</td>\n      <td>86</td>\n      <td>26</td>\n      <td>0.462500</td>\n      <td>0.740000</td>\n      <td>0.569231</td>\n    </tr>\n    <tr>\n      <th>16</th>\n      <td>NickLouth</td>\n      <td>73</td>\n      <td>35</td>\n      <td>27</td>\n      <td>0.675926</td>\n      <td>0.730000</td>\n      <td>0.701923</td>\n    </tr>\n    <tr>\n      <th>17</th>\n      <td>MartinWolk</td>\n      <td>71</td>\n      <td>71</td>\n      <td>29</td>\n      <td>0.500000</td>\n      <td>0.710000</td>\n      <td>0.586777</td>\n    </tr>\n    <tr>\n      <th>18</th>\n      <td>KeithWeir</td>\n      <td>69</td>\n      <td>32</td>\n      <td>31</td>\n      <td>0.683168</td>\n      <td>0.690000</td>\n      <td>0.686567</td>\n    </tr>\n    <tr>\n      <th>19</th>\n      <td>DarrenSchuettler</td>\n      <td>68</td>\n      <td>40</td>\n      <td>32</td>\n      <td>0.629630</td>\n      <td>0.680000</td>\n      <td>0.653846</td>\n    </tr>\n    <tr>\n      <th>20</th>\n      <td>MarcelMichelson</td>\n      <td>67</td>\n      <td>50</td>\n      <td>33</td>\n      <td>0.572650</td>\n      <td>0.670000</td>\n      <td>0.617512</td>\n    </tr>\n    <tr>\n      <th>21</th>\n      <td>JonathanBirt</td>\n      <td>63</td>\n      <td>33</td>\n      <td>37</td>\n      <td>0.656250</td>\n      <td>0.630000</td>\n      <td>0.642857</td>\n    </tr>\n    <tr>\n      <th>22</th>\n      <td>TimFarrand</td>\n      <td>63</td>\n      <td>41</td>\n      <td>37</td>\n      <td>0.605769</td>\n      <td>0.630000</td>\n      <td>0.617647</td>\n    </tr>\n    <tr>\n      <th>23</th>\n      <td>KirstinRidley</td>\n      <td>62</td>\n      <td>76</td>\n      <td>38</td>\n      <td>0.449275</td>\n      <td>0.620000</td>\n      <td>0.521008</td>\n    </tr>\n    <tr>\n      <th>24</th>\n      <td>PierreTran</td>\n      <td>61</td>\n      <td>56</td>\n      <td>39</td>\n      <td>0.521368</td>\n      <td>0.610000</td>\n      <td>0.562212</td>\n    </tr>\n    <tr>\n      <th>25</th>\n      <td>MarkBendeich</td>\n      <td>59</td>\n      <td>31</td>\n      <td>41</td>\n      <td>0.655556</td>\n      <td>0.590000</td>\n      <td>0.621053</td>\n    </tr>\n    <tr>\n      <th>26</th>\n      <td>KevinMorrison</td>\n      <td>57</td>\n      <td>31</td>\n      <td>43</td>\n      <td>0.647727</td>\n      <td>0.570000</td>\n      <td>0.606383</td>\n    </tr>\n    <tr>\n      <th>27</th>\n      <td>PatriciaCommins</td>\n      <td>54</td>\n      <td>7</td>\n      <td>46</td>\n      <td>0.885246</td>\n      <td>0.540000</td>\n      <td>0.670807</td>\n    </tr>\n    <tr>\n      <th>28</th>\n      <td>MichaelConnor</td>\n      <td>54</td>\n      <td>30</td>\n      <td>46</td>\n      <td>0.642857</td>\n      <td>0.540000</td>\n      <td>0.586957</td>\n    </tr>\n    <tr>\n      <th>29</th>\n      <td>RobinSidel</td>\n      <td>54</td>\n      <td>14</td>\n      <td>46</td>\n      <td>0.794118</td>\n      <td>0.540000</td>\n      <td>0.642857</td>\n    </tr>\n    <tr>\n      <th>30</th>\n      <td>JohnMastrini</td>\n      <td>53</td>\n      <td>48</td>\n      <td>47</td>\n      <td>0.524752</td>\n      <td>0.530000</td>\n      <td>0.527363</td>\n    </tr>\n    <tr>\n      <th>31</th>\n      <td>SamuelPerry</td>\n      <td>50</td>\n      <td>23</td>\n      <td>50</td>\n      <td>0.684932</td>\n      <td>0.500000</td>\n      <td>0.578035</td>\n    </tr>\n    <tr>\n      <th>32</th>\n      <td>JanLopatka</td>\n      <td>50</td>\n      <td>42</td>\n      <td>50</td>\n      <td>0.543478</td>\n      <td>0.500000</td>\n      <td>0.520833</td>\n    </tr>\n    <tr>\n      <th>33</th>\n      <td>JaneMacartney</td>\n      <td>50</td>\n      <td>84</td>\n      <td>50</td>\n      <td>0.373134</td>\n      <td>0.500000</td>\n      <td>0.427350</td>\n    </tr>\n    <tr>\n      <th>34</th>\n      <td>JoeOrtiz</td>\n      <td>43</td>\n      <td>13</td>\n      <td>57</td>\n      <td>0.767857</td>\n      <td>0.430000</td>\n      <td>0.551282</td>\n    </tr>\n    <tr>\n      <th>35</th>\n      <td>SarahDavison</td>\n      <td>43</td>\n      <td>25</td>\n      <td>57</td>\n      <td>0.632353</td>\n      <td>0.430000</td>\n      <td>0.511905</td>\n    </tr>\n    <tr>\n      <th>36</th>\n      <td>MureDickie</td>\n      <td>36</td>\n      <td>60</td>\n      <td>64</td>\n      <td>0.375000</td>\n      <td>0.360000</td>\n      <td>0.367347</td>\n    </tr>\n    <tr>\n      <th>37</th>\n      <td>ToddNissen</td>\n      <td>31</td>\n      <td>26</td>\n      <td>69</td>\n      <td>0.543860</td>\n      <td>0.310000</td>\n      <td>0.394904</td>\n    </tr>\n    <tr>\n      <th>38</th>\n      <td>KevinDrawbaugh</td>\n      <td>30</td>\n      <td>8</td>\n      <td>70</td>\n      <td>0.789474</td>\n      <td>0.300000</td>\n      <td>0.434783</td>\n    </tr>\n    <tr>\n      <th>39</th>\n      <td>ScottHillis</td>\n      <td>20</td>\n      <td>15</td>\n      <td>80</td>\n      <td>0.571429</td>\n      <td>0.200000</td>\n      <td>0.296296</td>\n    </tr>\n    <tr>\n      <th>40</th>\n      <td>AaronPressman</td>\n      <td>20</td>\n      <td>8</td>\n      <td>30</td>\n      <td>0.714286</td>\n      <td>0.400000</td>\n      <td>0.512821</td>\n    </tr>\n    <tr>\n      <th>41</th>\n      <td>EdnaFernandes</td>\n      <td>18</td>\n      <td>2</td>\n      <td>82</td>\n      <td>0.900000</td>\n      <td>0.180000</td>\n      <td>0.300000</td>\n    </tr>\n    <tr>\n      <th>42</th>\n      <td>EricAuchard</td>\n      <td>17</td>\n      <td>21</td>\n      <td>83</td>\n      <td>0.447368</td>\n      <td>0.170000</td>\n      <td>0.246377</td>\n    </tr>\n    <tr>\n      <th>43</th>\n      <td>AlanCrosby</td>\n      <td>16</td>\n      <td>8</td>\n      <td>34</td>\n      <td>0.666667</td>\n      <td>0.320000</td>\n      <td>0.432432</td>\n    </tr>\n    <tr>\n      <th>44</th>\n      <td>BradDorfman</td>\n      <td>16</td>\n      <td>29</td>\n      <td>50</td>\n      <td>0.355556</td>\n      <td>0.242424</td>\n      <td>0.288288</td>\n    </tr>\n    <tr>\n      <th>45</th>\n      <td>WilliamKazer</td>\n      <td>16</td>\n      <td>38</td>\n      <td>84</td>\n      <td>0.296296</td>\n      <td>0.160000</td>\n      <td>0.207792</td>\n    </tr>\n    <tr>\n      <th>46</th>\n      <td>BenjaminKangLim</td>\n      <td>15</td>\n      <td>31</td>\n      <td>35</td>\n      <td>0.326087</td>\n      <td>0.300000</td>\n      <td>0.312500</td>\n    </tr>\n    <tr>\n      <th>47</th>\n      <td>TanEeLyn</td>\n      <td>5</td>\n      <td>3</td>\n      <td>95</td>\n      <td>0.625000</td>\n      <td>0.050000</td>\n      <td>0.092593</td>\n    </tr>\n    <tr>\n      <th>48</th>\n      <td>BernardHickey</td>\n      <td>2</td>\n      <td>10</td>\n      <td>48</td>\n      <td>0.166667</td>\n      <td>0.040000</td>\n      <td>0.064516</td>\n    </tr>\n    <tr>\n      <th>49</th>\n      <td>AlexanderSmith</td>\n      <td>1</td>\n      <td>0</td>\n      <td>49</td>\n      <td>1.000000</td>\n      <td>0.020000</td>\n      <td>0.039216</td>\n    </tr>\n  </tbody>\n</table>\n</div>"
     },
     "execution_count": 32,
     "metadata": {},
     "output_type": "execute_result"
    }
   ],
   "source": [
    "author_summary = pd.concat([hits, strikes, misses], axis=1)\n",
    "author_summary = author_summary.reset_index()\n",
    "author_summary.columns = ['author', 'hits', 'strikes', 'misses']\n",
    "author_summary['precision'] = author_summary['hits'] / (author_summary['hits'] + author_summary['strikes'])\n",
    "author_summary['recall'] = author_summary['hits'] / (author_summary['hits'] + author_summary['misses'])\n",
    "author_summary['f1'] = 2 / (1 / author_summary['precision'] + 1 / author_summary['recall'])\n",
    "author_summary"
   ],
   "metadata": {
    "collapsed": false,
    "ExecuteTime": {
     "end_time": "2023-12-02T19:33:04.098220400Z",
     "start_time": "2023-12-02T19:33:04.073503100Z"
    }
   }
  },
  {
   "cell_type": "code",
   "execution_count": 33,
   "outputs": [
    {
     "data": {
      "text/plain": "0.5966921119592875"
     },
     "execution_count": 33,
     "metadata": {},
     "output_type": "execute_result"
    }
   ],
   "source": [
    "hits.sum() / (hits.sum() + misses.sum())"
   ],
   "metadata": {
    "collapsed": false,
    "ExecuteTime": {
     "end_time": "2023-12-02T19:36:19.444384200Z",
     "start_time": "2023-12-02T19:36:19.398675200Z"
    }
   }
  },
  {
   "cell_type": "code",
   "execution_count": 35,
   "outputs": [
    {
     "data": {
      "text/plain": "(2814, 1902)"
     },
     "execution_count": 35,
     "metadata": {},
     "output_type": "execute_result"
    }
   ],
   "source": [
    "hits.sum(), strikes.sum()"
   ],
   "metadata": {
    "collapsed": false,
    "ExecuteTime": {
     "end_time": "2023-12-02T19:37:25.534356800Z",
     "start_time": "2023-12-02T19:37:25.530063500Z"
    }
   }
  }
 ],
 "metadata": {
  "kernelspec": {
   "display_name": "Python 3",
   "language": "python",
   "name": "python3"
  },
  "language_info": {
   "codemirror_mode": {
    "name": "ipython",
    "version": 2
   },
   "file_extension": ".py",
   "mimetype": "text/x-python",
   "name": "python",
   "nbconvert_exporter": "python",
   "pygments_lexer": "ipython2",
   "version": "2.7.6"
  }
 },
 "nbformat": 4,
 "nbformat_minor": 0
}

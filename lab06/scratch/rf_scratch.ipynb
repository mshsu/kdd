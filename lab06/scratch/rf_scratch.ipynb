{
 "cells": [
  {
   "cell_type": "code",
   "execution_count": 1,
   "metadata": {
    "collapsed": true,
    "ExecuteTime": {
     "end_time": "2023-12-01T01:44:27.961358600Z",
     "start_time": "2023-12-01T01:44:24.977010Z"
    }
   },
   "outputs": [],
   "source": [
    "import pandas as pd\n",
    "import numpy as np\n",
    "import json\n",
    "\n",
    "from textVectorizer import *\n",
    "from typing import Tuple, Optional, List, Dict"
   ]
  },
  {
   "cell_type": "code",
   "execution_count": 9,
   "outputs": [],
   "source": [
    "def entropy(D: pd.DataFrame, C: pd.Series,\n",
    "            A_i: Optional[str] = None,\n",
    "            x: Optional[float] = None) -> float:\n",
    "    \"\"\"\n",
    "    Calculates entropy of a dataset or attribute.\n",
    "\n",
    "    :param D: A pandas dataframe of the predictor attributes and their values.\n",
    "    :param C: A pandas series of values of the class attribute.\n",
    "    :param A_i: (Default None) String name of attribute to calculate entropy\n",
    "        for. If specified, function will calculate weighted average entropy over\n",
    "        the attribute labels. If not, will calculate simple entropy for the\n",
    "        entire dataset D.\n",
    "    :param x: (Default None) Splitting value for numeric attributes. Must\n",
    "        include if A_i is the name of a numeric attribute.\n",
    "    :return: A float representing the entropy of the dataset or attribute.\n",
    "    \"\"\"\n",
    "    e = 0\n",
    "    # Simple entropy\n",
    "    if A_i is None and x is None:\n",
    "        e = C.value_counts(normalize=True).apply(\n",
    "            lambda p: -p * np.log2(p)).sum()\n",
    "    # Weighted avg entropy over a categorical attribute\n",
    "    elif x is None:\n",
    "        prop = D[A_i].value_counts(normalize=True)\n",
    "        for a in list(prop.index):\n",
    "           e += prop.loc[a] * entropy(D[D[A_i] == a], C[D[A_i] == a])\n",
    "    # Weighted avg entropy over a numeric attribute split by value x\n",
    "    else:\n",
    "        D_minus, C_minus = D[D[A_i] <= x], C[D[A_i] <= x]\n",
    "        D_plus, C_plus = D[D[A_i] > x], C[D[A_i] > x]\n",
    "\n",
    "        prop_minus = len(D_minus.index) / len(D.index)\n",
    "        prop_plus = len(D_plus.index) / len(D.index)\n",
    "\n",
    "        e = (prop_minus * entropy(D_minus, C_minus) +\n",
    "             prop_plus * entropy(D_plus, C_plus))\n",
    "    return e\n",
    "\n",
    "\n",
    "def findBestSplit(A_i: str, D: pd.DataFrame, C: pd.Series) -> float:\n",
    "    # Didn't follow the pseudocode because pandas can do it in fewer steps\n",
    "    p0 = entropy(D, C)\n",
    "    calc = pd.DataFrame()\n",
    "    calc['alpha'] = D[A_i].unique()\n",
    "    calc['entropy'] = calc['alpha'].apply(lambda x: entropy(D, C, A_i, x))\n",
    "    calc['gain'] = p0 - calc['entropy']\n",
    "    calc = calc.set_index('alpha')\n",
    "\n",
    "    return calc['gain'].idxmax()\n",
    "\n",
    "\n",
    "def find_most_frequent_label(C: pd.Series) -> Tuple[str, float]:\n",
    "    \"\"\"\n",
    "    Finds most frequent label from the values of an attribute and returns the\n",
    "    value of label and its relative frequency.\n",
    "\n",
    "    :param C: A pandas series of values of an attribute.\n",
    "    :return: A tuple where the first entry is the most frequent label, and the\n",
    "        second entry is the label's relative frequency.\n",
    "    \"\"\"\n",
    "    prop = C.value_counts(normalize=True)\n",
    "    return str(prop.idxmax()), prop.max()\n",
    "\n",
    "\n",
    "def selectSplittingAttribute(A: List[str], D: pd.DataFrame, C: pd.Series,\n",
    "                             threshold: float,\n",
    "                             gratio: bool = False) \\\n",
    "        -> Optional[Tuple[str, Optional[float]]]:\n",
    "    \"\"\"\n",
    "    Selects ideal splitting attribute given a list of attributes, a dataframe\n",
    "    of the attributes and their values, the values of the class attribute, and\n",
    "    a threshold.\n",
    "\n",
    "    :param A: A list of attribute names.\n",
    "    :param D: A pandas dataframe of the predictor attributes and their values.\n",
    "    :param C: A pandas series of values of the class attribute.\n",
    "    :param threshold: A float representing a limiting threshold for the info\n",
    "        gain.\n",
    "    :param gratio: (Default False) If True, uses the info gain ratio instead of\n",
    "        the info gain to evaluate an ideal splitting attribute.\n",
    "    :return: The name of the ideal splitting attribute.\n",
    "    \"\"\"\n",
    "    # Follows Dr. Dekhtyar's pseudocode\n",
    "    p = {}\n",
    "    gain = {}\n",
    "    x = {}\n",
    "    p[0] = entropy(D, C)\n",
    "    for A_i in A:\n",
    "        if pd.api.types.is_numeric_dtype(D[A_i]):\n",
    "            x[A_i] = findBestSplit(A_i, D, C)\n",
    "            p[A_i] = entropy(D, C, A_i, x[A_i])\n",
    "        else:\n",
    "            p[A_i] = entropy(D, C, A_i)\n",
    "        gain[A_i] = p[0] - p[A_i]\n",
    "        if gratio:\n",
    "            denom = D[A_i].value_counts(normalize=True).apply(\n",
    "                lambda pr: -pr * np.log2(pr)).sum()\n",
    "            # Included to handle zero division cases\n",
    "            if gain[A_i] != 0 and denom != 0:\n",
    "                gain[A_i] = gain[A_i] / denom\n",
    "            elif gain[A_i] == 0:\n",
    "                gain[A_i] = 0\n",
    "            elif denom == 0:\n",
    "                gain[A_i] = np.infty\n",
    "    best = max(gain, key=gain.get)\n",
    "    if gain[best] > threshold:\n",
    "        if best in x.keys():\n",
    "            return best, x[best]\n",
    "        else:\n",
    "            return best, None\n",
    "    else:\n",
    "        return None\n",
    "\n",
    "\n",
    "def C45(D: pd.DataFrame, A: dict, C: pd.Series,\n",
    "        threshold: float, gratio: bool = False) -> dict:\n",
    "    \"\"\"\n",
    "    Implements the C45 algorithm to construct a decision tree classifier.\n",
    "\n",
    "    :param D: A pandas dataframe of the predictor attributes and their values.\n",
    "    :param A: A dictionary where each key is the name of a predictor attribute\n",
    "        and the value is the list of the attribute's unique values.\n",
    "    :param C: A pandas series of values of the class attribute.\n",
    "    :param threshold: A float representing a limiting threshold for the info\n",
    "        gain.\n",
    "    :param gratio: (Default False) If True, uses the info gain ratio instead of\n",
    "        the info gain to evaluate an ideal splitting attribute.\n",
    "    :return: A dictionary representing a decision tree fit to the training data.\n",
    "    \"\"\"\n",
    "    # Follows Dr. Dekhtyar's pseudocode\n",
    "    T = {\"dataset\": \"\"}\n",
    "    if len(C.unique()) == 1:\n",
    "        T[\"leaf\"] = {\"decision\": C.unique()[0], 'p': 1}\n",
    "    elif len(A) == 0:\n",
    "        c, p = find_most_frequent_label(C)\n",
    "        T[\"leaf\"] = {\"decision\": c, \"p\": p}\n",
    "    else:\n",
    "        Ag_alpha = selectSplittingAttribute(list(A.keys()), D, C,\n",
    "                                            threshold, gratio=gratio)\n",
    "        if Ag_alpha is None:\n",
    "            c, p = find_most_frequent_label(C)\n",
    "            T[\"leaf\"] = {\"decision\": c, \"p\": p}\n",
    "        else:\n",
    "            A_g, alpha = Ag_alpha\n",
    "            r = {\"var\": A_g, \"edges\": []}\n",
    "            T[\"node\"] = r\n",
    "            if alpha is not None:\n",
    "                V = [\"<=\" + str(alpha), \">\" + str(alpha)]\n",
    "            else:\n",
    "                V = A[A_g]\n",
    "            for v in V:\n",
    "                if alpha is None:\n",
    "                    D_v = D[D[A_g] == v]\n",
    "                    C_v = C[D[A_g] == v]\n",
    "                else:\n",
    "                    # Resolves to D[D[A_g] <= alpha] or D[D[A_g] > alpha]\n",
    "                    D_v = D[eval(\"D[A_g]\" + v)]\n",
    "                    C_v = C[eval(\"D[A_g]\" + v)]\n",
    "                if len(D_v.index) != 0:\n",
    "                    A_v = A.copy()\n",
    "                    if pd.api.types.is_object_dtype(D[A_g]):\n",
    "                        del A_v[A_g]\n",
    "                    T_v = C45(D_v, A_v, C_v, threshold)\n",
    "                    new_edge = {\"value\": v}\n",
    "                    if \"node\" in T_v.keys():\n",
    "                        new_edge[\"node\"] = T_v[\"node\"]\n",
    "                    elif \"leaf\" in T_v.keys():\n",
    "                        new_edge[\"leaf\"] = T_v[\"leaf\"]\n",
    "                    r[\"edges\"].append(\n",
    "                        {\"edge\": new_edge}\n",
    "                    )\n",
    "                else:\n",
    "                    c, p = find_most_frequent_label(C)\n",
    "                    r[\"edges\"].append(\n",
    "                        {\"edge\": {\"value\": v,\n",
    "                                  \"leaf\": {\"decision\": c, \"p\": p}}}\n",
    "                    )\n",
    "    return T"
   ],
   "metadata": {
    "collapsed": false,
    "ExecuteTime": {
     "end_time": "2023-12-01T01:46:10.303103400Z",
     "start_time": "2023-12-01T01:46:10.248128300Z"
    }
   }
  },
  {
   "cell_type": "code",
   "execution_count": 3,
   "outputs": [],
   "source": [
    "def search_tree(row: pd.Series, tree: dict) -> Optional[str]:\n",
    "    \"\"\"\n",
    "    Recursively searches our tree until we hit a leaf.\n",
    "\n",
    "    :param row: row of dataframe\n",
    "    :param tree: decision tree\n",
    "    :return: decision generated from our tree\n",
    "    \"\"\"\n",
    "    subtree = tree\n",
    "    while \"leaf\" not in subtree.keys():\n",
    "        node = subtree[\"node\"]\n",
    "        label = row[node['var']]\n",
    "        for edge in node[\"edges\"]:\n",
    "            value = edge['edge']['value']\n",
    "            if np.isreal(label) and eval(str(label) + value):\n",
    "                subtree = edge['edge']\n",
    "            elif value == label:\n",
    "                subtree = edge['edge']\n",
    "    return subtree['leaf']['decision']"
   ],
   "metadata": {
    "collapsed": false,
    "ExecuteTime": {
     "end_time": "2023-12-01T01:44:59.660647900Z",
     "start_time": "2023-12-01T01:44:59.652111800Z"
    }
   }
  },
  {
   "cell_type": "code",
   "execution_count": 46,
   "outputs": [],
   "source": [
    "def dataset_selection(D: pd.DataFrame, A: dict, C: pd.Series,\n",
    "                      num_attrs: int,\n",
    "                      num_obs: int) -> Tuple[pd.DataFrame, pd.Series, dict]:\n",
    "    \"\"\"\n",
    "    Bootstrap samples from data\n",
    "\n",
    "    :param D: A pandas dataframe of the predictor attributes and their values\n",
    "    :param A: A dictionary where the keys are the attribute names and the values\n",
    "        are lists of possible values\n",
    "    :param C: A pandas series of values of the class attribute.\n",
    "    :param num_attrs: Number of attributes to include in the sample\n",
    "    :param num_obs: Number of rows to include in the sample\n",
    "    :return: A tuple consisting of a pandas dataframe of the sample's predictor\n",
    "        attributes/values, a pandas series of the sample's class attributes,\n",
    "        and a dictionary of where the keys are the sample's attribute names\n",
    "        and the values are lists of possible values\n",
    "    \"\"\"\n",
    "    DC = D.copy()\n",
    "    DC['class'] = C\n",
    "    A_rand_keys = pd.Series(A.keys()).sample(n=num_attrs).to_list()\n",
    "    A_rand = {a: A[a] for a in A_rand_keys}\n",
    "    DC_rand = DC.sample(n=num_obs, replace=True)[A_rand_keys + ['class']]\n",
    "    return DC_rand[A_rand_keys], DC_rand['class'], A_rand\n",
    "\n",
    "\n",
    "def random_forest(vecs: pd.Series,\n",
    "                  num_attrs: int, num_obs: int, num_trees: int,\n",
    "                  threshold: float = 0, gratio: bool = False) -> List[dict]:\n",
    "    \"\"\"\n",
    "    Constructs random forest classifiere.\n",
    "\n",
    "    :param D: A pandas dataframe of the predictor attributes and their values.\n",
    "    :param A: A dictionary where the keys are the attribute names and the values\n",
    "        are the possible values.\n",
    "    :param C: A pandas series of values of the class attribute.\n",
    "    :param num_attrs: Number of attributes to use in each tree\n",
    "    :param num_obs: Number of rows to use in each tree's training sample\n",
    "    :param num_trees: Number of trees to create in random forest\n",
    "    :param threshold: (Default 0) Threshold used to prune trees in C45 algorithm\n",
    "        (should be kept as 0)\n",
    "    :param gratio: Whether to use gain or gains ratio\n",
    "    :return: A list of dictionaries representing a random forest classifer\n",
    "    \"\"\"\n",
    "    D = vecs.apply(lambda v: v.tf_idf)\n",
    "    A = {a: list(D[a].unique()) for a in list(D.columns)}\n",
    "    C = vecs.apply(lambda v: v.author())\n",
    "\n",
    "    rf_trees = []\n",
    "    for i in range(num_trees):\n",
    "        print(f\"Constructing tree {i+1}... ({i+1}/{num_trees})\")\n",
    "        D_train, C_train, A_train = dataset_selection(D, A, C,\n",
    "                                                      num_attrs, num_obs)\n",
    "        tree = C45(D_train, A_train, C_train,\n",
    "                             threshold, gratio=gratio)\n",
    "        rf_trees.append(tree)\n",
    "\n",
    "    return rf_trees\n",
    "\n",
    "\n",
    "def rf_predict(vecs: pd.Series, trees: List[dict]) -> pd.DataFrame:\n",
    "    \"\"\"\n",
    "    Uses random forest classfier to create predictions for a dataset\n",
    "\n",
    "    :param df: Pandas dataframe representing the data\n",
    "    :param trees: List of dictionaries representing the random forest classifier\n",
    "    :return: Original dataframe enriched with random forest predictions\n",
    "    \"\"\"\n",
    "    df = vecs.apply(lambda v: v.tf_idf)\n",
    "    votes = {}\n",
    "    for i in range(len(trees)):\n",
    "        print(f\"Classifying with tree {i+1}... ({i+1}/{len(trees)})\")\n",
    "        votes[i] = df.apply(\n",
    "            lambda row: search_tree(row, trees[i]), axis=1)\n",
    "    votes = pd.DataFrame(votes)\n",
    "\n",
    "    results = pd.DataFrame()\n",
    "    results['vector'] = vecs\n",
    "    results['doc'] = vecs.apply(lambda v: v.name())\n",
    "    results['obs'] = vecs.apply(lambda v: v.author())\n",
    "    print(\"Voting...\")\n",
    "    results['pred'] = votes.apply(lambda row: row.mode().iloc[0], axis=1)\n",
    "    return results"
   ],
   "metadata": {
    "collapsed": false,
    "ExecuteTime": {
     "end_time": "2023-12-01T02:43:19.849610800Z",
     "start_time": "2023-12-01T02:43:19.801984300Z"
    }
   }
  },
  {
   "cell_type": "code",
   "execution_count": 22,
   "outputs": [
    {
     "data": {
      "text/plain": "                                               abadon  abandon  abat  abb  \\\ndata                                                                        \ndata/C50test/RobinSidel/338537newsML.txt            0        0     0    0   \ndata/C50train/JonathanBirt/107612newsML.txt         0        0     0    0   \ndata/C50train/TheresePoletti/200003newsML.txt       0        0     0    0   \ndata/C50test/JanLopatka/346547newsML.txt            0        0     0    0   \ndata/C50test/TanEeLyn/586394newsML.txt              0        0     0    0   \n...                                               ...      ...   ...  ...   \ndata/C50test/EricAuchard/320619newsML.txt           0        0     0    0   \ndata/C50test/PeterHumphrey/519044newsML.txt         0        0     0    0   \ndata/C50test/JonathanBirt/462591newsML.txt          0        0     0    1   \ndata/C50train/KevinDrawbaugh/233324newsML.txt       0        0     0    0   \ndata/C50train/JanLopatka/192103newsML.txt           0        0     0    0   \n\n                                               abbey  abbott  abbrevi  abid  \\\ndata                                                                          \ndata/C50test/RobinSidel/338537newsML.txt           0       0        0     0   \ndata/C50train/JonathanBirt/107612newsML.txt        0       0        0     0   \ndata/C50train/TheresePoletti/200003newsML.txt      0       0        0     0   \ndata/C50test/JanLopatka/346547newsML.txt           0       0        0     0   \ndata/C50test/TanEeLyn/586394newsML.txt             0       0        0     0   \n...                                              ...     ...      ...   ...   \ndata/C50test/EricAuchard/320619newsML.txt          0       0        0     0   \ndata/C50test/PeterHumphrey/519044newsML.txt        0       0        0     0   \ndata/C50test/JonathanBirt/462591newsML.txt         0       1        0     0   \ndata/C50train/KevinDrawbaugh/233324newsML.txt      0       0        0     0   \ndata/C50train/JanLopatka/192103newsML.txt          0       0        0     0   \n\n                                               abidjan  abil  ...  zone  \\\ndata                                                          ...         \ndata/C50test/RobinSidel/338537newsML.txt             0     0  ...     0   \ndata/C50train/JonathanBirt/107612newsML.txt          0     0  ...     0   \ndata/C50train/TheresePoletti/200003newsML.txt        0     0  ...     0   \ndata/C50test/JanLopatka/346547newsML.txt             0     1  ...     0   \ndata/C50test/TanEeLyn/586394newsML.txt               0     0  ...     0   \n...                                                ...   ...  ...   ...   \ndata/C50test/EricAuchard/320619newsML.txt            0     1  ...     0   \ndata/C50test/PeterHumphrey/519044newsML.txt          0     0  ...     0   \ndata/C50test/JonathanBirt/462591newsML.txt           0     0  ...     0   \ndata/C50train/KevinDrawbaugh/233324newsML.txt        0     0  ...     0   \ndata/C50train/JanLopatka/192103newsML.txt            0     0  ...     0   \n\n                                               zong'ai  zoom  zovirax  zuber  \\\ndata                                                                           \ndata/C50test/RobinSidel/338537newsML.txt             0     0        0      0   \ndata/C50train/JonathanBirt/107612newsML.txt          0     0        0      0   \ndata/C50train/TheresePoletti/200003newsML.txt        0     0        0      0   \ndata/C50test/JanLopatka/346547newsML.txt             0     0        0      0   \ndata/C50test/TanEeLyn/586394newsML.txt               0     0        0      0   \n...                                                ...   ...      ...    ...   \ndata/C50test/EricAuchard/320619newsML.txt            0     0        0      0   \ndata/C50test/PeterHumphrey/519044newsML.txt          0     0        0      0   \ndata/C50test/JonathanBirt/462591newsML.txt           0     0        0      0   \ndata/C50train/KevinDrawbaugh/233324newsML.txt        0     0        0      0   \ndata/C50train/JanLopatka/192103newsML.txt            0     0        0      0   \n\n                                               zurich  zwetchenbaum  \\\ndata                                                                  \ndata/C50test/RobinSidel/338537newsML.txt            0             0   \ndata/C50train/JonathanBirt/107612newsML.txt         0             0   \ndata/C50train/TheresePoletti/200003newsML.txt       0             0   \ndata/C50test/JanLopatka/346547newsML.txt            0             0   \ndata/C50test/TanEeLyn/586394newsML.txt              0             0   \n...                                               ...           ...   \ndata/C50test/EricAuchard/320619newsML.txt           0             0   \ndata/C50test/PeterHumphrey/519044newsML.txt         0             0   \ndata/C50test/JonathanBirt/462591newsML.txt          0             0   \ndata/C50train/KevinDrawbaugh/233324newsML.txt       0             0   \ndata/C50train/JanLopatka/192103newsML.txt           0             0   \n\n                                               zwetchkenbaum  zx  zyrtec  \ndata                                                                      \ndata/C50test/RobinSidel/338537newsML.txt                   0   0       0  \ndata/C50train/JonathanBirt/107612newsML.txt                0   0       0  \ndata/C50train/TheresePoletti/200003newsML.txt              0   0       0  \ndata/C50test/JanLopatka/346547newsML.txt                   0   0       0  \ndata/C50test/TanEeLyn/586394newsML.txt                     0   0       0  \n...                                                      ...  ..     ...  \ndata/C50test/EricAuchard/320619newsML.txt                  0   0       0  \ndata/C50test/PeterHumphrey/519044newsML.txt                0   0       0  \ndata/C50test/JonathanBirt/462591newsML.txt                 0   0       0  \ndata/C50train/KevinDrawbaugh/233324newsML.txt              0   0       0  \ndata/C50train/JanLopatka/192103newsML.txt                  0   0       0  \n\n[250 rows x 7282 columns]",
      "text/html": "<div>\n<style scoped>\n    .dataframe tbody tr th:only-of-type {\n        vertical-align: middle;\n    }\n\n    .dataframe tbody tr th {\n        vertical-align: top;\n    }\n\n    .dataframe thead th {\n        text-align: right;\n    }\n</style>\n<table border=\"1\" class=\"dataframe\">\n  <thead>\n    <tr style=\"text-align: right;\">\n      <th></th>\n      <th>abadon</th>\n      <th>abandon</th>\n      <th>abat</th>\n      <th>abb</th>\n      <th>abbey</th>\n      <th>abbott</th>\n      <th>abbrevi</th>\n      <th>abid</th>\n      <th>abidjan</th>\n      <th>abil</th>\n      <th>...</th>\n      <th>zone</th>\n      <th>zong'ai</th>\n      <th>zoom</th>\n      <th>zovirax</th>\n      <th>zuber</th>\n      <th>zurich</th>\n      <th>zwetchenbaum</th>\n      <th>zwetchkenbaum</th>\n      <th>zx</th>\n      <th>zyrtec</th>\n    </tr>\n    <tr>\n      <th>data</th>\n      <th></th>\n      <th></th>\n      <th></th>\n      <th></th>\n      <th></th>\n      <th></th>\n      <th></th>\n      <th></th>\n      <th></th>\n      <th></th>\n      <th></th>\n      <th></th>\n      <th></th>\n      <th></th>\n      <th></th>\n      <th></th>\n      <th></th>\n      <th></th>\n      <th></th>\n      <th></th>\n      <th></th>\n    </tr>\n  </thead>\n  <tbody>\n    <tr>\n      <th>data/C50test/RobinSidel/338537newsML.txt</th>\n      <td>0</td>\n      <td>0</td>\n      <td>0</td>\n      <td>0</td>\n      <td>0</td>\n      <td>0</td>\n      <td>0</td>\n      <td>0</td>\n      <td>0</td>\n      <td>0</td>\n      <td>...</td>\n      <td>0</td>\n      <td>0</td>\n      <td>0</td>\n      <td>0</td>\n      <td>0</td>\n      <td>0</td>\n      <td>0</td>\n      <td>0</td>\n      <td>0</td>\n      <td>0</td>\n    </tr>\n    <tr>\n      <th>data/C50train/JonathanBirt/107612newsML.txt</th>\n      <td>0</td>\n      <td>0</td>\n      <td>0</td>\n      <td>0</td>\n      <td>0</td>\n      <td>0</td>\n      <td>0</td>\n      <td>0</td>\n      <td>0</td>\n      <td>0</td>\n      <td>...</td>\n      <td>0</td>\n      <td>0</td>\n      <td>0</td>\n      <td>0</td>\n      <td>0</td>\n      <td>0</td>\n      <td>0</td>\n      <td>0</td>\n      <td>0</td>\n      <td>0</td>\n    </tr>\n    <tr>\n      <th>data/C50train/TheresePoletti/200003newsML.txt</th>\n      <td>0</td>\n      <td>0</td>\n      <td>0</td>\n      <td>0</td>\n      <td>0</td>\n      <td>0</td>\n      <td>0</td>\n      <td>0</td>\n      <td>0</td>\n      <td>0</td>\n      <td>...</td>\n      <td>0</td>\n      <td>0</td>\n      <td>0</td>\n      <td>0</td>\n      <td>0</td>\n      <td>0</td>\n      <td>0</td>\n      <td>0</td>\n      <td>0</td>\n      <td>0</td>\n    </tr>\n    <tr>\n      <th>data/C50test/JanLopatka/346547newsML.txt</th>\n      <td>0</td>\n      <td>0</td>\n      <td>0</td>\n      <td>0</td>\n      <td>0</td>\n      <td>0</td>\n      <td>0</td>\n      <td>0</td>\n      <td>0</td>\n      <td>1</td>\n      <td>...</td>\n      <td>0</td>\n      <td>0</td>\n      <td>0</td>\n      <td>0</td>\n      <td>0</td>\n      <td>0</td>\n      <td>0</td>\n      <td>0</td>\n      <td>0</td>\n      <td>0</td>\n    </tr>\n    <tr>\n      <th>data/C50test/TanEeLyn/586394newsML.txt</th>\n      <td>0</td>\n      <td>0</td>\n      <td>0</td>\n      <td>0</td>\n      <td>0</td>\n      <td>0</td>\n      <td>0</td>\n      <td>0</td>\n      <td>0</td>\n      <td>0</td>\n      <td>...</td>\n      <td>0</td>\n      <td>0</td>\n      <td>0</td>\n      <td>0</td>\n      <td>0</td>\n      <td>0</td>\n      <td>0</td>\n      <td>0</td>\n      <td>0</td>\n      <td>0</td>\n    </tr>\n    <tr>\n      <th>...</th>\n      <td>...</td>\n      <td>...</td>\n      <td>...</td>\n      <td>...</td>\n      <td>...</td>\n      <td>...</td>\n      <td>...</td>\n      <td>...</td>\n      <td>...</td>\n      <td>...</td>\n      <td>...</td>\n      <td>...</td>\n      <td>...</td>\n      <td>...</td>\n      <td>...</td>\n      <td>...</td>\n      <td>...</td>\n      <td>...</td>\n      <td>...</td>\n      <td>...</td>\n      <td>...</td>\n    </tr>\n    <tr>\n      <th>data/C50test/EricAuchard/320619newsML.txt</th>\n      <td>0</td>\n      <td>0</td>\n      <td>0</td>\n      <td>0</td>\n      <td>0</td>\n      <td>0</td>\n      <td>0</td>\n      <td>0</td>\n      <td>0</td>\n      <td>1</td>\n      <td>...</td>\n      <td>0</td>\n      <td>0</td>\n      <td>0</td>\n      <td>0</td>\n      <td>0</td>\n      <td>0</td>\n      <td>0</td>\n      <td>0</td>\n      <td>0</td>\n      <td>0</td>\n    </tr>\n    <tr>\n      <th>data/C50test/PeterHumphrey/519044newsML.txt</th>\n      <td>0</td>\n      <td>0</td>\n      <td>0</td>\n      <td>0</td>\n      <td>0</td>\n      <td>0</td>\n      <td>0</td>\n      <td>0</td>\n      <td>0</td>\n      <td>0</td>\n      <td>...</td>\n      <td>0</td>\n      <td>0</td>\n      <td>0</td>\n      <td>0</td>\n      <td>0</td>\n      <td>0</td>\n      <td>0</td>\n      <td>0</td>\n      <td>0</td>\n      <td>0</td>\n    </tr>\n    <tr>\n      <th>data/C50test/JonathanBirt/462591newsML.txt</th>\n      <td>0</td>\n      <td>0</td>\n      <td>0</td>\n      <td>1</td>\n      <td>0</td>\n      <td>1</td>\n      <td>0</td>\n      <td>0</td>\n      <td>0</td>\n      <td>0</td>\n      <td>...</td>\n      <td>0</td>\n      <td>0</td>\n      <td>0</td>\n      <td>0</td>\n      <td>0</td>\n      <td>0</td>\n      <td>0</td>\n      <td>0</td>\n      <td>0</td>\n      <td>0</td>\n    </tr>\n    <tr>\n      <th>data/C50train/KevinDrawbaugh/233324newsML.txt</th>\n      <td>0</td>\n      <td>0</td>\n      <td>0</td>\n      <td>0</td>\n      <td>0</td>\n      <td>0</td>\n      <td>0</td>\n      <td>0</td>\n      <td>0</td>\n      <td>0</td>\n      <td>...</td>\n      <td>0</td>\n      <td>0</td>\n      <td>0</td>\n      <td>0</td>\n      <td>0</td>\n      <td>0</td>\n      <td>0</td>\n      <td>0</td>\n      <td>0</td>\n      <td>0</td>\n    </tr>\n    <tr>\n      <th>data/C50train/JanLopatka/192103newsML.txt</th>\n      <td>0</td>\n      <td>0</td>\n      <td>0</td>\n      <td>0</td>\n      <td>0</td>\n      <td>0</td>\n      <td>0</td>\n      <td>0</td>\n      <td>0</td>\n      <td>0</td>\n      <td>...</td>\n      <td>0</td>\n      <td>0</td>\n      <td>0</td>\n      <td>0</td>\n      <td>0</td>\n      <td>0</td>\n      <td>0</td>\n      <td>0</td>\n      <td>0</td>\n      <td>0</td>\n    </tr>\n  </tbody>\n</table>\n<p>250 rows × 7282 columns</p>\n</div>"
     },
     "execution_count": 22,
     "metadata": {},
     "output_type": "execute_result"
    }
   ],
   "source": [
    "f = pd.read_csv(\"vectors-250/data_vectorized.csv\", index_col=0)\n",
    "f"
   ],
   "metadata": {
    "collapsed": false,
    "ExecuteTime": {
     "end_time": "2023-12-01T02:25:13.701697600Z",
     "start_time": "2023-12-01T02:25:12.931976400Z"
    }
   }
  },
  {
   "cell_type": "code",
   "execution_count": 27,
   "outputs": [],
   "source": [],
   "metadata": {
    "collapsed": false
   }
  },
  {
   "cell_type": "code",
   "execution_count": 6,
   "outputs": [
    {
     "data": {
      "text/plain": "0          Vector(RobinSidel/338537newsML.txt)\n1        Vector(JonathanBirt/107612newsML.txt)\n2      Vector(TheresePoletti/200003newsML.txt)\n3          Vector(JanLopatka/346547newsML.txt)\n4            Vector(TanEeLyn/586394newsML.txt)\n                        ...                   \n245       Vector(EricAuchard/320619newsML.txt)\n246     Vector(PeterHumphrey/519044newsML.txt)\n247      Vector(JonathanBirt/462591newsML.txt)\n248    Vector(KevinDrawbaugh/233324newsML.txt)\n249        Vector(JanLopatka/192103newsML.txt)\nName: data, Length: 250, dtype: object"
     },
     "execution_count": 6,
     "metadata": {},
     "output_type": "execute_result"
    }
   ],
   "source": [
    "corp = vectors_from_f(f)\n",
    "corp = pd.Series(corp)\n",
    "corp"
   ],
   "metadata": {
    "collapsed": false,
    "ExecuteTime": {
     "end_time": "2023-12-01T01:45:17.265061700Z",
     "start_time": "2023-12-01T01:45:14.333379200Z"
    }
   }
  },
  {
   "cell_type": "code",
   "execution_count": 7,
   "outputs": [
    {
     "data": {
      "text/plain": "0          RobinSidel\n1        JonathanBirt\n2      TheresePoletti\n3          JanLopatka\n4            TanEeLyn\n            ...      \n245       EricAuchard\n246     PeterHumphrey\n247      JonathanBirt\n248    KevinDrawbaugh\n249        JanLopatka\nName: data, Length: 250, dtype: object"
     },
     "execution_count": 7,
     "metadata": {},
     "output_type": "execute_result"
    }
   ],
   "source": [
    "corp.apply(lambda v: v.author())"
   ],
   "metadata": {
    "collapsed": false,
    "ExecuteTime": {
     "end_time": "2023-12-01T01:45:24.630778600Z",
     "start_time": "2023-12-01T01:45:24.620165900Z"
    }
   }
  },
  {
   "cell_type": "code",
   "execution_count": 12,
   "outputs": [
    {
     "name": "stdout",
     "output_type": "stream",
     "text": [
      "Constructing tree 1... (1/5)\n",
      "Constructing tree 2... (2/5)\n",
      "Constructing tree 3... (3/5)\n",
      "Constructing tree 4... (4/5)\n",
      "Constructing tree 5... (5/5)\n"
     ]
    }
   ],
   "source": [
    "trees = random_forest(corp, 200, 50, 5, 0.2)"
   ],
   "metadata": {
    "collapsed": false,
    "ExecuteTime": {
     "end_time": "2023-12-01T01:55:25.511834Z",
     "start_time": "2023-12-01T01:49:50.118544Z"
    }
   }
  },
  {
   "cell_type": "code",
   "execution_count": 47,
   "outputs": [
    {
     "name": "stdout",
     "output_type": "stream",
     "text": [
      "Classifying with tree 1... (1/5)\n",
      "Classifying with tree 2... (2/5)\n",
      "Classifying with tree 3... (3/5)\n",
      "Classifying with tree 4... (4/5)\n",
      "Classifying with tree 5... (5/5)\n",
      "Voting...\n"
     ]
    },
    {
     "data": {
      "text/plain": "                                      vector               doc  \\\n0        Vector(RobinSidel/338537newsML.txt)  338537newsML.txt   \n1      Vector(JonathanBirt/107612newsML.txt)  107612newsML.txt   \n2    Vector(TheresePoletti/200003newsML.txt)  200003newsML.txt   \n3        Vector(JanLopatka/346547newsML.txt)  346547newsML.txt   \n4          Vector(TanEeLyn/586394newsML.txt)  586394newsML.txt   \n..                                       ...               ...   \n245     Vector(EricAuchard/320619newsML.txt)  320619newsML.txt   \n246   Vector(PeterHumphrey/519044newsML.txt)  519044newsML.txt   \n247    Vector(JonathanBirt/462591newsML.txt)  462591newsML.txt   \n248  Vector(KevinDrawbaugh/233324newsML.txt)  233324newsML.txt   \n249      Vector(JanLopatka/192103newsML.txt)  192103newsML.txt   \n\n                obs              pred  \n0        RobinSidel        MartinWolk  \n1      JonathanBirt  DarrenSchuettler  \n2    TheresePoletti  DarrenSchuettler  \n3        JanLopatka        TimFarrand  \n4          TanEeLyn        TimFarrand  \n..              ...               ...  \n245     EricAuchard  DarrenSchuettler  \n246   PeterHumphrey    GrahamEarnshaw  \n247    JonathanBirt    JoWinterbottom  \n248  KevinDrawbaugh    KevinDrawbaugh  \n249      JanLopatka  DarrenSchuettler  \n\n[250 rows x 4 columns]",
      "text/html": "<div>\n<style scoped>\n    .dataframe tbody tr th:only-of-type {\n        vertical-align: middle;\n    }\n\n    .dataframe tbody tr th {\n        vertical-align: top;\n    }\n\n    .dataframe thead th {\n        text-align: right;\n    }\n</style>\n<table border=\"1\" class=\"dataframe\">\n  <thead>\n    <tr style=\"text-align: right;\">\n      <th></th>\n      <th>vector</th>\n      <th>doc</th>\n      <th>obs</th>\n      <th>pred</th>\n    </tr>\n  </thead>\n  <tbody>\n    <tr>\n      <th>0</th>\n      <td>Vector(RobinSidel/338537newsML.txt)</td>\n      <td>338537newsML.txt</td>\n      <td>RobinSidel</td>\n      <td>MartinWolk</td>\n    </tr>\n    <tr>\n      <th>1</th>\n      <td>Vector(JonathanBirt/107612newsML.txt)</td>\n      <td>107612newsML.txt</td>\n      <td>JonathanBirt</td>\n      <td>DarrenSchuettler</td>\n    </tr>\n    <tr>\n      <th>2</th>\n      <td>Vector(TheresePoletti/200003newsML.txt)</td>\n      <td>200003newsML.txt</td>\n      <td>TheresePoletti</td>\n      <td>DarrenSchuettler</td>\n    </tr>\n    <tr>\n      <th>3</th>\n      <td>Vector(JanLopatka/346547newsML.txt)</td>\n      <td>346547newsML.txt</td>\n      <td>JanLopatka</td>\n      <td>TimFarrand</td>\n    </tr>\n    <tr>\n      <th>4</th>\n      <td>Vector(TanEeLyn/586394newsML.txt)</td>\n      <td>586394newsML.txt</td>\n      <td>TanEeLyn</td>\n      <td>TimFarrand</td>\n    </tr>\n    <tr>\n      <th>...</th>\n      <td>...</td>\n      <td>...</td>\n      <td>...</td>\n      <td>...</td>\n    </tr>\n    <tr>\n      <th>245</th>\n      <td>Vector(EricAuchard/320619newsML.txt)</td>\n      <td>320619newsML.txt</td>\n      <td>EricAuchard</td>\n      <td>DarrenSchuettler</td>\n    </tr>\n    <tr>\n      <th>246</th>\n      <td>Vector(PeterHumphrey/519044newsML.txt)</td>\n      <td>519044newsML.txt</td>\n      <td>PeterHumphrey</td>\n      <td>GrahamEarnshaw</td>\n    </tr>\n    <tr>\n      <th>247</th>\n      <td>Vector(JonathanBirt/462591newsML.txt)</td>\n      <td>462591newsML.txt</td>\n      <td>JonathanBirt</td>\n      <td>JoWinterbottom</td>\n    </tr>\n    <tr>\n      <th>248</th>\n      <td>Vector(KevinDrawbaugh/233324newsML.txt)</td>\n      <td>233324newsML.txt</td>\n      <td>KevinDrawbaugh</td>\n      <td>KevinDrawbaugh</td>\n    </tr>\n    <tr>\n      <th>249</th>\n      <td>Vector(JanLopatka/192103newsML.txt)</td>\n      <td>192103newsML.txt</td>\n      <td>JanLopatka</td>\n      <td>DarrenSchuettler</td>\n    </tr>\n  </tbody>\n</table>\n<p>250 rows × 4 columns</p>\n</div>"
     },
     "execution_count": 47,
     "metadata": {},
     "output_type": "execute_result"
    }
   ],
   "source": [
    "results = rf_predict(corp, trees)\n",
    "results"
   ],
   "metadata": {
    "collapsed": false,
    "ExecuteTime": {
     "end_time": "2023-12-01T02:43:24.276336900Z",
     "start_time": "2023-12-01T02:43:23.349194400Z"
    }
   }
  },
  {
   "cell_type": "code",
   "execution_count": 45,
   "outputs": [
    {
     "data": {
      "text/plain": "0.356"
     },
     "execution_count": 45,
     "metadata": {},
     "output_type": "execute_result"
    }
   ],
   "source": [
    "(results['obs'] == results['pred']).sum() / len(results.index)"
   ],
   "metadata": {
    "collapsed": false,
    "ExecuteTime": {
     "end_time": "2023-12-01T02:42:04.721994900Z",
     "start_time": "2023-12-01T02:42:04.701687800Z"
    }
   }
  }
 ],
 "metadata": {
  "kernelspec": {
   "display_name": "Python 3",
   "language": "python",
   "name": "python3"
  },
  "language_info": {
   "codemirror_mode": {
    "name": "ipython",
    "version": 2
   },
   "file_extension": ".py",
   "mimetype": "text/x-python",
   "name": "python",
   "nbconvert_exporter": "python",
   "pygments_lexer": "ipython2",
   "version": "2.7.6"
  }
 },
 "nbformat": 4,
 "nbformat_minor": 0
}

{
 "cells": [
  {
   "cell_type": "code",
   "execution_count": 1,
   "outputs": [],
   "source": [
    "import pandas as pd\n",
    "import numpy as np\n",
    "\n",
    "from textVectorizer import *"
   ],
   "metadata": {
    "collapsed": false,
    "ExecuteTime": {
     "end_time": "2023-11-30T20:22:03.890074100Z",
     "start_time": "2023-11-30T20:22:02.348603700Z"
    }
   }
  },
  {
   "cell_type": "code",
   "execution_count": 10,
   "outputs": [
    {
     "data": {
      "text/plain": "                                               abadon  abandon  abat  abb  \\\ndata                                                                        \ndata/C50test/RobinSidel/338537newsML.txt            0        0     0    0   \ndata/C50train/JonathanBirt/107612newsML.txt         0        0     0    0   \ndata/C50train/TheresePoletti/200003newsML.txt       0        0     0    0   \ndata/C50test/JanLopatka/346547newsML.txt            0        0     0    0   \ndata/C50test/TanEeLyn/586394newsML.txt              0        0     0    0   \n...                                               ...      ...   ...  ...   \ndata/C50test/EricAuchard/320619newsML.txt           0        0     0    0   \ndata/C50test/PeterHumphrey/519044newsML.txt         0        0     0    0   \ndata/C50test/JonathanBirt/462591newsML.txt          0        0     0    1   \ndata/C50train/KevinDrawbaugh/233324newsML.txt       0        0     0    0   \ndata/C50train/JanLopatka/192103newsML.txt           0        0     0    0   \n\n                                               abbey  abbott  abbrevi  abid  \\\ndata                                                                          \ndata/C50test/RobinSidel/338537newsML.txt           0       0        0     0   \ndata/C50train/JonathanBirt/107612newsML.txt        0       0        0     0   \ndata/C50train/TheresePoletti/200003newsML.txt      0       0        0     0   \ndata/C50test/JanLopatka/346547newsML.txt           0       0        0     0   \ndata/C50test/TanEeLyn/586394newsML.txt             0       0        0     0   \n...                                              ...     ...      ...   ...   \ndata/C50test/EricAuchard/320619newsML.txt          0       0        0     0   \ndata/C50test/PeterHumphrey/519044newsML.txt        0       0        0     0   \ndata/C50test/JonathanBirt/462591newsML.txt         0       1        0     0   \ndata/C50train/KevinDrawbaugh/233324newsML.txt      0       0        0     0   \ndata/C50train/JanLopatka/192103newsML.txt          0       0        0     0   \n\n                                               abidjan  abil  ...  zone  \\\ndata                                                          ...         \ndata/C50test/RobinSidel/338537newsML.txt             0     0  ...     0   \ndata/C50train/JonathanBirt/107612newsML.txt          0     0  ...     0   \ndata/C50train/TheresePoletti/200003newsML.txt        0     0  ...     0   \ndata/C50test/JanLopatka/346547newsML.txt             0     1  ...     0   \ndata/C50test/TanEeLyn/586394newsML.txt               0     0  ...     0   \n...                                                ...   ...  ...   ...   \ndata/C50test/EricAuchard/320619newsML.txt            0     1  ...     0   \ndata/C50test/PeterHumphrey/519044newsML.txt          0     0  ...     0   \ndata/C50test/JonathanBirt/462591newsML.txt           0     0  ...     0   \ndata/C50train/KevinDrawbaugh/233324newsML.txt        0     0  ...     0   \ndata/C50train/JanLopatka/192103newsML.txt            0     0  ...     0   \n\n                                               zong'ai  zoom  zovirax  zuber  \\\ndata                                                                           \ndata/C50test/RobinSidel/338537newsML.txt             0     0        0      0   \ndata/C50train/JonathanBirt/107612newsML.txt          0     0        0      0   \ndata/C50train/TheresePoletti/200003newsML.txt        0     0        0      0   \ndata/C50test/JanLopatka/346547newsML.txt             0     0        0      0   \ndata/C50test/TanEeLyn/586394newsML.txt               0     0        0      0   \n...                                                ...   ...      ...    ...   \ndata/C50test/EricAuchard/320619newsML.txt            0     0        0      0   \ndata/C50test/PeterHumphrey/519044newsML.txt          0     0        0      0   \ndata/C50test/JonathanBirt/462591newsML.txt           0     0        0      0   \ndata/C50train/KevinDrawbaugh/233324newsML.txt        0     0        0      0   \ndata/C50train/JanLopatka/192103newsML.txt            0     0        0      0   \n\n                                               zurich  zwetchenbaum  \\\ndata                                                                  \ndata/C50test/RobinSidel/338537newsML.txt            0             0   \ndata/C50train/JonathanBirt/107612newsML.txt         0             0   \ndata/C50train/TheresePoletti/200003newsML.txt       0             0   \ndata/C50test/JanLopatka/346547newsML.txt            0             0   \ndata/C50test/TanEeLyn/586394newsML.txt              0             0   \n...                                               ...           ...   \ndata/C50test/EricAuchard/320619newsML.txt           0             0   \ndata/C50test/PeterHumphrey/519044newsML.txt         0             0   \ndata/C50test/JonathanBirt/462591newsML.txt          0             0   \ndata/C50train/KevinDrawbaugh/233324newsML.txt       0             0   \ndata/C50train/JanLopatka/192103newsML.txt           0             0   \n\n                                               zwetchkenbaum  zx  zyrtec  \ndata                                                                      \ndata/C50test/RobinSidel/338537newsML.txt                   0   0       0  \ndata/C50train/JonathanBirt/107612newsML.txt                0   0       0  \ndata/C50train/TheresePoletti/200003newsML.txt              0   0       0  \ndata/C50test/JanLopatka/346547newsML.txt                   0   0       0  \ndata/C50test/TanEeLyn/586394newsML.txt                     0   0       0  \n...                                                      ...  ..     ...  \ndata/C50test/EricAuchard/320619newsML.txt                  0   0       0  \ndata/C50test/PeterHumphrey/519044newsML.txt                0   0       0  \ndata/C50test/JonathanBirt/462591newsML.txt                 0   0       0  \ndata/C50train/KevinDrawbaugh/233324newsML.txt              0   0       0  \ndata/C50train/JanLopatka/192103newsML.txt                  0   0       0  \n\n[250 rows x 7282 columns]",
      "text/html": "<div>\n<style scoped>\n    .dataframe tbody tr th:only-of-type {\n        vertical-align: middle;\n    }\n\n    .dataframe tbody tr th {\n        vertical-align: top;\n    }\n\n    .dataframe thead th {\n        text-align: right;\n    }\n</style>\n<table border=\"1\" class=\"dataframe\">\n  <thead>\n    <tr style=\"text-align: right;\">\n      <th></th>\n      <th>abadon</th>\n      <th>abandon</th>\n      <th>abat</th>\n      <th>abb</th>\n      <th>abbey</th>\n      <th>abbott</th>\n      <th>abbrevi</th>\n      <th>abid</th>\n      <th>abidjan</th>\n      <th>abil</th>\n      <th>...</th>\n      <th>zone</th>\n      <th>zong'ai</th>\n      <th>zoom</th>\n      <th>zovirax</th>\n      <th>zuber</th>\n      <th>zurich</th>\n      <th>zwetchenbaum</th>\n      <th>zwetchkenbaum</th>\n      <th>zx</th>\n      <th>zyrtec</th>\n    </tr>\n    <tr>\n      <th>data</th>\n      <th></th>\n      <th></th>\n      <th></th>\n      <th></th>\n      <th></th>\n      <th></th>\n      <th></th>\n      <th></th>\n      <th></th>\n      <th></th>\n      <th></th>\n      <th></th>\n      <th></th>\n      <th></th>\n      <th></th>\n      <th></th>\n      <th></th>\n      <th></th>\n      <th></th>\n      <th></th>\n      <th></th>\n    </tr>\n  </thead>\n  <tbody>\n    <tr>\n      <th>data/C50test/RobinSidel/338537newsML.txt</th>\n      <td>0</td>\n      <td>0</td>\n      <td>0</td>\n      <td>0</td>\n      <td>0</td>\n      <td>0</td>\n      <td>0</td>\n      <td>0</td>\n      <td>0</td>\n      <td>0</td>\n      <td>...</td>\n      <td>0</td>\n      <td>0</td>\n      <td>0</td>\n      <td>0</td>\n      <td>0</td>\n      <td>0</td>\n      <td>0</td>\n      <td>0</td>\n      <td>0</td>\n      <td>0</td>\n    </tr>\n    <tr>\n      <th>data/C50train/JonathanBirt/107612newsML.txt</th>\n      <td>0</td>\n      <td>0</td>\n      <td>0</td>\n      <td>0</td>\n      <td>0</td>\n      <td>0</td>\n      <td>0</td>\n      <td>0</td>\n      <td>0</td>\n      <td>0</td>\n      <td>...</td>\n      <td>0</td>\n      <td>0</td>\n      <td>0</td>\n      <td>0</td>\n      <td>0</td>\n      <td>0</td>\n      <td>0</td>\n      <td>0</td>\n      <td>0</td>\n      <td>0</td>\n    </tr>\n    <tr>\n      <th>data/C50train/TheresePoletti/200003newsML.txt</th>\n      <td>0</td>\n      <td>0</td>\n      <td>0</td>\n      <td>0</td>\n      <td>0</td>\n      <td>0</td>\n      <td>0</td>\n      <td>0</td>\n      <td>0</td>\n      <td>0</td>\n      <td>...</td>\n      <td>0</td>\n      <td>0</td>\n      <td>0</td>\n      <td>0</td>\n      <td>0</td>\n      <td>0</td>\n      <td>0</td>\n      <td>0</td>\n      <td>0</td>\n      <td>0</td>\n    </tr>\n    <tr>\n      <th>data/C50test/JanLopatka/346547newsML.txt</th>\n      <td>0</td>\n      <td>0</td>\n      <td>0</td>\n      <td>0</td>\n      <td>0</td>\n      <td>0</td>\n      <td>0</td>\n      <td>0</td>\n      <td>0</td>\n      <td>1</td>\n      <td>...</td>\n      <td>0</td>\n      <td>0</td>\n      <td>0</td>\n      <td>0</td>\n      <td>0</td>\n      <td>0</td>\n      <td>0</td>\n      <td>0</td>\n      <td>0</td>\n      <td>0</td>\n    </tr>\n    <tr>\n      <th>data/C50test/TanEeLyn/586394newsML.txt</th>\n      <td>0</td>\n      <td>0</td>\n      <td>0</td>\n      <td>0</td>\n      <td>0</td>\n      <td>0</td>\n      <td>0</td>\n      <td>0</td>\n      <td>0</td>\n      <td>0</td>\n      <td>...</td>\n      <td>0</td>\n      <td>0</td>\n      <td>0</td>\n      <td>0</td>\n      <td>0</td>\n      <td>0</td>\n      <td>0</td>\n      <td>0</td>\n      <td>0</td>\n      <td>0</td>\n    </tr>\n    <tr>\n      <th>...</th>\n      <td>...</td>\n      <td>...</td>\n      <td>...</td>\n      <td>...</td>\n      <td>...</td>\n      <td>...</td>\n      <td>...</td>\n      <td>...</td>\n      <td>...</td>\n      <td>...</td>\n      <td>...</td>\n      <td>...</td>\n      <td>...</td>\n      <td>...</td>\n      <td>...</td>\n      <td>...</td>\n      <td>...</td>\n      <td>...</td>\n      <td>...</td>\n      <td>...</td>\n      <td>...</td>\n    </tr>\n    <tr>\n      <th>data/C50test/EricAuchard/320619newsML.txt</th>\n      <td>0</td>\n      <td>0</td>\n      <td>0</td>\n      <td>0</td>\n      <td>0</td>\n      <td>0</td>\n      <td>0</td>\n      <td>0</td>\n      <td>0</td>\n      <td>1</td>\n      <td>...</td>\n      <td>0</td>\n      <td>0</td>\n      <td>0</td>\n      <td>0</td>\n      <td>0</td>\n      <td>0</td>\n      <td>0</td>\n      <td>0</td>\n      <td>0</td>\n      <td>0</td>\n    </tr>\n    <tr>\n      <th>data/C50test/PeterHumphrey/519044newsML.txt</th>\n      <td>0</td>\n      <td>0</td>\n      <td>0</td>\n      <td>0</td>\n      <td>0</td>\n      <td>0</td>\n      <td>0</td>\n      <td>0</td>\n      <td>0</td>\n      <td>0</td>\n      <td>...</td>\n      <td>0</td>\n      <td>0</td>\n      <td>0</td>\n      <td>0</td>\n      <td>0</td>\n      <td>0</td>\n      <td>0</td>\n      <td>0</td>\n      <td>0</td>\n      <td>0</td>\n    </tr>\n    <tr>\n      <th>data/C50test/JonathanBirt/462591newsML.txt</th>\n      <td>0</td>\n      <td>0</td>\n      <td>0</td>\n      <td>1</td>\n      <td>0</td>\n      <td>1</td>\n      <td>0</td>\n      <td>0</td>\n      <td>0</td>\n      <td>0</td>\n      <td>...</td>\n      <td>0</td>\n      <td>0</td>\n      <td>0</td>\n      <td>0</td>\n      <td>0</td>\n      <td>0</td>\n      <td>0</td>\n      <td>0</td>\n      <td>0</td>\n      <td>0</td>\n    </tr>\n    <tr>\n      <th>data/C50train/KevinDrawbaugh/233324newsML.txt</th>\n      <td>0</td>\n      <td>0</td>\n      <td>0</td>\n      <td>0</td>\n      <td>0</td>\n      <td>0</td>\n      <td>0</td>\n      <td>0</td>\n      <td>0</td>\n      <td>0</td>\n      <td>...</td>\n      <td>0</td>\n      <td>0</td>\n      <td>0</td>\n      <td>0</td>\n      <td>0</td>\n      <td>0</td>\n      <td>0</td>\n      <td>0</td>\n      <td>0</td>\n      <td>0</td>\n    </tr>\n    <tr>\n      <th>data/C50train/JanLopatka/192103newsML.txt</th>\n      <td>0</td>\n      <td>0</td>\n      <td>0</td>\n      <td>0</td>\n      <td>0</td>\n      <td>0</td>\n      <td>0</td>\n      <td>0</td>\n      <td>0</td>\n      <td>0</td>\n      <td>...</td>\n      <td>0</td>\n      <td>0</td>\n      <td>0</td>\n      <td>0</td>\n      <td>0</td>\n      <td>0</td>\n      <td>0</td>\n      <td>0</td>\n      <td>0</td>\n      <td>0</td>\n    </tr>\n  </tbody>\n</table>\n<p>250 rows × 7282 columns</p>\n</div>"
     },
     "execution_count": 10,
     "metadata": {},
     "output_type": "execute_result"
    }
   ],
   "source": [
    "f = pd.read_csv(\"data_vectorized.csv\", index_col=0)\n",
    "f"
   ],
   "metadata": {
    "collapsed": false,
    "ExecuteTime": {
     "end_time": "2023-11-30T20:58:18.291009300Z",
     "start_time": "2023-11-30T20:58:17.923922900Z"
    }
   }
  },
  {
   "cell_type": "code",
   "execution_count": 11,
   "outputs": [
    {
     "data": {
      "text/plain": "0          Vector(RobinSidel/338537newsML.txt)\n1        Vector(JonathanBirt/107612newsML.txt)\n2      Vector(TheresePoletti/200003newsML.txt)\n3          Vector(JanLopatka/346547newsML.txt)\n4            Vector(TanEeLyn/586394newsML.txt)\n                        ...                   \n245       Vector(EricAuchard/320619newsML.txt)\n246     Vector(PeterHumphrey/519044newsML.txt)\n247      Vector(JonathanBirt/462591newsML.txt)\n248    Vector(KevinDrawbaugh/233324newsML.txt)\n249        Vector(JanLopatka/192103newsML.txt)\nName: data, Length: 250, dtype: object"
     },
     "execution_count": 11,
     "metadata": {},
     "output_type": "execute_result"
    }
   ],
   "source": [
    "corp = vectors_from_f(f)\n",
    "corp"
   ],
   "metadata": {
    "collapsed": false,
    "ExecuteTime": {
     "end_time": "2023-11-30T20:58:26.590726600Z",
     "start_time": "2023-11-30T20:58:24.798637700Z"
    }
   }
  },
  {
   "cell_type": "code",
   "execution_count": 12,
   "metadata": {
    "collapsed": true,
    "ExecuteTime": {
     "end_time": "2023-11-30T20:58:29.349167100Z",
     "start_time": "2023-11-30T20:58:29.343701300Z"
    }
   },
   "outputs": [],
   "source": [
    "def knn(vec: Vector, corp: pd.Series, k: int, metric: str = \"cos\") -> str:\n",
    "    sims = None\n",
    "    if metric == \"cos\":\n",
    "        sims = corp.apply(lambda v: vec.cos_sim(v))\n",
    "    elif metric == \"okapi\":\n",
    "        sims = corp.apply(lambda v: vec.okapi(v))\n",
    "    authors = corp.apply(lambda v: v.author())\n",
    "    top_k_dist_ind = np.argpartition(-sims, k)[:k]\n",
    "    top_k_c = authors.iloc[top_k_dist_ind]\n",
    "    return top_k_c.mode().sample(frac=1).iloc[0]"
   ]
  },
  {
   "cell_type": "code",
   "execution_count": 62,
   "outputs": [
    {
     "data": {
      "text/plain": "'KeithWeir'"
     },
     "execution_count": 62,
     "metadata": {},
     "output_type": "execute_result"
    }
   ],
   "source": [
    "knn(corp.loc[10], corp.drop(10), 3)"
   ],
   "metadata": {
    "collapsed": false,
    "ExecuteTime": {
     "end_time": "2023-11-29T20:44:08.939748700Z",
     "start_time": "2023-11-29T20:44:08.734219200Z"
    }
   }
  },
  {
   "cell_type": "code",
   "execution_count": 16,
   "outputs": [],
   "source": [
    "def knn_predict(corp: pd.Series, k: int, metric: str = \"cos\") -> pd.DataFrame:\n",
    "    pred = pd.Series(corp.index).apply(\n",
    "        lambda row: knn(corp.loc[row], corp.drop(row), k, metric=metric)\n",
    "    )\n",
    "    docs = corp.apply(lambda d: d.name())\n",
    "    obs = corp.apply(lambda d: d.author())\n",
    "    pred = pd.concat([docs, obs, pred], axis=1)\n",
    "    pred.columns = [\"doc\", \"obs\", \"pred\"]\n",
    "    return pred"
   ],
   "metadata": {
    "collapsed": false,
    "ExecuteTime": {
     "end_time": "2023-11-30T21:03:04.657161Z",
     "start_time": "2023-11-30T21:03:04.648758Z"
    }
   }
  },
  {
   "cell_type": "code",
   "execution_count": 17,
   "outputs": [
    {
     "data": {
      "text/plain": "                                      vector               doc  \\\n0        Vector(RobinSidel/338537newsML.txt)  338537newsML.txt   \n1      Vector(JonathanBirt/107612newsML.txt)  107612newsML.txt   \n2    Vector(TheresePoletti/200003newsML.txt)  200003newsML.txt   \n3        Vector(JanLopatka/346547newsML.txt)  346547newsML.txt   \n4          Vector(TanEeLyn/586394newsML.txt)  586394newsML.txt   \n..                                       ...               ...   \n245     Vector(EricAuchard/320619newsML.txt)  320619newsML.txt   \n246   Vector(PeterHumphrey/519044newsML.txt)  519044newsML.txt   \n247    Vector(JonathanBirt/462591newsML.txt)  462591newsML.txt   \n248  Vector(KevinDrawbaugh/233324newsML.txt)  233324newsML.txt   \n249      Vector(JanLopatka/192103newsML.txt)  192103newsML.txt   \n\n                obs            pred  \n0        RobinSidel      RobinSidel  \n1      JonathanBirt    JonathanBirt  \n2    TheresePoletti  GrahamEarnshaw  \n3        JanLopatka    JohnMastrini  \n4          TanEeLyn   PeterHumphrey  \n..              ...             ...  \n245     EricAuchard      MartinWolk  \n246   PeterHumphrey   PeterHumphrey  \n247    JonathanBirt    JonathanBirt  \n248  KevinDrawbaugh      MartinWolk  \n249      JanLopatka    JohnMastrini  \n\n[250 rows x 4 columns]",
      "text/html": "<div>\n<style scoped>\n    .dataframe tbody tr th:only-of-type {\n        vertical-align: middle;\n    }\n\n    .dataframe tbody tr th {\n        vertical-align: top;\n    }\n\n    .dataframe thead th {\n        text-align: right;\n    }\n</style>\n<table border=\"1\" class=\"dataframe\">\n  <thead>\n    <tr style=\"text-align: right;\">\n      <th></th>\n      <th>vector</th>\n      <th>doc</th>\n      <th>obs</th>\n      <th>pred</th>\n    </tr>\n  </thead>\n  <tbody>\n    <tr>\n      <th>0</th>\n      <td>Vector(RobinSidel/338537newsML.txt)</td>\n      <td>338537newsML.txt</td>\n      <td>RobinSidel</td>\n      <td>RobinSidel</td>\n    </tr>\n    <tr>\n      <th>1</th>\n      <td>Vector(JonathanBirt/107612newsML.txt)</td>\n      <td>107612newsML.txt</td>\n      <td>JonathanBirt</td>\n      <td>JonathanBirt</td>\n    </tr>\n    <tr>\n      <th>2</th>\n      <td>Vector(TheresePoletti/200003newsML.txt)</td>\n      <td>200003newsML.txt</td>\n      <td>TheresePoletti</td>\n      <td>GrahamEarnshaw</td>\n    </tr>\n    <tr>\n      <th>3</th>\n      <td>Vector(JanLopatka/346547newsML.txt)</td>\n      <td>346547newsML.txt</td>\n      <td>JanLopatka</td>\n      <td>JohnMastrini</td>\n    </tr>\n    <tr>\n      <th>4</th>\n      <td>Vector(TanEeLyn/586394newsML.txt)</td>\n      <td>586394newsML.txt</td>\n      <td>TanEeLyn</td>\n      <td>PeterHumphrey</td>\n    </tr>\n    <tr>\n      <th>...</th>\n      <td>...</td>\n      <td>...</td>\n      <td>...</td>\n      <td>...</td>\n    </tr>\n    <tr>\n      <th>245</th>\n      <td>Vector(EricAuchard/320619newsML.txt)</td>\n      <td>320619newsML.txt</td>\n      <td>EricAuchard</td>\n      <td>MartinWolk</td>\n    </tr>\n    <tr>\n      <th>246</th>\n      <td>Vector(PeterHumphrey/519044newsML.txt)</td>\n      <td>519044newsML.txt</td>\n      <td>PeterHumphrey</td>\n      <td>PeterHumphrey</td>\n    </tr>\n    <tr>\n      <th>247</th>\n      <td>Vector(JonathanBirt/462591newsML.txt)</td>\n      <td>462591newsML.txt</td>\n      <td>JonathanBirt</td>\n      <td>JonathanBirt</td>\n    </tr>\n    <tr>\n      <th>248</th>\n      <td>Vector(KevinDrawbaugh/233324newsML.txt)</td>\n      <td>233324newsML.txt</td>\n      <td>KevinDrawbaugh</td>\n      <td>MartinWolk</td>\n    </tr>\n    <tr>\n      <th>249</th>\n      <td>Vector(JanLopatka/192103newsML.txt)</td>\n      <td>192103newsML.txt</td>\n      <td>JanLopatka</td>\n      <td>JohnMastrini</td>\n    </tr>\n  </tbody>\n</table>\n<p>250 rows × 4 columns</p>\n</div>"
     },
     "execution_count": 17,
     "metadata": {},
     "output_type": "execute_result"
    }
   ],
   "source": [
    "results = knn_predict(corp, 13)\n",
    "results"
   ],
   "metadata": {
    "collapsed": false,
    "ExecuteTime": {
     "end_time": "2023-11-30T21:03:30.715656700Z",
     "start_time": "2023-11-30T21:03:05.815424700Z"
    }
   }
  },
  {
   "cell_type": "code",
   "execution_count": 18,
   "outputs": [
    {
     "data": {
      "text/plain": "0.344"
     },
     "execution_count": 18,
     "metadata": {},
     "output_type": "execute_result"
    }
   ],
   "source": [
    "(results['obs'] == results['pred']).sum() / len(results.index)"
   ],
   "metadata": {
    "collapsed": false,
    "ExecuteTime": {
     "end_time": "2023-11-30T21:07:02.757854200Z",
     "start_time": "2023-11-30T21:07:02.749555100Z"
    }
   }
  },
  {
   "cell_type": "code",
   "execution_count": 73,
   "outputs": [
    {
     "data": {
      "text/plain": "                                      vector               doc  \\\n0        Vector(MureDickie/349836newsML.txt)  349836newsML.txt   \n1        Vector(JanLopatka/462517newsML.txt)  462517newsML.txt   \n2        Vector(PierreTran/433717newsML.txt)  433717newsML.txt   \n3    Vector(TheresePoletti/310688newsML.txt)  310688newsML.txt   \n4       Vector(ScottHillis/348803newsML.txt)  348803newsML.txt   \n..                                       ...               ...   \n245   Vector(MichaelConnor/453294newsML.txt)  453294newsML.txt   \n246    Vector(SarahDavison/324597newsML.txt)  324597newsML.txt   \n247      Vector(MartinWolk/311937newsML.txt)  311937newsML.txt   \n248      Vector(JanLopatka/194352newsML.txt)  194352newsML.txt   \n249      Vector(JanLopatka/260918newsML.txt)  260918newsML.txt   \n\n                obs              pred  \n0        MureDickie      JimGilchrist  \n1        JanLopatka      JimGilchrist  \n2        PierreTran   MarcelMichelson  \n3    TheresePoletti      JimGilchrist  \n4       ScottHillis     PeterHumphrey  \n..              ...               ...  \n245   MichaelConnor  DarrenSchuettler  \n246    SarahDavison      MarkBendeich  \n247      MartinWolk        MartinWolk  \n248      JanLopatka      MarkBendeich  \n249      JanLopatka        AlanCrosby  \n\n[250 rows x 4 columns]",
      "text/html": "<div>\n<style scoped>\n    .dataframe tbody tr th:only-of-type {\n        vertical-align: middle;\n    }\n\n    .dataframe tbody tr th {\n        vertical-align: top;\n    }\n\n    .dataframe thead th {\n        text-align: right;\n    }\n</style>\n<table border=\"1\" class=\"dataframe\">\n  <thead>\n    <tr style=\"text-align: right;\">\n      <th></th>\n      <th>vector</th>\n      <th>doc</th>\n      <th>obs</th>\n      <th>pred</th>\n    </tr>\n  </thead>\n  <tbody>\n    <tr>\n      <th>0</th>\n      <td>Vector(MureDickie/349836newsML.txt)</td>\n      <td>349836newsML.txt</td>\n      <td>MureDickie</td>\n      <td>JimGilchrist</td>\n    </tr>\n    <tr>\n      <th>1</th>\n      <td>Vector(JanLopatka/462517newsML.txt)</td>\n      <td>462517newsML.txt</td>\n      <td>JanLopatka</td>\n      <td>JimGilchrist</td>\n    </tr>\n    <tr>\n      <th>2</th>\n      <td>Vector(PierreTran/433717newsML.txt)</td>\n      <td>433717newsML.txt</td>\n      <td>PierreTran</td>\n      <td>MarcelMichelson</td>\n    </tr>\n    <tr>\n      <th>3</th>\n      <td>Vector(TheresePoletti/310688newsML.txt)</td>\n      <td>310688newsML.txt</td>\n      <td>TheresePoletti</td>\n      <td>JimGilchrist</td>\n    </tr>\n    <tr>\n      <th>4</th>\n      <td>Vector(ScottHillis/348803newsML.txt)</td>\n      <td>348803newsML.txt</td>\n      <td>ScottHillis</td>\n      <td>PeterHumphrey</td>\n    </tr>\n    <tr>\n      <th>...</th>\n      <td>...</td>\n      <td>...</td>\n      <td>...</td>\n      <td>...</td>\n    </tr>\n    <tr>\n      <th>245</th>\n      <td>Vector(MichaelConnor/453294newsML.txt)</td>\n      <td>453294newsML.txt</td>\n      <td>MichaelConnor</td>\n      <td>DarrenSchuettler</td>\n    </tr>\n    <tr>\n      <th>246</th>\n      <td>Vector(SarahDavison/324597newsML.txt)</td>\n      <td>324597newsML.txt</td>\n      <td>SarahDavison</td>\n      <td>MarkBendeich</td>\n    </tr>\n    <tr>\n      <th>247</th>\n      <td>Vector(MartinWolk/311937newsML.txt)</td>\n      <td>311937newsML.txt</td>\n      <td>MartinWolk</td>\n      <td>MartinWolk</td>\n    </tr>\n    <tr>\n      <th>248</th>\n      <td>Vector(JanLopatka/194352newsML.txt)</td>\n      <td>194352newsML.txt</td>\n      <td>JanLopatka</td>\n      <td>MarkBendeich</td>\n    </tr>\n    <tr>\n      <th>249</th>\n      <td>Vector(JanLopatka/260918newsML.txt)</td>\n      <td>260918newsML.txt</td>\n      <td>JanLopatka</td>\n      <td>AlanCrosby</td>\n    </tr>\n  </tbody>\n</table>\n<p>250 rows × 4 columns</p>\n</div>"
     },
     "execution_count": 73,
     "metadata": {},
     "output_type": "execute_result"
    }
   ],
   "source": [
    "okapi_results = knn_predict(corp, 13, \"okapi\")\n",
    "okapi_results"
   ],
   "metadata": {
    "collapsed": false,
    "ExecuteTime": {
     "end_time": "2023-11-29T21:08:23.093315800Z",
     "start_time": "2023-11-29T21:01:29.987566700Z"
    }
   }
  },
  {
   "cell_type": "code",
   "execution_count": 74,
   "outputs": [
    {
     "data": {
      "text/plain": "0.24"
     },
     "execution_count": 74,
     "metadata": {},
     "output_type": "execute_result"
    }
   ],
   "source": [
    "(okapi_results['obs'] == okapi_results['pred']).sum() / len(okapi_results.index)"
   ],
   "metadata": {
    "collapsed": false,
    "ExecuteTime": {
     "end_time": "2023-11-29T22:14:08.635679300Z",
     "start_time": "2023-11-29T22:14:08.609908500Z"
    }
   }
  },
  {
   "cell_type": "code",
   "execution_count": 19,
   "outputs": [],
   "source": [
    "import pandas as pd"
   ],
   "metadata": {
    "collapsed": false,
    "ExecuteTime": {
     "end_time": "2023-12-01T05:35:49.091627Z",
     "start_time": "2023-12-01T05:35:49.071297800Z"
    }
   }
  },
  {
   "cell_type": "code",
   "execution_count": 21,
   "outputs": [],
   "source": [
    "pd.read_csv(\"knn_results.csv\", index_col=0).to_csv(\"knn_results.csv\", index=False)"
   ],
   "metadata": {
    "collapsed": false,
    "ExecuteTime": {
     "end_time": "2023-12-01T05:36:53.034982300Z",
     "start_time": "2023-12-01T05:36:52.948080600Z"
    }
   }
  }
 ],
 "metadata": {
  "kernelspec": {
   "display_name": "Python 3",
   "language": "python",
   "name": "python3"
  },
  "language_info": {
   "codemirror_mode": {
    "name": "ipython",
    "version": 2
   },
   "file_extension": ".py",
   "mimetype": "text/x-python",
   "name": "python",
   "nbconvert_exporter": "python",
   "pygments_lexer": "ipython2",
   "version": "2.7.6"
  }
 },
 "nbformat": 4,
 "nbformat_minor": 0
}

{
 "cells": [
  {
   "cell_type": "code",
   "execution_count": 1,
   "metadata": {
    "collapsed": true,
    "ExecuteTime": {
     "end_time": "2023-10-03T07:58:28.581171500Z",
     "start_time": "2023-10-03T07:58:27.921156800Z"
    }
   },
   "outputs": [],
   "source": [
    "import pandas as pd\n",
    "\n",
    "from apriori import *\n",
    "# from typing import Any"
   ]
  },
  {
   "cell_type": "code",
   "execution_count": 2,
   "outputs": [
    {
     "data": {
      "text/plain": "[(1, 19),\n (4, 9),\n (5, 22),\n (14, 44),\n (27, 28),\n (33, 42),\n (0, 2, 46),\n (3, 18, 35),\n (7, 15, 49),\n (16, 32, 45),\n (17, 29, 47),\n (7, 11, 37, 45),\n (12, 31, 36, 48),\n (23, 24, 40, 41, 43)]"
     },
     "execution_count": 2,
     "metadata": {},
     "output_type": "execute_result"
    }
   ],
   "source": [
    "T = read_sparse(\"https://users.csc.calpoly.edu/~dekhtyar/466-Fall2023/data/BAKERY/5000/5000-out1.csv\")\n",
    "I = pd.read_csv(\"https://users.csc.calpoly.edu/~dekhtyar/466-Fall2023/data/BAKERY/goods.csv\")['Id']\n",
    "F = apriori(T, I, 0.0212)\n",
    "F"
   ],
   "metadata": {
    "collapsed": false,
    "ExecuteTime": {
     "end_time": "2023-10-03T07:58:35.811676Z",
     "start_time": "2023-10-03T07:58:29.880953100Z"
    }
   }
  },
  {
   "cell_type": "code",
   "execution_count": 4,
   "outputs": [],
   "source": [
    "# class AssocRule:\n",
    "#     def __init__(self, x, y):\n",
    "#         self.x = x\n",
    "#         self.y = y\n",
    "#\n",
    "#     def __str__(self):\n",
    "#         return \"%s -> %s\" % (self.x, self.y)\n",
    "#\n",
    "#     def __repr__(self):\n",
    "#         return \"%s -> %s\" % (self.x, self.y)\n"
   ],
   "metadata": {
    "collapsed": false,
    "ExecuteTime": {
     "end_time": "2023-10-03T05:50:50.495773Z",
     "start_time": "2023-10-03T05:50:50.466140300Z"
    }
   }
  },
  {
   "cell_type": "code",
   "execution_count": 9,
   "outputs": [],
   "source": [
    "# def gen_rules(F: list[tuple[Any]], T: pd.Series, minConf: int) -> list[AssocRule]:\n",
    "#     H1 = []\n",
    "#     for f in F:\n",
    "#         if len(f) >= 2:\n",
    "#             for s in f:\n",
    "#                 x = set(f)\n",
    "#                 x.remove(s)\n",
    "#                 if confidence(x, {s}, T) >= minConf:\n",
    "#                     H1.append(AssocRule(tuple(x), s))\n",
    "#     return H1"
   ],
   "metadata": {
    "collapsed": false,
    "ExecuteTime": {
     "end_time": "2023-10-03T05:55:20.483906400Z",
     "start_time": "2023-10-03T05:55:20.440924900Z"
    }
   }
  },
  {
   "cell_type": "code",
   "execution_count": 13,
   "outputs": [
    {
     "data": {
      "text/plain": "                 assrules  confidence  support\n0       (45, 11, 37) -> 7         1.0   0.0308\n1       (45, 37, 7) -> 11         1.0   0.0308\n2       (45, 11, 7) -> 37         1.0   0.0308\n3      (48, 12, 36) -> 31         1.0   0.0228\n4  (40, 41, 43, 24) -> 23         1.0   0.0212\n5  (40, 41, 43, 23) -> 24         1.0   0.0212\n6  (41, 43, 23, 24) -> 40         1.0   0.0212\n7  (40, 43, 23, 24) -> 41         1.0   0.0212",
      "text/html": "<div>\n<style scoped>\n    .dataframe tbody tr th:only-of-type {\n        vertical-align: middle;\n    }\n\n    .dataframe tbody tr th {\n        vertical-align: top;\n    }\n\n    .dataframe thead th {\n        text-align: right;\n    }\n</style>\n<table border=\"1\" class=\"dataframe\">\n  <thead>\n    <tr style=\"text-align: right;\">\n      <th></th>\n      <th>assrules</th>\n      <th>confidence</th>\n      <th>support</th>\n    </tr>\n  </thead>\n  <tbody>\n    <tr>\n      <th>0</th>\n      <td>(45, 11, 37) -&gt; 7</td>\n      <td>1.0</td>\n      <td>0.0308</td>\n    </tr>\n    <tr>\n      <th>1</th>\n      <td>(45, 37, 7) -&gt; 11</td>\n      <td>1.0</td>\n      <td>0.0308</td>\n    </tr>\n    <tr>\n      <th>2</th>\n      <td>(45, 11, 7) -&gt; 37</td>\n      <td>1.0</td>\n      <td>0.0308</td>\n    </tr>\n    <tr>\n      <th>3</th>\n      <td>(48, 12, 36) -&gt; 31</td>\n      <td>1.0</td>\n      <td>0.0228</td>\n    </tr>\n    <tr>\n      <th>4</th>\n      <td>(40, 41, 43, 24) -&gt; 23</td>\n      <td>1.0</td>\n      <td>0.0212</td>\n    </tr>\n    <tr>\n      <th>5</th>\n      <td>(40, 41, 43, 23) -&gt; 24</td>\n      <td>1.0</td>\n      <td>0.0212</td>\n    </tr>\n    <tr>\n      <th>6</th>\n      <td>(41, 43, 23, 24) -&gt; 40</td>\n      <td>1.0</td>\n      <td>0.0212</td>\n    </tr>\n    <tr>\n      <th>7</th>\n      <td>(40, 43, 23, 24) -&gt; 41</td>\n      <td>1.0</td>\n      <td>0.0212</td>\n    </tr>\n  </tbody>\n</table>\n</div>"
     },
     "execution_count": 13,
     "metadata": {},
     "output_type": "execute_result"
    }
   ],
   "source": [
    "assrules = pd.DataFrame()\n",
    "assrules['assrules'] = pd.Series(gen_rules(F, T, 1))\n",
    "assrules['confidence'] = assrules['assrules'].apply(lambda x: x.confidence())\n",
    "assrules['support'] = assrules['assrules'].apply(lambda x: x.support())\n",
    "assrules"
   ],
   "metadata": {
    "collapsed": false,
    "ExecuteTime": {
     "end_time": "2023-10-03T07:31:20.100702900Z",
     "start_time": "2023-10-03T07:31:19.521182500Z"
    }
   }
  },
  {
   "cell_type": "code",
   "execution_count": null,
   "outputs": [],
   "source": [],
   "metadata": {
    "collapsed": false
   }
  }
 ],
 "metadata": {
  "kernelspec": {
   "display_name": "Python 3",
   "language": "python",
   "name": "python3"
  },
  "language_info": {
   "codemirror_mode": {
    "name": "ipython",
    "version": 2
   },
   "file_extension": ".py",
   "mimetype": "text/x-python",
   "name": "python",
   "nbconvert_exporter": "python",
   "pygments_lexer": "ipython2",
   "version": "2.7.6"
  }
 },
 "nbformat": 4,
 "nbformat_minor": 0
}

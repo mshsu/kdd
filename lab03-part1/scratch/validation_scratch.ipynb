{
 "cells": [
  {
   "cell_type": "code",
   "execution_count": 25,
   "metadata": {
    "collapsed": true,
    "ExecuteTime": {
     "end_time": "2023-10-17T01:41:51.364542100Z",
     "start_time": "2023-10-17T01:41:51.318489200Z"
    }
   },
   "outputs": [],
   "source": [
    "import induceC45\n",
    "import classify\n",
    "import pandas as pd\n",
    "import numpy as np"
   ]
  },
  {
   "cell_type": "code",
   "execution_count": 43,
   "outputs": [
    {
     "data": {
      "text/plain": "          parents   has_nurs      form children     housing     finance  \\\n1           usual     proper  complete        1  convenient  convenient   \n2           usual     proper  complete        1  convenient  convenient   \n3           usual     proper  complete        1  convenient  convenient   \n4           usual     proper  complete        1  convenient  convenient   \n5           usual     proper  complete        1  convenient  convenient   \n...           ...        ...       ...      ...         ...         ...   \n12956  great_pret  very_crit    foster     more    critical      inconv   \n12957  great_pret  very_crit    foster     more    critical      inconv   \n12958  great_pret  very_crit    foster     more    critical      inconv   \n12959  great_pret  very_crit    foster     more    critical      inconv   \n12960  great_pret  very_crit    foster     more    critical      inconv   \n\n              social       health       class  \n1            nonprob  recommended   recommend  \n2            nonprob     priority    priority  \n3            nonprob    not_recom   not_recom  \n4      slightly_prob  recommended   recommend  \n5      slightly_prob     priority    priority  \n...              ...          ...         ...  \n12956  slightly_prob     priority  spec_prior  \n12957  slightly_prob    not_recom   not_recom  \n12958    problematic  recommended  spec_prior  \n12959    problematic     priority  spec_prior  \n12960    problematic    not_recom   not_recom  \n\n[12960 rows x 9 columns]",
      "text/html": "<div>\n<style scoped>\n    .dataframe tbody tr th:only-of-type {\n        vertical-align: middle;\n    }\n\n    .dataframe tbody tr th {\n        vertical-align: top;\n    }\n\n    .dataframe thead th {\n        text-align: right;\n    }\n</style>\n<table border=\"1\" class=\"dataframe\">\n  <thead>\n    <tr style=\"text-align: right;\">\n      <th></th>\n      <th>parents</th>\n      <th>has_nurs</th>\n      <th>form</th>\n      <th>children</th>\n      <th>housing</th>\n      <th>finance</th>\n      <th>social</th>\n      <th>health</th>\n      <th>class</th>\n    </tr>\n  </thead>\n  <tbody>\n    <tr>\n      <th>1</th>\n      <td>usual</td>\n      <td>proper</td>\n      <td>complete</td>\n      <td>1</td>\n      <td>convenient</td>\n      <td>convenient</td>\n      <td>nonprob</td>\n      <td>recommended</td>\n      <td>recommend</td>\n    </tr>\n    <tr>\n      <th>2</th>\n      <td>usual</td>\n      <td>proper</td>\n      <td>complete</td>\n      <td>1</td>\n      <td>convenient</td>\n      <td>convenient</td>\n      <td>nonprob</td>\n      <td>priority</td>\n      <td>priority</td>\n    </tr>\n    <tr>\n      <th>3</th>\n      <td>usual</td>\n      <td>proper</td>\n      <td>complete</td>\n      <td>1</td>\n      <td>convenient</td>\n      <td>convenient</td>\n      <td>nonprob</td>\n      <td>not_recom</td>\n      <td>not_recom</td>\n    </tr>\n    <tr>\n      <th>4</th>\n      <td>usual</td>\n      <td>proper</td>\n      <td>complete</td>\n      <td>1</td>\n      <td>convenient</td>\n      <td>convenient</td>\n      <td>slightly_prob</td>\n      <td>recommended</td>\n      <td>recommend</td>\n    </tr>\n    <tr>\n      <th>5</th>\n      <td>usual</td>\n      <td>proper</td>\n      <td>complete</td>\n      <td>1</td>\n      <td>convenient</td>\n      <td>convenient</td>\n      <td>slightly_prob</td>\n      <td>priority</td>\n      <td>priority</td>\n    </tr>\n    <tr>\n      <th>...</th>\n      <td>...</td>\n      <td>...</td>\n      <td>...</td>\n      <td>...</td>\n      <td>...</td>\n      <td>...</td>\n      <td>...</td>\n      <td>...</td>\n      <td>...</td>\n    </tr>\n    <tr>\n      <th>12956</th>\n      <td>great_pret</td>\n      <td>very_crit</td>\n      <td>foster</td>\n      <td>more</td>\n      <td>critical</td>\n      <td>inconv</td>\n      <td>slightly_prob</td>\n      <td>priority</td>\n      <td>spec_prior</td>\n    </tr>\n    <tr>\n      <th>12957</th>\n      <td>great_pret</td>\n      <td>very_crit</td>\n      <td>foster</td>\n      <td>more</td>\n      <td>critical</td>\n      <td>inconv</td>\n      <td>slightly_prob</td>\n      <td>not_recom</td>\n      <td>not_recom</td>\n    </tr>\n    <tr>\n      <th>12958</th>\n      <td>great_pret</td>\n      <td>very_crit</td>\n      <td>foster</td>\n      <td>more</td>\n      <td>critical</td>\n      <td>inconv</td>\n      <td>problematic</td>\n      <td>recommended</td>\n      <td>spec_prior</td>\n    </tr>\n    <tr>\n      <th>12959</th>\n      <td>great_pret</td>\n      <td>very_crit</td>\n      <td>foster</td>\n      <td>more</td>\n      <td>critical</td>\n      <td>inconv</td>\n      <td>problematic</td>\n      <td>priority</td>\n      <td>spec_prior</td>\n    </tr>\n    <tr>\n      <th>12960</th>\n      <td>great_pret</td>\n      <td>very_crit</td>\n      <td>foster</td>\n      <td>more</td>\n      <td>critical</td>\n      <td>inconv</td>\n      <td>problematic</td>\n      <td>not_recom</td>\n      <td>not_recom</td>\n    </tr>\n  </tbody>\n</table>\n<p>12960 rows × 9 columns</p>\n</div>"
     },
     "execution_count": 43,
     "metadata": {},
     "output_type": "execute_result"
    }
   ],
   "source": [
    "raw = pd.read_csv(\"nursery.csv\", skiprows=[1], header=0)\n",
    "classvar = raw.iloc[0, 0]\n",
    "nursery = raw.drop(0, axis=0)\n",
    "nursery"
   ],
   "metadata": {
    "collapsed": false,
    "ExecuteTime": {
     "end_time": "2023-10-17T02:37:54.288876900Z",
     "start_time": "2023-10-17T02:37:54.224735100Z"
    }
   }
  },
  {
   "cell_type": "code",
   "execution_count": 13,
   "outputs": [
    {
     "name": "stderr",
     "output_type": "stream",
     "text": [
      "C:\\Users\\hsu_m\\anaconda3\\envs\\csc466\\lib\\site-packages\\numpy\\core\\fromnumeric.py:59: FutureWarning: 'DataFrame.swapaxes' is deprecated and will be removed in a future version. Please use 'DataFrame.transpose' instead.\n",
      "  return bound(*args, **kwds)\n"
     ]
    },
    {
     "data": {
      "text/plain": "list"
     },
     "execution_count": 13,
     "metadata": {},
     "output_type": "execute_result"
    }
   ],
   "source": [
    "nursery_split = np.array_split(nursery.sample(frac=1), 5)\n",
    "type(nursery_split)"
   ],
   "metadata": {
    "collapsed": false,
    "ExecuteTime": {
     "end_time": "2023-10-17T01:08:00.374834800Z",
     "start_time": "2023-10-17T01:08:00.301075500Z"
    }
   }
  },
  {
   "cell_type": "code",
   "execution_count": 18,
   "outputs": [],
   "source": [
    "def split_folds(df: pd.DataFrame, k: int) -> list:\n",
    "    return np.array_split(df.sample(frac=1), k)"
   ],
   "metadata": {
    "collapsed": false,
    "ExecuteTime": {
     "end_time": "2023-10-17T01:12:44.778043500Z",
     "start_time": "2023-10-17T01:12:44.773804Z"
    }
   }
  },
  {
   "cell_type": "code",
   "execution_count": 37,
   "outputs": [
    {
     "name": "stderr",
     "output_type": "stream",
     "text": [
      "C:\\Users\\hsu_m\\anaconda3\\envs\\csc466\\lib\\site-packages\\numpy\\core\\fromnumeric.py:59: FutureWarning: 'DataFrame.swapaxes' is deprecated and will be removed in a future version. Please use 'DataFrame.transpose' instead.\n",
      "  return bound(*args, **kwds)\n"
     ]
    },
    {
     "data": {
      "text/plain": "[           parents     has_nurs        form children     housing     finance  \\\n 882          usual  less_proper    complete        1  convenient      inconv   \n 2133         usual     improper   completed     more   less_conv  convenient   \n 12404   great_pret    very_crit   completed        2    critical  convenient   \n 3184         usual     critical  incomplete        3    critical      inconv   \n 11772   great_pret     critical  incomplete        2    critical      inconv   \n ...            ...          ...         ...      ...         ...         ...   \n 8257   pretentious    very_crit  incomplete        1    critical      inconv   \n 3852         usual    very_crit   completed     more  convenient      inconv   \n 8542   pretentious    very_crit      foster        3  convenient      inconv   \n 3609         usual    very_crit    complete        3    critical  convenient   \n 11185   great_pret     improper      foster     more  convenient  convenient   \n \n               social       health       class  \n 882      problematic    not_recom   not_recom  \n 2133     problematic    not_recom   not_recom  \n 12404        nonprob     priority  spec_prior  \n 3184     problematic  recommended  spec_prior  \n 11772    problematic    not_recom   not_recom  \n ...              ...          ...         ...  \n 8257   slightly_prob  recommended  spec_prior  \n 3852     problematic    not_recom   not_recom  \n 8542         nonprob  recommended  spec_prior  \n 3609     problematic    not_recom   not_recom  \n 11185    problematic  recommended  spec_prior  \n \n [2592 rows x 9 columns],\n            parents     has_nurs        form children     housing     finance  \\\n 3611         usual    very_crit    complete        3    critical      inconv   \n 365          usual       proper   completed        3    critical  convenient   \n 4559   pretentious       proper   completed        1   less_conv  convenient   \n 10672   great_pret     improper   completed        2   less_conv      inconv   \n 6387   pretentious     improper   completed        3  convenient      inconv   \n ...            ...          ...         ...      ...         ...         ...   \n 4531   pretentious       proper    complete     more    critical      inconv   \n 5771   pretentious  less_proper  incomplete        3    critical      inconv   \n 12919   great_pret    very_crit      foster     more  convenient      inconv   \n 841          usual       proper      foster     more   less_conv      inconv   \n 11812   great_pret     critical  incomplete        3    critical  convenient   \n \n               social       health       class  \n 3611         nonprob     priority  spec_prior  \n 365    slightly_prob     priority    priority  \n 4559   slightly_prob     priority    priority  \n 10672    problematic  recommended  spec_prior  \n 6387   slightly_prob    not_recom   not_recom  \n ...              ...          ...         ...  \n 4531   slightly_prob  recommended    priority  \n 5771         nonprob     priority    priority  \n 12919  slightly_prob  recommended  spec_prior  \n 841    slightly_prob  recommended    priority  \n 11812  slightly_prob  recommended  spec_prior  \n \n [2592 rows x 9 columns],\n            parents     has_nurs        form children     housing     finance  \\\n 12632   great_pret    very_crit  incomplete        2    critical      inconv   \n 1142         usual  less_proper   completed        2  convenient  convenient   \n 517          usual       proper  incomplete        2   less_conv      inconv   \n 5652   pretentious  less_proper  incomplete        1   less_conv      inconv   \n 2850         usual     critical   completed        1    critical  convenient   \n ...            ...          ...         ...      ...         ...         ...   \n 10849   great_pret     improper  incomplete        1    critical      inconv   \n 9786    great_pret  less_proper   completed        2  convenient      inconv   \n 11078   great_pret     improper      foster        2  convenient  convenient   \n 1316         usual  less_proper  incomplete        1   less_conv  convenient   \n 7935   pretentious    very_crit    complete        3    critical      inconv   \n \n               social       health       class  \n 12632  slightly_prob     priority  spec_prior  \n 1142     problematic     priority    priority  \n 517    slightly_prob  recommended    priority  \n 5652     problematic    not_recom   not_recom  \n 2850   slightly_prob    not_recom   not_recom  \n ...              ...          ...         ...  \n 10849  slightly_prob  recommended  spec_prior  \n 9786         nonprob    not_recom   not_recom  \n 11078    problematic     priority  spec_prior  \n 1316         nonprob     priority    priority  \n 7935   slightly_prob    not_recom   not_recom  \n \n [2592 rows x 9 columns],\n            parents     has_nurs        form children     housing     finance  \\\n 1057         usual  less_proper    complete     more   less_conv      inconv   \n 473          usual       proper  incomplete        1    critical  convenient   \n 7907   pretentious    very_crit    complete        3   less_conv  convenient   \n 3819         usual    very_crit   completed        3    critical  convenient   \n 12915   great_pret    very_crit      foster     more  convenient  convenient   \n ...            ...          ...         ...      ...         ...         ...   \n 11834   great_pret     critical  incomplete     more  convenient  convenient   \n 8142   pretentious    very_crit   completed        3    critical  convenient   \n 12761   great_pret    very_crit      foster        1  convenient      inconv   \n 6292   pretentious     improper   completed        1   less_conv      inconv   \n 3002         usual     critical   completed     more   less_conv      inconv   \n \n               social       health       class  \n 1057   slightly_prob  recommended    priority  \n 473    slightly_prob     priority    priority  \n 7907   slightly_prob     priority  spec_prior  \n 3819         nonprob    not_recom   not_recom  \n 12915    problematic    not_recom   not_recom  \n ...              ...          ...         ...  \n 11834    problematic     priority  spec_prior  \n 8142   slightly_prob    not_recom   not_recom  \n 12761    problematic     priority  spec_prior  \n 6292         nonprob  recommended    priority  \n 3002   slightly_prob     priority  spec_prior  \n \n [2592 rows x 9 columns],\n            parents   has_nurs        form children     housing     finance  \\\n 8116   pretentious  very_crit   completed        3  convenient      inconv   \n 2775         usual   critical    complete     more   less_conv  convenient   \n 11711   great_pret   critical  incomplete        1    critical      inconv   \n 4487   pretentious     proper    complete     more  convenient  convenient   \n 2169         usual   improper  incomplete        1  convenient  convenient   \n ...            ...        ...         ...      ...         ...         ...   \n 11867   great_pret   critical  incomplete     more    critical  convenient   \n 11283   great_pret   critical    complete        1    critical      inconv   \n 7149   pretentious   critical   completed        1   less_conv  convenient   \n 6080   pretentious   improper    complete        1   less_conv      inconv   \n 12739   great_pret  very_crit  incomplete     more    critical      inconv   \n \n               social       health       class  \n 8116     problematic  recommended  spec_prior  \n 2775         nonprob    not_recom   not_recom  \n 11711        nonprob     priority  spec_prior  \n 4487   slightly_prob     priority    priority  \n 2169     problematic    not_recom   not_recom  \n ...              ...          ...         ...  \n 11867  slightly_prob     priority  spec_prior  \n 11283  slightly_prob    not_recom   not_recom  \n 7149         nonprob    not_recom   not_recom  \n 6080   slightly_prob     priority    priority  \n 12739  slightly_prob  recommended  spec_prior  \n \n [2592 rows x 9 columns]]"
     },
     "execution_count": 37,
     "metadata": {},
     "output_type": "execute_result"
    }
   ],
   "source": [
    "nursery_split = split_folds(nursery, 5)\n",
    "nursery_split"
   ],
   "metadata": {
    "collapsed": false,
    "ExecuteTime": {
     "end_time": "2023-10-17T01:57:54.349504300Z",
     "start_time": "2023-10-17T01:57:54.307693900Z"
    }
   }
  },
  {
   "cell_type": "code",
   "execution_count": 38,
   "outputs": [
    {
     "data": {
      "text/plain": "{'df':            parents   has_nurs        form children     housing     finance  \\\n 3611         usual  very_crit    complete        3    critical      inconv   \n 365          usual     proper   completed        3    critical  convenient   \n 4559   pretentious     proper   completed        1   less_conv  convenient   \n 10672   great_pret   improper   completed        2   less_conv      inconv   \n 6387   pretentious   improper   completed        3  convenient      inconv   \n ...            ...        ...         ...      ...         ...         ...   \n 11834   great_pret   critical  incomplete     more  convenient  convenient   \n 8142   pretentious  very_crit   completed        3    critical  convenient   \n 12761   great_pret  very_crit      foster        1  convenient      inconv   \n 6292   pretentious   improper   completed        1   less_conv      inconv   \n 3002         usual   critical   completed     more   less_conv      inconv   \n \n               social       health       class        pred  \n 3611         nonprob     priority  spec_prior  spec_prior  \n 365    slightly_prob     priority    priority  spec_prior  \n 4559   slightly_prob     priority    priority  spec_prior  \n 10672    problematic  recommended  spec_prior    priority  \n 6387   slightly_prob    not_recom   not_recom   not_recom  \n ...              ...          ...         ...         ...  \n 11834    problematic     priority  spec_prior  spec_prior  \n 8142   slightly_prob    not_recom   not_recom   not_recom  \n 12761    problematic     priority  spec_prior  spec_prior  \n 6292         nonprob  recommended    priority    priority  \n 3002   slightly_prob     priority  spec_prior  spec_prior  \n \n [51840 rows x 10 columns],\n 'pred_col': 'pred',\n 'obs_col': 'class',\n 'conf_matrix': obs         not_recom  priority  recommend  spec_prior  very_recom\n pred                                                              \n not_recom       17280         0          0           0           0\n priority            0      9648          8        6312        1312\n recommend           0         0          0           0           0\n spec_prior          0      7416          0        9864           0\n very_recom          0         0          0           0           0,\n 'n': 51840,\n 'n_correct': 36792,\n 'n_incorrect': 15048,\n 'accuracy': 0.7097222222222223,\n 'error_rate': 0.29027777777777775,\n 'precision': 0.8258333333333333,\n 'recall': 0.4350386257496651,\n 'pf': 0.08707892235373778,\n 'f': 0.5698745155580847,\n 'avg_accuracy': 0.7097222222222223}"
     },
     "execution_count": 38,
     "metadata": {},
     "output_type": "execute_result"
    }
   ],
   "source": [
    "threshold = 0.7\n",
    "gratio = False\n",
    "\n",
    "preds = []\n",
    "results = []\n",
    "for i in range(len(nursery_split)):\n",
    "    # Take fold i as training data, fit tree.\n",
    "    fold = nursery_split[i]\n",
    "    C_train = fold[classvar]\n",
    "    D_train = fold.drop(classvar, axis=1)\n",
    "    A_train = list(D_train.columns)\n",
    "\n",
    "    T = induceC45.C45(D_train, A_train, C_train, threshold, gratio=gratio)\n",
    "\n",
    "    # Take rest of folds, combine, and test.\n",
    "    test = nursery_split[:]\n",
    "    del test[i]\n",
    "    test = pd.concat(test)\n",
    "\n",
    "    pred = classify.predict(test, T)\n",
    "    preds.append(pred)\n",
    "    results.append(classify.report(pred, classvar, 'pred'))\n",
    "\n",
    "preds = pd.concat(preds)\n",
    "results = pd.DataFrame(results)\n",
    "overall_cv_report = classify.report(preds, classvar, 'pred')\n",
    "overall_cv_report['avg_accuracy'] = results['accuracy'].mean()\n",
    "overall_cv_report"
   ],
   "metadata": {
    "collapsed": false,
    "ExecuteTime": {
     "end_time": "2023-10-17T01:57:58.409580Z",
     "start_time": "2023-10-17T01:57:56.556526200Z"
    }
   }
  },
  {
   "cell_type": "code",
   "execution_count": 39,
   "outputs": [],
   "source": [
    "def cv_report(splits, classvar, threshold, gratio=False):\n",
    "    preds = []\n",
    "    results = []\n",
    "\n",
    "    for i in range(len(splits)):\n",
    "        # Take fold i as training data, fit tree.\n",
    "        fold = splits[i]\n",
    "        C_train = fold[classvar]\n",
    "        D_train = fold.drop(classvar, axis=1)\n",
    "        A_train = list(D_train.columns)\n",
    "\n",
    "        T = induceC45.C45(D_train, A_train, C_train, threshold, gratio=gratio)\n",
    "\n",
    "        # Take rest of folds, combine, and test.\n",
    "        test = splits[:]\n",
    "        del test[i]\n",
    "        test = pd.concat(test)\n",
    "\n",
    "        pred = classify.predict(test, T)\n",
    "        preds.append(pred)\n",
    "        results.append(classify.report(pred, classvar, 'pred'))\n",
    "\n",
    "    preds = pd.concat(preds)\n",
    "    results = pd.DataFrame(results)\n",
    "    cv_report = classify.report(preds, classvar, 'pred')\n",
    "    cv_report['avg_accuracy'] = results['accuracy'].mean()\n",
    "    return cv_report"
   ],
   "metadata": {
    "collapsed": false,
    "ExecuteTime": {
     "end_time": "2023-10-17T02:08:10.745989600Z",
     "start_time": "2023-10-17T02:08:10.718924400Z"
    }
   }
  },
  {
   "cell_type": "code",
   "execution_count": 40,
   "outputs": [
    {
     "data": {
      "text/plain": "{'df':            parents   has_nurs        form children     housing     finance  \\\n 3611         usual  very_crit    complete        3    critical      inconv   \n 365          usual     proper   completed        3    critical  convenient   \n 4559   pretentious     proper   completed        1   less_conv  convenient   \n 10672   great_pret   improper   completed        2   less_conv      inconv   \n 6387   pretentious   improper   completed        3  convenient      inconv   \n ...            ...        ...         ...      ...         ...         ...   \n 11834   great_pret   critical  incomplete     more  convenient  convenient   \n 8142   pretentious  very_crit   completed        3    critical  convenient   \n 12761   great_pret  very_crit      foster        1  convenient      inconv   \n 6292   pretentious   improper   completed        1   less_conv      inconv   \n 3002         usual   critical   completed     more   less_conv      inconv   \n \n               social       health       class        pred  \n 3611         nonprob     priority  spec_prior  spec_prior  \n 365    slightly_prob     priority    priority  spec_prior  \n 4559   slightly_prob     priority    priority  spec_prior  \n 10672    problematic  recommended  spec_prior    priority  \n 6387   slightly_prob    not_recom   not_recom   not_recom  \n ...              ...          ...         ...         ...  \n 11834    problematic     priority  spec_prior  spec_prior  \n 8142   slightly_prob    not_recom   not_recom   not_recom  \n 12761    problematic     priority  spec_prior  spec_prior  \n 6292         nonprob  recommended    priority    priority  \n 3002   slightly_prob     priority  spec_prior  spec_prior  \n \n [51840 rows x 10 columns],\n 'pred_col': 'pred',\n 'obs_col': 'class',\n 'conf_matrix': obs         not_recom  priority  recommend  spec_prior  very_recom\n pred                                                              \n not_recom       17280         0          0           0           0\n priority            0      9648          8        6312        1312\n recommend           0         0          0           0           0\n spec_prior          0      7416          0        9864           0\n very_recom          0         0          0           0           0,\n 'n': 51840,\n 'n_correct': 36792,\n 'n_incorrect': 15048,\n 'accuracy': 0.7097222222222223,\n 'error_rate': 0.29027777777777775,\n 'precision': 0.8258333333333333,\n 'recall': 0.4350386257496651,\n 'pf': 0.08707892235373778,\n 'f': 0.5698745155580847,\n 'avg_accuracy': 0.7097222222222223}"
     },
     "execution_count": 40,
     "metadata": {},
     "output_type": "execute_result"
    }
   ],
   "source": [
    "cv_report(nursery_split, classvar, 0.7)"
   ],
   "metadata": {
    "collapsed": false,
    "ExecuteTime": {
     "end_time": "2023-10-17T02:08:37.769010200Z",
     "start_time": "2023-10-17T02:08:35.619797800Z"
    }
   }
  },
  {
   "cell_type": "code",
   "execution_count": null,
   "outputs": [],
   "source": [
    "for row in nursery.iterrows():\n",
    "    # Take fold i as training data, fit tree.\n",
    "    fold = nursery_split[i]\n",
    "    C_train = fold[classvar]\n",
    "    D_train = fold.drop(classvar, axis=1)\n",
    "    A_train = list(D_train.columns)\n",
    "\n",
    "    T = induceC45.C45(D_train, A_train, C_train, threshold, gratio=gratio)"
   ],
   "metadata": {
    "collapsed": false
   }
  },
  {
   "cell_type": "code",
   "execution_count": 97,
   "outputs": [],
   "source": [
    "def fit_loo(i: int, df: pd.DataFrame, classvar: str, threshold: float, gratio: bool = False):\n",
    "    loo = df.drop(i, axis=0)\n",
    "    C = loo[classvar]\n",
    "    D = loo.drop(classvar, axis=1)\n",
    "    A = list(D.columns)\n",
    "\n",
    "    T = induceC45.C45(D, A, C, threshold, gratio=gratio)\n",
    "\n",
    "    row = df.loc[i].to_frame().T\n",
    "    pred = classify.predict(row, T)['pred'].loc[i]\n",
    "    return pred"
   ],
   "metadata": {
    "collapsed": false,
    "ExecuteTime": {
     "end_time": "2023-10-17T02:58:40.194377900Z",
     "start_time": "2023-10-17T02:58:40.164280900Z"
    }
   }
  },
  {
   "cell_type": "code",
   "execution_count": 98,
   "outputs": [
    {
     "data": {
      "text/plain": "'spec_prior'"
     },
     "execution_count": 98,
     "metadata": {},
     "output_type": "execute_result"
    }
   ],
   "source": [
    "fit_loo(5, nursery, classvar, 0.7, False)"
   ],
   "metadata": {
    "collapsed": false,
    "ExecuteTime": {
     "end_time": "2023-10-17T02:58:41.857080100Z",
     "start_time": "2023-10-17T02:58:41.548391900Z"
    }
   }
  },
  {
   "cell_type": "code",
   "execution_count": 99,
   "outputs": [
    {
     "data": {
      "text/plain": "3959      not_recom\n91       spec_prior\n10673     not_recom\n9640     spec_prior\n9371      not_recom\n4943      not_recom\n5040       priority\n3575      not_recom\n5876      not_recom\n9819       priority\ndtype: object"
     },
     "execution_count": 99,
     "metadata": {},
     "output_type": "execute_result"
    }
   ],
   "source": [
    "pd.Series(nursery.index).sample(n=10).apply(lambda i: fit_loo(i, nursery, classvar, 0.7, False))"
   ],
   "metadata": {
    "collapsed": false,
    "ExecuteTime": {
     "end_time": "2023-10-17T02:58:47.635019300Z",
     "start_time": "2023-10-17T02:58:44.619655800Z"
    }
   }
  },
  {
   "cell_type": "code",
   "execution_count": null,
   "outputs": [],
   "source": [
    "def loo_predict(df: pd.DataFrame, classvar: str, threshold: float, gratio: bool = False):\n",
    "    pred = pd.Series(df.index).apply(lambda i: fit_loo(i, df, classvar, threshold, gratio))\n",
    "    df['pred'] = pred\n",
    "    return df"
   ],
   "metadata": {
    "collapsed": false
   }
  },
  {
   "cell_type": "code",
   "execution_count": null,
   "outputs": [],
   "source": [],
   "metadata": {
    "collapsed": false
   }
  }
 ],
 "metadata": {
  "kernelspec": {
   "display_name": "Python 3",
   "language": "python",
   "name": "python3"
  },
  "language_info": {
   "codemirror_mode": {
    "name": "ipython",
    "version": 2
   },
   "file_extension": ".py",
   "mimetype": "text/x-python",
   "name": "python",
   "nbconvert_exporter": "python",
   "pygments_lexer": "ipython2",
   "version": "2.7.6"
  }
 },
 "nbformat": 4,
 "nbformat_minor": 0
}

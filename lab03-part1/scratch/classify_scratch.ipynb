{
 "cells": [
  {
   "cell_type": "code",
   "execution_count": 1,
   "metadata": {
    "collapsed": true,
    "ExecuteTime": {
     "end_time": "2023-10-24T03:14:13.290423100Z",
     "start_time": "2023-10-24T03:14:12.436126300Z"
    }
   },
   "outputs": [],
   "source": [
    "import pandas as pd\n",
    "import sys\n",
    "import json"
   ]
  },
  {
   "cell_type": "code",
   "execution_count": 25,
   "outputs": [],
   "source": [
    "def read_files(f1, f2):\n",
    "\n",
    "    df = pd.read_csv(f1, skiprows=[1, 2], header=0)\n",
    "\n",
    "    with open(f2) as f:\n",
    "        tree = json.load(f)\n",
    "\n",
    "    return df, tree"
   ],
   "metadata": {
    "collapsed": false,
    "ExecuteTime": {
     "end_time": "2023-10-12T23:40:08.632457600Z",
     "start_time": "2023-10-12T23:40:08.624659400Z"
    }
   }
  },
  {
   "cell_type": "code",
   "execution_count": 84,
   "outputs": [
    {
     "data": {
      "text/plain": "(          parents   has_nurs      form children     housing     finance  \\\n 0           usual     proper  complete        1  convenient  convenient   \n 1           usual     proper  complete        1  convenient  convenient   \n 2           usual     proper  complete        1  convenient  convenient   \n 3           usual     proper  complete        1  convenient  convenient   \n 4           usual     proper  complete        1  convenient  convenient   \n ...           ...        ...       ...      ...         ...         ...   \n 12955  great_pret  very_crit    foster     more    critical      inconv   \n 12956  great_pret  very_crit    foster     more    critical      inconv   \n 12957  great_pret  very_crit    foster     more    critical      inconv   \n 12958  great_pret  very_crit    foster     more    critical      inconv   \n 12959  great_pret  very_crit    foster     more    critical      inconv   \n \n               social       health       class  \n 0            nonprob  recommended   recommend  \n 1            nonprob     priority    priority  \n 2            nonprob    not_recom   not_recom  \n 3      slightly_prob  recommended   recommend  \n 4      slightly_prob     priority    priority  \n ...              ...          ...         ...  \n 12955  slightly_prob     priority  spec_prior  \n 12956  slightly_prob    not_recom   not_recom  \n 12957    problematic  recommended  spec_prior  \n 12958    problematic     priority  spec_prior  \n 12959    problematic    not_recom   not_recom  \n \n [12960 rows x 9 columns],\n {'dataset': 'nursery.csv',\n  'node': {'var': 'health',\n   'edges': [{'edge': {'value': 'recommended',\n      'leaf': {'decision': 'priority', 'p': 0.5583333333333333}}},\n    {'edge': {'value': 'priority',\n      'node': {'var': 'has_nurs',\n       'edges': [{'edge': {'value': 'proper',\n          'node': {'var': 'parents',\n           'edges': [{'edge': {'value': 'usual',\n              'leaf': {'decision': 'priority', 'p': 1}}},\n            {'edge': {'value': 'pretentious',\n              'leaf': {'decision': 'priority', 'p': 1}}},\n            {'edge': {'value': 'great_pret',\n              'leaf': {'decision': 'spec_prior', 'p': 0.65625}}}]}}},\n        {'edge': {'value': 'less_proper',\n          'node': {'var': 'parents',\n           'edges': [{'edge': {'value': 'usual',\n              'leaf': {'decision': 'priority', 'p': 1}}},\n            {'edge': {'value': 'pretentious',\n              'leaf': {'decision': 'priority', 'p': 1}}},\n            {'edge': {'value': 'great_pret',\n              'leaf': {'decision': 'spec_prior', 'p': 0.65625}}}]}}},\n        {'edge': {'value': 'improper',\n          'node': {'var': 'parents',\n           'edges': [{'edge': {'value': 'usual',\n              'leaf': {'decision': 'priority', 'p': 1}}},\n            {'edge': {'value': 'pretentious',\n              'leaf': {'decision': 'spec_prior', 'p': 0.65625}}},\n            {'edge': {'value': 'great_pret',\n              'leaf': {'decision': 'spec_prior',\n               'p': 0.9895833333333334}}}]}}},\n        {'edge': {'value': 'critical',\n          'leaf': {'decision': 'spec_prior', 'p': 0.8784722222222222}}},\n        {'edge': {'value': 'very_crit',\n          'leaf': {'decision': 'spec_prior', 'p': 0.9895833333333334}}}]}}},\n    {'edge': {'value': 'not_recom',\n      'leaf': {'decision': 'not_recom', 'p': 1}}}]}})"
     },
     "execution_count": 84,
     "metadata": {},
     "output_type": "execute_result"
    }
   ],
   "source": [
    "df, tree = read_files(\"nursery.csv\", \"nursery_tree.json\")\n",
    "df, tree"
   ],
   "metadata": {
    "collapsed": false,
    "ExecuteTime": {
     "end_time": "2023-10-13T00:21:37.610410800Z",
     "start_time": "2023-10-13T00:21:37.563727500Z"
    }
   }
  },
  {
   "cell_type": "code",
   "execution_count": 27,
   "outputs": [
    {
     "data": {
      "text/plain": "{'dataset': 'nursery.csv',\n 'node': {'var': 'finance',\n  'edges': [{'edge': {'value': 'convenient',\n     'node': {'var': 'parents',\n      'edges': [{'edge': {'value': 'usual',\n         'leaf': {'decision': 'not_recom', 'p': 0.74}}},\n       {'edge': {'value': 'pretentious',\n         'leaf': {'decision': 'priority', 'p': 0.78}}},\n       {'edge': {'value': 'great_pret',\n         'leaf': {'decision': 'spec_prior', 'p': 0.9}}}]}}},\n   {'edge': {'value': 'inconv',\n     'leaf': {'decision': 'very_recom', 'p': 0.8}}}]}}"
     },
     "execution_count": 27,
     "metadata": {},
     "output_type": "execute_result"
    }
   ],
   "source": [
    "tree"
   ],
   "metadata": {
    "collapsed": false,
    "ExecuteTime": {
     "end_time": "2023-10-12T23:40:14.764674800Z",
     "start_time": "2023-10-12T23:40:14.753669500Z"
    }
   }
  },
  {
   "cell_type": "code",
   "execution_count": null,
   "outputs": [],
   "source": [
    "def report(df, tree: dict):\n"
   ],
   "metadata": {
    "collapsed": false
   }
  },
  {
   "cell_type": "code",
   "execution_count": 30,
   "outputs": [
    {
     "data": {
      "text/plain": "parents           usual\nhas_nurs         proper\nform           complete\nchildren              1\nhousing      convenient\nfinance      convenient\nsocial          nonprob\nhealth      recommended\nclass         recommend\nName: 0, dtype: object"
     },
     "execution_count": 30,
     "metadata": {},
     "output_type": "execute_result"
    }
   ],
   "source": [
    "row1 = df.iloc[0]\n",
    "row1"
   ],
   "metadata": {
    "collapsed": false,
    "ExecuteTime": {
     "end_time": "2023-10-12T23:50:10.357699500Z",
     "start_time": "2023-10-12T23:50:10.349189300Z"
    }
   }
  },
  {
   "cell_type": "code",
   "execution_count": 32,
   "outputs": [
    {
     "data": {
      "text/plain": "{'var': 'finance',\n 'edges': [{'edge': {'value': 'convenient',\n    'node': {'var': 'parents',\n     'edges': [{'edge': {'value': 'usual',\n        'leaf': {'decision': 'not_recom', 'p': 0.74}}},\n      {'edge': {'value': 'pretentious',\n        'leaf': {'decision': 'priority', 'p': 0.78}}},\n      {'edge': {'value': 'great_pret',\n        'leaf': {'decision': 'spec_prior', 'p': 0.9}}}]}}},\n  {'edge': {'value': 'inconv', 'leaf': {'decision': 'very_recom', 'p': 0.8}}}]}"
     },
     "execution_count": 32,
     "metadata": {},
     "output_type": "execute_result"
    }
   ],
   "source": [
    "node = tree[\"node\"]\n",
    "node"
   ],
   "metadata": {
    "collapsed": false,
    "ExecuteTime": {
     "end_time": "2023-10-12T23:51:04.112734300Z",
     "start_time": "2023-10-12T23:51:04.102469700Z"
    }
   }
  },
  {
   "cell_type": "code",
   "execution_count": 35,
   "outputs": [
    {
     "data": {
      "text/plain": "dict_values(['finance', [{'edge': {'value': 'convenient', 'node': {'var': 'parents', 'edges': [{'edge': {'value': 'usual', 'leaf': {'decision': 'not_recom', 'p': 0.74}}}, {'edge': {'value': 'pretentious', 'leaf': {'decision': 'priority', 'p': 0.78}}}, {'edge': {'value': 'great_pret', 'leaf': {'decision': 'spec_prior', 'p': 0.9}}}]}}}, {'edge': {'value': 'inconv', 'leaf': {'decision': 'very_recom', 'p': 0.8}}}]])"
     },
     "execution_count": 35,
     "metadata": {},
     "output_type": "execute_result"
    }
   ],
   "source": [
    "con = row1[node[\"var\"]]\n",
    "node.values()"
   ],
   "metadata": {
    "collapsed": false,
    "ExecuteTime": {
     "end_time": "2023-10-12T23:56:59.218281800Z",
     "start_time": "2023-10-12T23:56:59.201781100Z"
    }
   }
  },
  {
   "cell_type": "code",
   "execution_count": 7,
   "outputs": [],
   "source": [
    "# tree1 = tree\n",
    "# while \"leaf\" not in tree1.keys():\n",
    "#     node = tree1[\"node\"]\n",
    "#     print(node)\n",
    "#     label = row1[node['var']]\n",
    "#     print()\n",
    "#     print(label)\n",
    "#     for edge in node[\"edges\"]:\n",
    "#         if edge['edge']['value'] == label:\n",
    "#             tree1 = edge['edge']\n",
    "# print(tree1)\n",
    "# print(tree1['leaf']['decision'])\n",
    "\n",
    "def search_tree(row: pd.Series, tree: dict) -> str:\n",
    "    subtree = tree\n",
    "    while \"leaf\" not in subtree.keys():\n",
    "        node = subtree[\"node\"]\n",
    "        label = row[node['var']]\n",
    "        for edge in node[\"edges\"]:\n",
    "            if edge['edge']['value'] == label:\n",
    "                subtree = edge['edge']\n",
    "                print(node['var'], label)\n",
    "    return subtree['leaf']['decision']"
   ],
   "metadata": {
    "collapsed": false,
    "ExecuteTime": {
     "end_time": "2023-10-24T03:17:36.608224100Z",
     "start_time": "2023-10-24T03:17:36.597614700Z"
    }
   }
  },
  {
   "cell_type": "code",
   "execution_count": 4,
   "outputs": [],
   "source": [
    "def predict(df: pd.DataFrame, tree: dict) -> pd.Series:\n",
    "    return df.apply(lambda row: search_tree(row, tree), axis=1)"
   ],
   "metadata": {
    "collapsed": false,
    "ExecuteTime": {
     "end_time": "2023-10-24T03:14:40.763928700Z",
     "start_time": "2023-10-24T03:14:40.752462100Z"
    }
   }
  },
  {
   "cell_type": "code",
   "execution_count": 82,
   "outputs": [
    {
     "ename": "ValueError",
     "evalue": "The truth value of a Series is ambiguous. Use a.empty, a.bool(), a.item(), a.any() or a.all().",
     "output_type": "error",
     "traceback": [
      "\u001B[1;31m---------------------------------------------------------------------------\u001B[0m",
      "\u001B[1;31mValueError\u001B[0m                                Traceback (most recent call last)",
      "\u001B[1;32m~\\AppData\\Local\\Temp\\ipykernel_23580\\2462610900.py\u001B[0m in \u001B[0;36m?\u001B[1;34m()\u001B[0m\n\u001B[1;32m----> 1\u001B[1;33m \u001B[0msearch_tree\u001B[0m\u001B[1;33m(\u001B[0m\u001B[0mdf\u001B[0m\u001B[1;33m,\u001B[0m \u001B[0mtree\u001B[0m\u001B[1;33m)\u001B[0m\u001B[1;33m\u001B[0m\u001B[1;33m\u001B[0m\u001B[0m\n\u001B[0m",
      "\u001B[1;32m~\\AppData\\Local\\Temp\\ipykernel_23580\\3389804974.py\u001B[0m in \u001B[0;36m?\u001B[1;34m(row, tree)\u001B[0m\n\u001B[0;32m     16\u001B[0m     \u001B[1;32mwhile\u001B[0m \u001B[1;34m\"leaf\"\u001B[0m \u001B[1;32mnot\u001B[0m \u001B[1;32min\u001B[0m \u001B[0msubtree\u001B[0m\u001B[1;33m.\u001B[0m\u001B[0mkeys\u001B[0m\u001B[1;33m(\u001B[0m\u001B[1;33m)\u001B[0m\u001B[1;33m:\u001B[0m\u001B[1;33m\u001B[0m\u001B[1;33m\u001B[0m\u001B[0m\n\u001B[0;32m     17\u001B[0m         \u001B[0mnode\u001B[0m \u001B[1;33m=\u001B[0m \u001B[0msubtree\u001B[0m\u001B[1;33m[\u001B[0m\u001B[1;34m\"node\"\u001B[0m\u001B[1;33m]\u001B[0m\u001B[1;33m\u001B[0m\u001B[1;33m\u001B[0m\u001B[0m\n\u001B[0;32m     18\u001B[0m         \u001B[0mlabel\u001B[0m \u001B[1;33m=\u001B[0m \u001B[0mrow\u001B[0m\u001B[1;33m[\u001B[0m\u001B[0mnode\u001B[0m\u001B[1;33m[\u001B[0m\u001B[1;34m'var'\u001B[0m\u001B[1;33m]\u001B[0m\u001B[1;33m]\u001B[0m\u001B[1;33m\u001B[0m\u001B[1;33m\u001B[0m\u001B[0m\n\u001B[0;32m     19\u001B[0m         \u001B[1;32mfor\u001B[0m \u001B[0medge\u001B[0m \u001B[1;32min\u001B[0m \u001B[0mnode\u001B[0m\u001B[1;33m[\u001B[0m\u001B[1;34m\"edges\"\u001B[0m\u001B[1;33m]\u001B[0m\u001B[1;33m:\u001B[0m\u001B[1;33m\u001B[0m\u001B[1;33m\u001B[0m\u001B[0m\n\u001B[1;32m---> 20\u001B[1;33m             \u001B[1;32mif\u001B[0m \u001B[0medge\u001B[0m\u001B[1;33m[\u001B[0m\u001B[1;34m'edge'\u001B[0m\u001B[1;33m]\u001B[0m\u001B[1;33m[\u001B[0m\u001B[1;34m'value'\u001B[0m\u001B[1;33m]\u001B[0m \u001B[1;33m==\u001B[0m \u001B[0mlabel\u001B[0m\u001B[1;33m:\u001B[0m\u001B[1;33m\u001B[0m\u001B[1;33m\u001B[0m\u001B[0m\n\u001B[0m\u001B[0;32m     21\u001B[0m                 \u001B[0msubtree\u001B[0m \u001B[1;33m=\u001B[0m \u001B[0medge\u001B[0m\u001B[1;33m[\u001B[0m\u001B[1;34m'edge'\u001B[0m\u001B[1;33m]\u001B[0m\u001B[1;33m\u001B[0m\u001B[1;33m\u001B[0m\u001B[0m\n\u001B[0;32m     22\u001B[0m     \u001B[1;32mreturn\u001B[0m \u001B[0msubtree\u001B[0m\u001B[1;33m[\u001B[0m\u001B[1;34m'leaf'\u001B[0m\u001B[1;33m]\u001B[0m\u001B[1;33m[\u001B[0m\u001B[1;34m'decision'\u001B[0m\u001B[1;33m]\u001B[0m\u001B[1;33m\u001B[0m\u001B[1;33m\u001B[0m\u001B[0m\n",
      "\u001B[1;32m~\\anaconda3\\envs\\csc466\\lib\\site-packages\\pandas\\core\\generic.py\u001B[0m in \u001B[0;36m?\u001B[1;34m(self)\u001B[0m\n\u001B[0;32m   1517\u001B[0m     \u001B[1;33m@\u001B[0m\u001B[0mfinal\u001B[0m\u001B[1;33m\u001B[0m\u001B[1;33m\u001B[0m\u001B[0m\n\u001B[0;32m   1518\u001B[0m     \u001B[1;32mdef\u001B[0m \u001B[0m__nonzero__\u001B[0m\u001B[1;33m(\u001B[0m\u001B[0mself\u001B[0m\u001B[1;33m)\u001B[0m \u001B[1;33m->\u001B[0m \u001B[0mNoReturn\u001B[0m\u001B[1;33m:\u001B[0m\u001B[1;33m\u001B[0m\u001B[1;33m\u001B[0m\u001B[0m\n\u001B[1;32m-> 1519\u001B[1;33m         raise ValueError(\n\u001B[0m\u001B[0;32m   1520\u001B[0m             \u001B[1;34mf\"The truth value of a {type(self).__name__} is ambiguous. \"\u001B[0m\u001B[1;33m\u001B[0m\u001B[1;33m\u001B[0m\u001B[0m\n\u001B[0;32m   1521\u001B[0m             \u001B[1;34m\"Use a.empty, a.bool(), a.item(), a.any() or a.all().\"\u001B[0m\u001B[1;33m\u001B[0m\u001B[1;33m\u001B[0m\u001B[0m\n\u001B[0;32m   1522\u001B[0m         )\n",
      "\u001B[1;31mValueError\u001B[0m: The truth value of a Series is ambiguous. Use a.empty, a.bool(), a.item(), a.any() or a.all()."
     ]
    }
   ],
   "source": [
    "search_tree(df, tree)"
   ],
   "metadata": {
    "collapsed": false,
    "ExecuteTime": {
     "end_time": "2023-10-13T00:20:39.870821200Z",
     "start_time": "2023-10-13T00:20:39.800754400Z"
    }
   }
  },
  {
   "cell_type": "code",
   "execution_count": 90,
   "outputs": [
    {
     "data": {
      "text/plain": "0          priority\n1          priority\n2         not_recom\n3          priority\n4          priority\n            ...    \n12955    spec_prior\n12956     not_recom\n12957      priority\n12958    spec_prior\n12959     not_recom\nLength: 12960, dtype: object"
     },
     "execution_count": 90,
     "metadata": {},
     "output_type": "execute_result"
    }
   ],
   "source": [
    "predictions = predict(df, tree)\n",
    "predictions"
   ],
   "metadata": {
    "collapsed": false,
    "ExecuteTime": {
     "end_time": "2023-10-13T00:25:03.953479900Z",
     "start_time": "2023-10-13T00:25:03.889814100Z"
    }
   }
  },
  {
   "cell_type": "code",
   "execution_count": 86,
   "outputs": [
    {
     "data": {
      "text/plain": "class\nnot_recom     4320\npriority      4266\nspec_prior    4044\nvery_recom     328\nrecommend        2\nName: count, dtype: int64"
     },
     "execution_count": 86,
     "metadata": {},
     "output_type": "execute_result"
    }
   ],
   "source": [
    "df['class'].value_counts()"
   ],
   "metadata": {
    "collapsed": false,
    "ExecuteTime": {
     "end_time": "2023-10-13T00:22:17.682800700Z",
     "start_time": "2023-10-13T00:22:17.622159900Z"
    }
   }
  },
  {
   "cell_type": "code",
   "execution_count": 99,
   "outputs": [
    {
     "data": {
      "text/plain": "              obs        pred  correct\n0       recommend    priority    False\n1        priority    priority     True\n2       not_recom   not_recom     True\n3       recommend    priority    False\n4        priority    priority     True\n...           ...         ...      ...\n12955  spec_prior  spec_prior     True\n12956   not_recom   not_recom     True\n12957  spec_prior    priority    False\n12958  spec_prior  spec_prior     True\n12959   not_recom   not_recom     True\n\n[12960 rows x 3 columns]",
      "text/html": "<div>\n<style scoped>\n    .dataframe tbody tr th:only-of-type {\n        vertical-align: middle;\n    }\n\n    .dataframe tbody tr th {\n        vertical-align: top;\n    }\n\n    .dataframe thead th {\n        text-align: right;\n    }\n</style>\n<table border=\"1\" class=\"dataframe\">\n  <thead>\n    <tr style=\"text-align: right;\">\n      <th></th>\n      <th>obs</th>\n      <th>pred</th>\n      <th>correct</th>\n    </tr>\n  </thead>\n  <tbody>\n    <tr>\n      <th>0</th>\n      <td>recommend</td>\n      <td>priority</td>\n      <td>False</td>\n    </tr>\n    <tr>\n      <th>1</th>\n      <td>priority</td>\n      <td>priority</td>\n      <td>True</td>\n    </tr>\n    <tr>\n      <th>2</th>\n      <td>not_recom</td>\n      <td>not_recom</td>\n      <td>True</td>\n    </tr>\n    <tr>\n      <th>3</th>\n      <td>recommend</td>\n      <td>priority</td>\n      <td>False</td>\n    </tr>\n    <tr>\n      <th>4</th>\n      <td>priority</td>\n      <td>priority</td>\n      <td>True</td>\n    </tr>\n    <tr>\n      <th>...</th>\n      <td>...</td>\n      <td>...</td>\n      <td>...</td>\n    </tr>\n    <tr>\n      <th>12955</th>\n      <td>spec_prior</td>\n      <td>spec_prior</td>\n      <td>True</td>\n    </tr>\n    <tr>\n      <th>12956</th>\n      <td>not_recom</td>\n      <td>not_recom</td>\n      <td>True</td>\n    </tr>\n    <tr>\n      <th>12957</th>\n      <td>spec_prior</td>\n      <td>priority</td>\n      <td>False</td>\n    </tr>\n    <tr>\n      <th>12958</th>\n      <td>spec_prior</td>\n      <td>spec_prior</td>\n      <td>True</td>\n    </tr>\n    <tr>\n      <th>12959</th>\n      <td>not_recom</td>\n      <td>not_recom</td>\n      <td>True</td>\n    </tr>\n  </tbody>\n</table>\n<p>12960 rows × 3 columns</p>\n</div>"
     },
     "execution_count": 99,
     "metadata": {},
     "output_type": "execute_result"
    }
   ],
   "source": [
    "rep = pd.DataFrame({\"obs\": df['class'], \"pred\": predictions})\n",
    "rep['correct'] = (rep[\"obs\"] == rep[\"pred\"])\n",
    "rep"
   ],
   "metadata": {
    "collapsed": false,
    "ExecuteTime": {
     "end_time": "2023-10-13T00:30:41.421877800Z",
     "start_time": "2023-10-13T00:30:41.406046200Z"
    }
   }
  },
  {
   "cell_type": "code",
   "execution_count": 103,
   "outputs": [
    {
     "name": "stdout",
     "output_type": "stream",
     "text": [
      "2322\n",
      "82.08333333333333\n",
      "17.91666666666667\n"
     ]
    }
   ],
   "source": [
    "num_records = len(rep)\n",
    "num_correct = rep[\"correct\"].value_counts()[True]\n",
    "num_incorrect = num_records - num_correct\n",
    "accuracy = (num_correct / num_records) * 100\n",
    "error_rate = 100 - accuracy"
   ],
   "metadata": {
    "collapsed": false,
    "ExecuteTime": {
     "end_time": "2023-10-13T00:34:08.336588200Z",
     "start_time": "2023-10-13T00:34:08.321215Z"
    }
   }
  },
  {
   "cell_type": "code",
   "execution_count": 123,
   "outputs": [],
   "source": [
    "def report(obs: pd.Series, pred: pd.Series) -> str:\n",
    "    rep = pd.DataFrame({\"obs\": obs, \"pred\": pred})\n",
    "    rep['correct'] = (rep[\"obs\"] == rep[\"pred\"])\n",
    "\n",
    "    num_records = len(rep)\n",
    "    num_correct = rep[\"correct\"].value_counts()[True]\n",
    "    num_incorrect = num_records - num_correct\n",
    "    accuracy = (num_correct / num_records) * 100\n",
    "    error_rate = 100 - accuracy\n",
    "\n",
    "    return(f\"1. Total number of records classified: {num_records} \\n\" +\n",
    "           f\"2. Total number of records correctly classified: {num_correct} \\n\" +\n",
    "           f\"3. Total number of records incorrectly classified: {num_incorrect} \\n\" +\n",
    "           f\"4. Overall accuracy: {accuracy}. Overall Error Rate: {error_rate}\")"
   ],
   "metadata": {
    "collapsed": false,
    "ExecuteTime": {
     "end_time": "2023-10-13T00:46:38.736644600Z",
     "start_time": "2023-10-13T00:46:38.720596600Z"
    }
   }
  },
  {
   "cell_type": "code",
   "execution_count": 124,
   "outputs": [
    {
     "name": "stdout",
     "output_type": "stream",
     "text": [
      "1. Total number of records classified: 12960 \n",
      "2. Total number of records correctly classified: 10638 \n",
      "3. Total number of records incorrectly classified: 2322 \n",
      "4. Overall accuracy: 82.08333333333333. Overall Error Rate: 17.91666666666667\n"
     ]
    }
   ],
   "source": [
    "print(report(df['class'], predictions))"
   ],
   "metadata": {
    "collapsed": false,
    "ExecuteTime": {
     "end_time": "2023-10-13T00:46:40.145953400Z",
     "start_time": "2023-10-13T00:46:40.134443700Z"
    }
   }
  },
  {
   "cell_type": "code",
   "execution_count": 121,
   "outputs": [
    {
     "data": {
      "text/plain": "pred        not_recom  priority  spec_prior\nobs                                        \nnot_recom    0.333333  0.000000    0.000000\npriority     0.000000  0.297222    0.031944\nrecommend    0.000000  0.000154    0.000000\nspec_prior   0.000000  0.121759    0.190278\nvery_recom   0.000000  0.025309    0.000000",
      "text/html": "<div>\n<style scoped>\n    .dataframe tbody tr th:only-of-type {\n        vertical-align: middle;\n    }\n\n    .dataframe tbody tr th {\n        vertical-align: top;\n    }\n\n    .dataframe thead th {\n        text-align: right;\n    }\n</style>\n<table border=\"1\" class=\"dataframe\">\n  <thead>\n    <tr style=\"text-align: right;\">\n      <th>pred</th>\n      <th>not_recom</th>\n      <th>priority</th>\n      <th>spec_prior</th>\n    </tr>\n    <tr>\n      <th>obs</th>\n      <th></th>\n      <th></th>\n      <th></th>\n    </tr>\n  </thead>\n  <tbody>\n    <tr>\n      <th>not_recom</th>\n      <td>0.333333</td>\n      <td>0.000000</td>\n      <td>0.000000</td>\n    </tr>\n    <tr>\n      <th>priority</th>\n      <td>0.000000</td>\n      <td>0.297222</td>\n      <td>0.031944</td>\n    </tr>\n    <tr>\n      <th>recommend</th>\n      <td>0.000000</td>\n      <td>0.000154</td>\n      <td>0.000000</td>\n    </tr>\n    <tr>\n      <th>spec_prior</th>\n      <td>0.000000</td>\n      <td>0.121759</td>\n      <td>0.190278</td>\n    </tr>\n    <tr>\n      <th>very_recom</th>\n      <td>0.000000</td>\n      <td>0.025309</td>\n      <td>0.000000</td>\n    </tr>\n  </tbody>\n</table>\n</div>"
     },
     "execution_count": 121,
     "metadata": {},
     "output_type": "execute_result"
    }
   ],
   "source": [
    "conf_matrix = pd.crosstab(rep['obs'], rep['pred'])\n",
    "conf_matrix.divide(len(rep['obs']))"
   ],
   "metadata": {
    "collapsed": false,
    "ExecuteTime": {
     "end_time": "2023-10-13T00:43:35.779332200Z",
     "start_time": "2023-10-13T00:43:35.763296800Z"
    }
   }
  },
  {
   "cell_type": "code",
   "execution_count": 130,
   "outputs": [
    {
     "data": {
      "text/plain": "parents\nusual          4320\npretentious    4320\ngreat_pret     4320\nName: count, dtype: int64"
     },
     "execution_count": 130,
     "metadata": {},
     "output_type": "execute_result"
    }
   ],
   "source": [
    "df['parents'].value_counts()\n"
   ],
   "metadata": {
    "collapsed": false,
    "ExecuteTime": {
     "end_time": "2023-10-18T04:12:51.392246100Z",
     "start_time": "2023-10-18T04:12:51.365317800Z"
    }
   }
  },
  {
   "cell_type": "code",
   "execution_count": 2,
   "outputs": [],
   "source": [
    "tree = {\"dataset\": \"\", \"node\": {\"var\": \"odor\", \"edges\": [{\"edge\": {\"value\": \"n\", \"leaf\": {\"decision\": \"e\", \"p\": 1}}}, {\"edge\": {\"value\": \"f\", \"leaf\": {\"decision\": \"p\", \"p\": 1}}}, {\"edge\": {\"value\": \"a\", \"leaf\": {\"decision\": \"e\", \"p\": 1}}}, {\"edge\": {\"value\": \"y\", \"leaf\": {\"decision\": \"p\", \"p\": 1}}}, {\"edge\": {\"value\": \"l\", \"leaf\": {\"decision\": \"e\", \"p\": 1}}}, {\"edge\": {\"value\": \"c\", \"leaf\": {\"decision\": \"p\", \"p\": 1}}}, {\"edge\": {\"value\": \"s\", \"leaf\": {\"decision\": \"p\", \"p\": 1}}}, {\"edge\": {\"value\": \"m\", \"leaf\": {\"decision\": \"p\", \"p\": 1}}}]}}"
   ],
   "metadata": {
    "collapsed": false,
    "ExecuteTime": {
     "end_time": "2023-10-24T03:14:18.995777Z",
     "start_time": "2023-10-24T03:14:18.977137800Z"
    }
   }
  },
  {
   "cell_type": "code",
   "execution_count": 10,
   "outputs": [
    {
     "data": {
      "text/plain": "{'dataset': '',\n 'node': {'var': 'odor',\n  'edges': [{'edge': {'value': 'n', 'leaf': {'decision': 'e', 'p': 1}}},\n   {'edge': {'value': 'f', 'leaf': {'decision': 'p', 'p': 1}}},\n   {'edge': {'value': 'a', 'leaf': {'decision': 'e', 'p': 1}}},\n   {'edge': {'value': 'y', 'leaf': {'decision': 'p', 'p': 1}}},\n   {'edge': {'value': 'l', 'leaf': {'decision': 'e', 'p': 1}}},\n   {'edge': {'value': 'c', 'leaf': {'decision': 'p', 'p': 1}}},\n   {'edge': {'value': 's', 'leaf': {'decision': 'p', 'p': 1}}},\n   {'edge': {'value': 'm', 'leaf': {'decision': 'p', 'p': 1}}}]}}"
     },
     "execution_count": 10,
     "metadata": {},
     "output_type": "execute_result"
    }
   ],
   "source": [
    "tree"
   ],
   "metadata": {
    "collapsed": false,
    "ExecuteTime": {
     "end_time": "2023-10-24T03:18:13.275519800Z",
     "start_time": "2023-10-24T03:18:13.255092300Z"
    }
   }
  },
  {
   "cell_type": "code",
   "execution_count": 11,
   "outputs": [
    {
     "data": {
      "text/plain": "odor\nn    3528\nf    2160\ny     576\ns     576\na     400\nl     400\np     256\nc     192\nm      36\nName: count, dtype: int64"
     },
     "execution_count": 11,
     "metadata": {},
     "output_type": "execute_result"
    }
   ],
   "source": [
    "data['odor'].value_counts()"
   ],
   "metadata": {
    "collapsed": false,
    "ExecuteTime": {
     "end_time": "2023-10-24T03:19:25.206993800Z",
     "start_time": "2023-10-24T03:19:25.178272400Z"
    }
   }
  },
  {
   "cell_type": "code",
   "execution_count": 5,
   "outputs": [
    {
     "data": {
      "text/plain": "     Class cap-shape cap-surface cap-color bruises odor gill-attachment  \\\n0        p         x           s         n       t    p               f   \n1        e         x           s         y       t    a               f   \n2        e         b           s         w       t    l               f   \n3        p         x           y         w       t    p               f   \n4        e         x           s         g       f    n               f   \n...    ...       ...         ...       ...     ...  ...             ...   \n8119     e         k           s         n       f    n               a   \n8120     e         x           s         n       f    n               a   \n8121     e         f           s         n       f    n               a   \n8122     p         k           y         n       f    y               f   \n8123     e         x           s         n       f    n               a   \n\n     gill-spacing gill-size gill-color  ... stalk-surface-below-ring  \\\n0               c         n          k  ...                        s   \n1               c         b          k  ...                        s   \n2               c         b          n  ...                        s   \n3               c         n          n  ...                        s   \n4               w         b          k  ...                        s   \n...           ...       ...        ...  ...                      ...   \n8119            c         b          y  ...                        s   \n8120            c         b          y  ...                        s   \n8121            c         b          n  ...                        s   \n8122            c         n          b  ...                        k   \n8123            c         b          y  ...                        s   \n\n     stalk-color-above-ring stalk-color-below-ring veil-type veil-color  \\\n0                         w                      w         p          w   \n1                         w                      w         p          w   \n2                         w                      w         p          w   \n3                         w                      w         p          w   \n4                         w                      w         p          w   \n...                     ...                    ...       ...        ...   \n8119                      o                      o         p          o   \n8120                      o                      o         p          n   \n8121                      o                      o         p          o   \n8122                      w                      w         p          w   \n8123                      o                      o         p          o   \n\n     ring-number ring-type spore-print-color population habitat  \n0              o         p                 k          s       u  \n1              o         p                 n          n       g  \n2              o         p                 n          n       m  \n3              o         p                 k          s       u  \n4              o         e                 n          a       g  \n...          ...       ...               ...        ...     ...  \n8119           o         p                 b          c       l  \n8120           o         p                 b          v       l  \n8121           o         p                 b          c       l  \n8122           o         e                 w          v       l  \n8123           o         p                 o          c       l  \n\n[8124 rows x 23 columns]",
      "text/html": "<div>\n<style scoped>\n    .dataframe tbody tr th:only-of-type {\n        vertical-align: middle;\n    }\n\n    .dataframe tbody tr th {\n        vertical-align: top;\n    }\n\n    .dataframe thead th {\n        text-align: right;\n    }\n</style>\n<table border=\"1\" class=\"dataframe\">\n  <thead>\n    <tr style=\"text-align: right;\">\n      <th></th>\n      <th>Class</th>\n      <th>cap-shape</th>\n      <th>cap-surface</th>\n      <th>cap-color</th>\n      <th>bruises</th>\n      <th>odor</th>\n      <th>gill-attachment</th>\n      <th>gill-spacing</th>\n      <th>gill-size</th>\n      <th>gill-color</th>\n      <th>...</th>\n      <th>stalk-surface-below-ring</th>\n      <th>stalk-color-above-ring</th>\n      <th>stalk-color-below-ring</th>\n      <th>veil-type</th>\n      <th>veil-color</th>\n      <th>ring-number</th>\n      <th>ring-type</th>\n      <th>spore-print-color</th>\n      <th>population</th>\n      <th>habitat</th>\n    </tr>\n  </thead>\n  <tbody>\n    <tr>\n      <th>0</th>\n      <td>p</td>\n      <td>x</td>\n      <td>s</td>\n      <td>n</td>\n      <td>t</td>\n      <td>p</td>\n      <td>f</td>\n      <td>c</td>\n      <td>n</td>\n      <td>k</td>\n      <td>...</td>\n      <td>s</td>\n      <td>w</td>\n      <td>w</td>\n      <td>p</td>\n      <td>w</td>\n      <td>o</td>\n      <td>p</td>\n      <td>k</td>\n      <td>s</td>\n      <td>u</td>\n    </tr>\n    <tr>\n      <th>1</th>\n      <td>e</td>\n      <td>x</td>\n      <td>s</td>\n      <td>y</td>\n      <td>t</td>\n      <td>a</td>\n      <td>f</td>\n      <td>c</td>\n      <td>b</td>\n      <td>k</td>\n      <td>...</td>\n      <td>s</td>\n      <td>w</td>\n      <td>w</td>\n      <td>p</td>\n      <td>w</td>\n      <td>o</td>\n      <td>p</td>\n      <td>n</td>\n      <td>n</td>\n      <td>g</td>\n    </tr>\n    <tr>\n      <th>2</th>\n      <td>e</td>\n      <td>b</td>\n      <td>s</td>\n      <td>w</td>\n      <td>t</td>\n      <td>l</td>\n      <td>f</td>\n      <td>c</td>\n      <td>b</td>\n      <td>n</td>\n      <td>...</td>\n      <td>s</td>\n      <td>w</td>\n      <td>w</td>\n      <td>p</td>\n      <td>w</td>\n      <td>o</td>\n      <td>p</td>\n      <td>n</td>\n      <td>n</td>\n      <td>m</td>\n    </tr>\n    <tr>\n      <th>3</th>\n      <td>p</td>\n      <td>x</td>\n      <td>y</td>\n      <td>w</td>\n      <td>t</td>\n      <td>p</td>\n      <td>f</td>\n      <td>c</td>\n      <td>n</td>\n      <td>n</td>\n      <td>...</td>\n      <td>s</td>\n      <td>w</td>\n      <td>w</td>\n      <td>p</td>\n      <td>w</td>\n      <td>o</td>\n      <td>p</td>\n      <td>k</td>\n      <td>s</td>\n      <td>u</td>\n    </tr>\n    <tr>\n      <th>4</th>\n      <td>e</td>\n      <td>x</td>\n      <td>s</td>\n      <td>g</td>\n      <td>f</td>\n      <td>n</td>\n      <td>f</td>\n      <td>w</td>\n      <td>b</td>\n      <td>k</td>\n      <td>...</td>\n      <td>s</td>\n      <td>w</td>\n      <td>w</td>\n      <td>p</td>\n      <td>w</td>\n      <td>o</td>\n      <td>e</td>\n      <td>n</td>\n      <td>a</td>\n      <td>g</td>\n    </tr>\n    <tr>\n      <th>...</th>\n      <td>...</td>\n      <td>...</td>\n      <td>...</td>\n      <td>...</td>\n      <td>...</td>\n      <td>...</td>\n      <td>...</td>\n      <td>...</td>\n      <td>...</td>\n      <td>...</td>\n      <td>...</td>\n      <td>...</td>\n      <td>...</td>\n      <td>...</td>\n      <td>...</td>\n      <td>...</td>\n      <td>...</td>\n      <td>...</td>\n      <td>...</td>\n      <td>...</td>\n      <td>...</td>\n    </tr>\n    <tr>\n      <th>8119</th>\n      <td>e</td>\n      <td>k</td>\n      <td>s</td>\n      <td>n</td>\n      <td>f</td>\n      <td>n</td>\n      <td>a</td>\n      <td>c</td>\n      <td>b</td>\n      <td>y</td>\n      <td>...</td>\n      <td>s</td>\n      <td>o</td>\n      <td>o</td>\n      <td>p</td>\n      <td>o</td>\n      <td>o</td>\n      <td>p</td>\n      <td>b</td>\n      <td>c</td>\n      <td>l</td>\n    </tr>\n    <tr>\n      <th>8120</th>\n      <td>e</td>\n      <td>x</td>\n      <td>s</td>\n      <td>n</td>\n      <td>f</td>\n      <td>n</td>\n      <td>a</td>\n      <td>c</td>\n      <td>b</td>\n      <td>y</td>\n      <td>...</td>\n      <td>s</td>\n      <td>o</td>\n      <td>o</td>\n      <td>p</td>\n      <td>n</td>\n      <td>o</td>\n      <td>p</td>\n      <td>b</td>\n      <td>v</td>\n      <td>l</td>\n    </tr>\n    <tr>\n      <th>8121</th>\n      <td>e</td>\n      <td>f</td>\n      <td>s</td>\n      <td>n</td>\n      <td>f</td>\n      <td>n</td>\n      <td>a</td>\n      <td>c</td>\n      <td>b</td>\n      <td>n</td>\n      <td>...</td>\n      <td>s</td>\n      <td>o</td>\n      <td>o</td>\n      <td>p</td>\n      <td>o</td>\n      <td>o</td>\n      <td>p</td>\n      <td>b</td>\n      <td>c</td>\n      <td>l</td>\n    </tr>\n    <tr>\n      <th>8122</th>\n      <td>p</td>\n      <td>k</td>\n      <td>y</td>\n      <td>n</td>\n      <td>f</td>\n      <td>y</td>\n      <td>f</td>\n      <td>c</td>\n      <td>n</td>\n      <td>b</td>\n      <td>...</td>\n      <td>k</td>\n      <td>w</td>\n      <td>w</td>\n      <td>p</td>\n      <td>w</td>\n      <td>o</td>\n      <td>e</td>\n      <td>w</td>\n      <td>v</td>\n      <td>l</td>\n    </tr>\n    <tr>\n      <th>8123</th>\n      <td>e</td>\n      <td>x</td>\n      <td>s</td>\n      <td>n</td>\n      <td>f</td>\n      <td>n</td>\n      <td>a</td>\n      <td>c</td>\n      <td>b</td>\n      <td>y</td>\n      <td>...</td>\n      <td>s</td>\n      <td>o</td>\n      <td>o</td>\n      <td>p</td>\n      <td>o</td>\n      <td>o</td>\n      <td>p</td>\n      <td>o</td>\n      <td>c</td>\n      <td>l</td>\n    </tr>\n  </tbody>\n</table>\n<p>8124 rows × 23 columns</p>\n</div>"
     },
     "execution_count": 5,
     "metadata": {},
     "output_type": "execute_result"
    }
   ],
   "source": [
    "data = pd.read_csv('../data/agaricus-lepiota.csv', skiprows=[1, 2], header=0)\n",
    "data"
   ],
   "metadata": {
    "collapsed": false,
    "ExecuteTime": {
     "end_time": "2023-10-24T03:15:22.963963900Z",
     "start_time": "2023-10-24T03:15:22.902267200Z"
    }
   }
  },
  {
   "cell_type": "code",
   "execution_count": 8,
   "outputs": [
    {
     "name": "stdout",
     "output_type": "stream",
     "text": [
      "Unexpected exception formatting exception. Falling back to standard exception\n"
     ]
    },
    {
     "name": "stderr",
     "output_type": "stream",
     "text": [
      "Traceback (most recent call last):\n",
      "  File \"C:\\Users\\hsu_m\\anaconda3\\envs\\csc466\\lib\\site-packages\\IPython\\core\\interactiveshell.py\", line 3526, in run_code\n",
      "    exec(code_obj, self.user_global_ns, self.user_ns)\n",
      "  File \"C:\\Users\\hsu_m\\AppData\\Local\\Temp\\ipykernel_9164\\3632223347.py\", line 1, in <module>\n",
      "    predict(data, tree)\n",
      "  File \"C:\\Users\\hsu_m\\AppData\\Local\\Temp\\ipykernel_9164\\2324259525.py\", line 2, in predict\n",
      "    return df.apply(lambda row: search_tree(row, tree), axis=1)\n",
      "  File \"C:\\Users\\hsu_m\\anaconda3\\envs\\csc466\\lib\\site-packages\\pandas\\core\\frame.py\", line 10037, in apply\n",
      "    return op.apply().__finalize__(self, method=\"apply\")\n",
      "  File \"C:\\Users\\hsu_m\\anaconda3\\envs\\csc466\\lib\\site-packages\\pandas\\core\\apply.py\", line 837, in apply\n",
      "    return self.apply_standard()\n",
      "  File \"C:\\Users\\hsu_m\\anaconda3\\envs\\csc466\\lib\\site-packages\\pandas\\core\\apply.py\", line 963, in apply_standard\n",
      "    results, res_index = self.apply_series_generator()\n",
      "  File \"C:\\Users\\hsu_m\\anaconda3\\envs\\csc466\\lib\\site-packages\\pandas\\core\\apply.py\", line 979, in apply_series_generator\n",
      "    results[i] = self.func(v, *self.args, **self.kwargs)\n",
      "  File \"C:\\Users\\hsu_m\\AppData\\Local\\Temp\\ipykernel_9164\\2324259525.py\", line 2, in <lambda>\n",
      "    return df.apply(lambda row: search_tree(row, tree), axis=1)\n",
      "  File \"C:\\Users\\hsu_m\\AppData\\Local\\Temp\\ipykernel_9164\\1976007604.py\", line -1, in search_tree\n",
      "KeyboardInterrupt\n",
      "\n",
      "During handling of the above exception, another exception occurred:\n",
      "\n",
      "Traceback (most recent call last):\n",
      "  File \"C:\\Users\\hsu_m\\anaconda3\\envs\\csc466\\lib\\site-packages\\IPython\\core\\interactiveshell.py\", line 2120, in showtraceback\n",
      "    stb = self.InteractiveTB.structured_traceback(\n",
      "  File \"C:\\Users\\hsu_m\\anaconda3\\envs\\csc466\\lib\\site-packages\\IPython\\core\\ultratb.py\", line 1435, in structured_traceback\n",
      "    return FormattedTB.structured_traceback(\n",
      "  File \"C:\\Users\\hsu_m\\anaconda3\\envs\\csc466\\lib\\site-packages\\IPython\\core\\ultratb.py\", line 1326, in structured_traceback\n",
      "    return VerboseTB.structured_traceback(\n",
      "  File \"C:\\Users\\hsu_m\\anaconda3\\envs\\csc466\\lib\\site-packages\\IPython\\core\\ultratb.py\", line 1173, in structured_traceback\n",
      "    formatted_exception = self.format_exception_as_a_whole(etype, evalue, etb, number_of_lines_of_context,\n",
      "  File \"C:\\Users\\hsu_m\\anaconda3\\envs\\csc466\\lib\\site-packages\\IPython\\core\\ultratb.py\", line 1088, in format_exception_as_a_whole\n",
      "    frames.append(self.format_record(record))\n",
      "  File \"C:\\Users\\hsu_m\\anaconda3\\envs\\csc466\\lib\\site-packages\\IPython\\core\\ultratb.py\", line 970, in format_record\n",
      "    frame_info.lines, Colors, self.has_colors, lvals\n",
      "  File \"C:\\Users\\hsu_m\\anaconda3\\envs\\csc466\\lib\\site-packages\\IPython\\core\\ultratb.py\", line 792, in lines\n",
      "    return self._sd.lines\n",
      "  File \"C:\\Users\\hsu_m\\anaconda3\\envs\\csc466\\lib\\site-packages\\stack_data\\utils.py\", line 145, in cached_property_wrapper\n",
      "    value = obj.__dict__[self.func.__name__] = self.func(obj)\n",
      "  File \"C:\\Users\\hsu_m\\anaconda3\\envs\\csc466\\lib\\site-packages\\stack_data\\core.py\", line 734, in lines\n",
      "    pieces = self.included_pieces\n",
      "  File \"C:\\Users\\hsu_m\\anaconda3\\envs\\csc466\\lib\\site-packages\\stack_data\\utils.py\", line 145, in cached_property_wrapper\n",
      "    value = obj.__dict__[self.func.__name__] = self.func(obj)\n",
      "  File \"C:\\Users\\hsu_m\\anaconda3\\envs\\csc466\\lib\\site-packages\\stack_data\\core.py\", line 681, in included_pieces\n",
      "    pos = scope_pieces.index(self.executing_piece)\n",
      "  File \"C:\\Users\\hsu_m\\anaconda3\\envs\\csc466\\lib\\site-packages\\stack_data\\utils.py\", line 145, in cached_property_wrapper\n",
      "    value = obj.__dict__[self.func.__name__] = self.func(obj)\n",
      "  File \"C:\\Users\\hsu_m\\anaconda3\\envs\\csc466\\lib\\site-packages\\stack_data\\core.py\", line 660, in executing_piece\n",
      "    return only(\n",
      "  File \"C:\\Users\\hsu_m\\anaconda3\\envs\\csc466\\lib\\site-packages\\executing\\executing.py\", line 116, in only\n",
      "    raise NotOneValueFound('Expected one value, found 0')\n",
      "executing.executing.NotOneValueFound: Expected one value, found 0\n"
     ]
    }
   ],
   "source": [
    "predict(data, tree)"
   ],
   "metadata": {
    "collapsed": false,
    "ExecuteTime": {
     "end_time": "2023-10-24T03:18:07.314135600Z",
     "start_time": "2023-10-24T03:17:40.662725900Z"
    }
   }
  },
  {
   "cell_type": "code",
   "execution_count": null,
   "outputs": [],
   "source": [],
   "metadata": {
    "collapsed": false
   }
  }
 ],
 "metadata": {
  "kernelspec": {
   "display_name": "Python 3",
   "language": "python",
   "name": "python3"
  },
  "language_info": {
   "codemirror_mode": {
    "name": "ipython",
    "version": 2
   },
   "file_extension": ".py",
   "mimetype": "text/x-python",
   "name": "python",
   "nbconvert_exporter": "python",
   "pygments_lexer": "ipython2",
   "version": "2.7.6"
  }
 },
 "nbformat": 4,
 "nbformat_minor": 0
}

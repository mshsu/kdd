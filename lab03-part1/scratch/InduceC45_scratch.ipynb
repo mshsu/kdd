{
 "cells": [
  {
   "cell_type": "code",
   "execution_count": 127,
   "metadata": {
    "collapsed": true,
    "ExecuteTime": {
     "end_time": "2023-10-12T04:43:11.180824300Z",
     "start_time": "2023-10-12T04:43:11.160539600Z"
    }
   },
   "outputs": [],
   "source": [
    "import pandas as pd\n",
    "import numpy as np\n",
    "from typing import List, Optional, Tuple"
   ]
  },
  {
   "cell_type": "code",
   "execution_count": 217,
   "outputs": [],
   "source": [
    "shrooms = pd.read_csv(\"https://users.csc.calpoly.edu/~dekhtyar/466-Fall2023/data/MUSHROOM/agaricus-lepiota.csv\", skiprows=[1],\n",
    "                      header=0)\n",
    "classvar = shrooms.iloc[0, 0]\n",
    "\n",
    "shrooms = shrooms.drop(0, axis=0)\n",
    "\n",
    "C = shrooms[classvar]\n",
    "D = shrooms.drop(classvar, axis=1)\n",
    "A = list(D.columns)"
   ],
   "metadata": {
    "collapsed": false,
    "ExecuteTime": {
     "end_time": "2023-10-12T05:46:44.431344800Z",
     "start_time": "2023-10-12T05:46:43.563743900Z"
    }
   }
  },
  {
   "cell_type": "code",
   "execution_count": 218,
   "outputs": [
    {
     "data": {
      "text/plain": "     Class cap-shape cap-surface cap-color bruises odor gill-attachment  \\\n1        p         x           s         n       t    p               f   \n2        e         x           s         y       t    a               f   \n3        e         b           s         w       t    l               f   \n4        p         x           y         w       t    p               f   \n5        e         x           s         g       f    n               f   \n...    ...       ...         ...       ...     ...  ...             ...   \n8120     e         k           s         n       f    n               a   \n8121     e         x           s         n       f    n               a   \n8122     e         f           s         n       f    n               a   \n8123     p         k           y         n       f    y               f   \n8124     e         x           s         n       f    n               a   \n\n     gill-spacing gill-size gill-color  ... stalk-surface-below-ring  \\\n1               c         n          k  ...                        s   \n2               c         b          k  ...                        s   \n3               c         b          n  ...                        s   \n4               c         n          n  ...                        s   \n5               w         b          k  ...                        s   \n...           ...       ...        ...  ...                      ...   \n8120            c         b          y  ...                        s   \n8121            c         b          y  ...                        s   \n8122            c         b          n  ...                        s   \n8123            c         n          b  ...                        k   \n8124            c         b          y  ...                        s   \n\n     stalk-color-above-ring stalk-color-below-ring veil-type veil-color  \\\n1                         w                      w         p          w   \n2                         w                      w         p          w   \n3                         w                      w         p          w   \n4                         w                      w         p          w   \n5                         w                      w         p          w   \n...                     ...                    ...       ...        ...   \n8120                      o                      o         p          o   \n8121                      o                      o         p          n   \n8122                      o                      o         p          o   \n8123                      w                      w         p          w   \n8124                      o                      o         p          o   \n\n     ring-number ring-type spore-print-color population habitat  \n1              o         p                 k          s       u  \n2              o         p                 n          n       g  \n3              o         p                 n          n       m  \n4              o         p                 k          s       u  \n5              o         e                 n          a       g  \n...          ...       ...               ...        ...     ...  \n8120           o         p                 b          c       l  \n8121           o         p                 b          v       l  \n8122           o         p                 b          c       l  \n8123           o         e                 w          v       l  \n8124           o         p                 o          c       l  \n\n[8124 rows x 23 columns]",
      "text/html": "<div>\n<style scoped>\n    .dataframe tbody tr th:only-of-type {\n        vertical-align: middle;\n    }\n\n    .dataframe tbody tr th {\n        vertical-align: top;\n    }\n\n    .dataframe thead th {\n        text-align: right;\n    }\n</style>\n<table border=\"1\" class=\"dataframe\">\n  <thead>\n    <tr style=\"text-align: right;\">\n      <th></th>\n      <th>Class</th>\n      <th>cap-shape</th>\n      <th>cap-surface</th>\n      <th>cap-color</th>\n      <th>bruises</th>\n      <th>odor</th>\n      <th>gill-attachment</th>\n      <th>gill-spacing</th>\n      <th>gill-size</th>\n      <th>gill-color</th>\n      <th>...</th>\n      <th>stalk-surface-below-ring</th>\n      <th>stalk-color-above-ring</th>\n      <th>stalk-color-below-ring</th>\n      <th>veil-type</th>\n      <th>veil-color</th>\n      <th>ring-number</th>\n      <th>ring-type</th>\n      <th>spore-print-color</th>\n      <th>population</th>\n      <th>habitat</th>\n    </tr>\n  </thead>\n  <tbody>\n    <tr>\n      <th>1</th>\n      <td>p</td>\n      <td>x</td>\n      <td>s</td>\n      <td>n</td>\n      <td>t</td>\n      <td>p</td>\n      <td>f</td>\n      <td>c</td>\n      <td>n</td>\n      <td>k</td>\n      <td>...</td>\n      <td>s</td>\n      <td>w</td>\n      <td>w</td>\n      <td>p</td>\n      <td>w</td>\n      <td>o</td>\n      <td>p</td>\n      <td>k</td>\n      <td>s</td>\n      <td>u</td>\n    </tr>\n    <tr>\n      <th>2</th>\n      <td>e</td>\n      <td>x</td>\n      <td>s</td>\n      <td>y</td>\n      <td>t</td>\n      <td>a</td>\n      <td>f</td>\n      <td>c</td>\n      <td>b</td>\n      <td>k</td>\n      <td>...</td>\n      <td>s</td>\n      <td>w</td>\n      <td>w</td>\n      <td>p</td>\n      <td>w</td>\n      <td>o</td>\n      <td>p</td>\n      <td>n</td>\n      <td>n</td>\n      <td>g</td>\n    </tr>\n    <tr>\n      <th>3</th>\n      <td>e</td>\n      <td>b</td>\n      <td>s</td>\n      <td>w</td>\n      <td>t</td>\n      <td>l</td>\n      <td>f</td>\n      <td>c</td>\n      <td>b</td>\n      <td>n</td>\n      <td>...</td>\n      <td>s</td>\n      <td>w</td>\n      <td>w</td>\n      <td>p</td>\n      <td>w</td>\n      <td>o</td>\n      <td>p</td>\n      <td>n</td>\n      <td>n</td>\n      <td>m</td>\n    </tr>\n    <tr>\n      <th>4</th>\n      <td>p</td>\n      <td>x</td>\n      <td>y</td>\n      <td>w</td>\n      <td>t</td>\n      <td>p</td>\n      <td>f</td>\n      <td>c</td>\n      <td>n</td>\n      <td>n</td>\n      <td>...</td>\n      <td>s</td>\n      <td>w</td>\n      <td>w</td>\n      <td>p</td>\n      <td>w</td>\n      <td>o</td>\n      <td>p</td>\n      <td>k</td>\n      <td>s</td>\n      <td>u</td>\n    </tr>\n    <tr>\n      <th>5</th>\n      <td>e</td>\n      <td>x</td>\n      <td>s</td>\n      <td>g</td>\n      <td>f</td>\n      <td>n</td>\n      <td>f</td>\n      <td>w</td>\n      <td>b</td>\n      <td>k</td>\n      <td>...</td>\n      <td>s</td>\n      <td>w</td>\n      <td>w</td>\n      <td>p</td>\n      <td>w</td>\n      <td>o</td>\n      <td>e</td>\n      <td>n</td>\n      <td>a</td>\n      <td>g</td>\n    </tr>\n    <tr>\n      <th>...</th>\n      <td>...</td>\n      <td>...</td>\n      <td>...</td>\n      <td>...</td>\n      <td>...</td>\n      <td>...</td>\n      <td>...</td>\n      <td>...</td>\n      <td>...</td>\n      <td>...</td>\n      <td>...</td>\n      <td>...</td>\n      <td>...</td>\n      <td>...</td>\n      <td>...</td>\n      <td>...</td>\n      <td>...</td>\n      <td>...</td>\n      <td>...</td>\n      <td>...</td>\n      <td>...</td>\n    </tr>\n    <tr>\n      <th>8120</th>\n      <td>e</td>\n      <td>k</td>\n      <td>s</td>\n      <td>n</td>\n      <td>f</td>\n      <td>n</td>\n      <td>a</td>\n      <td>c</td>\n      <td>b</td>\n      <td>y</td>\n      <td>...</td>\n      <td>s</td>\n      <td>o</td>\n      <td>o</td>\n      <td>p</td>\n      <td>o</td>\n      <td>o</td>\n      <td>p</td>\n      <td>b</td>\n      <td>c</td>\n      <td>l</td>\n    </tr>\n    <tr>\n      <th>8121</th>\n      <td>e</td>\n      <td>x</td>\n      <td>s</td>\n      <td>n</td>\n      <td>f</td>\n      <td>n</td>\n      <td>a</td>\n      <td>c</td>\n      <td>b</td>\n      <td>y</td>\n      <td>...</td>\n      <td>s</td>\n      <td>o</td>\n      <td>o</td>\n      <td>p</td>\n      <td>n</td>\n      <td>o</td>\n      <td>p</td>\n      <td>b</td>\n      <td>v</td>\n      <td>l</td>\n    </tr>\n    <tr>\n      <th>8122</th>\n      <td>e</td>\n      <td>f</td>\n      <td>s</td>\n      <td>n</td>\n      <td>f</td>\n      <td>n</td>\n      <td>a</td>\n      <td>c</td>\n      <td>b</td>\n      <td>n</td>\n      <td>...</td>\n      <td>s</td>\n      <td>o</td>\n      <td>o</td>\n      <td>p</td>\n      <td>o</td>\n      <td>o</td>\n      <td>p</td>\n      <td>b</td>\n      <td>c</td>\n      <td>l</td>\n    </tr>\n    <tr>\n      <th>8123</th>\n      <td>p</td>\n      <td>k</td>\n      <td>y</td>\n      <td>n</td>\n      <td>f</td>\n      <td>y</td>\n      <td>f</td>\n      <td>c</td>\n      <td>n</td>\n      <td>b</td>\n      <td>...</td>\n      <td>k</td>\n      <td>w</td>\n      <td>w</td>\n      <td>p</td>\n      <td>w</td>\n      <td>o</td>\n      <td>e</td>\n      <td>w</td>\n      <td>v</td>\n      <td>l</td>\n    </tr>\n    <tr>\n      <th>8124</th>\n      <td>e</td>\n      <td>x</td>\n      <td>s</td>\n      <td>n</td>\n      <td>f</td>\n      <td>n</td>\n      <td>a</td>\n      <td>c</td>\n      <td>b</td>\n      <td>y</td>\n      <td>...</td>\n      <td>s</td>\n      <td>o</td>\n      <td>o</td>\n      <td>p</td>\n      <td>o</td>\n      <td>o</td>\n      <td>p</td>\n      <td>o</td>\n      <td>c</td>\n      <td>l</td>\n    </tr>\n  </tbody>\n</table>\n<p>8124 rows × 23 columns</p>\n</div>"
     },
     "execution_count": 218,
     "metadata": {},
     "output_type": "execute_result"
    }
   ],
   "source": [
    "shrooms"
   ],
   "metadata": {
    "collapsed": false,
    "ExecuteTime": {
     "end_time": "2023-10-12T05:46:45.444600800Z",
     "start_time": "2023-10-12T05:46:45.354191700Z"
    }
   }
  },
  {
   "cell_type": "code",
   "execution_count": 180,
   "outputs": [
    {
     "data": {
      "text/plain": "'p'"
     },
     "execution_count": 180,
     "metadata": {},
     "output_type": "execute_result"
    }
   ],
   "source": [
    "C.unique()[0]"
   ],
   "metadata": {
    "collapsed": false,
    "ExecuteTime": {
     "end_time": "2023-10-12T05:21:50.146245800Z",
     "start_time": "2023-10-12T05:21:50.117301600Z"
    }
   }
  },
  {
   "cell_type": "code",
   "execution_count": 181,
   "outputs": [],
   "source": [
    "def entropy(D: pd.DataFrame, C: pd.Series,\n",
    "            A_i: Optional[str] = None, x: Optional[float] = None) -> float:\n",
    "    e = 0\n",
    "    if A_i is None and x is None:\n",
    "        e = C.value_counts(normalize=True).apply(\n",
    "            lambda pr: -pr * np.log2(pr)).sum()\n",
    "    elif x is None:\n",
    "        prop = D[A_i].value_counts(normalize=True)\n",
    "        for a in list(prop.index):\n",
    "           e += prop.loc[a] * entropy(D[D[A_i] == a], C[D[A_i] == a])\n",
    "    else:\n",
    "        # TODO: Implement this in part 2\n",
    "        pass\n",
    "\n",
    "    return e"
   ],
   "metadata": {
    "collapsed": false,
    "ExecuteTime": {
     "end_time": "2023-10-12T05:21:51.110368Z",
     "start_time": "2023-10-12T05:21:51.068558400Z"
    }
   }
  },
  {
   "cell_type": "code",
   "execution_count": 206,
   "outputs": [
    {
     "data": {
      "text/plain": "0.9990678968724603"
     },
     "execution_count": 206,
     "metadata": {},
     "output_type": "execute_result"
    }
   ],
   "source": [
    "entropy(D, C, A_i=\"veil-type\")"
   ],
   "metadata": {
    "collapsed": false,
    "ExecuteTime": {
     "end_time": "2023-10-12T05:33:33.139390700Z",
     "start_time": "2023-10-12T05:33:33.064095600Z"
    }
   }
  },
  {
   "cell_type": "code",
   "execution_count": 209,
   "outputs": [
    {
     "data": {
      "text/plain": "veil-type\np    8124\nName: count, dtype: int64"
     },
     "execution_count": 209,
     "metadata": {},
     "output_type": "execute_result"
    }
   ],
   "source": [
    "D['veil-type'].value_counts()"
   ],
   "metadata": {
    "collapsed": false,
    "ExecuteTime": {
     "end_time": "2023-10-12T05:37:48.146037300Z",
     "start_time": "2023-10-12T05:37:48.081160Z"
    }
   }
  },
  {
   "cell_type": "code",
   "execution_count": 207,
   "outputs": [
    {
     "data": {
      "text/plain": "1.0"
     },
     "execution_count": 207,
     "metadata": {},
     "output_type": "execute_result"
    }
   ],
   "source": [
    "np.log2(2)"
   ],
   "metadata": {
    "collapsed": false
   }
  },
  {
   "cell_type": "code",
   "execution_count": 185,
   "outputs": [
    {
     "data": {
      "text/plain": "0.9990678968724603"
     },
     "execution_count": 185,
     "metadata": {},
     "output_type": "execute_result"
    }
   ],
   "source": [
    "entropy(D, C)"
   ],
   "metadata": {
    "collapsed": false,
    "ExecuteTime": {
     "end_time": "2023-10-12T05:22:13.074722100Z",
     "start_time": "2023-10-12T05:22:13.053577400Z"
    }
   }
  },
  {
   "cell_type": "code",
   "execution_count": 186,
   "outputs": [],
   "source": [
    "# TODO: Implement this in part 2\n",
    "# def findBestSplit(A_i: str, D: pd.DataFrame) -> float:\n",
    "#     pass"
   ],
   "metadata": {
    "collapsed": false,
    "ExecuteTime": {
     "end_time": "2023-10-12T05:22:22.100253100Z",
     "start_time": "2023-10-12T05:22:22.062682500Z"
    }
   }
  },
  {
   "cell_type": "code",
   "execution_count": 187,
   "outputs": [],
   "source": [
    "def find_most_frequent_label(C: pd.Series) -> Tuple[str, float]:\n",
    "    prop = C.value_counts(normalize=True)\n",
    "    return str(prop.idxmax()), prop.max()"
   ],
   "metadata": {
    "collapsed": false,
    "ExecuteTime": {
     "end_time": "2023-10-12T05:22:23.041007100Z",
     "start_time": "2023-10-12T05:22:23.018739200Z"
    }
   }
  },
  {
   "cell_type": "code",
   "execution_count": 204,
   "outputs": [],
   "source": [
    "def selectSplittingAttribute(A: List[str], D: pd.DataFrame, C: pd.Series,\n",
    "                             threshold: float, gratio: bool = False) -> Optional[str]:\n",
    "    p = {}\n",
    "    gain = {}\n",
    "    p[0] = entropy(D, C)\n",
    "    for A_i in A:\n",
    "        # TODO: Implement this in part 2\n",
    "        # if pd.api.types.is_numeric_dtype(D.dtypes[A_i]):\n",
    "        #     x = findBestSplit(A_i, D)\n",
    "        #     p[A_i] = entropy(D, C, A_i, x)\n",
    "        # else:\n",
    "        #     p[A_i] = entropy(D, C, A_i)\n",
    "        # TODO: Delete next line once part 2 implemented\n",
    "        p[A_i] = entropy(D, C, A_i)\n",
    "        gain[A_i] = p[0] - p[A_i]\n",
    "        if gratio:\n",
    "            denom = D[A_i].value_counts(normalize=True).apply(\n",
    "                lambda pr: -pr * np.log2(pr)).sum()\n",
    "            if gain[A_i] != 0 and denom != 0:\n",
    "                gain[A_i] = gain[A_i] / denom\n",
    "            elif gain[A_i] == 0:\n",
    "                gain[A_i] = 0\n",
    "            elif denom == 0:\n",
    "                gain[A_i] = np.infty\n",
    "            print(A_i, gain[A_i])\n",
    "    best = max(gain, key=gain.get)\n",
    "    if gain[best] > threshold:\n",
    "        return best\n",
    "    else:\n",
    "        return None"
   ],
   "metadata": {
    "collapsed": false,
    "ExecuteTime": {
     "end_time": "2023-10-12T05:32:24.375457700Z",
     "start_time": "2023-10-12T05:32:24.363602Z"
    }
   }
  },
  {
   "cell_type": "code",
   "execution_count": 205,
   "outputs": [
    {
     "name": "stdout",
     "output_type": "stream",
     "text": [
      "cap-shape 0.0295220698859018\n",
      "cap-surface 0.01814692451164122\n",
      "cap-color 0.014361447780696823\n",
      "bruises 0.19644043129956845\n",
      "odor 0.3906481565033008\n",
      "gill-attachment 0.0818178118172925\n",
      "gill-spacing 0.15815426132075966\n",
      "gill-size 0.25794648736352677\n",
      "gill-color 0.13759668648296522\n",
      "stalk-shape 0.007616338689020934\n",
      "stalk-root 0.07395690261310016\n",
      "stalk-surface-above-ring 0.2331240725567335\n",
      "stalk-surface-below-ring 0.1943304679865192\n",
      "stalk-color-above-ring 0.13106361757552198\n",
      "stalk-color-below-ring 0.12204028298851571\n",
      "veil-type 0\n",
      "veil-color 0.12136782986327024\n",
      "ring-number 0.09140595216694161\n",
      "ring-type 0.207163744271962\n",
      "spore-print-color 0.21818217753240354\n",
      "population 0.10080772885489371\n",
      "habitat 0.0689455094456155\n"
     ]
    },
    {
     "data": {
      "text/plain": "'odor'"
     },
     "execution_count": 205,
     "metadata": {},
     "output_type": "execute_result"
    }
   ],
   "source": [
    "selectSplittingAttribute(A, D, C, 0.1, gratio=True)"
   ],
   "metadata": {
    "collapsed": false,
    "ExecuteTime": {
     "end_time": "2023-10-12T05:32:25.445165400Z",
     "start_time": "2023-10-12T05:32:25.022558600Z"
    }
   }
  },
  {
   "cell_type": "code",
   "execution_count": 152,
   "outputs": [],
   "source": [
    "def C45(D: pd.DataFrame, A: List[str], C: pd.Series,\n",
    "        threshold: float, gratio: bool = False) -> dict:\n",
    "    dataset = \"something.csv\"\n",
    "    T = {\"dataset\": dataset}\n",
    "    if len(C.unique()) == 1:\n",
    "        T[\"leaf\"] = {\"decision\": C.unique()[0], 'p': 1}\n",
    "    elif len(A) == 0:\n",
    "        c, p = find_most_frequent_label(C)\n",
    "        T[\"leaf\"] = {\"decision\": c, \"p\": p}\n",
    "    else:\n",
    "        A_g = selectSplittingAttribute(A, D, C, threshold, gratio=gratio)\n",
    "        if A_g is None:\n",
    "            c, p = find_most_frequent_label(C)\n",
    "            T[\"leaf\"] = {\"decision\": c, \"p\": p}\n",
    "        else:\n",
    "            r = {\"var\": A_g, \"edges\": []}\n",
    "            T[\"node\"] = r\n",
    "            for v in list(D[A_g].unique()):\n",
    "                D_v = D[D[A_g] == v]\n",
    "                C_v = C[D[A_g] == v]\n",
    "                if len(D_v.index) != 0:\n",
    "                    # TODO: Implement this in part 2\n",
    "                    # if D.dtypes[A_g] == object:\n",
    "                    #     A_v = A[:]\n",
    "                    #     A_v.remove(A_g)\n",
    "                    # TODO: Delete next 2 lines once part 2 implemented\n",
    "                    A_v = A[:]\n",
    "                    A_v.remove(A_g)\n",
    "                    T_v = C45(D_v, A_v, C_v, threshold)\n",
    "                    new_edge = {\"value\": v}\n",
    "                    if \"node\" in T_v.keys():\n",
    "                        new_edge[\"node\"] = T_v[\"node\"]\n",
    "                    elif \"leaf\" in T_v.keys():\n",
    "                        new_edge[\"leaf\"] = T_v[\"leaf\"]\n",
    "                    r[\"edges\"].append(\n",
    "                        {\"edge\": new_edge}\n",
    "                    )\n",
    "                else:\n",
    "                    c, p = find_most_frequent_label(C)\n",
    "                    r[\"edges\"].append(\n",
    "                        {\"edge\": {\"value\": v,\n",
    "                                  \"leaf\": {\"decision\": c, \"p\": p}}}\n",
    "                    )\n",
    "    return T"
   ],
   "metadata": {
    "collapsed": false,
    "ExecuteTime": {
     "end_time": "2023-10-12T04:56:49.763101800Z",
     "start_time": "2023-10-12T04:56:49.736031100Z"
    }
   }
  },
  {
   "cell_type": "code",
   "execution_count": 162,
   "outputs": [
    {
     "data": {
      "text/plain": "{'dataset': 'something.csv',\n 'node': {'var': 'odor',\n  'edges': [{'edge': {'value': 'p', 'leaf': {'decision': 'p', 'p': 1}}},\n   {'edge': {'value': 'a', 'leaf': {'decision': 'e', 'p': 1}}},\n   {'edge': {'value': 'l', 'leaf': {'decision': 'e', 'p': 1}}},\n   {'edge': {'value': 'n',\n     'node': {'var': 'spore-print-color',\n      'edges': [{'edge': {'value': 'n', 'leaf': {'decision': 'e', 'p': 1}}},\n       {'edge': {'value': 'k', 'leaf': {'decision': 'e', 'p': 1}}},\n       {'edge': {'value': 'w',\n         'node': {'var': 'habitat',\n          'edges': [{'edge': {'value': 'w',\n             'leaf': {'decision': 'e', 'p': 1}}},\n           {'edge': {'value': 'l',\n             'node': {'var': 'cap-color',\n              'edges': [{'edge': {'value': 'c',\n                 'leaf': {'decision': 'e', 'p': 1}}},\n               {'edge': {'value': 'n', 'leaf': {'decision': 'e', 'p': 1}}},\n               {'edge': {'value': 'w', 'leaf': {'decision': 'p', 'p': 1}}},\n               {'edge': {'value': 'y', 'leaf': {'decision': 'p', 'p': 1}}}]}}},\n           {'edge': {'value': 'd',\n             'node': {'var': 'gill-size',\n              'edges': [{'edge': {'value': 'n',\n                 'leaf': {'decision': 'p', 'p': 1}}},\n               {'edge': {'value': 'b', 'leaf': {'decision': 'e', 'p': 1}}}]}}},\n           {'edge': {'value': 'g', 'leaf': {'decision': 'e', 'p': 1}}},\n           {'edge': {'value': 'p', 'leaf': {'decision': 'e', 'p': 1}}}]}}},\n       {'edge': {'value': 'h', 'leaf': {'decision': 'e', 'p': 1}}},\n       {'edge': {'value': 'r', 'leaf': {'decision': 'p', 'p': 1}}},\n       {'edge': {'value': 'o', 'leaf': {'decision': 'e', 'p': 1}}},\n       {'edge': {'value': 'y', 'leaf': {'decision': 'e', 'p': 1}}},\n       {'edge': {'value': 'b', 'leaf': {'decision': 'e', 'p': 1}}}]}}},\n   {'edge': {'value': 'f', 'leaf': {'decision': 'p', 'p': 1}}},\n   {'edge': {'value': 'c', 'leaf': {'decision': 'p', 'p': 1}}},\n   {'edge': {'value': 'y', 'leaf': {'decision': 'p', 'p': 1}}},\n   {'edge': {'value': 's', 'leaf': {'decision': 'p', 'p': 1}}},\n   {'edge': {'value': 'm', 'leaf': {'decision': 'p', 'p': 1}}}]}}"
     },
     "execution_count": 162,
     "metadata": {},
     "output_type": "execute_result"
    }
   ],
   "source": [
    "C45(D, A, C, 0.142)"
   ],
   "metadata": {
    "collapsed": false,
    "ExecuteTime": {
     "end_time": "2023-10-12T04:58:33.609797500Z",
     "start_time": "2023-10-12T04:58:32.882157600Z"
    }
   }
  },
  {
   "cell_type": "code",
   "execution_count": 32,
   "outputs": [
    {
     "name": "stdout",
     "output_type": "stream",
     "text": [
      "{'for': {'object': [1, 2]}}\n"
     ]
    }
   ],
   "source": [
    "T = {}\n",
    "r = {\"object\": [1]}\n",
    "T[\"for\"] = r\n",
    "r[\"object\"].append(2)\n",
    "print(T)"
   ],
   "metadata": {
    "collapsed": false,
    "ExecuteTime": {
     "end_time": "2023-10-12T03:04:15.580202300Z",
     "start_time": "2023-10-12T03:04:15.576553200Z"
    }
   }
  },
  {
   "cell_type": "code",
   "execution_count": 36,
   "outputs": [
    {
     "data": {
      "text/plain": "str"
     },
     "execution_count": 36,
     "metadata": {},
     "output_type": "execute_result"
    }
   ],
   "source": [
    "type(C.value_counts().idxmax())"
   ],
   "metadata": {
    "collapsed": false,
    "ExecuteTime": {
     "end_time": "2023-10-12T03:14:55.612668600Z",
     "start_time": "2023-10-12T03:14:55.594007200Z"
    }
   }
  },
  {
   "cell_type": "code",
   "execution_count": 47,
   "outputs": [
    {
     "data": {
      "text/plain": "False"
     },
     "execution_count": 47,
     "metadata": {},
     "output_type": "execute_result"
    }
   ],
   "source": [
    "df = pd.DataFrame({\"A\": [1, 2, 3]})\n",
    "pd.api.types.is_string_dtype(df['A'])"
   ],
   "metadata": {
    "collapsed": false,
    "ExecuteTime": {
     "end_time": "2023-10-12T03:25:33.418295800Z",
     "start_time": "2023-10-12T03:25:33.394779200Z"
    }
   }
  },
  {
   "cell_type": "code",
   "execution_count": 64,
   "outputs": [
    {
     "data": {
      "text/plain": "0"
     },
     "execution_count": 64,
     "metadata": {},
     "output_type": "execute_result"
    }
   ],
   "source": [
    "len(df.drop('A', axis=1).columns)"
   ],
   "metadata": {
    "collapsed": false,
    "ExecuteTime": {
     "end_time": "2023-10-12T04:07:25.439534700Z",
     "start_time": "2023-10-12T04:07:25.428838600Z"
    }
   }
  },
  {
   "cell_type": "code",
   "execution_count": 168,
   "outputs": [
    {
     "data": {
      "text/plain": "          parents   has_nurs      form children     housing     finance  \\\n0           usual     proper  complete        1  convenient  convenient   \n1           usual     proper  complete        1  convenient  convenient   \n2           usual     proper  complete        1  convenient  convenient   \n3           usual     proper  complete        1  convenient  convenient   \n4           usual     proper  complete        1  convenient  convenient   \n...           ...        ...       ...      ...         ...         ...   \n12955  great_pret  very_crit    foster     more    critical      inconv   \n12956  great_pret  very_crit    foster     more    critical      inconv   \n12957  great_pret  very_crit    foster     more    critical      inconv   \n12958  great_pret  very_crit    foster     more    critical      inconv   \n12959  great_pret  very_crit    foster     more    critical      inconv   \n\n              social       health       class  \n0            nonprob  recommended   recommend  \n1            nonprob     priority    priority  \n2            nonprob    not_recom   not_recom  \n3      slightly_prob  recommended   recommend  \n4      slightly_prob     priority    priority  \n...              ...          ...         ...  \n12955  slightly_prob     priority  spec_prior  \n12956  slightly_prob    not_recom   not_recom  \n12957    problematic  recommended  spec_prior  \n12958    problematic     priority  spec_prior  \n12959    problematic    not_recom   not_recom  \n\n[12960 rows x 9 columns]",
      "text/html": "<div>\n<style scoped>\n    .dataframe tbody tr th:only-of-type {\n        vertical-align: middle;\n    }\n\n    .dataframe tbody tr th {\n        vertical-align: top;\n    }\n\n    .dataframe thead th {\n        text-align: right;\n    }\n</style>\n<table border=\"1\" class=\"dataframe\">\n  <thead>\n    <tr style=\"text-align: right;\">\n      <th></th>\n      <th>parents</th>\n      <th>has_nurs</th>\n      <th>form</th>\n      <th>children</th>\n      <th>housing</th>\n      <th>finance</th>\n      <th>social</th>\n      <th>health</th>\n      <th>class</th>\n    </tr>\n  </thead>\n  <tbody>\n    <tr>\n      <th>0</th>\n      <td>usual</td>\n      <td>proper</td>\n      <td>complete</td>\n      <td>1</td>\n      <td>convenient</td>\n      <td>convenient</td>\n      <td>nonprob</td>\n      <td>recommended</td>\n      <td>recommend</td>\n    </tr>\n    <tr>\n      <th>1</th>\n      <td>usual</td>\n      <td>proper</td>\n      <td>complete</td>\n      <td>1</td>\n      <td>convenient</td>\n      <td>convenient</td>\n      <td>nonprob</td>\n      <td>priority</td>\n      <td>priority</td>\n    </tr>\n    <tr>\n      <th>2</th>\n      <td>usual</td>\n      <td>proper</td>\n      <td>complete</td>\n      <td>1</td>\n      <td>convenient</td>\n      <td>convenient</td>\n      <td>nonprob</td>\n      <td>not_recom</td>\n      <td>not_recom</td>\n    </tr>\n    <tr>\n      <th>3</th>\n      <td>usual</td>\n      <td>proper</td>\n      <td>complete</td>\n      <td>1</td>\n      <td>convenient</td>\n      <td>convenient</td>\n      <td>slightly_prob</td>\n      <td>recommended</td>\n      <td>recommend</td>\n    </tr>\n    <tr>\n      <th>4</th>\n      <td>usual</td>\n      <td>proper</td>\n      <td>complete</td>\n      <td>1</td>\n      <td>convenient</td>\n      <td>convenient</td>\n      <td>slightly_prob</td>\n      <td>priority</td>\n      <td>priority</td>\n    </tr>\n    <tr>\n      <th>...</th>\n      <td>...</td>\n      <td>...</td>\n      <td>...</td>\n      <td>...</td>\n      <td>...</td>\n      <td>...</td>\n      <td>...</td>\n      <td>...</td>\n      <td>...</td>\n    </tr>\n    <tr>\n      <th>12955</th>\n      <td>great_pret</td>\n      <td>very_crit</td>\n      <td>foster</td>\n      <td>more</td>\n      <td>critical</td>\n      <td>inconv</td>\n      <td>slightly_prob</td>\n      <td>priority</td>\n      <td>spec_prior</td>\n    </tr>\n    <tr>\n      <th>12956</th>\n      <td>great_pret</td>\n      <td>very_crit</td>\n      <td>foster</td>\n      <td>more</td>\n      <td>critical</td>\n      <td>inconv</td>\n      <td>slightly_prob</td>\n      <td>not_recom</td>\n      <td>not_recom</td>\n    </tr>\n    <tr>\n      <th>12957</th>\n      <td>great_pret</td>\n      <td>very_crit</td>\n      <td>foster</td>\n      <td>more</td>\n      <td>critical</td>\n      <td>inconv</td>\n      <td>problematic</td>\n      <td>recommended</td>\n      <td>spec_prior</td>\n    </tr>\n    <tr>\n      <th>12958</th>\n      <td>great_pret</td>\n      <td>very_crit</td>\n      <td>foster</td>\n      <td>more</td>\n      <td>critical</td>\n      <td>inconv</td>\n      <td>problematic</td>\n      <td>priority</td>\n      <td>spec_prior</td>\n    </tr>\n    <tr>\n      <th>12959</th>\n      <td>great_pret</td>\n      <td>very_crit</td>\n      <td>foster</td>\n      <td>more</td>\n      <td>critical</td>\n      <td>inconv</td>\n      <td>problematic</td>\n      <td>not_recom</td>\n      <td>not_recom</td>\n    </tr>\n  </tbody>\n</table>\n<p>12960 rows × 9 columns</p>\n</div>"
     },
     "execution_count": 168,
     "metadata": {},
     "output_type": "execute_result"
    }
   ],
   "source": [
    "nursery = pd.read_csv(\"https://users.csc.calpoly.edu/~dekhtyar/466-Fall2023/data/NURSERY/nursery.csv\", skiprows=[1, 2], header=0)\n",
    "nursery"
   ],
   "metadata": {
    "collapsed": false,
    "ExecuteTime": {
     "end_time": "2023-10-12T05:02:18.623076100Z",
     "start_time": "2023-10-12T05:02:18.166993500Z"
    }
   }
  },
  {
   "cell_type": "code",
   "execution_count": 171,
   "outputs": [],
   "source": [
    "D = nursery.drop('class', axis=1)\n",
    "A = list(D.columns)\n",
    "C = nursery['class']"
   ],
   "metadata": {
    "collapsed": false,
    "ExecuteTime": {
     "end_time": "2023-10-12T05:04:41.119166700Z",
     "start_time": "2023-10-12T05:04:41.088375800Z"
    }
   }
  },
  {
   "cell_type": "code",
   "execution_count": 176,
   "outputs": [
    {
     "data": {
      "text/plain": "{'dataset': 'something.csv',\n 'node': {'var': 'health',\n  'edges': [{'edge': {'value': 'recommended',\n     'leaf': {'decision': 'priority', 'p': 0.5583333333333333}}},\n   {'edge': {'value': 'priority',\n     'node': {'var': 'has_nurs',\n      'edges': [{'edge': {'value': 'proper',\n         'node': {'var': 'parents',\n          'edges': [{'edge': {'value': 'usual',\n             'leaf': {'decision': 'priority', 'p': 1}}},\n           {'edge': {'value': 'pretentious',\n             'leaf': {'decision': 'priority', 'p': 1}}},\n           {'edge': {'value': 'great_pret',\n             'leaf': {'decision': 'spec_prior', 'p': 0.65625}}}]}}},\n       {'edge': {'value': 'less_proper',\n         'node': {'var': 'parents',\n          'edges': [{'edge': {'value': 'usual',\n             'leaf': {'decision': 'priority', 'p': 1}}},\n           {'edge': {'value': 'pretentious',\n             'leaf': {'decision': 'priority', 'p': 1}}},\n           {'edge': {'value': 'great_pret',\n             'leaf': {'decision': 'spec_prior', 'p': 0.65625}}}]}}},\n       {'edge': {'value': 'improper',\n         'node': {'var': 'parents',\n          'edges': [{'edge': {'value': 'usual',\n             'leaf': {'decision': 'priority', 'p': 1}}},\n           {'edge': {'value': 'pretentious',\n             'leaf': {'decision': 'spec_prior', 'p': 0.65625}}},\n           {'edge': {'value': 'great_pret',\n             'leaf': {'decision': 'spec_prior', 'p': 0.9895833333333334}}}]}}},\n       {'edge': {'value': 'critical',\n         'leaf': {'decision': 'spec_prior', 'p': 0.8784722222222222}}},\n       {'edge': {'value': 'very_crit',\n         'leaf': {'decision': 'spec_prior', 'p': 0.9895833333333334}}}]}}},\n   {'edge': {'value': 'not_recom',\n     'leaf': {'decision': 'not_recom', 'p': 1}}}]}}"
     },
     "execution_count": 176,
     "metadata": {},
     "output_type": "execute_result"
    }
   ],
   "source": [
    "C45(D, A, C, 0.3)"
   ],
   "metadata": {
    "collapsed": false,
    "ExecuteTime": {
     "end_time": "2023-10-12T05:07:30.990612100Z",
     "start_time": "2023-10-12T05:07:30.448306300Z"
    }
   }
  },
  {
   "cell_type": "code",
   "execution_count": null,
   "outputs": [],
   "source": [],
   "metadata": {
    "collapsed": false
   }
  }
 ],
 "metadata": {
  "kernelspec": {
   "display_name": "Python 3",
   "language": "python",
   "name": "python3"
  },
  "language_info": {
   "codemirror_mode": {
    "name": "ipython",
    "version": 2
   },
   "file_extension": ".py",
   "mimetype": "text/x-python",
   "name": "python",
   "nbconvert_exporter": "python",
   "pygments_lexer": "ipython2",
   "version": "2.7.6"
  }
 },
 "nbformat": 4,
 "nbformat_minor": 0
}

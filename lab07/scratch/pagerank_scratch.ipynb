{
 "cells": [
  {
   "cell_type": "code",
   "execution_count": 1,
   "metadata": {
    "collapsed": true,
    "ExecuteTime": {
     "end_time": "2023-12-09T06:02:43.195909100Z",
     "start_time": "2023-12-09T06:02:42.280215900Z"
    }
   },
   "outputs": [],
   "source": [
    "import pandas as pd\n",
    "import numpy as np\n",
    "import time"
   ]
  },
  {
   "cell_type": "code",
   "execution_count": 298,
   "outputs": [],
   "source": [
    "data = pd.read_csv(\"data/dolphinsDir.csv\", header=None)"
   ],
   "metadata": {
    "collapsed": false,
    "ExecuteTime": {
     "end_time": "2023-12-08T21:30:43.287558700Z",
     "start_time": "2023-12-08T21:30:43.240851300Z"
    }
   }
  },
  {
   "cell_type": "code",
   "execution_count": 299,
   "outputs": [
    {
     "data": {
      "text/plain": "           0  1            2  3\n0     Double  0          CCL  0\n1    Feather  0         DN16  0\n2    Feather  0         DN21  0\n3       Fish  0         Beak  0\n4       Fish  0       Bumper  0\n..       ... ..          ... ..\n154      Zap  0      Topless  0\n155      Zig  0  Ripplefluke  0\n156   Zipfel  0       Bumper  0\n157   Zipfel  0          SN4  0\n158   Zipfel  0        TSN83  0\n\n[159 rows x 4 columns]",
      "text/html": "<div>\n<style scoped>\n    .dataframe tbody tr th:only-of-type {\n        vertical-align: middle;\n    }\n\n    .dataframe tbody tr th {\n        vertical-align: top;\n    }\n\n    .dataframe thead th {\n        text-align: right;\n    }\n</style>\n<table border=\"1\" class=\"dataframe\">\n  <thead>\n    <tr style=\"text-align: right;\">\n      <th></th>\n      <th>0</th>\n      <th>1</th>\n      <th>2</th>\n      <th>3</th>\n    </tr>\n  </thead>\n  <tbody>\n    <tr>\n      <th>0</th>\n      <td>Double</td>\n      <td>0</td>\n      <td>CCL</td>\n      <td>0</td>\n    </tr>\n    <tr>\n      <th>1</th>\n      <td>Feather</td>\n      <td>0</td>\n      <td>DN16</td>\n      <td>0</td>\n    </tr>\n    <tr>\n      <th>2</th>\n      <td>Feather</td>\n      <td>0</td>\n      <td>DN21</td>\n      <td>0</td>\n    </tr>\n    <tr>\n      <th>3</th>\n      <td>Fish</td>\n      <td>0</td>\n      <td>Beak</td>\n      <td>0</td>\n    </tr>\n    <tr>\n      <th>4</th>\n      <td>Fish</td>\n      <td>0</td>\n      <td>Bumper</td>\n      <td>0</td>\n    </tr>\n    <tr>\n      <th>...</th>\n      <td>...</td>\n      <td>...</td>\n      <td>...</td>\n      <td>...</td>\n    </tr>\n    <tr>\n      <th>154</th>\n      <td>Zap</td>\n      <td>0</td>\n      <td>Topless</td>\n      <td>0</td>\n    </tr>\n    <tr>\n      <th>155</th>\n      <td>Zig</td>\n      <td>0</td>\n      <td>Ripplefluke</td>\n      <td>0</td>\n    </tr>\n    <tr>\n      <th>156</th>\n      <td>Zipfel</td>\n      <td>0</td>\n      <td>Bumper</td>\n      <td>0</td>\n    </tr>\n    <tr>\n      <th>157</th>\n      <td>Zipfel</td>\n      <td>0</td>\n      <td>SN4</td>\n      <td>0</td>\n    </tr>\n    <tr>\n      <th>158</th>\n      <td>Zipfel</td>\n      <td>0</td>\n      <td>TSN83</td>\n      <td>0</td>\n    </tr>\n  </tbody>\n</table>\n<p>159 rows × 4 columns</p>\n</div>"
     },
     "execution_count": 299,
     "metadata": {},
     "output_type": "execute_result"
    }
   ],
   "source": [
    "data"
   ],
   "metadata": {
    "collapsed": false,
    "ExecuteTime": {
     "end_time": "2023-12-08T21:30:44.158331600Z",
     "start_time": "2023-12-08T21:30:44.079277900Z"
    }
   }
  },
  {
   "cell_type": "code",
   "execution_count": 300,
   "outputs": [
    {
     "data": {
      "text/plain": "{'Double': ['CCL'],\n 'Feather': ['DN16', 'DN21'],\n 'Fish': ['Beak', 'Bumper'],\n 'Gallatin': ['DN16', 'DN21', 'Feather'],\n 'Grin': ['CCL', 'Beak'],\n 'Haecksel': ['Beak'],\n 'Hook': ['Grin'],\n 'Jet': ['Beescratch', 'DN21', 'Feather', 'Gallatin'],\n 'Jonah': ['Haecksel'],\n 'Knit': ['DN63', 'Beescratch'],\n 'Kringel': ['Double', 'Hook', 'Jonah'],\n 'MN105': ['Jonah'],\n 'MN23': ['Jet'],\n 'MN83': ['Grin', 'Haecksel', 'Jonah'],\n 'Mus': ['Jet'],\n 'Notch': ['Beescratch', 'Mus'],\n 'Number1': ['Beescratch', 'DN63', 'Jet', 'Mus', 'Notch'],\n 'Oscar': ['Kringel', 'Double', 'Beescratch'],\n 'Patchback': ['Fish', 'Jonah', 'MN105', 'MN83'],\n 'PL': ['DN63', 'Knit', 'Oscar'],\n 'Quasi': ['Jet'],\n 'Ripplefluke': ['Feather', 'Gallatin'],\n 'Scabs': ['MN105', 'Hook', 'Grin', 'Fork'],\n 'Shmuddel': ['Grin', 'Scabs'],\n 'SMN5': ['Patchback'],\n 'SN100': ['Beescratch', 'Kringel', 'MN60'],\n 'SN4': ['Hook', 'Double', 'Grin', 'MN105', 'Scabs', 'Shmuddel', 'SN100'],\n 'SN63': ['Scabs', 'Kringel', 'Hook', 'Grin'],\n 'SN89': ['SN100'],\n 'SN9': ['Beak', 'Grin', 'DN63', 'Haecksel', 'Scabs', 'SN100', 'SN4'],\n 'SN90': ['Feather', 'Beescratch', 'Gallatin'],\n 'SN96': ['Beak', 'Bumper', 'Fish', 'PL'],\n 'Stripes': ['SN63', 'SN4', 'Scabs', 'Patchback', 'Grin'],\n 'Thumper': ['SN63', 'Shmuddel', 'Kringel', 'Bumper'],\n 'Topless': ['MN83',\n  'Patchback',\n  'MN60',\n  'MN105',\n  'Jonah',\n  'Haecksel',\n  'Double',\n  'SN4'],\n 'TR120': ['Stripes'],\n 'TR77': ['SN96', 'PL', 'Oscar', 'Kringel', 'Fish', 'Beak'],\n 'TR88': ['TR120', 'Shmuddel'],\n 'TR99': ['Grin', 'Scabs', 'Kringel', 'Topless', 'Hook', 'SN96'],\n 'Trigger': ['TR99',\n  'Topless',\n  'Cross',\n  'MN83',\n  'MN60',\n  'MN105',\n  'Jonah',\n  'Five',\n  'Patchback'],\n 'TSN103': ['SN9', 'SN63', 'Patchback', 'Grin'],\n 'TSN83': ['Stripes'],\n 'Upbang': ['SN90', 'Knit', 'Gallatin', 'DN21', 'Beescratch', 'DN63'],\n 'Vau': ['Haecksel', 'Trigger'],\n 'Wave': ['DN16', 'DN21'],\n 'Web': ['SN90',\n  'TR82',\n  'Upbang',\n  'SN89',\n  'DN21',\n  'Gallatin',\n  'Feather',\n  'DN16',\n  'Jet'],\n 'Whitetip': ['SN63'],\n 'Zap': ['CCL', 'Double', 'Haecksel', 'SN100', 'Topless'],\n 'Zig': ['Ripplefluke'],\n 'Zipfel': ['SN4', 'Bumper', 'TSN83']}"
     },
     "execution_count": 300,
     "metadata": {},
     "output_type": "execute_result"
    }
   ],
   "source": [
    "dict_final = {node: list(data.set_index(0).sort_index().loc[node, 2])\n",
    "    if isinstance(data.set_index(0).loc[node, 2], pd.Series)\n",
    "    else [data.set_index(0).loc[node, 2]]\n",
    " for node in data[0].unique()}\n",
    "dict_final"
   ],
   "metadata": {
    "collapsed": false,
    "ExecuteTime": {
     "end_time": "2023-12-08T21:31:01.363047Z",
     "start_time": "2023-12-08T21:31:01.171356300Z"
    }
   }
  },
  {
   "cell_type": "code",
   "execution_count": 42,
   "outputs": [
    {
     "data": {
      "text/plain": "{'CCL': ['Double', 'Zap', 'Grin'],\n 'DN16': ['Web', 'Wave', 'Feather', 'Gallatin'],\n 'DN21': ['Upbang', 'Web', 'Wave', 'Feather', 'Jet', 'Gallatin'],\n 'Beak': ['Grin', 'SN9', 'Fish', 'SN96', 'Haecksel', 'TR77'],\n 'Bumper': ['Zipfel', 'Thumper', 'SN96', 'Fish'],\n 'Feather': ['Gallatin', 'Jet', 'Ripplefluke', 'SN90', 'Web'],\n 'Grin': ['Scabs',\n  'Shmuddel',\n  'SN4',\n  'TSN103',\n  'Hook',\n  'Stripes',\n  'SN9',\n  'SN63',\n  'MN83',\n  'TR99'],\n 'Beescratch': ['Number1',\n  'Upbang',\n  'Oscar',\n  'Jet',\n  'SN100',\n  'SN90',\n  'Notch',\n  'Knit'],\n 'Gallatin': ['Web', 'Upbang', 'SN90', 'Jet', 'Ripplefluke'],\n 'Haecksel': ['Zap', 'MN83', 'Jonah', 'Topless', 'Vau', 'SN9'],\n 'DN63': ['Knit', 'SN9', 'Number1', 'Upbang', 'PL'],\n 'Double': ['Topless', 'Kringel', 'Oscar', 'Zap', 'SN4'],\n 'Hook': ['TR99', 'Kringel', 'SN63', 'SN4', 'Scabs'],\n 'Jonah': ['Topless', 'Kringel', 'Trigger', 'MN105', 'MN83', 'Patchback'],\n 'Jet': ['Number1', 'Mus', 'Quasi', 'Web', 'MN23'],\n 'Mus': ['Notch', 'Number1'],\n 'Notch': ['Number1'],\n 'Kringel': ['TR99', 'SN63', 'Thumper', 'TR77', 'Oscar', 'SN100'],\n 'Fish': ['TR77', 'SN96', 'Patchback'],\n 'MN105': ['Trigger', 'Topless', 'SN4', 'Patchback', 'Scabs'],\n 'MN83': ['Trigger', 'Topless', 'Patchback'],\n 'Knit': ['Upbang', 'PL'],\n 'Oscar': ['PL', 'TR77'],\n 'Fork': ['Scabs'],\n 'Scabs': ['Shmuddel', 'SN4', 'SN63', 'TR99', 'SN9', 'Stripes'],\n 'Patchback': ['Stripes', 'SMN5', 'Trigger', 'TSN103', 'Topless'],\n 'MN60': ['SN100', 'Topless', 'Trigger'],\n 'Shmuddel': ['SN4', 'TR88', 'Thumper'],\n 'SN100': ['SN4', 'Zap', 'SN9', 'SN89'],\n 'SN4': ['Topless', 'Zipfel', 'Stripes', 'SN9'],\n 'PL': ['SN96', 'TR77'],\n 'SN63': ['TSN103', 'Thumper', 'Stripes', 'Whitetip'],\n 'Stripes': ['TSN83', 'TR120'],\n 'SN96': ['TR77', 'TR99'],\n 'TR120': ['TR88'],\n 'Topless': ['TR99', 'Zap', 'Trigger'],\n 'Cross': ['Trigger'],\n 'Five': ['Trigger'],\n 'TR99': ['Trigger'],\n 'SN9': ['TSN103'],\n 'SN90': ['Upbang', 'Web'],\n 'Trigger': ['Vau'],\n 'SN89': ['Web'],\n 'TR82': ['Web'],\n 'Upbang': ['Web'],\n 'Ripplefluke': ['Zig'],\n 'TSN83': ['Zipfel']}"
     },
     "execution_count": 42,
     "metadata": {},
     "output_type": "execute_result"
    }
   ],
   "source": [
    "dict_2 = {node: list(data.set_index(2).sort_index().loc[node, 0])\n",
    "    if isinstance(data.set_index(2).loc[node, 0], pd.Series)\n",
    "    else [data.set_index(2).loc[node, 0]]\n",
    " for node in data[2].unique()}\n",
    "dict_2"
   ],
   "metadata": {
    "collapsed": false,
    "ExecuteTime": {
     "end_time": "2023-12-08T07:22:24.765404100Z",
     "start_time": "2023-12-08T07:22:24.698236100Z"
    }
   }
  },
  {
   "cell_type": "code",
   "execution_count": 63,
   "outputs": [],
   "source": [
    "dict_final = pd.concat([pd.Series(dict_2), pd.Series(dict_0)], axis=1).map(lambda d: d if isinstance(d, list) else []).sum(axis=1).sort_index().to_dict()"
   ],
   "metadata": {
    "collapsed": false,
    "ExecuteTime": {
     "end_time": "2023-12-08T07:32:33.752890200Z",
     "start_time": "2023-12-08T07:32:33.736288500Z"
    }
   }
  },
  {
   "cell_type": "code",
   "execution_count": 222,
   "outputs": [
    {
     "data": {
      "text/plain": "             Double  Feather  Fish  Gallatin  Grin  Haecksel  Hook  Jet  \\\nDouble          0.0      0.0   0.0       0.0   0.0       0.0   0.0  0.0   \nFeather         0.0      0.0   0.0       0.0   0.0       0.0   0.0  0.0   \nFish            0.0      0.0   0.0       0.0   0.0       0.0   0.0  0.0   \nGallatin        0.0      0.0   0.0       0.0   0.0       0.0   0.0  0.0   \nGrin            0.0      0.0   0.0       0.0   0.0       0.0   0.0  0.0   \nHaecksel        0.0      0.0   0.0       0.0   0.0       0.0   0.0  0.0   \nHook            0.0      0.0   0.0       0.0   0.0       0.0   0.0  0.0   \nJet             0.0      0.0   0.0       0.0   0.0       0.0   0.0  0.0   \nJonah           0.0      0.0   0.0       0.0   0.0       0.0   0.0  0.0   \nKnit            0.0      0.0   0.0       0.0   0.0       0.0   0.0  0.0   \nKringel         0.0      0.0   0.0       0.0   0.0       0.0   0.0  0.0   \nMN105           0.0      0.0   0.0       0.0   0.0       0.0   0.0  0.0   \nMN23            0.0      0.0   0.0       0.0   0.0       0.0   0.0  0.0   \nMN83            0.0      0.0   0.0       0.0   0.0       0.0   0.0  0.0   \nMus             0.0      0.0   0.0       0.0   0.0       0.0   0.0  0.0   \nNotch           0.0      0.0   0.0       0.0   0.0       0.0   0.0  0.0   \nNumber1         0.0      0.0   0.0       0.0   0.0       0.0   0.0  0.0   \nOscar           0.0      0.0   0.0       0.0   0.0       0.0   0.0  0.0   \nPatchback       0.0      0.0   0.0       0.0   0.0       0.0   0.0  0.0   \nPL              0.0      0.0   0.0       0.0   0.0       0.0   0.0  0.0   \nQuasi           0.0      0.0   0.0       0.0   0.0       0.0   0.0  0.0   \nRipplefluke     0.0      0.0   0.0       0.0   0.0       0.0   0.0  0.0   \nScabs           0.0      0.0   0.0       0.0   0.0       0.0   0.0  0.0   \nShmuddel        0.0      0.0   0.0       0.0   0.0       0.0   0.0  0.0   \nSMN5            0.0      0.0   0.0       0.0   0.0       0.0   0.0  0.0   \nSN100           0.0      0.0   0.0       0.0   0.0       0.0   0.0  0.0   \nSN4             0.0      0.0   0.0       0.0   0.0       0.0   0.0  0.0   \nSN63            0.0      0.0   0.0       0.0   0.0       0.0   0.0  0.0   \nSN89            0.0      0.0   0.0       0.0   0.0       0.0   0.0  0.0   \nSN9             0.0      0.0   0.0       0.0   0.0       0.0   0.0  0.0   \nSN90            0.0      0.0   0.0       0.0   0.0       0.0   0.0  0.0   \nSN96            0.0      0.0   0.0       0.0   0.0       0.0   0.0  0.0   \nStripes         0.0      0.0   0.0       0.0   0.0       0.0   0.0  0.0   \nThumper         0.0      0.0   0.0       0.0   0.0       0.0   0.0  0.0   \nTopless         0.0      0.0   0.0       0.0   0.0       0.0   0.0  0.0   \nTR120           0.0      0.0   0.0       0.0   0.0       0.0   0.0  0.0   \nTR77            0.0      0.0   0.0       0.0   0.0       0.0   0.0  0.0   \nTR88            0.0      0.0   0.0       0.0   0.0       0.0   0.0  0.0   \nTR99            0.0      0.0   0.0       0.0   0.0       0.0   0.0  0.0   \nTrigger         0.0      0.0   0.0       0.0   0.0       0.0   0.0  0.0   \nTSN103          0.0      0.0   0.0       0.0   0.0       0.0   0.0  0.0   \nTSN83           0.0      0.0   0.0       0.0   0.0       0.0   0.0  0.0   \nUpbang          0.0      0.0   0.0       0.0   0.0       0.0   0.0  0.0   \nVau             0.0      0.0   0.0       0.0   0.0       0.0   0.0  0.0   \nWave            0.0      0.0   0.0       0.0   0.0       0.0   0.0  0.0   \nWeb             0.0      0.0   0.0       0.0   0.0       0.0   0.0  0.0   \nWhitetip        0.0      0.0   0.0       0.0   0.0       0.0   0.0  0.0   \nZap             0.0      0.0   0.0       0.0   0.0       0.0   0.0  0.0   \nZig             0.0      0.0   0.0       0.0   0.0       0.0   0.0  0.0   \nZipfel          0.0      0.0   0.0       0.0   0.0       0.0   0.0  0.0   \n\n             Jonah  Knit  ...  TSN103  TSN83  Upbang  Vau  Wave  Web  \\\nDouble         0.0   0.0  ...     0.0    0.0     0.0  0.0   0.0  0.0   \nFeather        0.0   0.0  ...     0.0    0.0     0.0  0.0   0.0  0.0   \nFish           0.0   0.0  ...     0.0    0.0     0.0  0.0   0.0  0.0   \nGallatin       0.0   0.0  ...     0.0    0.0     0.0  0.0   0.0  0.0   \nGrin           0.0   0.0  ...     0.0    0.0     0.0  0.0   0.0  0.0   \nHaecksel       0.0   0.0  ...     0.0    0.0     0.0  0.0   0.0  0.0   \nHook           0.0   0.0  ...     0.0    0.0     0.0  0.0   0.0  0.0   \nJet            0.0   0.0  ...     0.0    0.0     0.0  0.0   0.0  0.0   \nJonah          0.0   0.0  ...     0.0    0.0     0.0  0.0   0.0  0.0   \nKnit           0.0   0.0  ...     0.0    0.0     0.0  0.0   0.0  0.0   \nKringel        0.0   0.0  ...     0.0    0.0     0.0  0.0   0.0  0.0   \nMN105          0.0   0.0  ...     0.0    0.0     0.0  0.0   0.0  0.0   \nMN23           0.0   0.0  ...     0.0    0.0     0.0  0.0   0.0  0.0   \nMN83           0.0   0.0  ...     0.0    0.0     0.0  0.0   0.0  0.0   \nMus            0.0   0.0  ...     0.0    0.0     0.0  0.0   0.0  0.0   \nNotch          0.0   0.0  ...     0.0    0.0     0.0  0.0   0.0  0.0   \nNumber1        0.0   0.0  ...     0.0    0.0     0.0  0.0   0.0  0.0   \nOscar          0.0   0.0  ...     0.0    0.0     0.0  0.0   0.0  0.0   \nPatchback      0.0   0.0  ...     0.0    0.0     0.0  0.0   0.0  0.0   \nPL             0.0   0.0  ...     0.0    0.0     0.0  0.0   0.0  0.0   \nQuasi          0.0   0.0  ...     0.0    0.0     0.0  0.0   0.0  0.0   \nRipplefluke    0.0   0.0  ...     0.0    0.0     0.0  0.0   0.0  0.0   \nScabs          0.0   0.0  ...     0.0    0.0     0.0  0.0   0.0  0.0   \nShmuddel       0.0   0.0  ...     0.0    0.0     0.0  0.0   0.0  0.0   \nSMN5           0.0   0.0  ...     0.0    0.0     0.0  0.0   0.0  0.0   \nSN100          0.0   0.0  ...     0.0    0.0     0.0  0.0   0.0  0.0   \nSN4            0.0   0.0  ...     0.0    0.0     0.0  0.0   0.0  0.0   \nSN63           0.0   0.0  ...     0.0    0.0     0.0  0.0   0.0  0.0   \nSN89           0.0   0.0  ...     0.0    0.0     0.0  0.0   0.0  0.0   \nSN9            0.0   0.0  ...     0.0    0.0     0.0  0.0   0.0  0.0   \nSN90           0.0   0.0  ...     0.0    0.0     0.0  0.0   0.0  0.0   \nSN96           0.0   0.0  ...     0.0    0.0     0.0  0.0   0.0  0.0   \nStripes        0.0   0.0  ...     0.0    0.0     0.0  0.0   0.0  0.0   \nThumper        0.0   0.0  ...     0.0    0.0     0.0  0.0   0.0  0.0   \nTopless        0.0   0.0  ...     0.0    0.0     0.0  0.0   0.0  0.0   \nTR120          0.0   0.0  ...     0.0    0.0     0.0  0.0   0.0  0.0   \nTR77           0.0   0.0  ...     0.0    0.0     0.0  0.0   0.0  0.0   \nTR88           0.0   0.0  ...     0.0    0.0     0.0  0.0   0.0  0.0   \nTR99           0.0   0.0  ...     0.0    0.0     0.0  0.0   0.0  0.0   \nTrigger        0.0   0.0  ...     0.0    0.0     0.0  0.0   0.0  0.0   \nTSN103         0.0   0.0  ...     0.0    0.0     0.0  0.0   0.0  0.0   \nTSN83          0.0   0.0  ...     0.0    0.0     0.0  0.0   0.0  0.0   \nUpbang         0.0   0.0  ...     0.0    0.0     0.0  0.0   0.0  0.0   \nVau            0.0   0.0  ...     0.0    0.0     0.0  0.0   0.0  0.0   \nWave           0.0   0.0  ...     0.0    0.0     0.0  0.0   0.0  0.0   \nWeb            0.0   0.0  ...     0.0    0.0     0.0  0.0   0.0  0.0   \nWhitetip       0.0   0.0  ...     0.0    0.0     0.0  0.0   0.0  0.0   \nZap            0.0   0.0  ...     0.0    0.0     0.0  0.0   0.0  0.0   \nZig            0.0   0.0  ...     0.0    0.0     0.0  0.0   0.0  0.0   \nZipfel         0.0   0.0  ...     0.0    0.0     0.0  0.0   0.0  0.0   \n\n             Whitetip  Zap  Zig  Zipfel  \nDouble            0.0  0.0  0.0     0.0  \nFeather           0.0  0.0  0.0     0.0  \nFish              0.0  0.0  0.0     0.0  \nGallatin          0.0  0.0  0.0     0.0  \nGrin              0.0  0.0  0.0     0.0  \nHaecksel          0.0  0.0  0.0     0.0  \nHook              0.0  0.0  0.0     0.0  \nJet               0.0  0.0  0.0     0.0  \nJonah             0.0  0.0  0.0     0.0  \nKnit              0.0  0.0  0.0     0.0  \nKringel           0.0  0.0  0.0     0.0  \nMN105             0.0  0.0  0.0     0.0  \nMN23              0.0  0.0  0.0     0.0  \nMN83              0.0  0.0  0.0     0.0  \nMus               0.0  0.0  0.0     0.0  \nNotch             0.0  0.0  0.0     0.0  \nNumber1           0.0  0.0  0.0     0.0  \nOscar             0.0  0.0  0.0     0.0  \nPatchback         0.0  0.0  0.0     0.0  \nPL                0.0  0.0  0.0     0.0  \nQuasi             0.0  0.0  0.0     0.0  \nRipplefluke       0.0  0.0  0.0     0.0  \nScabs             0.0  0.0  0.0     0.0  \nShmuddel          0.0  0.0  0.0     0.0  \nSMN5              0.0  0.0  0.0     0.0  \nSN100             0.0  0.0  0.0     0.0  \nSN4               0.0  0.0  0.0     0.0  \nSN63              0.0  0.0  0.0     0.0  \nSN89              0.0  0.0  0.0     0.0  \nSN9               0.0  0.0  0.0     0.0  \nSN90              0.0  0.0  0.0     0.0  \nSN96              0.0  0.0  0.0     0.0  \nStripes           0.0  0.0  0.0     0.0  \nThumper           0.0  0.0  0.0     0.0  \nTopless           0.0  0.0  0.0     0.0  \nTR120             0.0  0.0  0.0     0.0  \nTR77              0.0  0.0  0.0     0.0  \nTR88              0.0  0.0  0.0     0.0  \nTR99              0.0  0.0  0.0     0.0  \nTrigger           0.0  0.0  0.0     0.0  \nTSN103            0.0  0.0  0.0     0.0  \nTSN83             0.0  0.0  0.0     0.0  \nUpbang            0.0  0.0  0.0     0.0  \nVau               0.0  0.0  0.0     0.0  \nWave              0.0  0.0  0.0     0.0  \nWeb               0.0  0.0  0.0     0.0  \nWhitetip          0.0  0.0  0.0     0.0  \nZap               0.0  0.0  0.0     0.0  \nZig               0.0  0.0  0.0     0.0  \nZipfel            0.0  0.0  0.0     0.0  \n\n[50 rows x 50 columns]",
      "text/html": "<div>\n<style scoped>\n    .dataframe tbody tr th:only-of-type {\n        vertical-align: middle;\n    }\n\n    .dataframe tbody tr th {\n        vertical-align: top;\n    }\n\n    .dataframe thead th {\n        text-align: right;\n    }\n</style>\n<table border=\"1\" class=\"dataframe\">\n  <thead>\n    <tr style=\"text-align: right;\">\n      <th></th>\n      <th>Double</th>\n      <th>Feather</th>\n      <th>Fish</th>\n      <th>Gallatin</th>\n      <th>Grin</th>\n      <th>Haecksel</th>\n      <th>Hook</th>\n      <th>Jet</th>\n      <th>Jonah</th>\n      <th>Knit</th>\n      <th>...</th>\n      <th>TSN103</th>\n      <th>TSN83</th>\n      <th>Upbang</th>\n      <th>Vau</th>\n      <th>Wave</th>\n      <th>Web</th>\n      <th>Whitetip</th>\n      <th>Zap</th>\n      <th>Zig</th>\n      <th>Zipfel</th>\n    </tr>\n  </thead>\n  <tbody>\n    <tr>\n      <th>Double</th>\n      <td>0.0</td>\n      <td>0.0</td>\n      <td>0.0</td>\n      <td>0.0</td>\n      <td>0.0</td>\n      <td>0.0</td>\n      <td>0.0</td>\n      <td>0.0</td>\n      <td>0.0</td>\n      <td>0.0</td>\n      <td>...</td>\n      <td>0.0</td>\n      <td>0.0</td>\n      <td>0.0</td>\n      <td>0.0</td>\n      <td>0.0</td>\n      <td>0.0</td>\n      <td>0.0</td>\n      <td>0.0</td>\n      <td>0.0</td>\n      <td>0.0</td>\n    </tr>\n    <tr>\n      <th>Feather</th>\n      <td>0.0</td>\n      <td>0.0</td>\n      <td>0.0</td>\n      <td>0.0</td>\n      <td>0.0</td>\n      <td>0.0</td>\n      <td>0.0</td>\n      <td>0.0</td>\n      <td>0.0</td>\n      <td>0.0</td>\n      <td>...</td>\n      <td>0.0</td>\n      <td>0.0</td>\n      <td>0.0</td>\n      <td>0.0</td>\n      <td>0.0</td>\n      <td>0.0</td>\n      <td>0.0</td>\n      <td>0.0</td>\n      <td>0.0</td>\n      <td>0.0</td>\n    </tr>\n    <tr>\n      <th>Fish</th>\n      <td>0.0</td>\n      <td>0.0</td>\n      <td>0.0</td>\n      <td>0.0</td>\n      <td>0.0</td>\n      <td>0.0</td>\n      <td>0.0</td>\n      <td>0.0</td>\n      <td>0.0</td>\n      <td>0.0</td>\n      <td>...</td>\n      <td>0.0</td>\n      <td>0.0</td>\n      <td>0.0</td>\n      <td>0.0</td>\n      <td>0.0</td>\n      <td>0.0</td>\n      <td>0.0</td>\n      <td>0.0</td>\n      <td>0.0</td>\n      <td>0.0</td>\n    </tr>\n    <tr>\n      <th>Gallatin</th>\n      <td>0.0</td>\n      <td>0.0</td>\n      <td>0.0</td>\n      <td>0.0</td>\n      <td>0.0</td>\n      <td>0.0</td>\n      <td>0.0</td>\n      <td>0.0</td>\n      <td>0.0</td>\n      <td>0.0</td>\n      <td>...</td>\n      <td>0.0</td>\n      <td>0.0</td>\n      <td>0.0</td>\n      <td>0.0</td>\n      <td>0.0</td>\n      <td>0.0</td>\n      <td>0.0</td>\n      <td>0.0</td>\n      <td>0.0</td>\n      <td>0.0</td>\n    </tr>\n    <tr>\n      <th>Grin</th>\n      <td>0.0</td>\n      <td>0.0</td>\n      <td>0.0</td>\n      <td>0.0</td>\n      <td>0.0</td>\n      <td>0.0</td>\n      <td>0.0</td>\n      <td>0.0</td>\n      <td>0.0</td>\n      <td>0.0</td>\n      <td>...</td>\n      <td>0.0</td>\n      <td>0.0</td>\n      <td>0.0</td>\n      <td>0.0</td>\n      <td>0.0</td>\n      <td>0.0</td>\n      <td>0.0</td>\n      <td>0.0</td>\n      <td>0.0</td>\n      <td>0.0</td>\n    </tr>\n    <tr>\n      <th>Haecksel</th>\n      <td>0.0</td>\n      <td>0.0</td>\n      <td>0.0</td>\n      <td>0.0</td>\n      <td>0.0</td>\n      <td>0.0</td>\n      <td>0.0</td>\n      <td>0.0</td>\n      <td>0.0</td>\n      <td>0.0</td>\n      <td>...</td>\n      <td>0.0</td>\n      <td>0.0</td>\n      <td>0.0</td>\n      <td>0.0</td>\n      <td>0.0</td>\n      <td>0.0</td>\n      <td>0.0</td>\n      <td>0.0</td>\n      <td>0.0</td>\n      <td>0.0</td>\n    </tr>\n    <tr>\n      <th>Hook</th>\n      <td>0.0</td>\n      <td>0.0</td>\n      <td>0.0</td>\n      <td>0.0</td>\n      <td>0.0</td>\n      <td>0.0</td>\n      <td>0.0</td>\n      <td>0.0</td>\n      <td>0.0</td>\n      <td>0.0</td>\n      <td>...</td>\n      <td>0.0</td>\n      <td>0.0</td>\n      <td>0.0</td>\n      <td>0.0</td>\n      <td>0.0</td>\n      <td>0.0</td>\n      <td>0.0</td>\n      <td>0.0</td>\n      <td>0.0</td>\n      <td>0.0</td>\n    </tr>\n    <tr>\n      <th>Jet</th>\n      <td>0.0</td>\n      <td>0.0</td>\n      <td>0.0</td>\n      <td>0.0</td>\n      <td>0.0</td>\n      <td>0.0</td>\n      <td>0.0</td>\n      <td>0.0</td>\n      <td>0.0</td>\n      <td>0.0</td>\n      <td>...</td>\n      <td>0.0</td>\n      <td>0.0</td>\n      <td>0.0</td>\n      <td>0.0</td>\n      <td>0.0</td>\n      <td>0.0</td>\n      <td>0.0</td>\n      <td>0.0</td>\n      <td>0.0</td>\n      <td>0.0</td>\n    </tr>\n    <tr>\n      <th>Jonah</th>\n      <td>0.0</td>\n      <td>0.0</td>\n      <td>0.0</td>\n      <td>0.0</td>\n      <td>0.0</td>\n      <td>0.0</td>\n      <td>0.0</td>\n      <td>0.0</td>\n      <td>0.0</td>\n      <td>0.0</td>\n      <td>...</td>\n      <td>0.0</td>\n      <td>0.0</td>\n      <td>0.0</td>\n      <td>0.0</td>\n      <td>0.0</td>\n      <td>0.0</td>\n      <td>0.0</td>\n      <td>0.0</td>\n      <td>0.0</td>\n      <td>0.0</td>\n    </tr>\n    <tr>\n      <th>Knit</th>\n      <td>0.0</td>\n      <td>0.0</td>\n      <td>0.0</td>\n      <td>0.0</td>\n      <td>0.0</td>\n      <td>0.0</td>\n      <td>0.0</td>\n      <td>0.0</td>\n      <td>0.0</td>\n      <td>0.0</td>\n      <td>...</td>\n      <td>0.0</td>\n      <td>0.0</td>\n      <td>0.0</td>\n      <td>0.0</td>\n      <td>0.0</td>\n      <td>0.0</td>\n      <td>0.0</td>\n      <td>0.0</td>\n      <td>0.0</td>\n      <td>0.0</td>\n    </tr>\n    <tr>\n      <th>Kringel</th>\n      <td>0.0</td>\n      <td>0.0</td>\n      <td>0.0</td>\n      <td>0.0</td>\n      <td>0.0</td>\n      <td>0.0</td>\n      <td>0.0</td>\n      <td>0.0</td>\n      <td>0.0</td>\n      <td>0.0</td>\n      <td>...</td>\n      <td>0.0</td>\n      <td>0.0</td>\n      <td>0.0</td>\n      <td>0.0</td>\n      <td>0.0</td>\n      <td>0.0</td>\n      <td>0.0</td>\n      <td>0.0</td>\n      <td>0.0</td>\n      <td>0.0</td>\n    </tr>\n    <tr>\n      <th>MN105</th>\n      <td>0.0</td>\n      <td>0.0</td>\n      <td>0.0</td>\n      <td>0.0</td>\n      <td>0.0</td>\n      <td>0.0</td>\n      <td>0.0</td>\n      <td>0.0</td>\n      <td>0.0</td>\n      <td>0.0</td>\n      <td>...</td>\n      <td>0.0</td>\n      <td>0.0</td>\n      <td>0.0</td>\n      <td>0.0</td>\n      <td>0.0</td>\n      <td>0.0</td>\n      <td>0.0</td>\n      <td>0.0</td>\n      <td>0.0</td>\n      <td>0.0</td>\n    </tr>\n    <tr>\n      <th>MN23</th>\n      <td>0.0</td>\n      <td>0.0</td>\n      <td>0.0</td>\n      <td>0.0</td>\n      <td>0.0</td>\n      <td>0.0</td>\n      <td>0.0</td>\n      <td>0.0</td>\n      <td>0.0</td>\n      <td>0.0</td>\n      <td>...</td>\n      <td>0.0</td>\n      <td>0.0</td>\n      <td>0.0</td>\n      <td>0.0</td>\n      <td>0.0</td>\n      <td>0.0</td>\n      <td>0.0</td>\n      <td>0.0</td>\n      <td>0.0</td>\n      <td>0.0</td>\n    </tr>\n    <tr>\n      <th>MN83</th>\n      <td>0.0</td>\n      <td>0.0</td>\n      <td>0.0</td>\n      <td>0.0</td>\n      <td>0.0</td>\n      <td>0.0</td>\n      <td>0.0</td>\n      <td>0.0</td>\n      <td>0.0</td>\n      <td>0.0</td>\n      <td>...</td>\n      <td>0.0</td>\n      <td>0.0</td>\n      <td>0.0</td>\n      <td>0.0</td>\n      <td>0.0</td>\n      <td>0.0</td>\n      <td>0.0</td>\n      <td>0.0</td>\n      <td>0.0</td>\n      <td>0.0</td>\n    </tr>\n    <tr>\n      <th>Mus</th>\n      <td>0.0</td>\n      <td>0.0</td>\n      <td>0.0</td>\n      <td>0.0</td>\n      <td>0.0</td>\n      <td>0.0</td>\n      <td>0.0</td>\n      <td>0.0</td>\n      <td>0.0</td>\n      <td>0.0</td>\n      <td>...</td>\n      <td>0.0</td>\n      <td>0.0</td>\n      <td>0.0</td>\n      <td>0.0</td>\n      <td>0.0</td>\n      <td>0.0</td>\n      <td>0.0</td>\n      <td>0.0</td>\n      <td>0.0</td>\n      <td>0.0</td>\n    </tr>\n    <tr>\n      <th>Notch</th>\n      <td>0.0</td>\n      <td>0.0</td>\n      <td>0.0</td>\n      <td>0.0</td>\n      <td>0.0</td>\n      <td>0.0</td>\n      <td>0.0</td>\n      <td>0.0</td>\n      <td>0.0</td>\n      <td>0.0</td>\n      <td>...</td>\n      <td>0.0</td>\n      <td>0.0</td>\n      <td>0.0</td>\n      <td>0.0</td>\n      <td>0.0</td>\n      <td>0.0</td>\n      <td>0.0</td>\n      <td>0.0</td>\n      <td>0.0</td>\n      <td>0.0</td>\n    </tr>\n    <tr>\n      <th>Number1</th>\n      <td>0.0</td>\n      <td>0.0</td>\n      <td>0.0</td>\n      <td>0.0</td>\n      <td>0.0</td>\n      <td>0.0</td>\n      <td>0.0</td>\n      <td>0.0</td>\n      <td>0.0</td>\n      <td>0.0</td>\n      <td>...</td>\n      <td>0.0</td>\n      <td>0.0</td>\n      <td>0.0</td>\n      <td>0.0</td>\n      <td>0.0</td>\n      <td>0.0</td>\n      <td>0.0</td>\n      <td>0.0</td>\n      <td>0.0</td>\n      <td>0.0</td>\n    </tr>\n    <tr>\n      <th>Oscar</th>\n      <td>0.0</td>\n      <td>0.0</td>\n      <td>0.0</td>\n      <td>0.0</td>\n      <td>0.0</td>\n      <td>0.0</td>\n      <td>0.0</td>\n      <td>0.0</td>\n      <td>0.0</td>\n      <td>0.0</td>\n      <td>...</td>\n      <td>0.0</td>\n      <td>0.0</td>\n      <td>0.0</td>\n      <td>0.0</td>\n      <td>0.0</td>\n      <td>0.0</td>\n      <td>0.0</td>\n      <td>0.0</td>\n      <td>0.0</td>\n      <td>0.0</td>\n    </tr>\n    <tr>\n      <th>Patchback</th>\n      <td>0.0</td>\n      <td>0.0</td>\n      <td>0.0</td>\n      <td>0.0</td>\n      <td>0.0</td>\n      <td>0.0</td>\n      <td>0.0</td>\n      <td>0.0</td>\n      <td>0.0</td>\n      <td>0.0</td>\n      <td>...</td>\n      <td>0.0</td>\n      <td>0.0</td>\n      <td>0.0</td>\n      <td>0.0</td>\n      <td>0.0</td>\n      <td>0.0</td>\n      <td>0.0</td>\n      <td>0.0</td>\n      <td>0.0</td>\n      <td>0.0</td>\n    </tr>\n    <tr>\n      <th>PL</th>\n      <td>0.0</td>\n      <td>0.0</td>\n      <td>0.0</td>\n      <td>0.0</td>\n      <td>0.0</td>\n      <td>0.0</td>\n      <td>0.0</td>\n      <td>0.0</td>\n      <td>0.0</td>\n      <td>0.0</td>\n      <td>...</td>\n      <td>0.0</td>\n      <td>0.0</td>\n      <td>0.0</td>\n      <td>0.0</td>\n      <td>0.0</td>\n      <td>0.0</td>\n      <td>0.0</td>\n      <td>0.0</td>\n      <td>0.0</td>\n      <td>0.0</td>\n    </tr>\n    <tr>\n      <th>Quasi</th>\n      <td>0.0</td>\n      <td>0.0</td>\n      <td>0.0</td>\n      <td>0.0</td>\n      <td>0.0</td>\n      <td>0.0</td>\n      <td>0.0</td>\n      <td>0.0</td>\n      <td>0.0</td>\n      <td>0.0</td>\n      <td>...</td>\n      <td>0.0</td>\n      <td>0.0</td>\n      <td>0.0</td>\n      <td>0.0</td>\n      <td>0.0</td>\n      <td>0.0</td>\n      <td>0.0</td>\n      <td>0.0</td>\n      <td>0.0</td>\n      <td>0.0</td>\n    </tr>\n    <tr>\n      <th>Ripplefluke</th>\n      <td>0.0</td>\n      <td>0.0</td>\n      <td>0.0</td>\n      <td>0.0</td>\n      <td>0.0</td>\n      <td>0.0</td>\n      <td>0.0</td>\n      <td>0.0</td>\n      <td>0.0</td>\n      <td>0.0</td>\n      <td>...</td>\n      <td>0.0</td>\n      <td>0.0</td>\n      <td>0.0</td>\n      <td>0.0</td>\n      <td>0.0</td>\n      <td>0.0</td>\n      <td>0.0</td>\n      <td>0.0</td>\n      <td>0.0</td>\n      <td>0.0</td>\n    </tr>\n    <tr>\n      <th>Scabs</th>\n      <td>0.0</td>\n      <td>0.0</td>\n      <td>0.0</td>\n      <td>0.0</td>\n      <td>0.0</td>\n      <td>0.0</td>\n      <td>0.0</td>\n      <td>0.0</td>\n      <td>0.0</td>\n      <td>0.0</td>\n      <td>...</td>\n      <td>0.0</td>\n      <td>0.0</td>\n      <td>0.0</td>\n      <td>0.0</td>\n      <td>0.0</td>\n      <td>0.0</td>\n      <td>0.0</td>\n      <td>0.0</td>\n      <td>0.0</td>\n      <td>0.0</td>\n    </tr>\n    <tr>\n      <th>Shmuddel</th>\n      <td>0.0</td>\n      <td>0.0</td>\n      <td>0.0</td>\n      <td>0.0</td>\n      <td>0.0</td>\n      <td>0.0</td>\n      <td>0.0</td>\n      <td>0.0</td>\n      <td>0.0</td>\n      <td>0.0</td>\n      <td>...</td>\n      <td>0.0</td>\n      <td>0.0</td>\n      <td>0.0</td>\n      <td>0.0</td>\n      <td>0.0</td>\n      <td>0.0</td>\n      <td>0.0</td>\n      <td>0.0</td>\n      <td>0.0</td>\n      <td>0.0</td>\n    </tr>\n    <tr>\n      <th>SMN5</th>\n      <td>0.0</td>\n      <td>0.0</td>\n      <td>0.0</td>\n      <td>0.0</td>\n      <td>0.0</td>\n      <td>0.0</td>\n      <td>0.0</td>\n      <td>0.0</td>\n      <td>0.0</td>\n      <td>0.0</td>\n      <td>...</td>\n      <td>0.0</td>\n      <td>0.0</td>\n      <td>0.0</td>\n      <td>0.0</td>\n      <td>0.0</td>\n      <td>0.0</td>\n      <td>0.0</td>\n      <td>0.0</td>\n      <td>0.0</td>\n      <td>0.0</td>\n    </tr>\n    <tr>\n      <th>SN100</th>\n      <td>0.0</td>\n      <td>0.0</td>\n      <td>0.0</td>\n      <td>0.0</td>\n      <td>0.0</td>\n      <td>0.0</td>\n      <td>0.0</td>\n      <td>0.0</td>\n      <td>0.0</td>\n      <td>0.0</td>\n      <td>...</td>\n      <td>0.0</td>\n      <td>0.0</td>\n      <td>0.0</td>\n      <td>0.0</td>\n      <td>0.0</td>\n      <td>0.0</td>\n      <td>0.0</td>\n      <td>0.0</td>\n      <td>0.0</td>\n      <td>0.0</td>\n    </tr>\n    <tr>\n      <th>SN4</th>\n      <td>0.0</td>\n      <td>0.0</td>\n      <td>0.0</td>\n      <td>0.0</td>\n      <td>0.0</td>\n      <td>0.0</td>\n      <td>0.0</td>\n      <td>0.0</td>\n      <td>0.0</td>\n      <td>0.0</td>\n      <td>...</td>\n      <td>0.0</td>\n      <td>0.0</td>\n      <td>0.0</td>\n      <td>0.0</td>\n      <td>0.0</td>\n      <td>0.0</td>\n      <td>0.0</td>\n      <td>0.0</td>\n      <td>0.0</td>\n      <td>0.0</td>\n    </tr>\n    <tr>\n      <th>SN63</th>\n      <td>0.0</td>\n      <td>0.0</td>\n      <td>0.0</td>\n      <td>0.0</td>\n      <td>0.0</td>\n      <td>0.0</td>\n      <td>0.0</td>\n      <td>0.0</td>\n      <td>0.0</td>\n      <td>0.0</td>\n      <td>...</td>\n      <td>0.0</td>\n      <td>0.0</td>\n      <td>0.0</td>\n      <td>0.0</td>\n      <td>0.0</td>\n      <td>0.0</td>\n      <td>0.0</td>\n      <td>0.0</td>\n      <td>0.0</td>\n      <td>0.0</td>\n    </tr>\n    <tr>\n      <th>SN89</th>\n      <td>0.0</td>\n      <td>0.0</td>\n      <td>0.0</td>\n      <td>0.0</td>\n      <td>0.0</td>\n      <td>0.0</td>\n      <td>0.0</td>\n      <td>0.0</td>\n      <td>0.0</td>\n      <td>0.0</td>\n      <td>...</td>\n      <td>0.0</td>\n      <td>0.0</td>\n      <td>0.0</td>\n      <td>0.0</td>\n      <td>0.0</td>\n      <td>0.0</td>\n      <td>0.0</td>\n      <td>0.0</td>\n      <td>0.0</td>\n      <td>0.0</td>\n    </tr>\n    <tr>\n      <th>SN9</th>\n      <td>0.0</td>\n      <td>0.0</td>\n      <td>0.0</td>\n      <td>0.0</td>\n      <td>0.0</td>\n      <td>0.0</td>\n      <td>0.0</td>\n      <td>0.0</td>\n      <td>0.0</td>\n      <td>0.0</td>\n      <td>...</td>\n      <td>0.0</td>\n      <td>0.0</td>\n      <td>0.0</td>\n      <td>0.0</td>\n      <td>0.0</td>\n      <td>0.0</td>\n      <td>0.0</td>\n      <td>0.0</td>\n      <td>0.0</td>\n      <td>0.0</td>\n    </tr>\n    <tr>\n      <th>SN90</th>\n      <td>0.0</td>\n      <td>0.0</td>\n      <td>0.0</td>\n      <td>0.0</td>\n      <td>0.0</td>\n      <td>0.0</td>\n      <td>0.0</td>\n      <td>0.0</td>\n      <td>0.0</td>\n      <td>0.0</td>\n      <td>...</td>\n      <td>0.0</td>\n      <td>0.0</td>\n      <td>0.0</td>\n      <td>0.0</td>\n      <td>0.0</td>\n      <td>0.0</td>\n      <td>0.0</td>\n      <td>0.0</td>\n      <td>0.0</td>\n      <td>0.0</td>\n    </tr>\n    <tr>\n      <th>SN96</th>\n      <td>0.0</td>\n      <td>0.0</td>\n      <td>0.0</td>\n      <td>0.0</td>\n      <td>0.0</td>\n      <td>0.0</td>\n      <td>0.0</td>\n      <td>0.0</td>\n      <td>0.0</td>\n      <td>0.0</td>\n      <td>...</td>\n      <td>0.0</td>\n      <td>0.0</td>\n      <td>0.0</td>\n      <td>0.0</td>\n      <td>0.0</td>\n      <td>0.0</td>\n      <td>0.0</td>\n      <td>0.0</td>\n      <td>0.0</td>\n      <td>0.0</td>\n    </tr>\n    <tr>\n      <th>Stripes</th>\n      <td>0.0</td>\n      <td>0.0</td>\n      <td>0.0</td>\n      <td>0.0</td>\n      <td>0.0</td>\n      <td>0.0</td>\n      <td>0.0</td>\n      <td>0.0</td>\n      <td>0.0</td>\n      <td>0.0</td>\n      <td>...</td>\n      <td>0.0</td>\n      <td>0.0</td>\n      <td>0.0</td>\n      <td>0.0</td>\n      <td>0.0</td>\n      <td>0.0</td>\n      <td>0.0</td>\n      <td>0.0</td>\n      <td>0.0</td>\n      <td>0.0</td>\n    </tr>\n    <tr>\n      <th>Thumper</th>\n      <td>0.0</td>\n      <td>0.0</td>\n      <td>0.0</td>\n      <td>0.0</td>\n      <td>0.0</td>\n      <td>0.0</td>\n      <td>0.0</td>\n      <td>0.0</td>\n      <td>0.0</td>\n      <td>0.0</td>\n      <td>...</td>\n      <td>0.0</td>\n      <td>0.0</td>\n      <td>0.0</td>\n      <td>0.0</td>\n      <td>0.0</td>\n      <td>0.0</td>\n      <td>0.0</td>\n      <td>0.0</td>\n      <td>0.0</td>\n      <td>0.0</td>\n    </tr>\n    <tr>\n      <th>Topless</th>\n      <td>0.0</td>\n      <td>0.0</td>\n      <td>0.0</td>\n      <td>0.0</td>\n      <td>0.0</td>\n      <td>0.0</td>\n      <td>0.0</td>\n      <td>0.0</td>\n      <td>0.0</td>\n      <td>0.0</td>\n      <td>...</td>\n      <td>0.0</td>\n      <td>0.0</td>\n      <td>0.0</td>\n      <td>0.0</td>\n      <td>0.0</td>\n      <td>0.0</td>\n      <td>0.0</td>\n      <td>0.0</td>\n      <td>0.0</td>\n      <td>0.0</td>\n    </tr>\n    <tr>\n      <th>TR120</th>\n      <td>0.0</td>\n      <td>0.0</td>\n      <td>0.0</td>\n      <td>0.0</td>\n      <td>0.0</td>\n      <td>0.0</td>\n      <td>0.0</td>\n      <td>0.0</td>\n      <td>0.0</td>\n      <td>0.0</td>\n      <td>...</td>\n      <td>0.0</td>\n      <td>0.0</td>\n      <td>0.0</td>\n      <td>0.0</td>\n      <td>0.0</td>\n      <td>0.0</td>\n      <td>0.0</td>\n      <td>0.0</td>\n      <td>0.0</td>\n      <td>0.0</td>\n    </tr>\n    <tr>\n      <th>TR77</th>\n      <td>0.0</td>\n      <td>0.0</td>\n      <td>0.0</td>\n      <td>0.0</td>\n      <td>0.0</td>\n      <td>0.0</td>\n      <td>0.0</td>\n      <td>0.0</td>\n      <td>0.0</td>\n      <td>0.0</td>\n      <td>...</td>\n      <td>0.0</td>\n      <td>0.0</td>\n      <td>0.0</td>\n      <td>0.0</td>\n      <td>0.0</td>\n      <td>0.0</td>\n      <td>0.0</td>\n      <td>0.0</td>\n      <td>0.0</td>\n      <td>0.0</td>\n    </tr>\n    <tr>\n      <th>TR88</th>\n      <td>0.0</td>\n      <td>0.0</td>\n      <td>0.0</td>\n      <td>0.0</td>\n      <td>0.0</td>\n      <td>0.0</td>\n      <td>0.0</td>\n      <td>0.0</td>\n      <td>0.0</td>\n      <td>0.0</td>\n      <td>...</td>\n      <td>0.0</td>\n      <td>0.0</td>\n      <td>0.0</td>\n      <td>0.0</td>\n      <td>0.0</td>\n      <td>0.0</td>\n      <td>0.0</td>\n      <td>0.0</td>\n      <td>0.0</td>\n      <td>0.0</td>\n    </tr>\n    <tr>\n      <th>TR99</th>\n      <td>0.0</td>\n      <td>0.0</td>\n      <td>0.0</td>\n      <td>0.0</td>\n      <td>0.0</td>\n      <td>0.0</td>\n      <td>0.0</td>\n      <td>0.0</td>\n      <td>0.0</td>\n      <td>0.0</td>\n      <td>...</td>\n      <td>0.0</td>\n      <td>0.0</td>\n      <td>0.0</td>\n      <td>0.0</td>\n      <td>0.0</td>\n      <td>0.0</td>\n      <td>0.0</td>\n      <td>0.0</td>\n      <td>0.0</td>\n      <td>0.0</td>\n    </tr>\n    <tr>\n      <th>Trigger</th>\n      <td>0.0</td>\n      <td>0.0</td>\n      <td>0.0</td>\n      <td>0.0</td>\n      <td>0.0</td>\n      <td>0.0</td>\n      <td>0.0</td>\n      <td>0.0</td>\n      <td>0.0</td>\n      <td>0.0</td>\n      <td>...</td>\n      <td>0.0</td>\n      <td>0.0</td>\n      <td>0.0</td>\n      <td>0.0</td>\n      <td>0.0</td>\n      <td>0.0</td>\n      <td>0.0</td>\n      <td>0.0</td>\n      <td>0.0</td>\n      <td>0.0</td>\n    </tr>\n    <tr>\n      <th>TSN103</th>\n      <td>0.0</td>\n      <td>0.0</td>\n      <td>0.0</td>\n      <td>0.0</td>\n      <td>0.0</td>\n      <td>0.0</td>\n      <td>0.0</td>\n      <td>0.0</td>\n      <td>0.0</td>\n      <td>0.0</td>\n      <td>...</td>\n      <td>0.0</td>\n      <td>0.0</td>\n      <td>0.0</td>\n      <td>0.0</td>\n      <td>0.0</td>\n      <td>0.0</td>\n      <td>0.0</td>\n      <td>0.0</td>\n      <td>0.0</td>\n      <td>0.0</td>\n    </tr>\n    <tr>\n      <th>TSN83</th>\n      <td>0.0</td>\n      <td>0.0</td>\n      <td>0.0</td>\n      <td>0.0</td>\n      <td>0.0</td>\n      <td>0.0</td>\n      <td>0.0</td>\n      <td>0.0</td>\n      <td>0.0</td>\n      <td>0.0</td>\n      <td>...</td>\n      <td>0.0</td>\n      <td>0.0</td>\n      <td>0.0</td>\n      <td>0.0</td>\n      <td>0.0</td>\n      <td>0.0</td>\n      <td>0.0</td>\n      <td>0.0</td>\n      <td>0.0</td>\n      <td>0.0</td>\n    </tr>\n    <tr>\n      <th>Upbang</th>\n      <td>0.0</td>\n      <td>0.0</td>\n      <td>0.0</td>\n      <td>0.0</td>\n      <td>0.0</td>\n      <td>0.0</td>\n      <td>0.0</td>\n      <td>0.0</td>\n      <td>0.0</td>\n      <td>0.0</td>\n      <td>...</td>\n      <td>0.0</td>\n      <td>0.0</td>\n      <td>0.0</td>\n      <td>0.0</td>\n      <td>0.0</td>\n      <td>0.0</td>\n      <td>0.0</td>\n      <td>0.0</td>\n      <td>0.0</td>\n      <td>0.0</td>\n    </tr>\n    <tr>\n      <th>Vau</th>\n      <td>0.0</td>\n      <td>0.0</td>\n      <td>0.0</td>\n      <td>0.0</td>\n      <td>0.0</td>\n      <td>0.0</td>\n      <td>0.0</td>\n      <td>0.0</td>\n      <td>0.0</td>\n      <td>0.0</td>\n      <td>...</td>\n      <td>0.0</td>\n      <td>0.0</td>\n      <td>0.0</td>\n      <td>0.0</td>\n      <td>0.0</td>\n      <td>0.0</td>\n      <td>0.0</td>\n      <td>0.0</td>\n      <td>0.0</td>\n      <td>0.0</td>\n    </tr>\n    <tr>\n      <th>Wave</th>\n      <td>0.0</td>\n      <td>0.0</td>\n      <td>0.0</td>\n      <td>0.0</td>\n      <td>0.0</td>\n      <td>0.0</td>\n      <td>0.0</td>\n      <td>0.0</td>\n      <td>0.0</td>\n      <td>0.0</td>\n      <td>...</td>\n      <td>0.0</td>\n      <td>0.0</td>\n      <td>0.0</td>\n      <td>0.0</td>\n      <td>0.0</td>\n      <td>0.0</td>\n      <td>0.0</td>\n      <td>0.0</td>\n      <td>0.0</td>\n      <td>0.0</td>\n    </tr>\n    <tr>\n      <th>Web</th>\n      <td>0.0</td>\n      <td>0.0</td>\n      <td>0.0</td>\n      <td>0.0</td>\n      <td>0.0</td>\n      <td>0.0</td>\n      <td>0.0</td>\n      <td>0.0</td>\n      <td>0.0</td>\n      <td>0.0</td>\n      <td>...</td>\n      <td>0.0</td>\n      <td>0.0</td>\n      <td>0.0</td>\n      <td>0.0</td>\n      <td>0.0</td>\n      <td>0.0</td>\n      <td>0.0</td>\n      <td>0.0</td>\n      <td>0.0</td>\n      <td>0.0</td>\n    </tr>\n    <tr>\n      <th>Whitetip</th>\n      <td>0.0</td>\n      <td>0.0</td>\n      <td>0.0</td>\n      <td>0.0</td>\n      <td>0.0</td>\n      <td>0.0</td>\n      <td>0.0</td>\n      <td>0.0</td>\n      <td>0.0</td>\n      <td>0.0</td>\n      <td>...</td>\n      <td>0.0</td>\n      <td>0.0</td>\n      <td>0.0</td>\n      <td>0.0</td>\n      <td>0.0</td>\n      <td>0.0</td>\n      <td>0.0</td>\n      <td>0.0</td>\n      <td>0.0</td>\n      <td>0.0</td>\n    </tr>\n    <tr>\n      <th>Zap</th>\n      <td>0.0</td>\n      <td>0.0</td>\n      <td>0.0</td>\n      <td>0.0</td>\n      <td>0.0</td>\n      <td>0.0</td>\n      <td>0.0</td>\n      <td>0.0</td>\n      <td>0.0</td>\n      <td>0.0</td>\n      <td>...</td>\n      <td>0.0</td>\n      <td>0.0</td>\n      <td>0.0</td>\n      <td>0.0</td>\n      <td>0.0</td>\n      <td>0.0</td>\n      <td>0.0</td>\n      <td>0.0</td>\n      <td>0.0</td>\n      <td>0.0</td>\n    </tr>\n    <tr>\n      <th>Zig</th>\n      <td>0.0</td>\n      <td>0.0</td>\n      <td>0.0</td>\n      <td>0.0</td>\n      <td>0.0</td>\n      <td>0.0</td>\n      <td>0.0</td>\n      <td>0.0</td>\n      <td>0.0</td>\n      <td>0.0</td>\n      <td>...</td>\n      <td>0.0</td>\n      <td>0.0</td>\n      <td>0.0</td>\n      <td>0.0</td>\n      <td>0.0</td>\n      <td>0.0</td>\n      <td>0.0</td>\n      <td>0.0</td>\n      <td>0.0</td>\n      <td>0.0</td>\n    </tr>\n    <tr>\n      <th>Zipfel</th>\n      <td>0.0</td>\n      <td>0.0</td>\n      <td>0.0</td>\n      <td>0.0</td>\n      <td>0.0</td>\n      <td>0.0</td>\n      <td>0.0</td>\n      <td>0.0</td>\n      <td>0.0</td>\n      <td>0.0</td>\n      <td>...</td>\n      <td>0.0</td>\n      <td>0.0</td>\n      <td>0.0</td>\n      <td>0.0</td>\n      <td>0.0</td>\n      <td>0.0</td>\n      <td>0.0</td>\n      <td>0.0</td>\n      <td>0.0</td>\n      <td>0.0</td>\n    </tr>\n  </tbody>\n</table>\n<p>50 rows × 50 columns</p>\n</div>"
     },
     "execution_count": 222,
     "metadata": {},
     "output_type": "execute_result"
    }
   ],
   "source": [
    "n = len(dict_final.keys())\n",
    "matrix = pd.DataFrame(0.0, index=dict_final.keys(), columns=dict_final.keys())\n",
    "d = 0.5\n",
    "matrix"
   ],
   "metadata": {
    "collapsed": false,
    "ExecuteTime": {
     "end_time": "2023-12-08T08:04:41.993218200Z",
     "start_time": "2023-12-08T08:04:41.905995500Z"
    }
   }
  },
  {
   "cell_type": "code",
   "execution_count": 223,
   "outputs": [
    {
     "data": {
      "text/plain": "Double         1\nFeather        2\nFish           2\nGallatin       3\nGrin           2\nHaecksel       1\nHook           1\nJet            4\nJonah          1\nKnit           2\nKringel        3\nMN105          1\nMN23           1\nMN83           3\nMus            1\nNotch          2\nNumber1        5\nOscar          3\nPatchback      4\nPL             3\nQuasi          1\nRipplefluke    2\nScabs          4\nShmuddel       2\nSMN5           1\nSN100          3\nSN4            7\nSN63           4\nSN89           1\nSN9            7\nSN90           3\nSN96           4\nStripes        5\nThumper        4\nTopless        8\nTR120          1\nTR77           6\nTR88           2\nTR99           6\nTrigger        9\nTSN103         4\nTSN83          1\nUpbang         6\nVau            2\nWave           2\nWeb            9\nWhitetip       1\nZap            5\nZig            1\nZipfel         3\ndtype: int64"
     },
     "execution_count": 223,
     "metadata": {},
     "output_type": "execute_result"
    }
   ],
   "source": [
    "d_i = pd.Series(dict_final).apply(len)\n",
    "d_i"
   ],
   "metadata": {
    "collapsed": false,
    "ExecuteTime": {
     "end_time": "2023-12-08T08:04:45.253447Z",
     "start_time": "2023-12-08T08:04:45.248324500Z"
    }
   }
  },
  {
   "cell_type": "code",
   "execution_count": 224,
   "outputs": [],
   "source": [
    "p = {0: d_i.apply(lambda x: 1 / n)}"
   ],
   "metadata": {
    "collapsed": false,
    "ExecuteTime": {
     "end_time": "2023-12-08T08:04:57.487685700Z",
     "start_time": "2023-12-08T08:04:57.482962700Z"
    }
   }
  },
  {
   "cell_type": "code",
   "execution_count": 225,
   "outputs": [
    {
     "data": {
      "text/plain": "             Double  Feather  Fish  Gallatin  Grin  Haecksel  Hook    Jet  \\\nDouble          0.0     0.00  0.00  0.000000  0.00       0.0   0.0  0.000   \nFeather         0.0     0.00  0.00  0.000000  0.00       0.0   0.0  0.000   \nFish            0.0     0.00  0.00  0.000000  0.00       0.0   0.0  0.000   \nGallatin        0.0     0.25  0.00  0.000000  0.00       0.0   0.0  0.000   \nGrin            0.0     0.00  0.00  0.000000  0.00       0.0   0.0  0.000   \nHaecksel        0.0     0.00  0.00  0.000000  0.00       0.0   0.0  0.000   \nHook            0.0     0.00  0.00  0.000000  0.25       0.0   0.0  0.000   \nJet             0.0     0.25  0.00  0.166667  0.00       0.0   0.0  0.000   \nJonah           0.0     0.00  0.00  0.000000  0.00       0.5   0.0  0.000   \nKnit            0.0     0.00  0.00  0.000000  0.00       0.0   0.0  0.000   \nKringel         0.5     0.00  0.00  0.000000  0.00       0.0   0.5  0.000   \nMN105           0.0     0.00  0.00  0.000000  0.00       0.0   0.0  0.000   \nMN23            0.0     0.00  0.00  0.000000  0.00       0.0   0.0  0.125   \nMN83            0.0     0.00  0.00  0.000000  0.25       0.5   0.0  0.000   \nMus             0.0     0.00  0.00  0.000000  0.00       0.0   0.0  0.125   \nNotch           0.0     0.00  0.00  0.000000  0.00       0.0   0.0  0.000   \nNumber1         0.0     0.00  0.00  0.000000  0.00       0.0   0.0  0.125   \nOscar           0.5     0.00  0.00  0.000000  0.00       0.0   0.0  0.000   \nPatchback       0.0     0.00  0.25  0.000000  0.00       0.0   0.0  0.000   \nPL              0.0     0.00  0.00  0.000000  0.00       0.0   0.0  0.000   \nQuasi           0.0     0.00  0.00  0.000000  0.00       0.0   0.0  0.125   \nRipplefluke     0.0     0.25  0.00  0.166667  0.00       0.0   0.0  0.000   \nScabs           0.0     0.00  0.00  0.000000  0.25       0.0   0.5  0.000   \nShmuddel        0.0     0.00  0.00  0.000000  0.25       0.0   0.0  0.000   \nSMN5            0.0     0.00  0.00  0.000000  0.00       0.0   0.0  0.000   \nSN100           0.0     0.00  0.00  0.000000  0.00       0.0   0.0  0.000   \nSN4             0.5     0.00  0.00  0.000000  0.25       0.0   0.5  0.000   \nSN63            0.0     0.00  0.00  0.000000  0.25       0.0   0.5  0.000   \nSN89            0.0     0.00  0.00  0.000000  0.00       0.0   0.0  0.000   \nSN9             0.0     0.00  0.00  0.000000  0.25       0.5   0.0  0.000   \nSN90            0.0     0.25  0.00  0.166667  0.00       0.0   0.0  0.000   \nSN96            0.0     0.00  0.25  0.000000  0.00       0.0   0.0  0.000   \nStripes         0.0     0.00  0.00  0.000000  0.25       0.0   0.0  0.000   \nThumper         0.0     0.00  0.00  0.000000  0.00       0.0   0.0  0.000   \nTopless         0.5     0.00  0.00  0.000000  0.00       0.5   0.0  0.000   \nTR120           0.0     0.00  0.00  0.000000  0.00       0.0   0.0  0.000   \nTR77            0.0     0.00  0.25  0.000000  0.00       0.0   0.0  0.000   \nTR88            0.0     0.00  0.00  0.000000  0.00       0.0   0.0  0.000   \nTR99            0.0     0.00  0.00  0.000000  0.25       0.0   0.5  0.000   \nTrigger         0.0     0.00  0.00  0.000000  0.00       0.0   0.0  0.000   \nTSN103          0.0     0.00  0.00  0.000000  0.25       0.0   0.0  0.000   \nTSN83           0.0     0.00  0.00  0.000000  0.00       0.0   0.0  0.000   \nUpbang          0.0     0.00  0.00  0.166667  0.00       0.0   0.0  0.000   \nVau             0.0     0.00  0.00  0.000000  0.00       0.5   0.0  0.000   \nWave            0.0     0.00  0.00  0.000000  0.00       0.0   0.0  0.000   \nWeb             0.0     0.25  0.00  0.166667  0.00       0.0   0.0  0.125   \nWhitetip        0.0     0.00  0.00  0.000000  0.00       0.0   0.0  0.000   \nZap             0.5     0.00  0.00  0.000000  0.00       0.5   0.0  0.000   \nZig             0.0     0.00  0.00  0.000000  0.00       0.0   0.0  0.000   \nZipfel          0.0     0.00  0.00  0.000000  0.00       0.0   0.0  0.000   \n\n             Jonah  Knit  ...  TSN103  TSN83    Upbang  Vau  Wave  Web  \\\nDouble         0.0  0.00  ...     0.0    0.0  0.000000  0.0   0.0  0.0   \nFeather        0.0  0.00  ...     0.0    0.0  0.000000  0.0   0.0  0.0   \nFish           0.0  0.00  ...     0.0    0.0  0.000000  0.0   0.0  0.0   \nGallatin       0.0  0.00  ...     0.0    0.0  0.000000  0.0   0.0  0.0   \nGrin           0.0  0.00  ...     0.0    0.0  0.000000  0.0   0.0  0.0   \nHaecksel       0.0  0.00  ...     0.0    0.0  0.000000  0.0   0.0  0.0   \nHook           0.0  0.00  ...     0.0    0.0  0.000000  0.0   0.0  0.0   \nJet            0.0  0.00  ...     0.0    0.0  0.000000  0.0   0.0  0.0   \nJonah          0.0  0.00  ...     0.0    0.0  0.000000  0.0   0.0  0.0   \nKnit           0.0  0.00  ...     0.0    0.0  0.000000  0.0   0.0  0.0   \nKringel        0.5  0.00  ...     0.0    0.0  0.000000  0.0   0.0  0.0   \nMN105          0.5  0.00  ...     0.0    0.0  0.000000  0.0   0.0  0.0   \nMN23           0.0  0.00  ...     0.0    0.0  0.000000  0.0   0.0  0.0   \nMN83           0.5  0.00  ...     0.0    0.0  0.000000  0.0   0.0  0.0   \nMus            0.0  0.00  ...     0.0    0.0  0.000000  0.0   0.0  0.0   \nNotch          0.0  0.00  ...     0.0    0.0  0.000000  0.0   0.0  0.0   \nNumber1        0.0  0.00  ...     0.0    0.0  0.000000  0.0   0.0  0.0   \nOscar          0.0  0.00  ...     0.0    0.0  0.000000  0.0   0.0  0.0   \nPatchback      0.5  0.00  ...     0.0    0.0  0.000000  0.0   0.0  0.0   \nPL             0.0  0.25  ...     0.0    0.0  0.000000  0.0   0.0  0.0   \nQuasi          0.0  0.00  ...     0.0    0.0  0.000000  0.0   0.0  0.0   \nRipplefluke    0.0  0.00  ...     0.0    0.0  0.000000  0.0   0.0  0.0   \nScabs          0.0  0.00  ...     0.0    0.0  0.000000  0.0   0.0  0.0   \nShmuddel       0.0  0.00  ...     0.0    0.0  0.000000  0.0   0.0  0.0   \nSMN5           0.0  0.00  ...     0.0    0.0  0.000000  0.0   0.0  0.0   \nSN100          0.0  0.00  ...     0.0    0.0  0.000000  0.0   0.0  0.0   \nSN4            0.0  0.00  ...     0.0    0.0  0.000000  0.0   0.0  0.0   \nSN63           0.0  0.00  ...     0.0    0.0  0.000000  0.0   0.0  0.0   \nSN89           0.0  0.00  ...     0.0    0.0  0.000000  0.0   0.0  0.0   \nSN9            0.0  0.00  ...     0.0    0.0  0.000000  0.0   0.0  0.0   \nSN90           0.0  0.00  ...     0.0    0.0  0.000000  0.0   0.0  0.0   \nSN96           0.0  0.00  ...     0.0    0.0  0.000000  0.0   0.0  0.0   \nStripes        0.0  0.00  ...     0.0    0.0  0.000000  0.0   0.0  0.0   \nThumper        0.0  0.00  ...     0.0    0.0  0.000000  0.0   0.0  0.0   \nTopless        0.5  0.00  ...     0.0    0.0  0.000000  0.0   0.0  0.0   \nTR120          0.0  0.00  ...     0.0    0.0  0.000000  0.0   0.0  0.0   \nTR77           0.0  0.00  ...     0.0    0.0  0.000000  0.0   0.0  0.0   \nTR88           0.0  0.00  ...     0.0    0.0  0.000000  0.0   0.0  0.0   \nTR99           0.0  0.00  ...     0.0    0.0  0.000000  0.0   0.0  0.0   \nTrigger        0.5  0.00  ...     0.0    0.0  0.000000  0.0   0.0  0.0   \nTSN103         0.0  0.00  ...     0.0    0.0  0.000000  0.0   0.0  0.0   \nTSN83          0.0  0.00  ...     0.0    0.0  0.000000  0.0   0.0  0.0   \nUpbang         0.0  0.25  ...     0.0    0.0  0.000000  0.0   0.0  0.0   \nVau            0.0  0.00  ...     0.0    0.0  0.000000  0.0   0.0  0.0   \nWave           0.0  0.00  ...     0.0    0.0  0.000000  0.0   0.0  0.0   \nWeb            0.0  0.00  ...     0.0    0.0  0.083333  0.0   0.0  0.0   \nWhitetip       0.0  0.00  ...     0.0    0.0  0.000000  0.0   0.0  0.0   \nZap            0.0  0.00  ...     0.0    0.0  0.000000  0.0   0.0  0.0   \nZig            0.0  0.00  ...     0.0    0.0  0.000000  0.0   0.0  0.0   \nZipfel         0.0  0.00  ...     0.0    0.5  0.000000  0.0   0.0  0.0   \n\n             Whitetip  Zap  Zig  Zipfel  \nDouble            0.0  0.0  0.0     0.0  \nFeather           0.0  0.0  0.0     0.0  \nFish              0.0  0.0  0.0     0.0  \nGallatin          0.0  0.0  0.0     0.0  \nGrin              0.0  0.0  0.0     0.0  \nHaecksel          0.0  0.0  0.0     0.0  \nHook              0.0  0.0  0.0     0.0  \nJet               0.0  0.0  0.0     0.0  \nJonah             0.0  0.0  0.0     0.0  \nKnit              0.0  0.0  0.0     0.0  \nKringel           0.0  0.0  0.0     0.0  \nMN105             0.0  0.0  0.0     0.0  \nMN23              0.0  0.0  0.0     0.0  \nMN83              0.0  0.0  0.0     0.0  \nMus               0.0  0.0  0.0     0.0  \nNotch             0.0  0.0  0.0     0.0  \nNumber1           0.0  0.0  0.0     0.0  \nOscar             0.0  0.0  0.0     0.0  \nPatchback         0.0  0.0  0.0     0.0  \nPL                0.0  0.0  0.0     0.0  \nQuasi             0.0  0.0  0.0     0.0  \nRipplefluke       0.0  0.0  0.0     0.0  \nScabs             0.0  0.0  0.0     0.0  \nShmuddel          0.0  0.0  0.0     0.0  \nSMN5              0.0  0.0  0.0     0.0  \nSN100             0.0  0.0  0.0     0.0  \nSN4               0.0  0.0  0.0     0.0  \nSN63              0.0  0.0  0.0     0.0  \nSN89              0.0  0.0  0.0     0.0  \nSN9               0.0  0.0  0.0     0.0  \nSN90              0.0  0.0  0.0     0.0  \nSN96              0.0  0.0  0.0     0.0  \nStripes           0.0  0.0  0.0     0.0  \nThumper           0.0  0.0  0.0     0.0  \nTopless           0.0  0.0  0.0     0.0  \nTR120             0.0  0.0  0.0     0.0  \nTR77              0.0  0.0  0.0     0.0  \nTR88              0.0  0.0  0.0     0.0  \nTR99              0.0  0.0  0.0     0.0  \nTrigger           0.0  0.0  0.0     0.0  \nTSN103            0.0  0.0  0.0     0.0  \nTSN83             0.0  0.0  0.0     0.0  \nUpbang            0.0  0.0  0.0     0.0  \nVau               0.0  0.0  0.0     0.0  \nWave              0.0  0.0  0.0     0.0  \nWeb               0.0  0.0  0.0     0.0  \nWhitetip          0.0  0.0  0.0     0.0  \nZap               0.0  0.0  0.0     0.0  \nZig               0.0  0.0  0.0     0.0  \nZipfel            0.0  0.0  0.0     0.0  \n\n[50 rows x 50 columns]",
      "text/html": "<div>\n<style scoped>\n    .dataframe tbody tr th:only-of-type {\n        vertical-align: middle;\n    }\n\n    .dataframe tbody tr th {\n        vertical-align: top;\n    }\n\n    .dataframe thead th {\n        text-align: right;\n    }\n</style>\n<table border=\"1\" class=\"dataframe\">\n  <thead>\n    <tr style=\"text-align: right;\">\n      <th></th>\n      <th>Double</th>\n      <th>Feather</th>\n      <th>Fish</th>\n      <th>Gallatin</th>\n      <th>Grin</th>\n      <th>Haecksel</th>\n      <th>Hook</th>\n      <th>Jet</th>\n      <th>Jonah</th>\n      <th>Knit</th>\n      <th>...</th>\n      <th>TSN103</th>\n      <th>TSN83</th>\n      <th>Upbang</th>\n      <th>Vau</th>\n      <th>Wave</th>\n      <th>Web</th>\n      <th>Whitetip</th>\n      <th>Zap</th>\n      <th>Zig</th>\n      <th>Zipfel</th>\n    </tr>\n  </thead>\n  <tbody>\n    <tr>\n      <th>Double</th>\n      <td>0.0</td>\n      <td>0.00</td>\n      <td>0.00</td>\n      <td>0.000000</td>\n      <td>0.00</td>\n      <td>0.0</td>\n      <td>0.0</td>\n      <td>0.000</td>\n      <td>0.0</td>\n      <td>0.00</td>\n      <td>...</td>\n      <td>0.0</td>\n      <td>0.0</td>\n      <td>0.000000</td>\n      <td>0.0</td>\n      <td>0.0</td>\n      <td>0.0</td>\n      <td>0.0</td>\n      <td>0.0</td>\n      <td>0.0</td>\n      <td>0.0</td>\n    </tr>\n    <tr>\n      <th>Feather</th>\n      <td>0.0</td>\n      <td>0.00</td>\n      <td>0.00</td>\n      <td>0.000000</td>\n      <td>0.00</td>\n      <td>0.0</td>\n      <td>0.0</td>\n      <td>0.000</td>\n      <td>0.0</td>\n      <td>0.00</td>\n      <td>...</td>\n      <td>0.0</td>\n      <td>0.0</td>\n      <td>0.000000</td>\n      <td>0.0</td>\n      <td>0.0</td>\n      <td>0.0</td>\n      <td>0.0</td>\n      <td>0.0</td>\n      <td>0.0</td>\n      <td>0.0</td>\n    </tr>\n    <tr>\n      <th>Fish</th>\n      <td>0.0</td>\n      <td>0.00</td>\n      <td>0.00</td>\n      <td>0.000000</td>\n      <td>0.00</td>\n      <td>0.0</td>\n      <td>0.0</td>\n      <td>0.000</td>\n      <td>0.0</td>\n      <td>0.00</td>\n      <td>...</td>\n      <td>0.0</td>\n      <td>0.0</td>\n      <td>0.000000</td>\n      <td>0.0</td>\n      <td>0.0</td>\n      <td>0.0</td>\n      <td>0.0</td>\n      <td>0.0</td>\n      <td>0.0</td>\n      <td>0.0</td>\n    </tr>\n    <tr>\n      <th>Gallatin</th>\n      <td>0.0</td>\n      <td>0.25</td>\n      <td>0.00</td>\n      <td>0.000000</td>\n      <td>0.00</td>\n      <td>0.0</td>\n      <td>0.0</td>\n      <td>0.000</td>\n      <td>0.0</td>\n      <td>0.00</td>\n      <td>...</td>\n      <td>0.0</td>\n      <td>0.0</td>\n      <td>0.000000</td>\n      <td>0.0</td>\n      <td>0.0</td>\n      <td>0.0</td>\n      <td>0.0</td>\n      <td>0.0</td>\n      <td>0.0</td>\n      <td>0.0</td>\n    </tr>\n    <tr>\n      <th>Grin</th>\n      <td>0.0</td>\n      <td>0.00</td>\n      <td>0.00</td>\n      <td>0.000000</td>\n      <td>0.00</td>\n      <td>0.0</td>\n      <td>0.0</td>\n      <td>0.000</td>\n      <td>0.0</td>\n      <td>0.00</td>\n      <td>...</td>\n      <td>0.0</td>\n      <td>0.0</td>\n      <td>0.000000</td>\n      <td>0.0</td>\n      <td>0.0</td>\n      <td>0.0</td>\n      <td>0.0</td>\n      <td>0.0</td>\n      <td>0.0</td>\n      <td>0.0</td>\n    </tr>\n    <tr>\n      <th>Haecksel</th>\n      <td>0.0</td>\n      <td>0.00</td>\n      <td>0.00</td>\n      <td>0.000000</td>\n      <td>0.00</td>\n      <td>0.0</td>\n      <td>0.0</td>\n      <td>0.000</td>\n      <td>0.0</td>\n      <td>0.00</td>\n      <td>...</td>\n      <td>0.0</td>\n      <td>0.0</td>\n      <td>0.000000</td>\n      <td>0.0</td>\n      <td>0.0</td>\n      <td>0.0</td>\n      <td>0.0</td>\n      <td>0.0</td>\n      <td>0.0</td>\n      <td>0.0</td>\n    </tr>\n    <tr>\n      <th>Hook</th>\n      <td>0.0</td>\n      <td>0.00</td>\n      <td>0.00</td>\n      <td>0.000000</td>\n      <td>0.25</td>\n      <td>0.0</td>\n      <td>0.0</td>\n      <td>0.000</td>\n      <td>0.0</td>\n      <td>0.00</td>\n      <td>...</td>\n      <td>0.0</td>\n      <td>0.0</td>\n      <td>0.000000</td>\n      <td>0.0</td>\n      <td>0.0</td>\n      <td>0.0</td>\n      <td>0.0</td>\n      <td>0.0</td>\n      <td>0.0</td>\n      <td>0.0</td>\n    </tr>\n    <tr>\n      <th>Jet</th>\n      <td>0.0</td>\n      <td>0.25</td>\n      <td>0.00</td>\n      <td>0.166667</td>\n      <td>0.00</td>\n      <td>0.0</td>\n      <td>0.0</td>\n      <td>0.000</td>\n      <td>0.0</td>\n      <td>0.00</td>\n      <td>...</td>\n      <td>0.0</td>\n      <td>0.0</td>\n      <td>0.000000</td>\n      <td>0.0</td>\n      <td>0.0</td>\n      <td>0.0</td>\n      <td>0.0</td>\n      <td>0.0</td>\n      <td>0.0</td>\n      <td>0.0</td>\n    </tr>\n    <tr>\n      <th>Jonah</th>\n      <td>0.0</td>\n      <td>0.00</td>\n      <td>0.00</td>\n      <td>0.000000</td>\n      <td>0.00</td>\n      <td>0.5</td>\n      <td>0.0</td>\n      <td>0.000</td>\n      <td>0.0</td>\n      <td>0.00</td>\n      <td>...</td>\n      <td>0.0</td>\n      <td>0.0</td>\n      <td>0.000000</td>\n      <td>0.0</td>\n      <td>0.0</td>\n      <td>0.0</td>\n      <td>0.0</td>\n      <td>0.0</td>\n      <td>0.0</td>\n      <td>0.0</td>\n    </tr>\n    <tr>\n      <th>Knit</th>\n      <td>0.0</td>\n      <td>0.00</td>\n      <td>0.00</td>\n      <td>0.000000</td>\n      <td>0.00</td>\n      <td>0.0</td>\n      <td>0.0</td>\n      <td>0.000</td>\n      <td>0.0</td>\n      <td>0.00</td>\n      <td>...</td>\n      <td>0.0</td>\n      <td>0.0</td>\n      <td>0.000000</td>\n      <td>0.0</td>\n      <td>0.0</td>\n      <td>0.0</td>\n      <td>0.0</td>\n      <td>0.0</td>\n      <td>0.0</td>\n      <td>0.0</td>\n    </tr>\n    <tr>\n      <th>Kringel</th>\n      <td>0.5</td>\n      <td>0.00</td>\n      <td>0.00</td>\n      <td>0.000000</td>\n      <td>0.00</td>\n      <td>0.0</td>\n      <td>0.5</td>\n      <td>0.000</td>\n      <td>0.5</td>\n      <td>0.00</td>\n      <td>...</td>\n      <td>0.0</td>\n      <td>0.0</td>\n      <td>0.000000</td>\n      <td>0.0</td>\n      <td>0.0</td>\n      <td>0.0</td>\n      <td>0.0</td>\n      <td>0.0</td>\n      <td>0.0</td>\n      <td>0.0</td>\n    </tr>\n    <tr>\n      <th>MN105</th>\n      <td>0.0</td>\n      <td>0.00</td>\n      <td>0.00</td>\n      <td>0.000000</td>\n      <td>0.00</td>\n      <td>0.0</td>\n      <td>0.0</td>\n      <td>0.000</td>\n      <td>0.5</td>\n      <td>0.00</td>\n      <td>...</td>\n      <td>0.0</td>\n      <td>0.0</td>\n      <td>0.000000</td>\n      <td>0.0</td>\n      <td>0.0</td>\n      <td>0.0</td>\n      <td>0.0</td>\n      <td>0.0</td>\n      <td>0.0</td>\n      <td>0.0</td>\n    </tr>\n    <tr>\n      <th>MN23</th>\n      <td>0.0</td>\n      <td>0.00</td>\n      <td>0.00</td>\n      <td>0.000000</td>\n      <td>0.00</td>\n      <td>0.0</td>\n      <td>0.0</td>\n      <td>0.125</td>\n      <td>0.0</td>\n      <td>0.00</td>\n      <td>...</td>\n      <td>0.0</td>\n      <td>0.0</td>\n      <td>0.000000</td>\n      <td>0.0</td>\n      <td>0.0</td>\n      <td>0.0</td>\n      <td>0.0</td>\n      <td>0.0</td>\n      <td>0.0</td>\n      <td>0.0</td>\n    </tr>\n    <tr>\n      <th>MN83</th>\n      <td>0.0</td>\n      <td>0.00</td>\n      <td>0.00</td>\n      <td>0.000000</td>\n      <td>0.25</td>\n      <td>0.5</td>\n      <td>0.0</td>\n      <td>0.000</td>\n      <td>0.5</td>\n      <td>0.00</td>\n      <td>...</td>\n      <td>0.0</td>\n      <td>0.0</td>\n      <td>0.000000</td>\n      <td>0.0</td>\n      <td>0.0</td>\n      <td>0.0</td>\n      <td>0.0</td>\n      <td>0.0</td>\n      <td>0.0</td>\n      <td>0.0</td>\n    </tr>\n    <tr>\n      <th>Mus</th>\n      <td>0.0</td>\n      <td>0.00</td>\n      <td>0.00</td>\n      <td>0.000000</td>\n      <td>0.00</td>\n      <td>0.0</td>\n      <td>0.0</td>\n      <td>0.125</td>\n      <td>0.0</td>\n      <td>0.00</td>\n      <td>...</td>\n      <td>0.0</td>\n      <td>0.0</td>\n      <td>0.000000</td>\n      <td>0.0</td>\n      <td>0.0</td>\n      <td>0.0</td>\n      <td>0.0</td>\n      <td>0.0</td>\n      <td>0.0</td>\n      <td>0.0</td>\n    </tr>\n    <tr>\n      <th>Notch</th>\n      <td>0.0</td>\n      <td>0.00</td>\n      <td>0.00</td>\n      <td>0.000000</td>\n      <td>0.00</td>\n      <td>0.0</td>\n      <td>0.0</td>\n      <td>0.000</td>\n      <td>0.0</td>\n      <td>0.00</td>\n      <td>...</td>\n      <td>0.0</td>\n      <td>0.0</td>\n      <td>0.000000</td>\n      <td>0.0</td>\n      <td>0.0</td>\n      <td>0.0</td>\n      <td>0.0</td>\n      <td>0.0</td>\n      <td>0.0</td>\n      <td>0.0</td>\n    </tr>\n    <tr>\n      <th>Number1</th>\n      <td>0.0</td>\n      <td>0.00</td>\n      <td>0.00</td>\n      <td>0.000000</td>\n      <td>0.00</td>\n      <td>0.0</td>\n      <td>0.0</td>\n      <td>0.125</td>\n      <td>0.0</td>\n      <td>0.00</td>\n      <td>...</td>\n      <td>0.0</td>\n      <td>0.0</td>\n      <td>0.000000</td>\n      <td>0.0</td>\n      <td>0.0</td>\n      <td>0.0</td>\n      <td>0.0</td>\n      <td>0.0</td>\n      <td>0.0</td>\n      <td>0.0</td>\n    </tr>\n    <tr>\n      <th>Oscar</th>\n      <td>0.5</td>\n      <td>0.00</td>\n      <td>0.00</td>\n      <td>0.000000</td>\n      <td>0.00</td>\n      <td>0.0</td>\n      <td>0.0</td>\n      <td>0.000</td>\n      <td>0.0</td>\n      <td>0.00</td>\n      <td>...</td>\n      <td>0.0</td>\n      <td>0.0</td>\n      <td>0.000000</td>\n      <td>0.0</td>\n      <td>0.0</td>\n      <td>0.0</td>\n      <td>0.0</td>\n      <td>0.0</td>\n      <td>0.0</td>\n      <td>0.0</td>\n    </tr>\n    <tr>\n      <th>Patchback</th>\n      <td>0.0</td>\n      <td>0.00</td>\n      <td>0.25</td>\n      <td>0.000000</td>\n      <td>0.00</td>\n      <td>0.0</td>\n      <td>0.0</td>\n      <td>0.000</td>\n      <td>0.5</td>\n      <td>0.00</td>\n      <td>...</td>\n      <td>0.0</td>\n      <td>0.0</td>\n      <td>0.000000</td>\n      <td>0.0</td>\n      <td>0.0</td>\n      <td>0.0</td>\n      <td>0.0</td>\n      <td>0.0</td>\n      <td>0.0</td>\n      <td>0.0</td>\n    </tr>\n    <tr>\n      <th>PL</th>\n      <td>0.0</td>\n      <td>0.00</td>\n      <td>0.00</td>\n      <td>0.000000</td>\n      <td>0.00</td>\n      <td>0.0</td>\n      <td>0.0</td>\n      <td>0.000</td>\n      <td>0.0</td>\n      <td>0.25</td>\n      <td>...</td>\n      <td>0.0</td>\n      <td>0.0</td>\n      <td>0.000000</td>\n      <td>0.0</td>\n      <td>0.0</td>\n      <td>0.0</td>\n      <td>0.0</td>\n      <td>0.0</td>\n      <td>0.0</td>\n      <td>0.0</td>\n    </tr>\n    <tr>\n      <th>Quasi</th>\n      <td>0.0</td>\n      <td>0.00</td>\n      <td>0.00</td>\n      <td>0.000000</td>\n      <td>0.00</td>\n      <td>0.0</td>\n      <td>0.0</td>\n      <td>0.125</td>\n      <td>0.0</td>\n      <td>0.00</td>\n      <td>...</td>\n      <td>0.0</td>\n      <td>0.0</td>\n      <td>0.000000</td>\n      <td>0.0</td>\n      <td>0.0</td>\n      <td>0.0</td>\n      <td>0.0</td>\n      <td>0.0</td>\n      <td>0.0</td>\n      <td>0.0</td>\n    </tr>\n    <tr>\n      <th>Ripplefluke</th>\n      <td>0.0</td>\n      <td>0.25</td>\n      <td>0.00</td>\n      <td>0.166667</td>\n      <td>0.00</td>\n      <td>0.0</td>\n      <td>0.0</td>\n      <td>0.000</td>\n      <td>0.0</td>\n      <td>0.00</td>\n      <td>...</td>\n      <td>0.0</td>\n      <td>0.0</td>\n      <td>0.000000</td>\n      <td>0.0</td>\n      <td>0.0</td>\n      <td>0.0</td>\n      <td>0.0</td>\n      <td>0.0</td>\n      <td>0.0</td>\n      <td>0.0</td>\n    </tr>\n    <tr>\n      <th>Scabs</th>\n      <td>0.0</td>\n      <td>0.00</td>\n      <td>0.00</td>\n      <td>0.000000</td>\n      <td>0.25</td>\n      <td>0.0</td>\n      <td>0.5</td>\n      <td>0.000</td>\n      <td>0.0</td>\n      <td>0.00</td>\n      <td>...</td>\n      <td>0.0</td>\n      <td>0.0</td>\n      <td>0.000000</td>\n      <td>0.0</td>\n      <td>0.0</td>\n      <td>0.0</td>\n      <td>0.0</td>\n      <td>0.0</td>\n      <td>0.0</td>\n      <td>0.0</td>\n    </tr>\n    <tr>\n      <th>Shmuddel</th>\n      <td>0.0</td>\n      <td>0.00</td>\n      <td>0.00</td>\n      <td>0.000000</td>\n      <td>0.25</td>\n      <td>0.0</td>\n      <td>0.0</td>\n      <td>0.000</td>\n      <td>0.0</td>\n      <td>0.00</td>\n      <td>...</td>\n      <td>0.0</td>\n      <td>0.0</td>\n      <td>0.000000</td>\n      <td>0.0</td>\n      <td>0.0</td>\n      <td>0.0</td>\n      <td>0.0</td>\n      <td>0.0</td>\n      <td>0.0</td>\n      <td>0.0</td>\n    </tr>\n    <tr>\n      <th>SMN5</th>\n      <td>0.0</td>\n      <td>0.00</td>\n      <td>0.00</td>\n      <td>0.000000</td>\n      <td>0.00</td>\n      <td>0.0</td>\n      <td>0.0</td>\n      <td>0.000</td>\n      <td>0.0</td>\n      <td>0.00</td>\n      <td>...</td>\n      <td>0.0</td>\n      <td>0.0</td>\n      <td>0.000000</td>\n      <td>0.0</td>\n      <td>0.0</td>\n      <td>0.0</td>\n      <td>0.0</td>\n      <td>0.0</td>\n      <td>0.0</td>\n      <td>0.0</td>\n    </tr>\n    <tr>\n      <th>SN100</th>\n      <td>0.0</td>\n      <td>0.00</td>\n      <td>0.00</td>\n      <td>0.000000</td>\n      <td>0.00</td>\n      <td>0.0</td>\n      <td>0.0</td>\n      <td>0.000</td>\n      <td>0.0</td>\n      <td>0.00</td>\n      <td>...</td>\n      <td>0.0</td>\n      <td>0.0</td>\n      <td>0.000000</td>\n      <td>0.0</td>\n      <td>0.0</td>\n      <td>0.0</td>\n      <td>0.0</td>\n      <td>0.0</td>\n      <td>0.0</td>\n      <td>0.0</td>\n    </tr>\n    <tr>\n      <th>SN4</th>\n      <td>0.5</td>\n      <td>0.00</td>\n      <td>0.00</td>\n      <td>0.000000</td>\n      <td>0.25</td>\n      <td>0.0</td>\n      <td>0.5</td>\n      <td>0.000</td>\n      <td>0.0</td>\n      <td>0.00</td>\n      <td>...</td>\n      <td>0.0</td>\n      <td>0.0</td>\n      <td>0.000000</td>\n      <td>0.0</td>\n      <td>0.0</td>\n      <td>0.0</td>\n      <td>0.0</td>\n      <td>0.0</td>\n      <td>0.0</td>\n      <td>0.0</td>\n    </tr>\n    <tr>\n      <th>SN63</th>\n      <td>0.0</td>\n      <td>0.00</td>\n      <td>0.00</td>\n      <td>0.000000</td>\n      <td>0.25</td>\n      <td>0.0</td>\n      <td>0.5</td>\n      <td>0.000</td>\n      <td>0.0</td>\n      <td>0.00</td>\n      <td>...</td>\n      <td>0.0</td>\n      <td>0.0</td>\n      <td>0.000000</td>\n      <td>0.0</td>\n      <td>0.0</td>\n      <td>0.0</td>\n      <td>0.0</td>\n      <td>0.0</td>\n      <td>0.0</td>\n      <td>0.0</td>\n    </tr>\n    <tr>\n      <th>SN89</th>\n      <td>0.0</td>\n      <td>0.00</td>\n      <td>0.00</td>\n      <td>0.000000</td>\n      <td>0.00</td>\n      <td>0.0</td>\n      <td>0.0</td>\n      <td>0.000</td>\n      <td>0.0</td>\n      <td>0.00</td>\n      <td>...</td>\n      <td>0.0</td>\n      <td>0.0</td>\n      <td>0.000000</td>\n      <td>0.0</td>\n      <td>0.0</td>\n      <td>0.0</td>\n      <td>0.0</td>\n      <td>0.0</td>\n      <td>0.0</td>\n      <td>0.0</td>\n    </tr>\n    <tr>\n      <th>SN9</th>\n      <td>0.0</td>\n      <td>0.00</td>\n      <td>0.00</td>\n      <td>0.000000</td>\n      <td>0.25</td>\n      <td>0.5</td>\n      <td>0.0</td>\n      <td>0.000</td>\n      <td>0.0</td>\n      <td>0.00</td>\n      <td>...</td>\n      <td>0.0</td>\n      <td>0.0</td>\n      <td>0.000000</td>\n      <td>0.0</td>\n      <td>0.0</td>\n      <td>0.0</td>\n      <td>0.0</td>\n      <td>0.0</td>\n      <td>0.0</td>\n      <td>0.0</td>\n    </tr>\n    <tr>\n      <th>SN90</th>\n      <td>0.0</td>\n      <td>0.25</td>\n      <td>0.00</td>\n      <td>0.166667</td>\n      <td>0.00</td>\n      <td>0.0</td>\n      <td>0.0</td>\n      <td>0.000</td>\n      <td>0.0</td>\n      <td>0.00</td>\n      <td>...</td>\n      <td>0.0</td>\n      <td>0.0</td>\n      <td>0.000000</td>\n      <td>0.0</td>\n      <td>0.0</td>\n      <td>0.0</td>\n      <td>0.0</td>\n      <td>0.0</td>\n      <td>0.0</td>\n      <td>0.0</td>\n    </tr>\n    <tr>\n      <th>SN96</th>\n      <td>0.0</td>\n      <td>0.00</td>\n      <td>0.25</td>\n      <td>0.000000</td>\n      <td>0.00</td>\n      <td>0.0</td>\n      <td>0.0</td>\n      <td>0.000</td>\n      <td>0.0</td>\n      <td>0.00</td>\n      <td>...</td>\n      <td>0.0</td>\n      <td>0.0</td>\n      <td>0.000000</td>\n      <td>0.0</td>\n      <td>0.0</td>\n      <td>0.0</td>\n      <td>0.0</td>\n      <td>0.0</td>\n      <td>0.0</td>\n      <td>0.0</td>\n    </tr>\n    <tr>\n      <th>Stripes</th>\n      <td>0.0</td>\n      <td>0.00</td>\n      <td>0.00</td>\n      <td>0.000000</td>\n      <td>0.25</td>\n      <td>0.0</td>\n      <td>0.0</td>\n      <td>0.000</td>\n      <td>0.0</td>\n      <td>0.00</td>\n      <td>...</td>\n      <td>0.0</td>\n      <td>0.0</td>\n      <td>0.000000</td>\n      <td>0.0</td>\n      <td>0.0</td>\n      <td>0.0</td>\n      <td>0.0</td>\n      <td>0.0</td>\n      <td>0.0</td>\n      <td>0.0</td>\n    </tr>\n    <tr>\n      <th>Thumper</th>\n      <td>0.0</td>\n      <td>0.00</td>\n      <td>0.00</td>\n      <td>0.000000</td>\n      <td>0.00</td>\n      <td>0.0</td>\n      <td>0.0</td>\n      <td>0.000</td>\n      <td>0.0</td>\n      <td>0.00</td>\n      <td>...</td>\n      <td>0.0</td>\n      <td>0.0</td>\n      <td>0.000000</td>\n      <td>0.0</td>\n      <td>0.0</td>\n      <td>0.0</td>\n      <td>0.0</td>\n      <td>0.0</td>\n      <td>0.0</td>\n      <td>0.0</td>\n    </tr>\n    <tr>\n      <th>Topless</th>\n      <td>0.5</td>\n      <td>0.00</td>\n      <td>0.00</td>\n      <td>0.000000</td>\n      <td>0.00</td>\n      <td>0.5</td>\n      <td>0.0</td>\n      <td>0.000</td>\n      <td>0.5</td>\n      <td>0.00</td>\n      <td>...</td>\n      <td>0.0</td>\n      <td>0.0</td>\n      <td>0.000000</td>\n      <td>0.0</td>\n      <td>0.0</td>\n      <td>0.0</td>\n      <td>0.0</td>\n      <td>0.0</td>\n      <td>0.0</td>\n      <td>0.0</td>\n    </tr>\n    <tr>\n      <th>TR120</th>\n      <td>0.0</td>\n      <td>0.00</td>\n      <td>0.00</td>\n      <td>0.000000</td>\n      <td>0.00</td>\n      <td>0.0</td>\n      <td>0.0</td>\n      <td>0.000</td>\n      <td>0.0</td>\n      <td>0.00</td>\n      <td>...</td>\n      <td>0.0</td>\n      <td>0.0</td>\n      <td>0.000000</td>\n      <td>0.0</td>\n      <td>0.0</td>\n      <td>0.0</td>\n      <td>0.0</td>\n      <td>0.0</td>\n      <td>0.0</td>\n      <td>0.0</td>\n    </tr>\n    <tr>\n      <th>TR77</th>\n      <td>0.0</td>\n      <td>0.00</td>\n      <td>0.25</td>\n      <td>0.000000</td>\n      <td>0.00</td>\n      <td>0.0</td>\n      <td>0.0</td>\n      <td>0.000</td>\n      <td>0.0</td>\n      <td>0.00</td>\n      <td>...</td>\n      <td>0.0</td>\n      <td>0.0</td>\n      <td>0.000000</td>\n      <td>0.0</td>\n      <td>0.0</td>\n      <td>0.0</td>\n      <td>0.0</td>\n      <td>0.0</td>\n      <td>0.0</td>\n      <td>0.0</td>\n    </tr>\n    <tr>\n      <th>TR88</th>\n      <td>0.0</td>\n      <td>0.00</td>\n      <td>0.00</td>\n      <td>0.000000</td>\n      <td>0.00</td>\n      <td>0.0</td>\n      <td>0.0</td>\n      <td>0.000</td>\n      <td>0.0</td>\n      <td>0.00</td>\n      <td>...</td>\n      <td>0.0</td>\n      <td>0.0</td>\n      <td>0.000000</td>\n      <td>0.0</td>\n      <td>0.0</td>\n      <td>0.0</td>\n      <td>0.0</td>\n      <td>0.0</td>\n      <td>0.0</td>\n      <td>0.0</td>\n    </tr>\n    <tr>\n      <th>TR99</th>\n      <td>0.0</td>\n      <td>0.00</td>\n      <td>0.00</td>\n      <td>0.000000</td>\n      <td>0.25</td>\n      <td>0.0</td>\n      <td>0.5</td>\n      <td>0.000</td>\n      <td>0.0</td>\n      <td>0.00</td>\n      <td>...</td>\n      <td>0.0</td>\n      <td>0.0</td>\n      <td>0.000000</td>\n      <td>0.0</td>\n      <td>0.0</td>\n      <td>0.0</td>\n      <td>0.0</td>\n      <td>0.0</td>\n      <td>0.0</td>\n      <td>0.0</td>\n    </tr>\n    <tr>\n      <th>Trigger</th>\n      <td>0.0</td>\n      <td>0.00</td>\n      <td>0.00</td>\n      <td>0.000000</td>\n      <td>0.00</td>\n      <td>0.0</td>\n      <td>0.0</td>\n      <td>0.000</td>\n      <td>0.5</td>\n      <td>0.00</td>\n      <td>...</td>\n      <td>0.0</td>\n      <td>0.0</td>\n      <td>0.000000</td>\n      <td>0.0</td>\n      <td>0.0</td>\n      <td>0.0</td>\n      <td>0.0</td>\n      <td>0.0</td>\n      <td>0.0</td>\n      <td>0.0</td>\n    </tr>\n    <tr>\n      <th>TSN103</th>\n      <td>0.0</td>\n      <td>0.00</td>\n      <td>0.00</td>\n      <td>0.000000</td>\n      <td>0.25</td>\n      <td>0.0</td>\n      <td>0.0</td>\n      <td>0.000</td>\n      <td>0.0</td>\n      <td>0.00</td>\n      <td>...</td>\n      <td>0.0</td>\n      <td>0.0</td>\n      <td>0.000000</td>\n      <td>0.0</td>\n      <td>0.0</td>\n      <td>0.0</td>\n      <td>0.0</td>\n      <td>0.0</td>\n      <td>0.0</td>\n      <td>0.0</td>\n    </tr>\n    <tr>\n      <th>TSN83</th>\n      <td>0.0</td>\n      <td>0.00</td>\n      <td>0.00</td>\n      <td>0.000000</td>\n      <td>0.00</td>\n      <td>0.0</td>\n      <td>0.0</td>\n      <td>0.000</td>\n      <td>0.0</td>\n      <td>0.00</td>\n      <td>...</td>\n      <td>0.0</td>\n      <td>0.0</td>\n      <td>0.000000</td>\n      <td>0.0</td>\n      <td>0.0</td>\n      <td>0.0</td>\n      <td>0.0</td>\n      <td>0.0</td>\n      <td>0.0</td>\n      <td>0.0</td>\n    </tr>\n    <tr>\n      <th>Upbang</th>\n      <td>0.0</td>\n      <td>0.00</td>\n      <td>0.00</td>\n      <td>0.166667</td>\n      <td>0.00</td>\n      <td>0.0</td>\n      <td>0.0</td>\n      <td>0.000</td>\n      <td>0.0</td>\n      <td>0.25</td>\n      <td>...</td>\n      <td>0.0</td>\n      <td>0.0</td>\n      <td>0.000000</td>\n      <td>0.0</td>\n      <td>0.0</td>\n      <td>0.0</td>\n      <td>0.0</td>\n      <td>0.0</td>\n      <td>0.0</td>\n      <td>0.0</td>\n    </tr>\n    <tr>\n      <th>Vau</th>\n      <td>0.0</td>\n      <td>0.00</td>\n      <td>0.00</td>\n      <td>0.000000</td>\n      <td>0.00</td>\n      <td>0.5</td>\n      <td>0.0</td>\n      <td>0.000</td>\n      <td>0.0</td>\n      <td>0.00</td>\n      <td>...</td>\n      <td>0.0</td>\n      <td>0.0</td>\n      <td>0.000000</td>\n      <td>0.0</td>\n      <td>0.0</td>\n      <td>0.0</td>\n      <td>0.0</td>\n      <td>0.0</td>\n      <td>0.0</td>\n      <td>0.0</td>\n    </tr>\n    <tr>\n      <th>Wave</th>\n      <td>0.0</td>\n      <td>0.00</td>\n      <td>0.00</td>\n      <td>0.000000</td>\n      <td>0.00</td>\n      <td>0.0</td>\n      <td>0.0</td>\n      <td>0.000</td>\n      <td>0.0</td>\n      <td>0.00</td>\n      <td>...</td>\n      <td>0.0</td>\n      <td>0.0</td>\n      <td>0.000000</td>\n      <td>0.0</td>\n      <td>0.0</td>\n      <td>0.0</td>\n      <td>0.0</td>\n      <td>0.0</td>\n      <td>0.0</td>\n      <td>0.0</td>\n    </tr>\n    <tr>\n      <th>Web</th>\n      <td>0.0</td>\n      <td>0.25</td>\n      <td>0.00</td>\n      <td>0.166667</td>\n      <td>0.00</td>\n      <td>0.0</td>\n      <td>0.0</td>\n      <td>0.125</td>\n      <td>0.0</td>\n      <td>0.00</td>\n      <td>...</td>\n      <td>0.0</td>\n      <td>0.0</td>\n      <td>0.083333</td>\n      <td>0.0</td>\n      <td>0.0</td>\n      <td>0.0</td>\n      <td>0.0</td>\n      <td>0.0</td>\n      <td>0.0</td>\n      <td>0.0</td>\n    </tr>\n    <tr>\n      <th>Whitetip</th>\n      <td>0.0</td>\n      <td>0.00</td>\n      <td>0.00</td>\n      <td>0.000000</td>\n      <td>0.00</td>\n      <td>0.0</td>\n      <td>0.0</td>\n      <td>0.000</td>\n      <td>0.0</td>\n      <td>0.00</td>\n      <td>...</td>\n      <td>0.0</td>\n      <td>0.0</td>\n      <td>0.000000</td>\n      <td>0.0</td>\n      <td>0.0</td>\n      <td>0.0</td>\n      <td>0.0</td>\n      <td>0.0</td>\n      <td>0.0</td>\n      <td>0.0</td>\n    </tr>\n    <tr>\n      <th>Zap</th>\n      <td>0.5</td>\n      <td>0.00</td>\n      <td>0.00</td>\n      <td>0.000000</td>\n      <td>0.00</td>\n      <td>0.5</td>\n      <td>0.0</td>\n      <td>0.000</td>\n      <td>0.0</td>\n      <td>0.00</td>\n      <td>...</td>\n      <td>0.0</td>\n      <td>0.0</td>\n      <td>0.000000</td>\n      <td>0.0</td>\n      <td>0.0</td>\n      <td>0.0</td>\n      <td>0.0</td>\n      <td>0.0</td>\n      <td>0.0</td>\n      <td>0.0</td>\n    </tr>\n    <tr>\n      <th>Zig</th>\n      <td>0.0</td>\n      <td>0.00</td>\n      <td>0.00</td>\n      <td>0.000000</td>\n      <td>0.00</td>\n      <td>0.0</td>\n      <td>0.0</td>\n      <td>0.000</td>\n      <td>0.0</td>\n      <td>0.00</td>\n      <td>...</td>\n      <td>0.0</td>\n      <td>0.0</td>\n      <td>0.000000</td>\n      <td>0.0</td>\n      <td>0.0</td>\n      <td>0.0</td>\n      <td>0.0</td>\n      <td>0.0</td>\n      <td>0.0</td>\n      <td>0.0</td>\n    </tr>\n    <tr>\n      <th>Zipfel</th>\n      <td>0.0</td>\n      <td>0.00</td>\n      <td>0.00</td>\n      <td>0.000000</td>\n      <td>0.00</td>\n      <td>0.0</td>\n      <td>0.0</td>\n      <td>0.000</td>\n      <td>0.0</td>\n      <td>0.00</td>\n      <td>...</td>\n      <td>0.0</td>\n      <td>0.5</td>\n      <td>0.000000</td>\n      <td>0.0</td>\n      <td>0.0</td>\n      <td>0.0</td>\n      <td>0.0</td>\n      <td>0.0</td>\n      <td>0.0</td>\n      <td>0.0</td>\n    </tr>\n  </tbody>\n</table>\n<p>50 rows × 50 columns</p>\n</div>"
     },
     "execution_count": 225,
     "metadata": {},
     "output_type": "execute_result"
    }
   ],
   "source": [
    "for node in dict_final.keys():\n",
    "    for out in dict_final.keys():\n",
    "        if out in dict_final[node]:\n",
    "            matrix.loc[node, out] = d / d_i.loc[out]\n",
    "matrix"
   ],
   "metadata": {
    "collapsed": false,
    "ExecuteTime": {
     "end_time": "2023-12-08T08:04:59.863473700Z",
     "start_time": "2023-12-08T08:04:59.780556900Z"
    }
   }
  },
  {
   "cell_type": "code",
   "execution_count": 250,
   "outputs": [],
   "source": [
    "i = 0"
   ],
   "metadata": {
    "collapsed": false,
    "ExecuteTime": {
     "end_time": "2023-12-08T08:12:10.189753100Z",
     "start_time": "2023-12-08T08:12:10.174186800Z"
    }
   }
  },
  {
   "cell_type": "code",
   "execution_count": 260,
   "outputs": [
    {
     "data": {
      "text/plain": "Topless        0.047559\nSN4            0.042387\nTrigger        0.040157\nPatchback      0.032917\nTR99           0.031843\nKringel        0.028750\nScabs          0.027500\nSN63           0.026979\nWeb            0.026487\nStripes        0.026452\nSN9            0.026430\nZap            0.025438\nTR77           0.025115\nMN83           0.025000\nThumper        0.022148\nTSN103         0.021875\nNumber1        0.021712\nTR88           0.020307\nOscar          0.019792\nZipfel         0.019350\nMN105          0.017500\nVau            0.017231\nUpbang         0.017014\nShmuddel       0.015938\nNotch          0.015911\nPL             0.015799\nSN96           0.015133\nJonah          0.015000\nSN100          0.014792\nJet            0.014583\nSN90           0.014583\nRipplefluke    0.014583\nSMN5           0.014115\nZig            0.013646\nWhitetip       0.013372\nTR120          0.012645\nTSN83          0.012645\nGallatin       0.012500\nHook           0.012500\nSN89           0.012465\nMN23           0.011823\nMus            0.011823\nQuasi          0.011823\nKnit           0.010000\nHaecksel       0.010000\nGrin           0.010000\nWave           0.010000\nFish           0.010000\nFeather        0.010000\nDouble         0.010000\ndtype: float64"
     },
     "execution_count": 260,
     "metadata": {},
     "output_type": "execute_result"
    }
   ],
   "source": [
    "i = i + 1\n",
    "p[i] = (matrix @ p[i-1]) + (1 - d) / n\n",
    "p[i].sort_values(ascending=False)"
   ],
   "metadata": {
    "collapsed": false,
    "ExecuteTime": {
     "end_time": "2023-12-08T08:12:17.206948800Z",
     "start_time": "2023-12-08T08:12:17.175688800Z"
    }
   }
  },
  {
   "cell_type": "code",
   "execution_count": 262,
   "outputs": [],
   "source": [
    "def construct_hubs(data, dir = True):\n",
    "    if dir:\n",
    "        hubs = {\n",
    "            node: list(data.set_index(2).sort_index().loc[node, 0])\n",
    "            if isinstance(data.set_index(2).loc[node, 0], pd.Series)\n",
    "            else [data.set_index(2).loc[node, 0]]\n",
    "            for node in data[2].unique()\n",
    "        }\n",
    "    else:\n",
    "        hubs1 = {\n",
    "            node: list(data.set_index(0).sort_index().loc[node, 2])\n",
    "            if isinstance(data.set_index(0).loc[node, 2], pd.Series)\n",
    "            else [data.set_index(0).loc[node, 2]]\n",
    "            for node in data[0].unique()\n",
    "        }\n",
    "        hubs2 = {\n",
    "            node: list(data.set_index(2).sort_index().loc[node, 0])\n",
    "            if isinstance(data.set_index(2).loc[node, 0], pd.Series)\n",
    "            else [data.set_index(2).loc[node, 0]]\n",
    "            for node in data[2].unique()\n",
    "        }\n",
    "        hubs =  pd.concat([pd.Series(hubs1), pd.Series(hubs2)], axis=1)\\\n",
    "            .map(lambda d: d if isinstance(d, list) else []).sum(axis=1)\\\n",
    "            .sort_index().to_dict()\n",
    "\n",
    "\n",
    "\n",
    "    return hubs"
   ],
   "metadata": {
    "collapsed": false,
    "ExecuteTime": {
     "end_time": "2023-12-08T08:29:30.325382200Z",
     "start_time": "2023-12-08T08:29:30.307514900Z"
    }
   }
  },
  {
   "cell_type": "code",
   "execution_count": 284,
   "outputs": [],
   "source": [
    "def pagerank(hubs, d = 0.5):\n",
    "    n = len(hubs.keys())\n",
    "    matrix = pd.DataFrame(0.0, index=hubs.keys(), columns=hubs.keys())\n",
    "    d_i = pd.Series(hubs).apply(len)\n",
    "\n",
    "    for hub in hubs.keys():\n",
    "        for node in hubs.keys():\n",
    "            if node in hubs[hub]:\n",
    "                matrix.loc[hub, node] = d / d_i.loc[hub]\n",
    "\n",
    "    p = {0: d_i.apply(lambda x: 1 / n)}\n",
    "    p[1] = (matrix @ p[0]) + (1 - d) / n\n",
    "\n",
    "    i = 1\n",
    "    while not np.allclose(p[i], p[i-1]):\n",
    "        i += 1\n",
    "        p[i] = (matrix @ p[i-1]) + (1 - d) / n\n",
    "\n",
    "    p[i].name = i\n",
    "    return p[i].sort_values(ascending=False)"
   ],
   "metadata": {
    "collapsed": false,
    "ExecuteTime": {
     "end_time": "2023-12-08T08:43:07.661396100Z",
     "start_time": "2023-12-08T08:43:07.654120Z"
    }
   }
  },
  {
   "cell_type": "code",
   "execution_count": 289,
   "outputs": [],
   "source": [
    "def pagerank_report(ranks):\n",
    "    results = ranks.reset_index().reset_index()\n",
    "    results.columns = [\"Rank\", \"Node\", \"PageRank\"]\n",
    "    print(results.to_string(index=False))"
   ],
   "metadata": {
    "collapsed": false,
    "ExecuteTime": {
     "end_time": "2023-12-08T08:48:20.708450500Z",
     "start_time": "2023-12-08T08:48:20.702027800Z"
    }
   }
  },
  {
   "cell_type": "code",
   "execution_count": 294,
   "outputs": [
    {
     "name": "stdout",
     "output_type": "stream",
     "text": [
      "Page Rank\n",
      "\n",
      "File:\n",
      "Read Time:       92.497ms\n",
      "Processing Time: 15.606ms\n",
      "N Iterations:    9\n",
      "\n",
      " Rank        Node  PageRank\n",
      "    0     Topless  0.047559\n",
      "    1         SN4  0.042387\n",
      "    2     Trigger  0.040157\n",
      "    3   Patchback  0.032917\n",
      "    4        TR99  0.031843\n",
      "    5     Kringel  0.028750\n",
      "    6       Scabs  0.027500\n",
      "    7        SN63  0.026979\n",
      "    8         Web  0.026487\n",
      "    9     Stripes  0.026452\n",
      "   10         SN9  0.026430\n",
      "   11         Zap  0.025438\n",
      "   12        TR77  0.025115\n",
      "   13        MN83  0.025000\n",
      "   14     Thumper  0.022148\n",
      "   15      TSN103  0.021875\n",
      "   16     Number1  0.021712\n",
      "   17        TR88  0.020307\n",
      "   18       Oscar  0.019792\n",
      "   19      Zipfel  0.019350\n",
      "   20       MN105  0.017500\n",
      "   21         Vau  0.017231\n",
      "   22      Upbang  0.017014\n",
      "   23    Shmuddel  0.015938\n",
      "   24       Notch  0.015911\n",
      "   25          PL  0.015799\n",
      "   26        SN96  0.015133\n",
      "   27       Jonah  0.015000\n",
      "   28       SN100  0.014792\n",
      "   29         Jet  0.014583\n",
      "   30        SN90  0.014583\n",
      "   31 Ripplefluke  0.014583\n",
      "   32        SMN5  0.014115\n",
      "   33         Zig  0.013646\n",
      "   34    Whitetip  0.013372\n",
      "   35       TR120  0.012645\n",
      "   36       TSN83  0.012645\n",
      "   37    Gallatin  0.012500\n",
      "   38        Hook  0.012500\n",
      "   39        SN89  0.012465\n",
      "   40        MN23  0.011823\n",
      "   41         Mus  0.011823\n",
      "   42       Quasi  0.011823\n",
      "   43        Knit  0.010000\n",
      "   44    Haecksel  0.010000\n",
      "   45        Grin  0.010000\n",
      "   46        Wave  0.010000\n",
      "   47        Fish  0.010000\n",
      "   48     Feather  0.010000\n",
      "   49      Double  0.010000\n"
     ]
    }
   ],
   "source": [
    "start_read = time.time()\n",
    "data = pd.read_csv(\"data/dolphinsDir.csv\", header=None)\n",
    "hubs = construct_hubs(data)\n",
    "end_read = time.time()\n",
    "read_time = (end_read - start_read) * 1000\n",
    "\n",
    "start_proc = time.time()\n",
    "ranks = pagerank(hubs)\n",
    "end_proc = time.time()\n",
    "proc_time = (end_proc - start_proc) * 1000\n",
    "\n",
    "n_iter = ranks.name\n",
    "\n",
    "print(\"Page Rank\")\n",
    "print()\n",
    "print(f\"File:\")\n",
    "print(f\"Read Time:       {read_time:0.3f}ms\")\n",
    "print(f\"Processing Time: {proc_time:0.3f}ms\")\n",
    "print(f\"N Iterations:    {n_iter}\")\n",
    "print()\n",
    "pagerank_report(ranks)"
   ],
   "metadata": {
    "collapsed": false,
    "ExecuteTime": {
     "end_time": "2023-12-08T08:49:32.629077900Z",
     "start_time": "2023-12-08T08:49:32.519059Z"
    }
   }
  },
  {
   "cell_type": "code",
   "execution_count": 24,
   "outputs": [],
   "source": [
    "ncaa = pd.read_csv(\"data/NCAA_football.csv\", header=None, usecols=range(4))"
   ],
   "metadata": {
    "collapsed": false,
    "ExecuteTime": {
     "end_time": "2023-12-11T05:33:16.295510Z",
     "start_time": "2023-12-11T05:33:16.274772700Z"
    }
   }
  },
  {
   "cell_type": "code",
   "execution_count": 25,
   "outputs": [],
   "source": [
    "ncaa[2] = ncaa[2].str.replace('\"', '', regex=True).str.strip()"
   ],
   "metadata": {
    "collapsed": false,
    "ExecuteTime": {
     "end_time": "2023-12-11T05:33:17.561555300Z",
     "start_time": "2023-12-11T05:33:17.529443Z"
    }
   }
  },
  {
   "cell_type": "code",
   "execution_count": 27,
   "outputs": [
    {
     "data": {
      "text/plain": "                           count  count\nMontana                     14.0    2.0\nFlorida                     13.0    1.0\nRichmond                    13.0    3.0\nUtah                        13.0    NaN\nUSC                         12.0    1.0\n...                          ...    ...\nWestern Oregon               NaN    1.0\nConcordia University (WI)    NaN    1.0\nWisconsin-La Crosse          NaN    1.0\nMerrimack                    NaN    1.0\nJohnson Smith                NaN    1.0\n\n[324 rows x 2 columns]",
      "text/html": "<div>\n<style scoped>\n    .dataframe tbody tr th:only-of-type {\n        vertical-align: middle;\n    }\n\n    .dataframe tbody tr th {\n        vertical-align: top;\n    }\n\n    .dataframe thead th {\n        text-align: right;\n    }\n</style>\n<table border=\"1\" class=\"dataframe\">\n  <thead>\n    <tr style=\"text-align: right;\">\n      <th></th>\n      <th>count</th>\n      <th>count</th>\n    </tr>\n  </thead>\n  <tbody>\n    <tr>\n      <th>Montana</th>\n      <td>14.0</td>\n      <td>2.0</td>\n    </tr>\n    <tr>\n      <th>Florida</th>\n      <td>13.0</td>\n      <td>1.0</td>\n    </tr>\n    <tr>\n      <th>Richmond</th>\n      <td>13.0</td>\n      <td>3.0</td>\n    </tr>\n    <tr>\n      <th>Utah</th>\n      <td>13.0</td>\n      <td>NaN</td>\n    </tr>\n    <tr>\n      <th>USC</th>\n      <td>12.0</td>\n      <td>1.0</td>\n    </tr>\n    <tr>\n      <th>...</th>\n      <td>...</td>\n      <td>...</td>\n    </tr>\n    <tr>\n      <th>Western Oregon</th>\n      <td>NaN</td>\n      <td>1.0</td>\n    </tr>\n    <tr>\n      <th>Concordia University (WI)</th>\n      <td>NaN</td>\n      <td>1.0</td>\n    </tr>\n    <tr>\n      <th>Wisconsin-La Crosse</th>\n      <td>NaN</td>\n      <td>1.0</td>\n    </tr>\n    <tr>\n      <th>Merrimack</th>\n      <td>NaN</td>\n      <td>1.0</td>\n    </tr>\n    <tr>\n      <th>Johnson Smith</th>\n      <td>NaN</td>\n      <td>1.0</td>\n    </tr>\n  </tbody>\n</table>\n<p>324 rows × 2 columns</p>\n</div>"
     },
     "execution_count": 27,
     "metadata": {},
     "output_type": "execute_result"
    }
   ],
   "source": [
    "pd.concat([ncaa[0].value_counts().sort_index().sort_values(ascending=False), ncaa[2].value_counts()], axis=1)"
   ],
   "metadata": {
    "collapsed": false,
    "ExecuteTime": {
     "end_time": "2023-12-11T05:39:37.211133600Z",
     "start_time": "2023-12-11T05:39:37.127660100Z"
    }
   }
  },
  {
   "cell_type": "code",
   "execution_count": 22,
   "outputs": [
    {
     "data": {
      "text/plain": "2\n Boise State               1\n Cumberland University     1\n Tusculum                  1\n Benedict                  1\n New Mexico Highlands      1\n                          ..\n Idaho State              11\n St. Francis (PA)         11\n Southern Methodist       11\n Indiana State            12\n Washington               12\nName: count, Length: 314, dtype: int64"
     },
     "execution_count": 22,
     "metadata": {},
     "output_type": "execute_result"
    }
   ],
   "source": [],
   "metadata": {
    "collapsed": false,
    "ExecuteTime": {
     "end_time": "2023-12-11T05:00:15.862296Z",
     "start_time": "2023-12-11T05:00:15.815859500Z"
    }
   }
  }
 ],
 "metadata": {
  "kernelspec": {
   "display_name": "Python 3",
   "language": "python",
   "name": "python3"
  },
  "language_info": {
   "codemirror_mode": {
    "name": "ipython",
    "version": 2
   },
   "file_extension": ".py",
   "mimetype": "text/x-python",
   "name": "python",
   "nbconvert_exporter": "python",
   "pygments_lexer": "ipython2",
   "version": "2.7.6"
  }
 },
 "nbformat": 4,
 "nbformat_minor": 0
}
